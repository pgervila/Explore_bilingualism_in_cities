{
 "cells": [
  {
   "cell_type": "markdown",
   "metadata": {},
   "source": [
    "### IMPORT LIBRARIES AND TWITTER API SET UP"
   ]
  },
  {
   "cell_type": "code",
   "execution_count": 1,
   "metadata": {
    "collapsed": true
   },
   "outputs": [],
   "source": [
    "import tweepy\n",
    "from tweepy import Stream, OAuthHandler, StreamListener\n",
    "import json\n",
    "import time\n",
    "from collections import Counter\n",
    "import re\n",
    "import pandas as pd\n",
    "import numpy as np\n",
    "from langdetect import detect\n",
    "import pyprind\n",
    "import deepdish as dd"
   ]
  },
  {
   "cell_type": "code",
   "execution_count": 2,
   "metadata": {
    "collapsed": true
   },
   "outputs": [],
   "source": [
    "#import secret codes\n",
    "from twitter_pwd import access_token, access_token_secret, consumer_key, consumer_secret"
   ]
  },
  {
   "cell_type": "code",
   "execution_count": 3,
   "metadata": {
    "collapsed": true
   },
   "outputs": [],
   "source": [
    "auth = OAuthHandler(consumer_key, consumer_secret)\n",
    "auth.set_access_token(access_token, access_token_secret)"
   ]
  },
  {
   "cell_type": "code",
   "execution_count": 4,
   "metadata": {
    "collapsed": true
   },
   "outputs": [],
   "source": [
    "from importlib import reload\n",
    "import RW_tweets\n",
    "reload(RW_tweets)\n",
    "from RW_tweets import RandomWalkCityTweets"
   ]
  },
  {
   "cell_type": "markdown",
   "metadata": {},
   "source": [
    "### SELECT EXACTLY n TWEETS per USER"
   ]
  },
  {
   "cell_type": "code",
   "execution_count": 177,
   "metadata": {
    "collapsed": true
   },
   "outputs": [],
   "source": [
    "Kiev_data = RandomWalkCityTweets('city_random_walks.h5', 'Kiev')"
   ]
  },
  {
   "cell_type": "code",
   "execution_count": 179,
   "metadata": {
    "collapsed": true
   },
   "outputs": [],
   "source": [
    "num_tweets_for_stats = 40\n",
    "langs_selected = Kiev_data.langs_for_postprocess[Kiev_data.city]\n",
    "Kiev_data.load_tweets_from_followers()\n",
    "tff = Kiev_data.tweets_from_followers\n",
    "# define function to select only users with > num_tweets_for_stats\n",
    "fun_filter = lambda x: len(x) >= num_tweets_for_stats\n",
    "tff = tff.groupby('screen_name', as_index=False).filter(fun_filter)\n",
    "# define fun to select num_tweets_for_stats per user\n",
    "fun_select = lambda obj: obj.iloc[:num_tweets_for_stats, :]\n",
    "tff = tff.groupby('screen_name', as_index=False).apply(fun_select)"
   ]
  },
  {
   "cell_type": "code",
   "execution_count": 1,
   "metadata": {
    "collapsed": true
   },
   "outputs": [],
   "source": [
    "tff.pivot_table(index='id_str', columns='lang', aggfunc={'lang': 'count'}).fillna(0.)"
   ]
  },
  {
   "cell_type": "code",
   "execution_count": 172,
   "metadata": {
    "collapsed": true
   },
   "outputs": [],
   "source": [
    "Kiev_data.process_data()"
   ]
  },
  {
   "cell_type": "code",
   "execution_count": 176,
   "metadata": {},
   "outputs": [
    {
     "data": {
      "text/html": [
       "<div>\n",
       "<table border=\"1\" class=\"dataframe\">\n",
       "  <thead>\n",
       "    <tr style=\"text-align: right;\">\n",
       "      <th>lang_detected</th>\n",
       "      <th>id_str</th>\n",
       "      <th>screen_name</th>\n",
       "      <th>uk</th>\n",
       "      <th>ru</th>\n",
       "      <th>en</th>\n",
       "      <th>tot_lang_counts</th>\n",
       "      <th>5channel</th>\n",
       "      <th>Gordonuacom</th>\n",
       "      <th>HromadskeUA</th>\n",
       "      <th>Korrespondent</th>\n",
       "      <th>...</th>\n",
       "      <th>patrolpoliceua</th>\n",
       "      <th>poroshenko</th>\n",
       "      <th>tsnua</th>\n",
       "      <th>ukrpravda_news</th>\n",
       "      <th>uk_mean</th>\n",
       "      <th>uk_ESS</th>\n",
       "      <th>uk_SE</th>\n",
       "      <th>ru_mean</th>\n",
       "      <th>ru_ESS</th>\n",
       "      <th>ru_SE</th>\n",
       "    </tr>\n",
       "  </thead>\n",
       "  <tbody>\n",
       "    <tr>\n",
       "      <th>0</th>\n",
       "      <td>1001451762</td>\n",
       "      <td>romashkoova</td>\n",
       "      <td>36</td>\n",
       "      <td>4</td>\n",
       "      <td>0</td>\n",
       "      <td>40</td>\n",
       "      <td>False</td>\n",
       "      <td>False</td>\n",
       "      <td>False</td>\n",
       "      <td>False</td>\n",
       "      <td>...</td>\n",
       "      <td>False</td>\n",
       "      <td>False</td>\n",
       "      <td>False</td>\n",
       "      <td>False</td>\n",
       "      <td>0.900</td>\n",
       "      <td>0.090000</td>\n",
       "      <td>0.047434</td>\n",
       "      <td>0.100</td>\n",
       "      <td>0.090000</td>\n",
       "      <td>0.047434</td>\n",
       "    </tr>\n",
       "    <tr>\n",
       "      <th>1</th>\n",
       "      <td>1005109578</td>\n",
       "      <td>kosou3</td>\n",
       "      <td>13</td>\n",
       "      <td>27</td>\n",
       "      <td>0</td>\n",
       "      <td>40</td>\n",
       "      <td>False</td>\n",
       "      <td>False</td>\n",
       "      <td>False</td>\n",
       "      <td>False</td>\n",
       "      <td>...</td>\n",
       "      <td>False</td>\n",
       "      <td>False</td>\n",
       "      <td>False</td>\n",
       "      <td>True</td>\n",
       "      <td>0.325</td>\n",
       "      <td>0.219375</td>\n",
       "      <td>0.074057</td>\n",
       "      <td>0.675</td>\n",
       "      <td>0.219375</td>\n",
       "      <td>0.074057</td>\n",
       "    </tr>\n",
       "    <tr>\n",
       "      <th>2</th>\n",
       "      <td>100554353</td>\n",
       "      <td>Great_Antique</td>\n",
       "      <td>0</td>\n",
       "      <td>0</td>\n",
       "      <td>40</td>\n",
       "      <td>40</td>\n",
       "      <td>False</td>\n",
       "      <td>False</td>\n",
       "      <td>False</td>\n",
       "      <td>False</td>\n",
       "      <td>...</td>\n",
       "      <td>False</td>\n",
       "      <td>False</td>\n",
       "      <td>False</td>\n",
       "      <td>False</td>\n",
       "      <td>0.000</td>\n",
       "      <td>0.000000</td>\n",
       "      <td>0.000000</td>\n",
       "      <td>0.000</td>\n",
       "      <td>0.000000</td>\n",
       "      <td>0.000000</td>\n",
       "    </tr>\n",
       "    <tr>\n",
       "      <th>3</th>\n",
       "      <td>1007203802</td>\n",
       "      <td>m1n0s_ua</td>\n",
       "      <td>10</td>\n",
       "      <td>6</td>\n",
       "      <td>24</td>\n",
       "      <td>40</td>\n",
       "      <td>False</td>\n",
       "      <td>False</td>\n",
       "      <td>False</td>\n",
       "      <td>False</td>\n",
       "      <td>...</td>\n",
       "      <td>False</td>\n",
       "      <td>False</td>\n",
       "      <td>False</td>\n",
       "      <td>False</td>\n",
       "      <td>0.250</td>\n",
       "      <td>0.187500</td>\n",
       "      <td>0.068465</td>\n",
       "      <td>0.150</td>\n",
       "      <td>0.127500</td>\n",
       "      <td>0.056458</td>\n",
       "    </tr>\n",
       "    <tr>\n",
       "      <th>4</th>\n",
       "      <td>1007266297</td>\n",
       "      <td>_U_F_O</td>\n",
       "      <td>16</td>\n",
       "      <td>24</td>\n",
       "      <td>0</td>\n",
       "      <td>40</td>\n",
       "      <td>False</td>\n",
       "      <td>False</td>\n",
       "      <td>False</td>\n",
       "      <td>False</td>\n",
       "      <td>...</td>\n",
       "      <td>False</td>\n",
       "      <td>False</td>\n",
       "      <td>False</td>\n",
       "      <td>False</td>\n",
       "      <td>0.400</td>\n",
       "      <td>0.240000</td>\n",
       "      <td>0.077460</td>\n",
       "      <td>0.600</td>\n",
       "      <td>0.240000</td>\n",
       "      <td>0.077460</td>\n",
       "    </tr>\n",
       "  </tbody>\n",
       "</table>\n",
       "<p>5 rows × 27 columns</p>\n",
       "</div>"
      ],
      "text/plain": [
       "lang_detected      id_str    screen_name  uk  ru  en  tot_lang_counts  \\\n",
       "0              1001451762    romashkoova  36   4   0               40   \n",
       "1              1005109578         kosou3  13  27   0               40   \n",
       "2               100554353  Great_Antique   0   0  40               40   \n",
       "3              1007203802       m1n0s_ua  10   6  24               40   \n",
       "4              1007266297         _U_F_O  16  24   0               40   \n",
       "\n",
       "lang_detected 5channel Gordonuacom HromadskeUA Korrespondent    ...     \\\n",
       "0                False       False       False         False    ...      \n",
       "1                False       False       False         False    ...      \n",
       "2                False       False       False         False    ...      \n",
       "3                False       False       False         False    ...      \n",
       "4                False       False       False         False    ...      \n",
       "\n",
       "lang_detected patrolpoliceua poroshenko  tsnua ukrpravda_news uk_mean  \\\n",
       "0                      False      False  False          False   0.900   \n",
       "1                      False      False  False           True   0.325   \n",
       "2                      False      False  False          False   0.000   \n",
       "3                      False      False  False          False   0.250   \n",
       "4                      False      False  False          False   0.400   \n",
       "\n",
       "lang_detected    uk_ESS     uk_SE ru_mean    ru_ESS     ru_SE  \n",
       "0              0.090000  0.047434   0.100  0.090000  0.047434  \n",
       "1              0.219375  0.074057   0.675  0.219375  0.074057  \n",
       "2              0.000000  0.000000   0.000  0.000000  0.000000  \n",
       "3              0.187500  0.068465   0.150  0.127500  0.056458  \n",
       "4              0.240000  0.077460   0.600  0.240000  0.077460  \n",
       "\n",
       "[5 rows x 27 columns]"
      ]
     },
     "execution_count": 176,
     "metadata": {},
     "output_type": "execute_result"
    }
   ],
   "source": [
    "Kiev_data.data_stats.head()"
   ]
  },
  {
   "cell_type": "code",
   "execution_count": 173,
   "metadata": {
    "collapsed": true
   },
   "outputs": [],
   "source": [
    "Kiev_data.get_stats_per_root_acc()"
   ]
  },
  {
   "cell_type": "code",
   "execution_count": 175,
   "metadata": {},
   "outputs": [
    {
     "data": {
      "text/html": [
       "<div>\n",
       "<table border=\"1\" class=\"dataframe\">\n",
       "  <thead>\n",
       "    <tr style=\"text-align: right;\">\n",
       "      <th></th>\n",
       "      <th>uk_SE</th>\n",
       "      <th>uk_mean</th>\n",
       "      <th>uk_median</th>\n",
       "      <th>uk_std</th>\n",
       "      <th>ru_SE</th>\n",
       "      <th>ru_mean</th>\n",
       "      <th>ru_median</th>\n",
       "      <th>ru_std</th>\n",
       "    </tr>\n",
       "  </thead>\n",
       "  <tbody>\n",
       "    <tr>\n",
       "      <th>5channel</th>\n",
       "      <td>0.356737</td>\n",
       "      <td>39.532164</td>\n",
       "      <td>25.0</td>\n",
       "      <td>39.101119</td>\n",
       "      <td>0.340285</td>\n",
       "      <td>45.467836</td>\n",
       "      <td>42.5</td>\n",
       "      <td>41.198949</td>\n",
       "    </tr>\n",
       "    <tr>\n",
       "      <th>Gordonuacom</th>\n",
       "      <td>0.549078</td>\n",
       "      <td>28.143564</td>\n",
       "      <td>20.0</td>\n",
       "      <td>28.501433</td>\n",
       "      <td>0.560208</td>\n",
       "      <td>58.638614</td>\n",
       "      <td>67.5</td>\n",
       "      <td>34.191601</td>\n",
       "    </tr>\n",
       "    <tr>\n",
       "      <th>KyivOperativ</th>\n",
       "      <td>0.485615</td>\n",
       "      <td>25.509259</td>\n",
       "      <td>12.5</td>\n",
       "      <td>29.827697</td>\n",
       "      <td>0.539940</td>\n",
       "      <td>60.625000</td>\n",
       "      <td>70.0</td>\n",
       "      <td>33.737450</td>\n",
       "    </tr>\n",
       "    <tr>\n",
       "      <th>ServiceSsu</th>\n",
       "      <td>0.263296</td>\n",
       "      <td>35.280236</td>\n",
       "      <td>17.5</td>\n",
       "      <td>36.705020</td>\n",
       "      <td>0.264504</td>\n",
       "      <td>44.741888</td>\n",
       "      <td>40.0</td>\n",
       "      <td>39.091804</td>\n",
       "    </tr>\n",
       "    <tr>\n",
       "      <th>VWK668</th>\n",
       "      <td>0.400281</td>\n",
       "      <td>35.458115</td>\n",
       "      <td>22.5</td>\n",
       "      <td>32.711149</td>\n",
       "      <td>0.416875</td>\n",
       "      <td>52.657068</td>\n",
       "      <td>57.5</td>\n",
       "      <td>34.225090</td>\n",
       "    </tr>\n",
       "    <tr>\n",
       "      <th>auto_kiev</th>\n",
       "      <td>0.262343</td>\n",
       "      <td>23.123229</td>\n",
       "      <td>12.5</td>\n",
       "      <td>28.427684</td>\n",
       "      <td>0.298954</td>\n",
       "      <td>61.919263</td>\n",
       "      <td>72.5</td>\n",
       "      <td>33.152581</td>\n",
       "    </tr>\n",
       "    <tr>\n",
       "      <th>kyivmetroalerts</th>\n",
       "      <td>0.183272</td>\n",
       "      <td>29.250842</td>\n",
       "      <td>10.0</td>\n",
       "      <td>35.686867</td>\n",
       "      <td>0.207852</td>\n",
       "      <td>52.651515</td>\n",
       "      <td>60.0</td>\n",
       "      <td>38.326862</td>\n",
       "    </tr>\n",
       "    <tr>\n",
       "      <th>patrolpoliceua</th>\n",
       "      <td>0.376084</td>\n",
       "      <td>37.225434</td>\n",
       "      <td>20.0</td>\n",
       "      <td>36.958746</td>\n",
       "      <td>0.379621</td>\n",
       "      <td>44.797688</td>\n",
       "      <td>40.0</td>\n",
       "      <td>38.526110</td>\n",
       "    </tr>\n",
       "    <tr>\n",
       "      <th>ukrpravda_news</th>\n",
       "      <td>0.376035</td>\n",
       "      <td>31.348921</td>\n",
       "      <td>12.5</td>\n",
       "      <td>37.092308</td>\n",
       "      <td>0.384541</td>\n",
       "      <td>44.082734</td>\n",
       "      <td>32.5</td>\n",
       "      <td>40.678289</td>\n",
       "    </tr>\n",
       "  </tbody>\n",
       "</table>\n",
       "</div>"
      ],
      "text/plain": [
       "                    uk_SE    uk_mean  uk_median     uk_std     ru_SE  \\\n",
       "5channel         0.356737  39.532164       25.0  39.101119  0.340285   \n",
       "Gordonuacom      0.549078  28.143564       20.0  28.501433  0.560208   \n",
       "KyivOperativ     0.485615  25.509259       12.5  29.827697  0.539940   \n",
       "ServiceSsu       0.263296  35.280236       17.5  36.705020  0.264504   \n",
       "VWK668           0.400281  35.458115       22.5  32.711149  0.416875   \n",
       "auto_kiev        0.262343  23.123229       12.5  28.427684  0.298954   \n",
       "kyivmetroalerts  0.183272  29.250842       10.0  35.686867  0.207852   \n",
       "patrolpoliceua   0.376084  37.225434       20.0  36.958746  0.379621   \n",
       "ukrpravda_news   0.376035  31.348921       12.5  37.092308  0.384541   \n",
       "\n",
       "                   ru_mean  ru_median     ru_std  \n",
       "5channel         45.467836       42.5  41.198949  \n",
       "Gordonuacom      58.638614       67.5  34.191601  \n",
       "KyivOperativ     60.625000       70.0  33.737450  \n",
       "ServiceSsu       44.741888       40.0  39.091804  \n",
       "VWK668           52.657068       57.5  34.225090  \n",
       "auto_kiev        61.919263       72.5  33.152581  \n",
       "kyivmetroalerts  52.651515       60.0  38.326862  \n",
       "patrolpoliceua   44.797688       40.0  38.526110  \n",
       "ukrpravda_news   44.082734       32.5  40.678289  "
      ]
     },
     "execution_count": 175,
     "metadata": {},
     "output_type": "execute_result"
    }
   ],
   "source": [
    "Kiev_data.stats_per_root_acc"
   ]
  },
  {
   "cell_type": "code",
   "execution_count": 161,
   "metadata": {},
   "outputs": [
    {
     "data": {
      "text/plain": [
       "0.5247122545700744"
      ]
     },
     "execution_count": 161,
     "metadata": {},
     "output_type": "execute_result"
    }
   ],
   "source": [
    "Kiev_data.data_stats.ru.sum() / Kiev_data.data_stats.tot_lang_counts.sum()"
   ]
  },
  {
   "cell_type": "code",
   "execution_count": 162,
   "metadata": {},
   "outputs": [
    {
     "data": {
      "text/plain": [
       "0.5247122545700739"
      ]
     },
     "execution_count": 162,
     "metadata": {},
     "output_type": "execute_result"
    }
   ],
   "source": [
    "Kiev_data.data_stats.ru_mean.mean()"
   ]
  },
  {
   "cell_type": "code",
   "execution_count": 153,
   "metadata": {},
   "outputs": [
    {
     "data": {
      "text/html": [
       "<div>\n",
       "<table border=\"1\" class=\"dataframe\">\n",
       "  <thead>\n",
       "    <tr style=\"text-align: right;\">\n",
       "      <th>lang_detected</th>\n",
       "      <th>id_str</th>\n",
       "      <th>screen_name</th>\n",
       "      <th>uk</th>\n",
       "      <th>ru</th>\n",
       "      <th>en</th>\n",
       "      <th>tot_lang_counts</th>\n",
       "      <th>5channel</th>\n",
       "      <th>Gordonuacom</th>\n",
       "      <th>HromadskeUA</th>\n",
       "      <th>Korrespondent</th>\n",
       "      <th>...</th>\n",
       "      <th>patrolpoliceua</th>\n",
       "      <th>poroshenko</th>\n",
       "      <th>tsnua</th>\n",
       "      <th>ukrpravda_news</th>\n",
       "      <th>uk_mean</th>\n",
       "      <th>uk_ESS</th>\n",
       "      <th>uk_SE</th>\n",
       "      <th>ru_mean</th>\n",
       "      <th>ru_ESS</th>\n",
       "      <th>ru_SE</th>\n",
       "    </tr>\n",
       "  </thead>\n",
       "  <tbody>\n",
       "    <tr>\n",
       "      <th>0</th>\n",
       "      <td>1001451762</td>\n",
       "      <td>romashkoova</td>\n",
       "      <td>36</td>\n",
       "      <td>4</td>\n",
       "      <td>0</td>\n",
       "      <td>40</td>\n",
       "      <td>False</td>\n",
       "      <td>False</td>\n",
       "      <td>False</td>\n",
       "      <td>False</td>\n",
       "      <td>...</td>\n",
       "      <td>False</td>\n",
       "      <td>False</td>\n",
       "      <td>False</td>\n",
       "      <td>False</td>\n",
       "      <td>0.900</td>\n",
       "      <td>0.090000</td>\n",
       "      <td>0.047434</td>\n",
       "      <td>0.100</td>\n",
       "      <td>0.090000</td>\n",
       "      <td>0.047434</td>\n",
       "    </tr>\n",
       "    <tr>\n",
       "      <th>1</th>\n",
       "      <td>1005109578</td>\n",
       "      <td>kosou3</td>\n",
       "      <td>13</td>\n",
       "      <td>27</td>\n",
       "      <td>0</td>\n",
       "      <td>40</td>\n",
       "      <td>False</td>\n",
       "      <td>False</td>\n",
       "      <td>False</td>\n",
       "      <td>False</td>\n",
       "      <td>...</td>\n",
       "      <td>False</td>\n",
       "      <td>False</td>\n",
       "      <td>False</td>\n",
       "      <td>True</td>\n",
       "      <td>0.325</td>\n",
       "      <td>0.219375</td>\n",
       "      <td>0.074057</td>\n",
       "      <td>0.675</td>\n",
       "      <td>0.219375</td>\n",
       "      <td>0.074057</td>\n",
       "    </tr>\n",
       "    <tr>\n",
       "      <th>2</th>\n",
       "      <td>100554353</td>\n",
       "      <td>Great_Antique</td>\n",
       "      <td>0</td>\n",
       "      <td>0</td>\n",
       "      <td>40</td>\n",
       "      <td>40</td>\n",
       "      <td>False</td>\n",
       "      <td>False</td>\n",
       "      <td>False</td>\n",
       "      <td>False</td>\n",
       "      <td>...</td>\n",
       "      <td>False</td>\n",
       "      <td>False</td>\n",
       "      <td>False</td>\n",
       "      <td>False</td>\n",
       "      <td>0.000</td>\n",
       "      <td>0.000000</td>\n",
       "      <td>0.000000</td>\n",
       "      <td>0.000</td>\n",
       "      <td>0.000000</td>\n",
       "      <td>0.000000</td>\n",
       "    </tr>\n",
       "    <tr>\n",
       "      <th>3</th>\n",
       "      <td>1007203802</td>\n",
       "      <td>m1n0s_ua</td>\n",
       "      <td>10</td>\n",
       "      <td>6</td>\n",
       "      <td>24</td>\n",
       "      <td>40</td>\n",
       "      <td>False</td>\n",
       "      <td>False</td>\n",
       "      <td>False</td>\n",
       "      <td>False</td>\n",
       "      <td>...</td>\n",
       "      <td>False</td>\n",
       "      <td>False</td>\n",
       "      <td>False</td>\n",
       "      <td>False</td>\n",
       "      <td>0.250</td>\n",
       "      <td>0.187500</td>\n",
       "      <td>0.068465</td>\n",
       "      <td>0.150</td>\n",
       "      <td>0.127500</td>\n",
       "      <td>0.056458</td>\n",
       "    </tr>\n",
       "    <tr>\n",
       "      <th>4</th>\n",
       "      <td>1007266297</td>\n",
       "      <td>_U_F_O</td>\n",
       "      <td>16</td>\n",
       "      <td>24</td>\n",
       "      <td>0</td>\n",
       "      <td>40</td>\n",
       "      <td>False</td>\n",
       "      <td>False</td>\n",
       "      <td>False</td>\n",
       "      <td>False</td>\n",
       "      <td>...</td>\n",
       "      <td>False</td>\n",
       "      <td>False</td>\n",
       "      <td>False</td>\n",
       "      <td>False</td>\n",
       "      <td>0.400</td>\n",
       "      <td>0.240000</td>\n",
       "      <td>0.077460</td>\n",
       "      <td>0.600</td>\n",
       "      <td>0.240000</td>\n",
       "      <td>0.077460</td>\n",
       "    </tr>\n",
       "  </tbody>\n",
       "</table>\n",
       "<p>5 rows × 27 columns</p>\n",
       "</div>"
      ],
      "text/plain": [
       "lang_detected      id_str    screen_name  uk  ru  en  tot_lang_counts  \\\n",
       "0              1001451762    romashkoova  36   4   0               40   \n",
       "1              1005109578         kosou3  13  27   0               40   \n",
       "2               100554353  Great_Antique   0   0  40               40   \n",
       "3              1007203802       m1n0s_ua  10   6  24               40   \n",
       "4              1007266297         _U_F_O  16  24   0               40   \n",
       "\n",
       "lang_detected 5channel Gordonuacom HromadskeUA Korrespondent    ...     \\\n",
       "0                False       False       False         False    ...      \n",
       "1                False       False       False         False    ...      \n",
       "2                False       False       False         False    ...      \n",
       "3                False       False       False         False    ...      \n",
       "4                False       False       False         False    ...      \n",
       "\n",
       "lang_detected patrolpoliceua poroshenko  tsnua ukrpravda_news uk_mean  \\\n",
       "0                      False      False  False          False   0.900   \n",
       "1                      False      False  False           True   0.325   \n",
       "2                      False      False  False          False   0.000   \n",
       "3                      False      False  False          False   0.250   \n",
       "4                      False      False  False          False   0.400   \n",
       "\n",
       "lang_detected    uk_ESS     uk_SE ru_mean    ru_ESS     ru_SE  \n",
       "0              0.090000  0.047434   0.100  0.090000  0.047434  \n",
       "1              0.219375  0.074057   0.675  0.219375  0.074057  \n",
       "2              0.000000  0.000000   0.000  0.000000  0.000000  \n",
       "3              0.187500  0.068465   0.150  0.127500  0.056458  \n",
       "4              0.240000  0.077460   0.600  0.240000  0.077460  \n",
       "\n",
       "[5 rows x 27 columns]"
      ]
     },
     "execution_count": 153,
     "metadata": {},
     "output_type": "execute_result"
    }
   ],
   "source": [
    "Kiev_data.data_stats.head()"
   ]
  },
  {
   "cell_type": "code",
   "execution_count": 63,
   "metadata": {
    "collapsed": true
   },
   "outputs": [],
   "source": [
    "# define fun to select only users with > num_tweets_for_stats\n",
    "fun_filter = lambda x: len(x) >= 40\n",
    "tff = tff.groupby('screen_name', as_index=False).filter(fun_filter)"
   ]
  },
  {
   "cell_type": "code",
   "execution_count": 65,
   "metadata": {},
   "outputs": [
    {
     "data": {
      "text/plain": [
       "ru    39123\n",
       "uk    22026\n",
       "en    15942\n",
       "Name: lang, dtype: int64"
      ]
     },
     "execution_count": 65,
     "metadata": {},
     "output_type": "execute_result"
    }
   ],
   "source": [
    "tff.lang.value_counts()"
   ]
  },
  {
   "cell_type": "code",
   "execution_count": 66,
   "metadata": {
    "collapsed": true
   },
   "outputs": [],
   "source": [
    "# define fun to select num_tweets_for_stats per user\n",
    "fun_select = lambda obj: obj.iloc[:40, :]\n",
    "tff = tff.groupby('screen_name', as_index=False).apply(fun_select)"
   ]
  },
  {
   "cell_type": "code",
   "execution_count": 67,
   "metadata": {},
   "outputs": [
    {
     "data": {
      "text/html": [
       "<div>\n",
       "<table border=\"1\" class=\"dataframe\">\n",
       "  <thead>\n",
       "    <tr style=\"text-align: right;\">\n",
       "      <th></th>\n",
       "      <th></th>\n",
       "      <th>id_str</th>\n",
       "      <th>lang</th>\n",
       "      <th>screen_name</th>\n",
       "      <th>tweets</th>\n",
       "      <th>lang_detected</th>\n",
       "    </tr>\n",
       "  </thead>\n",
       "  <tbody>\n",
       "    <tr>\n",
       "      <th rowspan=\"5\" valign=\"top\">0</th>\n",
       "      <th>54559</th>\n",
       "      <td>2755099404</td>\n",
       "      <td>ru</td>\n",
       "      <td>0666387119</td>\n",
       "      <td>електриков ты это Гавно ппш в руках держал ?...</td>\n",
       "      <td>ru</td>\n",
       "    </tr>\n",
       "    <tr>\n",
       "      <th>54560</th>\n",
       "      <td>2755099404</td>\n",
       "      <td>ru</td>\n",
       "      <td>0666387119</td>\n",
       "      <td>Чел. и актер с Большой буквы !\\nРеспект и Ув...</td>\n",
       "      <td>ru</td>\n",
       "    </tr>\n",
       "    <tr>\n",
       "      <th>54561</th>\n",
       "      <td>2755099404</td>\n",
       "      <td>ru</td>\n",
       "      <td>0666387119</td>\n",
       "      <td>КЛАСС ! Молодец чел.....</td>\n",
       "      <td>ru</td>\n",
       "    </tr>\n",
       "    <tr>\n",
       "      <th>54562</th>\n",
       "      <td>2755099404</td>\n",
       "      <td>ru</td>\n",
       "      <td>0666387119</td>\n",
       "      <td>...лять Корова на Коне.....Я такого и во сне...</td>\n",
       "      <td>ru</td>\n",
       "    </tr>\n",
       "    <tr>\n",
       "      <th>54563</th>\n",
       "      <td>2755099404</td>\n",
       "      <td>ru</td>\n",
       "      <td>0666387119</td>\n",
       "      <td>.....иприт....фосген...синильная кислота...во...</td>\n",
       "      <td>ru</td>\n",
       "    </tr>\n",
       "  </tbody>\n",
       "</table>\n",
       "</div>"
      ],
      "text/plain": [
       "             id_str lang screen_name  \\\n",
       "0 54559  2755099404   ru  0666387119   \n",
       "  54560  2755099404   ru  0666387119   \n",
       "  54561  2755099404   ru  0666387119   \n",
       "  54562  2755099404   ru  0666387119   \n",
       "  54563  2755099404   ru  0666387119   \n",
       "\n",
       "                                                    tweets lang_detected  \n",
       "0 54559    електриков ты это Гавно ппш в руках держал ?...            ru  \n",
       "  54560    Чел. и актер с Большой буквы !\\nРеспект и Ув...            ru  \n",
       "  54561                           КЛАСС ! Молодец чел.....            ru  \n",
       "  54562    ...лять Корова на Коне.....Я такого и во сне...            ru  \n",
       "  54563   .....иприт....фосген...синильная кислота...во...            ru  "
      ]
     },
     "execution_count": 67,
     "metadata": {},
     "output_type": "execute_result"
    }
   ],
   "source": [
    "tff.head()"
   ]
  },
  {
   "cell_type": "code",
   "execution_count": 68,
   "metadata": {
    "collapsed": true
   },
   "outputs": [],
   "source": [
    "# rearrange dataframe\n",
    "Kiev_data.data_stats = tff.pivot_table(aggfunc={'lang': 'count'},\n",
    "                         index=['id_str', 'screen_name'],\n",
    "                         columns='lang_detected').fillna(0.)"
   ]
  },
  {
   "cell_type": "code",
   "execution_count": 69,
   "metadata": {},
   "outputs": [
    {
     "data": {
      "text/html": [
       "<div>\n",
       "<table border=\"1\" class=\"dataframe\">\n",
       "  <thead>\n",
       "    <tr>\n",
       "      <th></th>\n",
       "      <th></th>\n",
       "      <th colspan=\"21\" halign=\"left\">lang</th>\n",
       "    </tr>\n",
       "    <tr>\n",
       "      <th></th>\n",
       "      <th>lang_detected</th>\n",
       "      <th>Undefined</th>\n",
       "      <th>af</th>\n",
       "      <th>bg</th>\n",
       "      <th>ca</th>\n",
       "      <th>cy</th>\n",
       "      <th>da</th>\n",
       "      <th>de</th>\n",
       "      <th>en</th>\n",
       "      <th>es</th>\n",
       "      <th>et</th>\n",
       "      <th>...</th>\n",
       "      <th>ru</th>\n",
       "      <th>sk</th>\n",
       "      <th>sl</th>\n",
       "      <th>so</th>\n",
       "      <th>sv</th>\n",
       "      <th>sw</th>\n",
       "      <th>tl</th>\n",
       "      <th>tr</th>\n",
       "      <th>uk</th>\n",
       "      <th>vi</th>\n",
       "    </tr>\n",
       "    <tr>\n",
       "      <th>id_str</th>\n",
       "      <th>screen_name</th>\n",
       "      <th></th>\n",
       "      <th></th>\n",
       "      <th></th>\n",
       "      <th></th>\n",
       "      <th></th>\n",
       "      <th></th>\n",
       "      <th></th>\n",
       "      <th></th>\n",
       "      <th></th>\n",
       "      <th></th>\n",
       "      <th></th>\n",
       "      <th></th>\n",
       "      <th></th>\n",
       "      <th></th>\n",
       "      <th></th>\n",
       "      <th></th>\n",
       "      <th></th>\n",
       "      <th></th>\n",
       "      <th></th>\n",
       "      <th></th>\n",
       "      <th></th>\n",
       "    </tr>\n",
       "  </thead>\n",
       "  <tbody>\n",
       "    <tr>\n",
       "      <th>1001451762</th>\n",
       "      <th>romashkoova</th>\n",
       "      <td>0</td>\n",
       "      <td>0</td>\n",
       "      <td>0</td>\n",
       "      <td>0</td>\n",
       "      <td>0</td>\n",
       "      <td>0</td>\n",
       "      <td>0</td>\n",
       "      <td>0</td>\n",
       "      <td>0</td>\n",
       "      <td>0</td>\n",
       "      <td>...</td>\n",
       "      <td>4</td>\n",
       "      <td>0</td>\n",
       "      <td>0</td>\n",
       "      <td>0</td>\n",
       "      <td>0</td>\n",
       "      <td>0</td>\n",
       "      <td>0</td>\n",
       "      <td>0</td>\n",
       "      <td>36</td>\n",
       "      <td>0</td>\n",
       "    </tr>\n",
       "    <tr>\n",
       "      <th>1005109578</th>\n",
       "      <th>kosou3</th>\n",
       "      <td>0</td>\n",
       "      <td>0</td>\n",
       "      <td>0</td>\n",
       "      <td>0</td>\n",
       "      <td>0</td>\n",
       "      <td>0</td>\n",
       "      <td>0</td>\n",
       "      <td>0</td>\n",
       "      <td>0</td>\n",
       "      <td>0</td>\n",
       "      <td>...</td>\n",
       "      <td>27</td>\n",
       "      <td>0</td>\n",
       "      <td>0</td>\n",
       "      <td>0</td>\n",
       "      <td>0</td>\n",
       "      <td>0</td>\n",
       "      <td>0</td>\n",
       "      <td>0</td>\n",
       "      <td>13</td>\n",
       "      <td>0</td>\n",
       "    </tr>\n",
       "    <tr>\n",
       "      <th>100554353</th>\n",
       "      <th>Great_Antique</th>\n",
       "      <td>2</td>\n",
       "      <td>0</td>\n",
       "      <td>0</td>\n",
       "      <td>0</td>\n",
       "      <td>0</td>\n",
       "      <td>0</td>\n",
       "      <td>0</td>\n",
       "      <td>36</td>\n",
       "      <td>0</td>\n",
       "      <td>0</td>\n",
       "      <td>...</td>\n",
       "      <td>0</td>\n",
       "      <td>0</td>\n",
       "      <td>0</td>\n",
       "      <td>0</td>\n",
       "      <td>0</td>\n",
       "      <td>0</td>\n",
       "      <td>0</td>\n",
       "      <td>1</td>\n",
       "      <td>0</td>\n",
       "      <td>0</td>\n",
       "    </tr>\n",
       "    <tr>\n",
       "      <th>1007203802</th>\n",
       "      <th>m1n0s_ua</th>\n",
       "      <td>2</td>\n",
       "      <td>0</td>\n",
       "      <td>0</td>\n",
       "      <td>0</td>\n",
       "      <td>1</td>\n",
       "      <td>0</td>\n",
       "      <td>0</td>\n",
       "      <td>22</td>\n",
       "      <td>1</td>\n",
       "      <td>0</td>\n",
       "      <td>...</td>\n",
       "      <td>5</td>\n",
       "      <td>0</td>\n",
       "      <td>0</td>\n",
       "      <td>0</td>\n",
       "      <td>0</td>\n",
       "      <td>0</td>\n",
       "      <td>0</td>\n",
       "      <td>0</td>\n",
       "      <td>9</td>\n",
       "      <td>0</td>\n",
       "    </tr>\n",
       "    <tr>\n",
       "      <th>1007266297</th>\n",
       "      <th>_U_F_O</th>\n",
       "      <td>0</td>\n",
       "      <td>0</td>\n",
       "      <td>0</td>\n",
       "      <td>0</td>\n",
       "      <td>0</td>\n",
       "      <td>0</td>\n",
       "      <td>0</td>\n",
       "      <td>0</td>\n",
       "      <td>0</td>\n",
       "      <td>0</td>\n",
       "      <td>...</td>\n",
       "      <td>22</td>\n",
       "      <td>0</td>\n",
       "      <td>0</td>\n",
       "      <td>1</td>\n",
       "      <td>0</td>\n",
       "      <td>0</td>\n",
       "      <td>0</td>\n",
       "      <td>0</td>\n",
       "      <td>16</td>\n",
       "      <td>1</td>\n",
       "    </tr>\n",
       "  </tbody>\n",
       "</table>\n",
       "<p>5 rows × 34 columns</p>\n",
       "</div>"
      ],
      "text/plain": [
       "                              lang                             ...            \\\n",
       "lang_detected            Undefined af bg ca cy da de  en es et ...  ru sk sl   \n",
       "id_str     screen_name                                         ...             \n",
       "1001451762 romashkoova           0  0  0  0  0  0  0   0  0  0 ...   4  0  0   \n",
       "1005109578 kosou3                0  0  0  0  0  0  0   0  0  0 ...  27  0  0   \n",
       "100554353  Great_Antique         2  0  0  0  0  0  0  36  0  0 ...   0  0  0   \n",
       "1007203802 m1n0s_ua              2  0  0  0  1  0  0  22  1  0 ...   5  0  0   \n",
       "1007266297 _U_F_O                0  0  0  0  0  0  0   0  0  0 ...  22  0  0   \n",
       "\n",
       "                                                \n",
       "lang_detected            so sv sw tl tr  uk vi  \n",
       "id_str     screen_name                          \n",
       "1001451762 romashkoova    0  0  0  0  0  36  0  \n",
       "1005109578 kosou3         0  0  0  0  0  13  0  \n",
       "100554353  Great_Antique  0  0  0  0  1   0  0  \n",
       "1007203802 m1n0s_ua       0  0  0  0  0   9  0  \n",
       "1007266297 _U_F_O         1  0  0  0  0  16  1  \n",
       "\n",
       "[5 rows x 34 columns]"
      ]
     },
     "execution_count": 69,
     "metadata": {},
     "output_type": "execute_result"
    }
   ],
   "source": [
    "Kiev_data.data_stats.head()"
   ]
  },
  {
   "cell_type": "code",
   "execution_count": null,
   "metadata": {
    "collapsed": true
   },
   "outputs": [],
   "source": []
  },
  {
   "cell_type": "code",
   "execution_count": 54,
   "metadata": {
    "collapsed": true
   },
   "outputs": [],
   "source": [
    "Kiev_data.process_data()"
   ]
  },
  {
   "cell_type": "code",
   "execution_count": 55,
   "metadata": {},
   "outputs": [
    {
     "data": {
      "text/html": [
       "<div>\n",
       "<table border=\"1\" class=\"dataframe\">\n",
       "  <thead>\n",
       "    <tr style=\"text-align: right;\">\n",
       "      <th>lang_detected</th>\n",
       "      <th>id_str</th>\n",
       "      <th>screen_name</th>\n",
       "      <th>uk</th>\n",
       "      <th>ru</th>\n",
       "      <th>en</th>\n",
       "      <th>tot_lang_counts</th>\n",
       "      <th>5channel</th>\n",
       "      <th>Gordonuacom</th>\n",
       "      <th>HromadskeUA</th>\n",
       "      <th>Korrespondent</th>\n",
       "      <th>...</th>\n",
       "      <th>patrolpoliceua</th>\n",
       "      <th>poroshenko</th>\n",
       "      <th>tsnua</th>\n",
       "      <th>ukrpravda_news</th>\n",
       "      <th>uk_mean</th>\n",
       "      <th>uk_ESS</th>\n",
       "      <th>uk_SE</th>\n",
       "      <th>ru_mean</th>\n",
       "      <th>ru_ESS</th>\n",
       "      <th>ru_SE</th>\n",
       "    </tr>\n",
       "  </thead>\n",
       "  <tbody>\n",
       "    <tr>\n",
       "      <th>0</th>\n",
       "      <td>1001451762</td>\n",
       "      <td>romashkoova</td>\n",
       "      <td>36</td>\n",
       "      <td>4</td>\n",
       "      <td>0</td>\n",
       "      <td>40</td>\n",
       "      <td>False</td>\n",
       "      <td>False</td>\n",
       "      <td>False</td>\n",
       "      <td>False</td>\n",
       "      <td>...</td>\n",
       "      <td>False</td>\n",
       "      <td>False</td>\n",
       "      <td>False</td>\n",
       "      <td>False</td>\n",
       "      <td>0.900000</td>\n",
       "      <td>0.090000</td>\n",
       "      <td>0.047434</td>\n",
       "      <td>0.100000</td>\n",
       "      <td>0.090000</td>\n",
       "      <td>0.047434</td>\n",
       "    </tr>\n",
       "    <tr>\n",
       "      <th>1</th>\n",
       "      <td>1005109578</td>\n",
       "      <td>kosou3</td>\n",
       "      <td>13</td>\n",
       "      <td>27</td>\n",
       "      <td>0</td>\n",
       "      <td>40</td>\n",
       "      <td>False</td>\n",
       "      <td>False</td>\n",
       "      <td>False</td>\n",
       "      <td>False</td>\n",
       "      <td>...</td>\n",
       "      <td>False</td>\n",
       "      <td>False</td>\n",
       "      <td>False</td>\n",
       "      <td>True</td>\n",
       "      <td>0.325000</td>\n",
       "      <td>0.219375</td>\n",
       "      <td>0.074057</td>\n",
       "      <td>0.675000</td>\n",
       "      <td>0.219375</td>\n",
       "      <td>0.074057</td>\n",
       "    </tr>\n",
       "    <tr>\n",
       "      <th>2</th>\n",
       "      <td>100554353</td>\n",
       "      <td>Great_Antique</td>\n",
       "      <td>0</td>\n",
       "      <td>0</td>\n",
       "      <td>36</td>\n",
       "      <td>36</td>\n",
       "      <td>False</td>\n",
       "      <td>False</td>\n",
       "      <td>False</td>\n",
       "      <td>False</td>\n",
       "      <td>...</td>\n",
       "      <td>False</td>\n",
       "      <td>False</td>\n",
       "      <td>False</td>\n",
       "      <td>False</td>\n",
       "      <td>0.000000</td>\n",
       "      <td>0.000000</td>\n",
       "      <td>0.000000</td>\n",
       "      <td>0.000000</td>\n",
       "      <td>0.000000</td>\n",
       "      <td>0.000000</td>\n",
       "    </tr>\n",
       "    <tr>\n",
       "      <th>3</th>\n",
       "      <td>1007203802</td>\n",
       "      <td>m1n0s_ua</td>\n",
       "      <td>9</td>\n",
       "      <td>5</td>\n",
       "      <td>22</td>\n",
       "      <td>36</td>\n",
       "      <td>False</td>\n",
       "      <td>False</td>\n",
       "      <td>False</td>\n",
       "      <td>False</td>\n",
       "      <td>...</td>\n",
       "      <td>False</td>\n",
       "      <td>False</td>\n",
       "      <td>False</td>\n",
       "      <td>False</td>\n",
       "      <td>0.250000</td>\n",
       "      <td>0.187500</td>\n",
       "      <td>0.072169</td>\n",
       "      <td>0.138889</td>\n",
       "      <td>0.119599</td>\n",
       "      <td>0.057638</td>\n",
       "    </tr>\n",
       "    <tr>\n",
       "      <th>4</th>\n",
       "      <td>1007266297</td>\n",
       "      <td>_U_F_O</td>\n",
       "      <td>16</td>\n",
       "      <td>22</td>\n",
       "      <td>0</td>\n",
       "      <td>38</td>\n",
       "      <td>False</td>\n",
       "      <td>False</td>\n",
       "      <td>False</td>\n",
       "      <td>False</td>\n",
       "      <td>...</td>\n",
       "      <td>False</td>\n",
       "      <td>False</td>\n",
       "      <td>False</td>\n",
       "      <td>False</td>\n",
       "      <td>0.421053</td>\n",
       "      <td>0.243767</td>\n",
       "      <td>0.080093</td>\n",
       "      <td>0.578947</td>\n",
       "      <td>0.243767</td>\n",
       "      <td>0.080093</td>\n",
       "    </tr>\n",
       "  </tbody>\n",
       "</table>\n",
       "<p>5 rows × 27 columns</p>\n",
       "</div>"
      ],
      "text/plain": [
       "lang_detected      id_str    screen_name  uk  ru  en  tot_lang_counts  \\\n",
       "0              1001451762    romashkoova  36   4   0               40   \n",
       "1              1005109578         kosou3  13  27   0               40   \n",
       "2               100554353  Great_Antique   0   0  36               36   \n",
       "3              1007203802       m1n0s_ua   9   5  22               36   \n",
       "4              1007266297         _U_F_O  16  22   0               38   \n",
       "\n",
       "lang_detected 5channel Gordonuacom HromadskeUA Korrespondent    ...     \\\n",
       "0                False       False       False         False    ...      \n",
       "1                False       False       False         False    ...      \n",
       "2                False       False       False         False    ...      \n",
       "3                False       False       False         False    ...      \n",
       "4                False       False       False         False    ...      \n",
       "\n",
       "lang_detected patrolpoliceua poroshenko  tsnua ukrpravda_news   uk_mean  \\\n",
       "0                      False      False  False          False  0.900000   \n",
       "1                      False      False  False           True  0.325000   \n",
       "2                      False      False  False          False  0.000000   \n",
       "3                      False      False  False          False  0.250000   \n",
       "4                      False      False  False          False  0.421053   \n",
       "\n",
       "lang_detected    uk_ESS     uk_SE   ru_mean    ru_ESS     ru_SE  \n",
       "0              0.090000  0.047434  0.100000  0.090000  0.047434  \n",
       "1              0.219375  0.074057  0.675000  0.219375  0.074057  \n",
       "2              0.000000  0.000000  0.000000  0.000000  0.000000  \n",
       "3              0.187500  0.072169  0.138889  0.119599  0.057638  \n",
       "4              0.243767  0.080093  0.578947  0.243767  0.080093  \n",
       "\n",
       "[5 rows x 27 columns]"
      ]
     },
     "execution_count": 55,
     "metadata": {},
     "output_type": "execute_result"
    }
   ],
   "source": [
    "Kiev_data.data_stats.head()"
   ]
  },
  {
   "cell_type": "code",
   "execution_count": 10,
   "metadata": {
    "collapsed": true
   },
   "outputs": [],
   "source": [
    "fun_filter = lambda x: len(x) >= 40"
   ]
  },
  {
   "cell_type": "code",
   "execution_count": 11,
   "metadata": {
    "collapsed": true
   },
   "outputs": [],
   "source": [
    "df_filter = df.groupby('screen_name', as_index=False).filter(fun_filter)"
   ]
  },
  {
   "cell_type": "code",
   "execution_count": 14,
   "metadata": {
    "collapsed": true
   },
   "outputs": [],
   "source": [
    "size = 40        # sample size\n",
    "fn = lambda obj: obj.loc[np.random.choice(obj.index, size=size,replace=False),:]"
   ]
  },
  {
   "cell_type": "code",
   "execution_count": 19,
   "metadata": {
    "collapsed": true
   },
   "outputs": [],
   "source": [
    "def fn2(obj):\n",
    "    return (obj if len(obj) == 40 else \n",
    "            obj.loc[np.random.choice(obj.index, size=size, replace=False), :])"
   ]
  },
  {
   "cell_type": "code",
   "execution_count": 22,
   "metadata": {
    "collapsed": true
   },
   "outputs": [],
   "source": [
    "fn2 = lambda obj:(obj if len(obj) == 40 else \n",
    "                  obj.loc[np.random.choice(obj.index, size=size, replace=False), :])"
   ]
  },
  {
   "cell_type": "code",
   "execution_count": 16,
   "metadata": {
    "collapsed": true
   },
   "outputs": [],
   "source": [
    "fn3 = lambda obj: obj.iloc[:40, :]"
   ]
  },
  {
   "cell_type": "code",
   "execution_count": 23,
   "metadata": {
    "collapsed": true
   },
   "outputs": [],
   "source": [
    "aa = df_filter.groupby('screen_name', as_index=False).apply(fn3)"
   ]
  },
  {
   "cell_type": "code",
   "execution_count": 1,
   "metadata": {
    "collapsed": true
   },
   "outputs": [],
   "source": [
    "aa.groupby('screen_name').size()"
   ]
  },
  {
   "cell_type": "code",
   "execution_count": 74,
   "metadata": {
    "collapsed": true
   },
   "outputs": [],
   "source": [
    "#Kiev_data.optimize_saving_space()"
   ]
  },
  {
   "cell_type": "code",
   "execution_count": 33,
   "metadata": {
    "collapsed": true
   },
   "outputs": [],
   "source": [
    "#KDACC = Kiev_data.get_account_network('ukrpravda_news', max_num=36000, cursor_on=True )"
   ]
  },
  {
   "cell_type": "code",
   "execution_count": 76,
   "metadata": {
    "collapsed": true
   },
   "outputs": [],
   "source": [
    "Kiev_data.process_data()"
   ]
  },
  {
   "cell_type": "code",
   "execution_count": 107,
   "metadata": {
    "collapsed": true
   },
   "outputs": [],
   "source": [
    "Kiev_data.get_sample_size_per_root_acc()"
   ]
  },
  {
   "cell_type": "code",
   "execution_count": 108,
   "metadata": {},
   "outputs": [
    {
     "data": {
      "text/plain": [
       "{'5channel': 173,\n",
       " 'Gordonuacom': 103,\n",
       " 'HromadskeUA': 39,\n",
       " 'Korrespondent': 102,\n",
       " 'KyivOperativ': 110,\n",
       " 'ServiceSsu': 345,\n",
       " 'VWK668': 195,\n",
       " 'Vitaliy_Klychko': 95,\n",
       " 'auto_kiev': 361,\n",
       " 'kievtypical': 14,\n",
       " 'kyivmetroalerts': 603,\n",
       " 'patrolpoliceua': 176,\n",
       " 'poroshenko': 11,\n",
       " 'tsnua': 42,\n",
       " 'ukrpravda_news': 142}"
      ]
     },
     "execution_count": 108,
     "metadata": {},
     "output_type": "execute_result"
    }
   ],
   "source": [
    "Kiev_data.sample_size_per_root_acc"
   ]
  },
  {
   "cell_type": "code",
   "execution_count": 43,
   "metadata": {},
   "outputs": [
    {
     "name": "stderr",
     "output_type": "stream",
     "text": [
      "//anaconda/lib/python3.5/site-packages/matplotlib/tight_layout.py:222: UserWarning: tight_layout : falling back to Agg renderer\n",
      "  warnings.warn(\"tight_layout : falling back to Agg renderer\")\n"
     ]
    }
   ],
   "source": [
    "Kiev_data.plot_comparison_stats('uk', 'ru')"
   ]
  },
  {
   "cell_type": "code",
   "execution_count": 46,
   "metadata": {
    "collapsed": true
   },
   "outputs": [],
   "source": [
    "#KRP = Kiev_data.get_account_network('patrolpoliceua', max_num =36000, cursor_on=True)"
   ]
  },
  {
   "cell_type": "code",
   "execution_count": 88,
   "metadata": {},
   "outputs": [
    {
     "data": {
      "text/plain": [
       "0.5817836812144213"
      ]
     },
     "execution_count": 88,
     "metadata": {},
     "output_type": "execute_result"
    }
   ],
   "source": [
    "xx = Kiev_data.data_stats[Kiev_data.data_stats.Gordonuacom]\n",
    "p_ = xx.ru.sum() / xx.tot_lang_counts.sum()\n",
    "p_"
   ]
  },
  {
   "cell_type": "code",
   "execution_count": 87,
   "metadata": {
    "collapsed": true
   },
   "outputs": [],
   "source": [
    "from statsmodels.stats import proportion"
   ]
  },
  {
   "cell_type": "code",
   "execution_count": 90,
   "metadata": {},
   "outputs": [
    {
     "data": {
      "text/plain": [
       "(0.56841115387113073, 0.59503706631726216)"
      ]
     },
     "execution_count": 90,
     "metadata": {},
     "output_type": "execute_result"
    }
   ],
   "source": [
    "proportion.proportion_confint(xx.ru.sum(), xx.tot_lang_counts.sum(), method='agresti_coull')"
   ]
  },
  {
   "cell_type": "code",
   "execution_count": 64,
   "metadata": {},
   "outputs": [
    {
     "data": {
      "text/plain": [
       "5270.0"
      ]
     },
     "execution_count": 64,
     "metadata": {},
     "output_type": "execute_result"
    }
   ],
   "source": [
    "xx.tot_lang_counts.sum()"
   ]
  },
  {
   "cell_type": "code",
   "execution_count": 65,
   "metadata": {},
   "outputs": [
    {
     "data": {
      "text/plain": [
       "0.013317785596379897"
      ]
     },
     "execution_count": 65,
     "metadata": {},
     "output_type": "execute_result"
    }
   ],
   "source": [
    "1.96 * np.sqrt(p_ * (1 - p_) / xx.tot_lang_counts.sum())"
   ]
  },
  {
   "cell_type": "code",
   "execution_count": 106,
   "metadata": {},
   "outputs": [
    {
     "data": {
      "text/plain": [
       "(103, 27)"
      ]
     },
     "execution_count": 106,
     "metadata": {},
     "output_type": "execute_result"
    }
   ],
   "source": [
    "Kiev_data.data_stats[(Kiev_data.data_stats.Gordonuacom) & (Kiev_data.data_stats.tot_lang_counts >= 40)].shape"
   ]
  },
  {
   "cell_type": "code",
   "execution_count": 44,
   "metadata": {
    "collapsed": true
   },
   "outputs": [],
   "source": [
    "Kiev_data.get_stats_per_root_acc()"
   ]
  },
  {
   "cell_type": "code",
   "execution_count": 45,
   "metadata": {},
   "outputs": [
    {
     "data": {
      "text/html": [
       "<div>\n",
       "<table border=\"1\" class=\"dataframe\">\n",
       "  <thead>\n",
       "    <tr style=\"text-align: right;\">\n",
       "      <th></th>\n",
       "      <th>uk_SE</th>\n",
       "      <th>uk_mean</th>\n",
       "      <th>uk_median</th>\n",
       "      <th>uk_std</th>\n",
       "      <th>ru_SE</th>\n",
       "      <th>ru_mean</th>\n",
       "      <th>ru_median</th>\n",
       "      <th>ru_std</th>\n",
       "    </tr>\n",
       "  </thead>\n",
       "  <tbody>\n",
       "    <tr>\n",
       "      <th>5channel</th>\n",
       "      <td>0.322035</td>\n",
       "      <td>38.967976</td>\n",
       "      <td>25.454545</td>\n",
       "      <td>38.651500</td>\n",
       "      <td>0.310758</td>\n",
       "      <td>45.226025</td>\n",
       "      <td>42.500000</td>\n",
       "      <td>40.853350</td>\n",
       "    </tr>\n",
       "    <tr>\n",
       "      <th>Gordonuacom</th>\n",
       "      <td>0.488936</td>\n",
       "      <td>28.565834</td>\n",
       "      <td>19.607843</td>\n",
       "      <td>28.262630</td>\n",
       "      <td>0.498928</td>\n",
       "      <td>58.165082</td>\n",
       "      <td>66.666667</td>\n",
       "      <td>33.972370</td>\n",
       "    </tr>\n",
       "    <tr>\n",
       "      <th>Korrespondent</th>\n",
       "      <td>0.387296</td>\n",
       "      <td>32.101787</td>\n",
       "      <td>12.347561</td>\n",
       "      <td>37.809455</td>\n",
       "      <td>0.434362</td>\n",
       "      <td>53.655362</td>\n",
       "      <td>64.629630</td>\n",
       "      <td>39.399756</td>\n",
       "    </tr>\n",
       "    <tr>\n",
       "      <th>KyivOperativ</th>\n",
       "      <td>0.436010</td>\n",
       "      <td>25.105547</td>\n",
       "      <td>11.336898</td>\n",
       "      <td>29.647605</td>\n",
       "      <td>0.493489</td>\n",
       "      <td>60.093918</td>\n",
       "      <td>69.217687</td>\n",
       "      <td>33.633018</td>\n",
       "    </tr>\n",
       "    <tr>\n",
       "      <th>ServiceSsu</th>\n",
       "      <td>0.234342</td>\n",
       "      <td>34.729423</td>\n",
       "      <td>17.777778</td>\n",
       "      <td>36.393095</td>\n",
       "      <td>0.237790</td>\n",
       "      <td>43.958162</td>\n",
       "      <td>36.363636</td>\n",
       "      <td>38.858076</td>\n",
       "    </tr>\n",
       "    <tr>\n",
       "      <th>VWK668</th>\n",
       "      <td>0.354364</td>\n",
       "      <td>35.106596</td>\n",
       "      <td>22.500000</td>\n",
       "      <td>32.845640</td>\n",
       "      <td>0.369183</td>\n",
       "      <td>52.828280</td>\n",
       "      <td>58.000000</td>\n",
       "      <td>34.580647</td>\n",
       "    </tr>\n",
       "    <tr>\n",
       "      <th>auto_kiev</th>\n",
       "      <td>0.235361</td>\n",
       "      <td>22.905228</td>\n",
       "      <td>10.714286</td>\n",
       "      <td>28.191251</td>\n",
       "      <td>0.271764</td>\n",
       "      <td>61.619841</td>\n",
       "      <td>72.340426</td>\n",
       "      <td>32.942482</td>\n",
       "    </tr>\n",
       "    <tr>\n",
       "      <th>kyivmetroalerts</th>\n",
       "      <td>0.166396</td>\n",
       "      <td>29.024814</td>\n",
       "      <td>9.523810</td>\n",
       "      <td>35.451854</td>\n",
       "      <td>0.190588</td>\n",
       "      <td>52.020793</td>\n",
       "      <td>57.446809</td>\n",
       "      <td>38.123210</td>\n",
       "    </tr>\n",
       "    <tr>\n",
       "      <th>patrolpoliceua</th>\n",
       "      <td>0.333359</td>\n",
       "      <td>36.940687</td>\n",
       "      <td>21.446488</td>\n",
       "      <td>36.845241</td>\n",
       "      <td>0.342548</td>\n",
       "      <td>43.823162</td>\n",
       "      <td>40.029762</td>\n",
       "      <td>38.279334</td>\n",
       "    </tr>\n",
       "    <tr>\n",
       "      <th>ukrpravda_news</th>\n",
       "      <td>0.328938</td>\n",
       "      <td>30.260686</td>\n",
       "      <td>13.270440</td>\n",
       "      <td>36.647503</td>\n",
       "      <td>0.342933</td>\n",
       "      <td>44.535045</td>\n",
       "      <td>37.750000</td>\n",
       "      <td>40.689345</td>\n",
       "    </tr>\n",
       "  </tbody>\n",
       "</table>\n",
       "</div>"
      ],
      "text/plain": [
       "                    uk_SE    uk_mean  uk_median     uk_std     ru_SE  \\\n",
       "5channel         0.322035  38.967976  25.454545  38.651500  0.310758   \n",
       "Gordonuacom      0.488936  28.565834  19.607843  28.262630  0.498928   \n",
       "Korrespondent    0.387296  32.101787  12.347561  37.809455  0.434362   \n",
       "KyivOperativ     0.436010  25.105547  11.336898  29.647605  0.493489   \n",
       "ServiceSsu       0.234342  34.729423  17.777778  36.393095  0.237790   \n",
       "VWK668           0.354364  35.106596  22.500000  32.845640  0.369183   \n",
       "auto_kiev        0.235361  22.905228  10.714286  28.191251  0.271764   \n",
       "kyivmetroalerts  0.166396  29.024814   9.523810  35.451854  0.190588   \n",
       "patrolpoliceua   0.333359  36.940687  21.446488  36.845241  0.342548   \n",
       "ukrpravda_news   0.328938  30.260686  13.270440  36.647503  0.342933   \n",
       "\n",
       "                   ru_mean  ru_median     ru_std  \n",
       "5channel         45.226025  42.500000  40.853350  \n",
       "Gordonuacom      58.165082  66.666667  33.972370  \n",
       "Korrespondent    53.655362  64.629630  39.399756  \n",
       "KyivOperativ     60.093918  69.217687  33.633018  \n",
       "ServiceSsu       43.958162  36.363636  38.858076  \n",
       "VWK668           52.828280  58.000000  34.580647  \n",
       "auto_kiev        61.619841  72.340426  32.942482  \n",
       "kyivmetroalerts  52.020793  57.446809  38.123210  \n",
       "patrolpoliceua   43.823162  40.029762  38.279334  \n",
       "ukrpravda_news   44.535045  37.750000  40.689345  "
      ]
     },
     "execution_count": 45,
     "metadata": {},
     "output_type": "execute_result"
    }
   ],
   "source": [
    "Kiev_data.stats_per_root_acc"
   ]
  },
  {
   "cell_type": "code",
   "execution_count": 23,
   "metadata": {
    "collapsed": true
   },
   "outputs": [],
   "source": [
    "Kiev_data.get_sample_size_per_root_acc()"
   ]
  },
  {
   "cell_type": "code",
   "execution_count": 24,
   "metadata": {},
   "outputs": [
    {
     "data": {
      "text/plain": [
       "{'5channel': 173,\n",
       " 'Gordonuacom': 103,\n",
       " 'HromadskeUA': 39,\n",
       " 'Korrespondent': 102,\n",
       " 'KyivOperativ': 110,\n",
       " 'ServiceSsu': 345,\n",
       " 'VWK668': 195,\n",
       " 'Vitaliy_Klychko': 95,\n",
       " 'auto_kiev': 361,\n",
       " 'kievtypical': 14,\n",
       " 'kyivmetroalerts': 603,\n",
       " 'patrolpoliceua': 176,\n",
       " 'poroshenko': 11,\n",
       " 'tsnua': 42,\n",
       " 'ukrpravda_news': 105}"
      ]
     },
     "execution_count": 24,
     "metadata": {},
     "output_type": "execute_result"
    }
   ],
   "source": [
    "Kiev_data.sample_size_per_root_acc"
   ]
  },
  {
   "cell_type": "code",
   "execution_count": 24,
   "metadata": {},
   "outputs": [
    {
     "name": "stdout",
     "output_type": "stream",
     "text": [
      "5channel\n",
      "Korrespondent\n",
      "kyivmetroalerts\n",
      "ukrpravda_news\n"
     ]
    }
   ],
   "source": [
    "for node in Kiev_data.av_nodes:\n",
    "    cc = pd.read_hdf('city_random_walks.h5', '/'.join(['Kiev', node, 'followers']))\n",
    "    if 'cursor_id' in cc.keys():\n",
    "        print(node)"
   ]
  },
  {
   "cell_type": "code",
   "execution_count": 37,
   "metadata": {},
   "outputs": [
    {
     "name": "stderr",
     "output_type": "stream",
     "text": [
      "//anaconda/lib/python3.5/site-packages/matplotlib/tight_layout.py:222: UserWarning: tight_layout : falling back to Agg renderer\n",
      "  warnings.warn(\"tight_layout : falling back to Agg renderer\")\n"
     ]
    }
   ],
   "source": [
    "Kiev_data.plot_comparison_stats('uk', 'ru')"
   ]
  },
  {
   "cell_type": "markdown",
   "metadata": {},
   "source": [
    "### KEY FUNCTIONS : USERS, FOLLOWERS, TIMELINES, LANGS"
   ]
  },
  {
   "cell_type": "code",
   "execution_count": 9,
   "metadata": {},
   "outputs": [
    {
     "data": {
      "text/plain": [
       "['киев']"
      ]
     },
     "execution_count": 9,
     "metadata": {},
     "output_type": "execute_result"
    }
   ],
   "source": [
    "mytxt = \"киев\"\n",
    "re.findall(r\"Київ|Киев\", mytxt, flags=re.I )"
   ]
  },
  {
   "cell_type": "markdown",
   "metadata": {},
   "source": [
    "### UKRAINE: data structure and relevant twitter accounts "
   ]
  },
  {
   "cell_type": "code",
   "execution_count": 12,
   "metadata": {
    "collapsed": true
   },
   "outputs": [],
   "source": [
    "Ukraine_nodes = {}\n",
    "Ukraine_nodes['cities'] = ['kiev', 'odessa', 'lviv', 'kharkov', 'dnipropetrovsk']\n",
    "Ukraine_nodes['city_sites'] = {'Mariupol':['0629ComUa'], \n",
    "                               'kiev':['nashkiev', 'kievtypical', \n",
    "                                       'kliniki_kiev', 'LISOD_clinic','avto_kiev', \n",
    "                                       'editbeauty']}\n",
    "Ukraine_nodes['news'] = ['HromadskeUA', 'tsnua', 'ukrpravda_news', 'lb_ua', 'Korrespondent', \n",
    "                         'Delo_ua', 'BBC_ua', 'LIGAnet', 'segodnya_life']\n",
    "Ukraine_nodes['TV'] = ['5channel', 'EspresoTV', '24tvua', 'footballua_tv']\n",
    "Ukraine_nodes['starsystem'] = ['VeraBrezhneva', 's_vakarchuk', 'KAMEHCKUX']\n",
    "Ukraine_nodes['politics'] = ['poroshenko', 'Vitaliy_Klychko', \n",
    "                             'Leshchenkos', 'AvakovArsen', 'andriy_sadovyi', 'GennadyKernes']"
   ]
  },
  {
   "cell_type": "code",
   "execution_count": 14,
   "metadata": {
    "collapsed": true
   },
   "outputs": [],
   "source": [
    "key_words=['Україна', 'Ukraine', 'Украина', 'Київ', 'Киев']\n",
    "HromadskeUA_followers = get_account_network('HromadskeUA', rel_type='followers', \n",
    "                                            max_num =5000, key_words=key_words)"
   ]
  },
  {
   "cell_type": "code",
   "execution_count": 130,
   "metadata": {
    "collapsed": true
   },
   "outputs": [],
   "source": [
    "country = 'ukr'\n",
    "node_name = 'politics'\n",
    "acc_name = 'poroshenko'\n",
    "rel_type = 'followers'\n",
    "\n",
    "#key_words=['Україна', 'Ukraine', 'Украина', 'Київ', 'Киев']\n",
    "path_save = '/'.join(['',country, node_name, acc_name, rel_type])\n",
    "followers = get_account_network(acc_name, rel_type=rel_type, \n",
    "                                max_num =5000, key_words=None)\n",
    "json_format = [elem._json for elem in followers]\n",
    "df = pd.DataFrame(json_format)\n",
    "df.to_hdf('lang_data.h5', path_save)"
   ]
  },
  {
   "cell_type": "code",
   "execution_count": 10,
   "metadata": {},
   "outputs": [
    {
     "name": "stderr",
     "output_type": "stream",
     "text": [
      "//anaconda/lib/python3.5/site-packages/ipykernel/__main__.py:1: UserWarning: This pattern has match groups. To actually get the groups, use str.extract.\n",
      "  if __name__ == '__main__':\n"
     ]
    },
    {
     "data": {
      "text/plain": [
       "ru    14\n",
       "en     2\n",
       "uk     1\n",
       "Name: lang, dtype: int64"
      ]
     },
     "execution_count": 10,
     "metadata": {},
     "output_type": "execute_result"
    }
   ],
   "source": [
    "df['lang'][df['statuses_count'] >= 10][df['location'].str.contains(r\"(Kiev|Kyiv|Київ|Киев)\")].value_counts()"
   ]
  },
  {
   "cell_type": "code",
   "execution_count": 278,
   "metadata": {
    "collapsed": true
   },
   "outputs": [],
   "source": [
    "df[['lang','screen_name', 'followers_count']][df['statuses_count'] >= 200][df['location'].str.contains(r\"(Kiev|Kyiv|Київ|Киев)\")]"
   ]
  },
  {
   "cell_type": "code",
   "execution_count": 78,
   "metadata": {
    "collapsed": true
   },
   "outputs": [],
   "source": [
    "#HRMUA_flwrs = [f for idx, f in df_HRMUA.iterrows()]\n",
    "#HRMUA_texts, HRMUA_langs = get_tweets_from_accounts(HRMUA_flwrs, max_num_followers=300)"
   ]
  },
  {
   "cell_type": "code",
   "execution_count": 66,
   "metadata": {
    "collapsed": true
   },
   "outputs": [],
   "source": [
    "df_txts_langs_HRMUA = pd.DataFrame({'texts':HRMUA_texts, 'lang':HRMUA_langs})\n",
    "\n",
    "df_txts_langs_HRMUA.to_hdf('lang_data.h5', '/ukr_nodes/news/HromadskeUA/tls_followers')"
   ]
  },
  {
   "cell_type": "code",
   "execution_count": null,
   "metadata": {
    "collapsed": true
   },
   "outputs": [],
   "source": [
    "df_txts = pd.read_hdf('lang_data.h5', '/ukr_nodes/news/HromadskeUA/tls_followers')"
   ]
  },
  {
   "cell_type": "markdown",
   "metadata": {},
   "source": [
    "### CATALONIA NODES"
   ]
  },
  {
   "cell_type": "code",
   "execution_count": 392,
   "metadata": {
    "collapsed": true
   },
   "outputs": [],
   "source": [
    "Catalonia_nodes = {}\n",
    "Catalonia_nodes['news'] = ['LaVanguardia', 'VilaWeb', 'diariARA', 'elperiodico',\n",
    "                           'elperiodico_cat', 'elpuntavui']\n",
    "Catalonia_nodes['cities'] = ['bcn_ajuntament', 'paerialleida', 'girona_cat', 'TGNAjuntament', \n",
    "                             'AjBadalona', 'aj_vic', 'ajterrassa']\n",
    "Catalonia_nodes['politics'] = ['KRLS', 'junqueras', 'AdaColau', \n",
    "                              'miqueliceta', 'InesArrimadas', 'Albiol_XG', \n",
    "                              'raulromeva', 'ForcadellCarme']"
   ]
  },
  {
   "cell_type": "code",
   "execution_count": 87,
   "metadata": {
    "collapsed": true
   },
   "outputs": [],
   "source": [
    "def get_account_followers(country, node, acc_name):\n",
    "    path_save = '/'.join(['', country, node, acc_name, 'followers'])\n",
    "    followers = get_account_network(acc_name, rel_type='followers', max_num =5000)\n",
    "    json_format = [elem._json for elem in followers]\n",
    "    df = pd.DataFrame(json_format)\n",
    "    df.to_hdf('lang_data.h5', path_save)\n",
    "    return df\n",
    "    "
   ]
  },
  {
   "cell_type": "code",
   "execution_count": 129,
   "metadata": {
    "collapsed": true
   },
   "outputs": [],
   "source": [
    "# df = get_account_followers(country ='cat', node='cities', acc_name='AjBadalona')"
   ]
  },
  {
   "cell_type": "code",
   "execution_count": 90,
   "metadata": {},
   "outputs": [
    {
     "name": "stderr",
     "output_type": "stream",
     "text": [
      "//anaconda/lib/python3.5/site-packages/ipykernel/__main__.py:2: UserWarning: This pattern has match groups. To actually get the groups, use str.extract.\n",
      "  from ipykernel import kernelapp as app\n",
      "//anaconda/lib/python3.5/site-packages/pandas/core/frame.py:1997: UserWarning: Boolean Series key will be reindexed to match DataFrame index.\n",
      "  \"DataFrame index.\", UserWarning)\n"
     ]
    },
    {
     "data": {
      "text/plain": [
       "es    688\n",
       "ca    281\n",
       "en     51\n",
       "fr      1\n",
       "it      1\n",
       "Name: lang, dtype: int64"
      ]
     },
     "execution_count": 90,
     "metadata": {},
     "output_type": "execute_result"
    }
   ],
   "source": [
    "regex = r\"(Badal)\"\n",
    "df_Bad = df[df['statuses_count'] >= 10][df['location'].str.contains(regex)]\n",
    "df_Bad['lang'].value_counts()"
   ]
  },
  {
   "cell_type": "markdown",
   "metadata": {},
   "source": [
    "### SAVE TWEETS FROM FOLLOWERS"
   ]
  },
  {
   "cell_type": "code",
   "execution_count": 127,
   "metadata": {
    "collapsed": true
   },
   "outputs": [],
   "source": [
    "df_txts_langs = save_tweets_from_followers('AjBadalona' , 'cat', 'cities', city='Badalona')"
   ]
  },
  {
   "cell_type": "code",
   "execution_count": 128,
   "metadata": {
    "collapsed": true
   },
   "outputs": [],
   "source": [
    "# df_txts_langs['lang'].value_counts()"
   ]
  },
  {
   "cell_type": "markdown",
   "metadata": {},
   "source": [
    "### LANG DETECTION"
   ]
  },
  {
   "cell_type": "code",
   "execution_count": 12,
   "metadata": {
    "collapsed": true
   },
   "outputs": [],
   "source": [
    "from langdetect import detect_langs"
   ]
  },
  {
   "cell_type": "code",
   "execution_count": 5,
   "metadata": {
    "collapsed": true
   },
   "outputs": [],
   "source": [
    "import langdetect"
   ]
  },
  {
   "cell_type": "code",
   "execution_count": 171,
   "metadata": {},
   "outputs": [
    {
     "data": {
      "text/plain": [
       "Index(['lang', 'screen_name', 'texts'], dtype='object')"
      ]
     },
     "execution_count": 171,
     "metadata": {},
     "output_type": "execute_result"
    }
   ],
   "source": [
    "df_txts_langs.keys()"
   ]
  },
  {
   "cell_type": "code",
   "execution_count": 272,
   "metadata": {
    "collapsed": true
   },
   "outputs": [],
   "source": [
    "base_path = '/'.join(['',country, node_name, screen_name])\n",
    "path_load = base_path + '/followers'\n",
    "path_save = base_path + '/tls_followers'"
   ]
  },
  {
   "cell_type": "code",
   "execution_count": 280,
   "metadata": {
    "collapsed": true
   },
   "outputs": [],
   "source": [
    "df = pd.read_hdf('lang_data.h5', path_save)"
   ]
  },
  {
   "cell_type": "code",
   "execution_count": 230,
   "metadata": {},
   "outputs": [
    {
     "name": "stderr",
     "output_type": "stream",
     "text": [
      "//anaconda/lib/python3.5/site-packages/ipykernel/__main__.py:4: UserWarning: This pattern has match groups. To actually get the groups, use str.extract.\n"
     ]
    }
   ],
   "source": [
    "# filter followers to focus on most relevant ones\n",
    "min_num_twts = 5\n",
    "relevant_followers = df['screen_name'][df['statuses_count'] >= min_num_twts][\n",
    "                         df['location'].str.contains(key_words[country])\n",
    "                       ].values"
   ]
  },
  {
   "cell_type": "code",
   "execution_count": 122,
   "metadata": {
    "collapsed": true
   },
   "outputs": [],
   "source": [
    "#df_txts_langs['lang'].value_counts()\n",
    "#langs_detected = [detect(txt) for txt in df_txts_langs['texts']]\n",
    "\n",
    "langs_detected=[]\n",
    "for txt in df_txts_langs['texts']:\n",
    "    try:\n",
    "        langs_detected.append(detect(txt))\n",
    "    except:\n",
    "        langs_detected.append(None)"
   ]
  },
  {
   "cell_type": "markdown",
   "metadata": {},
   "source": [
    "### EXPLORE AN ACCOUNT"
   ]
  },
  {
   "cell_type": "code",
   "execution_count": 851,
   "metadata": {},
   "outputs": [
    {
     "data": {
      "text/plain": [
       "'Украина, Киев'"
      ]
     },
     "execution_count": 851,
     "metadata": {},
     "output_type": "execute_result"
    }
   ],
   "source": [
    "api = tweepy.API(auth)\n",
    "user_info = api.get_user('kliniki_kiev')  #ArnauAndreu\n",
    "user_info._json['location']"
   ]
  },
  {
   "cell_type": "code",
   "execution_count": 852,
   "metadata": {},
   "outputs": [
    {
     "data": {
      "text/plain": [
       "2287"
      ]
     },
     "execution_count": 852,
     "metadata": {},
     "output_type": "execute_result"
    }
   ],
   "source": [
    "user_info.followers_count"
   ]
  },
  {
   "cell_type": "code",
   "execution_count": 20,
   "metadata": {
    "collapsed": true
   },
   "outputs": [],
   "source": [
    "#get timeline\n",
    "tl = get_account_tweets('onlyforulonely',max_num_twts=200)"
   ]
  },
  {
   "cell_type": "code",
   "execution_count": 222,
   "metadata": {},
   "outputs": [
    {
     "data": {
      "text/plain": [
       "' frefe tt  ewdwed    oo'"
      ]
     },
     "execution_count": 222,
     "metadata": {},
     "output_type": "execute_result"
    }
   ],
   "source": [
    "my_str = \"@dijdoer frefe tt http://ewdowide.ewd.ewde ewdwed @jeiwo @ pgvila http://ewdowide.ewd.ewde oo\"\n",
    "re.sub(r\"(@\\s?[^\\s]+|https?://?[^\\s]+)\", \"\", my_str)"
   ]
  },
  {
   "cell_type": "code",
   "execution_count": 394,
   "metadata": {
    "collapsed": true
   },
   "outputs": [],
   "source": [
    "#[(elem._json['lang'],elem._json['text']) for elem in tl]"
   ]
  },
  {
   "cell_type": "code",
   "execution_count": 24,
   "metadata": {},
   "outputs": [
    {
     "data": {
      "text/plain": [
       "'uk'"
      ]
     },
     "execution_count": 24,
     "metadata": {},
     "output_type": "execute_result"
    }
   ],
   "source": [
    "detect(\"Ну нічого-нічого, скоро і моя інста стане популярною і всі будуть такі мол огоо Ладка яка ти класна, а я така оо дякую цьом-цьом.\")"
   ]
  },
  {
   "cell_type": "code",
   "execution_count": 393,
   "metadata": {
    "collapsed": true
   },
   "outputs": [],
   "source": [
    "#user_info._json"
   ]
  },
  {
   "cell_type": "code",
   "execution_count": 324,
   "metadata": {
    "collapsed": true
   },
   "outputs": [],
   "source": [
    "my_friends = get_account_network('ArnauAndreu')\n",
    "\n",
    "my_df = pd.DataFrame(my_followers)\n",
    "\n",
    "Counter([friend.lang for friend in my_friends])\n",
    "\n",
    "my_fr_txts, my_friends_lang = get_tweets_from_accounts(my_friends)\n",
    "\n",
    "#Counter(my_friends_lang)\n",
    "\n",
    "\n",
    "\n",
    "# my_fr_langs_detected=[]\n",
    "# for i,txt in enumerate(my_fr_txts):\n",
    "#     #print(i, txt)\n",
    "#     try:\n",
    "#         my_fr_langs_detected.append(detect(txt))\n",
    "#     except:\n",
    "#         continue\n",
    "\n",
    "#Counter(my_fr_langs_detected)\n",
    "\n",
    "usr_tl = get_account_tweets(my_friends[44].screen_name, max_num=10)\n",
    "\n",
    "df_try=pd.DataFrame([twt._json for twt in usr_tl])\n",
    "df_try.columns\n",
    "\n",
    "my_tl = get_account_tweets('ArnauAndreu', max_num=10)"
   ]
  },
  {
   "cell_type": "markdown",
   "metadata": {},
   "source": [
    "### MERGE DFs"
   ]
  },
  {
   "cell_type": "code",
   "execution_count": 397,
   "metadata": {
    "collapsed": true
   },
   "outputs": [],
   "source": [
    "#get hdf database keys\n",
    "with pd.HDFStore('lang_data.h5') as f:\n",
    "    my_keys = f.keys()"
   ]
  },
  {
   "cell_type": "code",
   "execution_count": 45,
   "metadata": {
    "collapsed": true
   },
   "outputs": [],
   "source": [
    "file_path = 'lang_data.h5'\n",
    "country = 'cat'\n",
    "acc_names = ['diariARA', 'LaVanguardia']\n",
    "load_node1 = '/' + country + '_nodes/news/' + acc_names[0] + '/tls_followers'\n",
    "load_node2 = '/' + country + '_nodes/news/' + acc_names[1] + '/tls_followers'\n",
    "\n",
    "df1 = pd.read_hdf(file_path, load_node1)\n",
    "df2 = pd.read_hdf(file_path, load_node2)"
   ]
  },
  {
   "cell_type": "code",
   "execution_count": 46,
   "metadata": {
    "collapsed": true
   },
   "outputs": [],
   "source": [
    "df_merged = pd.merge(df1, df2, how='outer')"
   ]
  },
  {
   "cell_type": "code",
   "execution_count": 47,
   "metadata": {},
   "outputs": [
    {
     "data": {
      "text/plain": [
       "((44937, 2), (34461, 2), (12181, 2))"
      ]
     },
     "execution_count": 47,
     "metadata": {},
     "output_type": "execute_result"
    }
   ],
   "source": [
    "df_merged.shape, df1.shape, df2.shape"
   ]
  },
  {
   "cell_type": "markdown",
   "metadata": {},
   "source": [
    "### TWITTER RANDOM WALK"
   ]
  },
  {
   "cell_type": "markdown",
   "metadata": {},
   "source": [
    "#### Establish city's lingua franca out of random inhabitants that are also Twitter users"
   ]
  },
  {
   "cell_type": "markdown",
   "metadata": {},
   "source": [
    "1. Make a set with 5-10 relevant inhabitants or accounts, with lots of followers and tweets. Start from mayor, city hall account, local newspapers, police, traffic or any other relevant account based in the city.\n",
    "\n",
    "2. Get a follower from the city (or county, oblast) as first node ( Check this follower \n",
    "   has sufficient tweets and followers)\n",
    "\n",
    "3. Get follower of step2 node\n",
    "\n",
    "4. Repeat step3 with new nodes until max number of nodes is reached"
   ]
  },
  {
   "cell_type": "markdown",
   "metadata": {},
   "source": [
    "Criteria to keep tweets from user:\n",
    "1. User ratio num_tweets/num_followers < 30\n",
    "2. User ratio num_friends/num_followers < 10"
   ]
  },
  {
   "cell_type": "markdown",
   "metadata": {},
   "source": [
    "###### UPDATE ALGO"
   ]
  },
  {
   "cell_type": "markdown",
   "metadata": {},
   "source": [
    "1. Update all acc networks(s1) with 'get_main_unique_followers' and s2 = saved_ones (get them from unique saved tweet authors) main_unique_followers \n",
    "\n",
    "2. Check s1.difference(s2)\n",
    "\n",
    "3. new_twts = RWCT.get_account_tweets(new_unique_follws)\n",
    "\n",
    "4. old_twts = RWCT.load_main_unique_followers() and old_twts.append(new_twts)"
   ]
  },
  {
   "cell_type": "code",
   "execution_count": 115,
   "metadata": {},
   "outputs": [
    {
     "name": "stdout",
     "output_type": "stream",
     "text": [
      "['/Barcelona/tweets_from_followers', '/Barcelona/unique_followers', '/Kiev/tweets_from_followers', '/Kiev/unique_followers', '/Kiev/5channel/followers', '/Kiev/Gordonuacom/followers', '/Kiev/HromadskeUA/followers', '/Kiev/KyivOperativ/followers', '/Kiev/VWK668/followers', '/Kiev/Vitaliy_Klychko/followers', '/Kiev/auto_kiev/followers', '/Kiev/kievtypical/followers', '/Kiev/kyivmetroalerts/followers', '/Kiev/patrolpoliceua/followers', '/Kiev/poroshenko/followers', '/Kiev/tsnua/followers', '/Kiev/ukrpravda_news/followers', '/Barcelona/LaVanguardia/followers', '/Barcelona/TMB_Barcelona/followers', '/Barcelona/bcn_ajuntament/followers', '/Barcelona/diariARA/followers', '/Barcelona/meteocat/followers', '/Barcelona/mossos/followers']\n"
     ]
    }
   ],
   "source": [
    "with pd.HDFStore('city_random_walks.h5') as f:\n",
    "    print(f.keys())"
   ]
  },
  {
   "cell_type": "code",
   "execution_count": 117,
   "metadata": {},
   "outputs": [
    {
     "name": "stdout",
     "output_type": "stream",
     "text": [
      "Overwriting RW_tweets.py\n"
     ]
    }
   ],
   "source": [
    "%%writefile RW_tweets.py\n",
    "import os\n",
    "import tweepy\n",
    "from tweepy import Stream, OAuthHandler, StreamListener\n",
    "import json\n",
    "import time\n",
    "from collections import Counter\n",
    "import re\n",
    "import pandas as pd\n",
    "import numpy as np\n",
    "from langdetect import detect\n",
    "import pyprind\n",
    "import deepdish as dd\n",
    "\n",
    "#import secret codes\n",
    "from twitter_pwd import access_token, access_token_secret, consumer_key, consumer_secret\n",
    "\n",
    "class RandomWalkCityTweets:\n",
    "    \n",
    "    \"\"\" Get tweets from random relevant followers that live in a given city\n",
    "        and return data on language use \"\"\"\n",
    "    \n",
    "    Kiev_dict = {'KyivOperativ', 'kyivmetroalerts', 'nashkiev', 'auto_kiev', \n",
    "             'Leshchenkos', 'poroshenko', 'Vitaliy_Klychko', 'kievtypical', \n",
    "             'ukrpravda_news', 'HromadskeUA','lb_ua', 'Korrespondent', \n",
    "             'LIGAnet', 'radiosvoboda', '5channel', 'tsnua', 'VWK668', 'Gordonuacom', 'zn_ua',\n",
    "             'patrolpoliceua', 'KievRestaurants'}\n",
    "    \n",
    "    Barcelona_dict = {'TMB_Barcelona', 'bcn_ajuntament', 'barcelona_cat', 'LaVanguardia', 'VilaWeb', \n",
    "                  'diariARA', 'elperiodico', 'elperiodico_cat', 'elpuntavui', 'meteocat', 'mossos'}\n",
    "    \n",
    "    \n",
    "    \n",
    "    def __init__(self, data_file_name, city):\n",
    "        if not os.path.exists(data_file_name):\n",
    "            open(data_file_name, 'w+').close()\n",
    "        self.data_file_name = data_file_name\n",
    "        self.city = city\n",
    "        self.key_words = {'Barcelona':{'country': ['Catalu'], \n",
    "                                       'city': ['Barcel']}, \n",
    "                          'Kiev':{'country': ['Україна', 'Ukraine', 'Украина'], \n",
    "                                  'city': ['Kiev' ,'Kyiv' , 'Київ' , 'Киев']}}\n",
    "        \n",
    "        #set_up API\n",
    "        auth = OAuthHandler(consumer_key, consumer_secret)\n",
    "        auth.set_access_token(access_token, access_token_secret)\n",
    "        self.api = tweepy.API(auth, wait_on_rate_limit=True, wait_on_rate_limit_notify=True)\n",
    "        \n",
    "            \n",
    "    def get_account_network(self, account_name, rel_type='followers', max_num =100,\n",
    "                            min_num_tweets=0, min_num_followers=0, only_city=False, \n",
    "                            limited_search=False, avoid_repeat=None, cursor_on=False):\n",
    "        \"\"\" Given an account by account_name, \n",
    "            find all users that are linked to it via a specified relation type 'rel_type'.\n",
    "            Args:\n",
    "                * account_name: string. Twitter account name\n",
    "                * rel_type: string. Specifies relation type (default is 'followers')\n",
    "                * max_num: integer. Maximum number of 'related' users considered\n",
    "                * key_words: list of strings. Used to filter retrieved users by location,\n",
    "                    if specified\n",
    "                * min_num_tweets: minimum number of tweets a follower needs to have \n",
    "                    to be included in list\n",
    "                * min_num_followers: minimum number of followers a follower needs to have \n",
    "                    to be included in list\n",
    "            Returns:\n",
    "                * list_people: list of account_names\n",
    "        \"\"\"\n",
    "        pbar = pyprind.ProgBar(max_num)\n",
    "        list_people = []\n",
    "        # very important to set count=200 MAX VALUE -> Max 3000 accounts per 15 minutes interval\n",
    "        if not cursor_on:\n",
    "            cursor = tweepy.Cursor(getattr(self.api, rel_type, 0), \n",
    "                                   screen_name=account_name, count=200)\n",
    "        else:\n",
    "            node = '/'.join(['', self.city, account_name, rel_type])\n",
    "            df_old = pd.read_hdf(self.data_file_name, node)\n",
    "            cursor_id = df_old.cursor_id.values[-1]\n",
    "            cursor = tweepy.Cursor(api.followers, screen_name=account_name, \n",
    "                                      count=200, cursor=cursor_id)\n",
    "        users = cursor.items(max_num)\n",
    "        while True:\n",
    "            try:\n",
    "                user = next(users)\n",
    "                if only_city:\n",
    "                    locs = '|'.join(self.key_words[self.city]['city'])\n",
    "                else:\n",
    "                    locs = '|'.join(self.key_words[self.city]['country'] + \n",
    "                                    self.key_words[self.city]['city'])                   \n",
    "                patt = re.compile(locs)\n",
    "                found_loc = re.findall(patt, user._json['location'])\n",
    "                if (found_loc and user.statuses_count > min_num_tweets and \n",
    "                    not user.protected):\n",
    "                    user._json.update({'cursor_id': cursor.iterator.next_cursor})\n",
    "                    if avoid_repeat:\n",
    "                        if user._json['screen_name'] not in avoid_repeat:\n",
    "                            list_people.append(user._json)\n",
    "                    else:\n",
    "                        list_people.append(user._json)\n",
    "                    if len(list_people) > 2 and limited_search:\n",
    "                        break\n",
    "            except tweepy.TweepError as e:\n",
    "                if 'Read timed out' in str(e):\n",
    "                    print('fallen here')\n",
    "                    print(e)\n",
    "                    time.sleep(5)\n",
    "                else:\n",
    "                    time.sleep(60*16)\n",
    "                    continue #user = next(users)\n",
    "            except StopIteration:\n",
    "                break            \n",
    "            pbar.update()\n",
    "        if not limited_search:\n",
    "            node = '/'.join(['', self.city, account_name, rel_type])\n",
    "            df_new = pd.DataFrame(list_people)\n",
    "            if not cursor_on:\n",
    "                with pd.HDFStore(self.data_file_name) as f:\n",
    "                    if node not in f.keys():\n",
    "                        df_new.to_hdf(self.data_file_name, node)\n",
    "                        # update list unique followers\n",
    "            else:\n",
    "                df_old = df_old.append(df_new, ignore_index=True)\n",
    "                df_old.to_hdf(self.data_file_name, node)\n",
    "                \n",
    "        return list_people\n",
    "    \n",
    "    def get_main_unique_followers(self, save=True, min_num_flws_per_acc=50): \n",
    "        \"\"\" Read all followers nodes and compute list of \n",
    "            all unique followers for a given city\n",
    "        \"\"\"\n",
    "        key_words='|'.join(self.key_words[self.city]['city'])\n",
    "        #initialize frame\n",
    "        df_unique_flws = pd.DataFrame()\n",
    "        with pd.HDFStore(self.data_file_name) as f:\n",
    "            for n in f.keys():\n",
    "                if re.findall(self.city, n) and not re.findall('_followers', n):\n",
    "                    df = pd.read_hdf(f, n)\n",
    "                    df = df[(df['followers_count'] > min_num_flws_per_acc) & \n",
    "                            (df['statuses_count'] / df['followers_count'] < 30) &\n",
    "                            (df['location'].str.contains(key_words))]\n",
    "                    df_unique_flws = df_unique_flws.append(df)\n",
    "            self.df_unique_flws = df_unique_flws.drop_duplicates('screen_name')\n",
    "            if save:\n",
    "                self.df_unique_flws.to_hdf(self.data_file_name, \n",
    "                                           '/'.join(['', self.city, 'unique_followers']))\n",
    "                \n",
    "    def load_main_unique_followers(self):\n",
    "        \"\"\" Load main followers from hdf file and ssign them to class attribute \n",
    "            as pandas Dataframe\"\"\"\n",
    "        self.df_unique_flws = pd.read_hdf(self.data_file_name, \n",
    "                                          '/'.join(['', self.city, 'unique_followers']))\n",
    "           \n",
    "    def get_account_tweets(self, account_name, max_num_twts=20):\n",
    "        \"\"\" Given an account name,\n",
    "            it retrieves a maximum number of tweets written or retweeted by account owner.\n",
    "            It returns them in a list.\n",
    "            Args:\n",
    "                * account name: string. Screen_name that identifies the twitter account\n",
    "                * max_num_twts: integer. Maximum number of tweets to be retrieved for each account\n",
    "            Returns:\n",
    "                * list_tweets: list including info of all retrieved tweets in JSON format\"\"\"\n",
    "        list_tweets = []\n",
    "        timeline = tweepy.Cursor(self.api.user_timeline, screen_name=account_name, \n",
    "                                 count=200, include_rts = True).items(max_num_twts)\n",
    "        while True:\n",
    "            try:\n",
    "                tw = next(timeline)\n",
    "                list_tweets.append(tw)\n",
    "            except tweepy.TweepError as e:\n",
    "                if '401' in str(e):    \n",
    "                    print(e)\n",
    "                    time.sleep(3)\n",
    "                    break\n",
    "                elif '404' in str(e):\n",
    "                    print(e)\n",
    "                    time.sleep(3)\n",
    "                    break\n",
    "                else:\n",
    "                    time.sleep(60*15)\n",
    "                    continue \n",
    "            except StopIteration:\n",
    "                break\n",
    "        return list_tweets\n",
    "\n",
    "    def get_tweets_from_accounts(self, list_accounts, max_num_accounts=None, \n",
    "                                 max_num_twts=20, save=True, random_walk=False):\n",
    "        \"\"\" Given a list of accounts, get tweets texts, langs and authors\n",
    "            All URLs and tweet account names are removed from tweet\n",
    "            texts since they are not relevant for language identification\n",
    "        \"\"\"\n",
    "        pbar = pyprind.ProgBar(len(list_accounts))\n",
    "        texts_tweets = []\n",
    "        langs_tweets = []\n",
    "        authors_tweets = []\n",
    "        if max_num_accounts:\n",
    "            list_accounts = list_accounts[:max_num_accounts]\n",
    "        for idx, acc in enumerate(list_accounts):\n",
    "            twts = self.get_account_tweets(acc, max_num_twts=max_num_twts)\n",
    "            texts_tweets.extend([re.sub(r\"(@\\s?[^\\s]+|https?://?[^\\s]+)\", \"\", tw.text) \n",
    "                                 for tw in twts])\n",
    "            langs_tweets.extend([tw.lang for tw in twts])\n",
    "            authors_tweets.extend([acc for _ in twts])\n",
    "            pbar.update()\n",
    "        df_tweets = pd.DataFrame({'tweets':texts_tweets, \n",
    "                                  'lang':langs_tweets, \n",
    "                                  'screen_name':authors_tweets})\n",
    "        df_tweets = df_tweets.drop_duplicates('tweets')\n",
    "        if save:\n",
    "            if not random_walk:\n",
    "                df_tweets.to_hdf(self.data_file_name, \n",
    "                                 '/'.join(['', self.city, 'tweets_from_followers']))\n",
    "            else:\n",
    "                with pd.HDFStore('city_random_walks.h5') as f:\n",
    "                    nodes = f.keys()\n",
    "                digits = []\n",
    "                pattern = r\"\".join([self.city, \"/random_walk_\", \"(\\d+)\"])\n",
    "                for e in nodes:\n",
    "                    try:\n",
    "                        digits.append(int(re.findall(pattern, e)[0]))\n",
    "                    except:\n",
    "                        continue\n",
    "                if not digits:\n",
    "                    df_tweets.to_hdf(self.data_file_name, \n",
    "                                     '/'.join(['', self.city, 'random_walk_1']))\n",
    "                else:\n",
    "                    i = max(digits) \n",
    "                    df_tweets.to_hdf(self.data_file_name, \n",
    "                                     '/'.join(['', self.city, 'random_walk_' + str(i + 1)]))               \n",
    "        return df_tweets\n",
    "    \n",
    "    def update_tweets_from_main_followers(self, download=False):\n",
    "        \"\"\" Download tweets from newly detected followers and append them to saved data\"\"\"\n",
    "        # get sets\n",
    "        self.get_main_unique_followers(save=True)\n",
    "        all_flws = set(self.df_unique_flws)\n",
    "        availab_tweets = pd.read_hdf(self.data_file_name, \n",
    "                                        '/'.join(['', self.city, 'tweets_from_followers']))\n",
    "        flws_with_twts = set(availab_tweets['screen_name'])\n",
    "        # compute set difference\n",
    "        new_flws = all_flws.difference(flws_with_twts)\n",
    "        # get tweets from new followers if any\n",
    "        if new_flws:\n",
    "            new_twts = self.get_account_tweets(new_flws, save=False)\n",
    "            # append new tweets\n",
    "            availab_tweets = availab_tweets.append(new_twts, ignore_index=True)\n",
    "            # save\n",
    "            availab_tweets.to_hdf('city_random_walks.h5', \n",
    "                                  '/'.join(['', self.city, 'tweets_from_followers']))\n",
    "            \n",
    "    def random_walk(self):\n",
    "        \"\"\" \n",
    "            Select a list of accounts by randomly walking \n",
    "            all main followers' friends and followers\n",
    "        \"\"\"        \n",
    "        \n",
    "        # load main followers\n",
    "        self.load_main_unique_followers()\n",
    "        \n",
    "        # get random sample from main followers\n",
    "        sample = np.random.choice(self.df_unique_flws['screen_name'], 10, replace=False)\n",
    "        \n",
    "        # get a random follower and friend from each account from sample \n",
    "        # ( check they do not belong to already met accounts and main followers !!)\n",
    "        all_flws = []\n",
    "        for acc in sample:\n",
    "            # look for friend and follower\n",
    "            list_flws = self.get_account_network(acc, min_num_tweets=10,\n",
    "                                                 only_city=True,\n",
    "                                                 limited_search=True, avoid_repeat=all_flws)\n",
    "            all_flws.extend(list_flws)\n",
    "            list_friends = self.get_account_network(acc, min_num_tweets=10, \n",
    "                                                    rel_type='friends', only_city=True, \n",
    "                                                    limited_search=True, avoid_repeat=all_flws)\n",
    "            all_flws.extend(list_flws)\n",
    "        self.random_walk_accounts = pd.DataFrame(all_flws)\n",
    "        print('starting to retrieve tweets')\n",
    "        self.random_walk_tweets = self.get_tweets_from_accounts(self.random_walk_accounts[\"screen_name\"],  \n",
    "                                                                max_num_twts=20, save=True, \n",
    "                                                                random_walk=True)\n",
    "            \n",
    "#     def random_walk(self, regex_words = None):\n",
    "#         \"\"\" \n",
    "#             Select a list of accounts by randomly walking \n",
    "#             all main followers' friends and followers\n",
    "#         \"\"\"\n",
    "#         main_flws = []\n",
    "#         with pd.HDFStore(self.data_file_name) as f:\n",
    "#             for n in f.keys():\n",
    "#                 if re.findall( r\"followers\", n):\n",
    "#                     flws = pd.read_hdf(self.data_file_name, n)\n",
    "#                     #####\n",
    "#                     idx = [i for i, w in enumerate(key_words) \n",
    "#                            if re.findall(city, w)][0]\n",
    "#                     regex_ words  =\"|\".join(key_words[idx:])\n",
    "#                     try:\n",
    "#                         min_people = 50\n",
    "#                         flws = flws[\n",
    "#                                     (flws['friends_count'] > 50) & \n",
    "#                                     (flws['followers_count'] > 50) &\n",
    "#                                     (flws['location'].str.contains(regex_ words)) &\n",
    "#                                     (flws['lang'].isin(['ru', 'uk']))\n",
    "#                                    ]\n",
    "#                     except \n",
    "#                     flws = flws['screen_name'].sample(50).unique().tolist()\n",
    "#                     main_flws.extend(flws)\n",
    "#         main_flws = set(main_flws)\n",
    "        \n",
    "#         sub_flws = []\n",
    "#         for acc in main_flws:\n",
    "#             for rel in ['friends', 'followers']:\n",
    "#                 sub_flws.extend(self.get_account_network(\n",
    "#                         acc, rel_type=rel, max_num=3000, \n",
    "#                         regex_ words=key_words)\n",
    "#                                )\n",
    "            "
   ]
  },
  {
   "cell_type": "code",
   "execution_count": 107,
   "metadata": {
    "collapsed": true
   },
   "outputs": [],
   "source": [
    "# Bcn_rw = RandomWalkCityTweets('city_random_walks.h5', 'Barcelona')\n",
    "# Bcn_rw.random_walk()"
   ]
  },
  {
   "cell_type": "code",
   "execution_count": 287,
   "metadata": {},
   "outputs": [
    {
     "data": {
      "text/plain": [
       "(56,)"
      ]
     },
     "execution_count": 287,
     "metadata": {},
     "output_type": "execute_result"
    }
   ],
   "source": [
    "Bcn_rw.random_walk_accounts[\"screen_name\"].shape"
   ]
  },
  {
   "cell_type": "code",
   "execution_count": 289,
   "metadata": {},
   "outputs": [
    {
     "data": {
      "text/plain": [
       "(528,)"
      ]
     },
     "execution_count": 289,
     "metadata": {},
     "output_type": "execute_result"
    }
   ],
   "source": [
    "Bcn_rw.random_walk_tweets['lang'].shape"
   ]
  },
  {
   "cell_type": "code",
   "execution_count": 243,
   "metadata": {
    "collapsed": true
   },
   "outputs": [],
   "source": [
    "kiev_rw = RandomWalkCityTweets('city_random_walks.h5', 'Kiev')\n",
    "#kiev_rw.get_main_unique_followers()"
   ]
  },
  {
   "cell_type": "code",
   "execution_count": 260,
   "metadata": {
    "collapsed": true
   },
   "outputs": [],
   "source": [
    "kiev_rw.random_walk()"
   ]
  },
  {
   "cell_type": "code",
   "execution_count": 246,
   "metadata": {},
   "outputs": [
    {
     "data": {
      "text/plain": [
       "ru    14\n",
       "uk     8\n",
       "en     2\n",
       "Name: lang, dtype: int64"
      ]
     },
     "execution_count": 246,
     "metadata": {},
     "output_type": "execute_result"
    }
   ],
   "source": [
    "kiev_rw.random_walk_accounts.drop_duplicates('screen_name')['lang'].value_counts()"
   ]
  },
  {
   "cell_type": "code",
   "execution_count": 290,
   "metadata": {},
   "outputs": [
    {
     "data": {
      "text/plain": [
       "ru     230\n",
       "uk      92\n",
       "und     39\n",
       "en      15\n",
       "cs       4\n",
       "bg       3\n",
       "ro       1\n",
       "de       1\n",
       "sl       1\n",
       "lt       1\n",
       "Name: lang, dtype: int64"
      ]
     },
     "execution_count": 290,
     "metadata": {},
     "output_type": "execute_result"
    }
   ],
   "source": [
    "kiev_rw.random_walk_tweets['lang'].value_counts()"
   ]
  },
  {
   "cell_type": "code",
   "execution_count": 257,
   "metadata": {
    "collapsed": true
   },
   "outputs": [],
   "source": [
    "#kiev_rw.random_walk_accounts[['description', 'screen_name', 'lang', 'id']].drop_duplicates('screen_name')"
   ]
  },
  {
   "cell_type": "code",
   "execution_count": 258,
   "metadata": {
    "collapsed": true
   },
   "outputs": [],
   "source": [
    "#kiev_rw.df_unique_flws.keys()"
   ]
  },
  {
   "cell_type": "code",
   "execution_count": 55,
   "metadata": {
    "collapsed": true
   },
   "outputs": [],
   "source": [
    "kiev_rw.load_main_unique_followers()"
   ]
  },
  {
   "cell_type": "code",
   "execution_count": 58,
   "metadata": {},
   "outputs": [
    {
     "data": {
      "text/plain": [
       "(1123,)"
      ]
     },
     "execution_count": 58,
     "metadata": {},
     "output_type": "execute_result"
    }
   ],
   "source": [
    "kiev_rw.df_unique_flws['screen_name'].shape"
   ]
  },
  {
   "cell_type": "code",
   "execution_count": 66,
   "metadata": {},
   "outputs": [
    {
     "data": {
      "text/plain": [
       "83"
      ]
     },
     "execution_count": 66,
     "metadata": {},
     "output_type": "execute_result"
    }
   ],
   "source": [
    "s1 = set(pd.read_hdf('city_random_walks.h5', '/Kiev/patrolpoliceua/followers')['screen_name'])\n",
    "s2 = set(kiev_rw.df_unique_flws['screen_name'])\n",
    "len(s1.intersection(s2))"
   ]
  },
  {
   "cell_type": "code",
   "execution_count": 33,
   "metadata": {
    "collapsed": true
   },
   "outputs": [],
   "source": [
    "#twts = kiev_rw.get_tweets_from_accounts(kiev_rw.df_unique_flws['screen_name'].tolist())"
   ]
  },
  {
   "cell_type": "code",
   "execution_count": 146,
   "metadata": {
    "collapsed": true
   },
   "outputs": [],
   "source": [
    "Bcn_rw = RandomWalkCityTweets('city_random_walks.h5', 'Barcelona')"
   ]
  },
  {
   "cell_type": "code",
   "execution_count": 169,
   "metadata": {
    "collapsed": true
   },
   "outputs": [],
   "source": [
    "Bcn_rw.get_account_network('mossos', max_num =36000, min_num_tweets=20)"
   ]
  },
  {
   "cell_type": "code",
   "execution_count": 118,
   "metadata": {
    "collapsed": true
   },
   "outputs": [],
   "source": [
    "#Bcn_rw.df_unique_flws['lang'].value_counts()"
   ]
  },
  {
   "cell_type": "code",
   "execution_count": 99,
   "metadata": {
    "collapsed": true
   },
   "outputs": [],
   "source": [
    "#twts['lang'].value_counts()\n",
    "#twts['screen_name'][twts['lang'] == 'en'].unique()"
   ]
  },
  {
   "cell_type": "markdown",
   "metadata": {},
   "source": [
    "### TWEET LANG COUNTS PER USER"
   ]
  },
  {
   "cell_type": "code",
   "execution_count": 14,
   "metadata": {
    "collapsed": true
   },
   "outputs": [],
   "source": [
    "import matplotlib.pyplot as plt"
   ]
  },
  {
   "cell_type": "code",
   "execution_count": 4,
   "metadata": {},
   "outputs": [
    {
     "data": {
      "text/html": [
       "<div>\n",
       "<style>\n",
       "    .dataframe thead tr:only-child th {\n",
       "        text-align: right;\n",
       "    }\n",
       "\n",
       "    .dataframe thead th {\n",
       "        text-align: left;\n",
       "    }\n",
       "\n",
       "    .dataframe tbody tr th {\n",
       "        vertical-align: top;\n",
       "    }\n",
       "</style>\n",
       "<table border=\"1\" class=\"dataframe\">\n",
       "  <thead>\n",
       "    <tr style=\"text-align: right;\">\n",
       "      <th>lang</th>\n",
       "      <th>ru</th>\n",
       "      <th>uk</th>\n",
       "      <th>en</th>\n",
       "      <th>und</th>\n",
       "    </tr>\n",
       "    <tr>\n",
       "      <th>screen_name</th>\n",
       "      <th></th>\n",
       "      <th></th>\n",
       "      <th></th>\n",
       "      <th></th>\n",
       "    </tr>\n",
       "  </thead>\n",
       "  <tbody>\n",
       "    <tr>\n",
       "      <th>0666387119</th>\n",
       "      <td>57.0</td>\n",
       "      <td>1.0</td>\n",
       "      <td>0.0</td>\n",
       "      <td>2.0</td>\n",
       "    </tr>\n",
       "    <tr>\n",
       "      <th>0672385878</th>\n",
       "      <td>55.0</td>\n",
       "      <td>1.0</td>\n",
       "      <td>0.0</td>\n",
       "      <td>4.0</td>\n",
       "    </tr>\n",
       "    <tr>\n",
       "      <th>1007_tatiana</th>\n",
       "      <td>25.0</td>\n",
       "      <td>28.0</td>\n",
       "      <td>0.0</td>\n",
       "      <td>7.0</td>\n",
       "    </tr>\n",
       "    <tr>\n",
       "      <th>103683_</th>\n",
       "      <td>31.0</td>\n",
       "      <td>8.0</td>\n",
       "      <td>14.0</td>\n",
       "      <td>6.0</td>\n",
       "    </tr>\n",
       "    <tr>\n",
       "      <th>10nyk</th>\n",
       "      <td>6.0</td>\n",
       "      <td>50.0</td>\n",
       "      <td>2.0</td>\n",
       "      <td>2.0</td>\n",
       "    </tr>\n",
       "  </tbody>\n",
       "</table>\n",
       "</div>"
      ],
      "text/plain": [
       "lang            ru    uk    en  und\n",
       "screen_name                        \n",
       "0666387119    57.0   1.0   0.0  2.0\n",
       "0672385878    55.0   1.0   0.0  4.0\n",
       "1007_tatiana  25.0  28.0   0.0  7.0\n",
       "103683_       31.0   8.0  14.0  6.0\n",
       "10nyk          6.0  50.0   2.0  2.0"
      ]
     },
     "execution_count": 4,
     "metadata": {},
     "output_type": "execute_result"
    }
   ],
   "source": [
    "twt_from_flws_Kiev = pd.read_hdf('city_random_walks.h5', \n",
    "                                 '/Kiev/tweets_from_followers')\n",
    "\n",
    "twt_from_flws_Kiev.pivot_table(aggfunc={'lang':'count'},\n",
    "                               index='screen_name', \n",
    "                               columns='lang').fillna(0.).lang[['ru', 'uk', 'en', 'und']].head()"
   ]
  },
  {
   "cell_type": "code",
   "execution_count": 11,
   "metadata": {},
   "outputs": [
    {
     "data": {
      "text/plain": [
       "(89367, 5)"
      ]
     },
     "execution_count": 11,
     "metadata": {},
     "output_type": "execute_result"
    }
   ],
   "source": [
    "twt_from_flws_Kiev.shape"
   ]
  },
  {
   "cell_type": "code",
   "execution_count": 5,
   "metadata": {},
   "outputs": [
    {
     "data": {
      "text/plain": [
       "(lang\n",
       " ru    28.788062\n",
       " uk    14.562710\n",
       " en     9.015426\n",
       " dtype: float64, lang\n",
       " ru    19.523674\n",
       " uk    17.601077\n",
       " en    14.423663\n",
       " dtype: float64, lang\n",
       " ru    32.0\n",
       " uk     6.0\n",
       " en     2.0\n",
       " dtype: float64)"
      ]
     },
     "execution_count": 5,
     "metadata": {},
     "output_type": "execute_result"
    }
   ],
   "source": [
    "lang_counts_per_acc = twt_from_flws_Kiev.groupby(['screen_name', 'lang']).count().unstack()['tweets'][['ru', 'uk', 'en']].fillna(0.)\n",
    "\n",
    "lang_counts_per_acc.mean(), lang_counts_per_acc.std(), lang_counts_per_acc.median()"
   ]
  },
  {
   "cell_type": "code",
   "execution_count": 12,
   "metadata": {},
   "outputs": [
    {
     "data": {
      "text/plain": [
       "(1036, 3)"
      ]
     },
     "execution_count": 12,
     "metadata": {},
     "output_type": "execute_result"
    }
   ],
   "source": [
    "lang_counts_per_acc[lang_counts_per_acc['ru'] > lang_counts_per_acc['uk']].shape"
   ]
  },
  {
   "cell_type": "code",
   "execution_count": 15,
   "metadata": {},
   "outputs": [
    {
     "data": {
      "image/png": "[encoded data removed]",
      "text/plain": [
       "<matplotlib.figure.Figure at 0x119e2c4a8>"
      ]
     },
     "metadata": {},
     "output_type": "display_data"
    }
   ],
   "source": [
    "vals_ru = lang_counts_per_acc['ru'].values\n",
    "vals_uk = lang_counts_per_acc['uk'].values\n",
    "#np.histogram(vals_ru)\n",
    "alpha = 0.5\n",
    "plt.hist(vals_ru, bins=20, color='red', label='ru', alpha=alpha, edgecolor='black', normed=True)\n",
    "plt.hist(vals_uk, bins=20, color='blue', label='uk', alpha=alpha, edgecolor='black', normed=True)\n",
    "plt.xticks(range(21))\n",
    "plt.legend()\n",
    "plt.show() "
   ]
  },
  {
   "cell_type": "code",
   "execution_count": 160,
   "metadata": {
    "collapsed": true
   },
   "outputs": [],
   "source": [
    "Bcn_lang_per_acc = pd.read_hdf('city_random_walks.h5', \n",
    "                               '/Barcelona/tweets_from_followers')"
   ]
  },
  {
   "cell_type": "code",
   "execution_count": 161,
   "metadata": {},
   "outputs": [
    {
     "data": {
      "text/plain": [
       "(115007, 4)"
      ]
     },
     "execution_count": 161,
     "metadata": {},
     "output_type": "execute_result"
    }
   ],
   "source": [
    "Bcn_lang_per_acc.shape"
   ]
  },
  {
   "cell_type": "code",
   "execution_count": 162,
   "metadata": {},
   "outputs": [
    {
     "data": {
      "text/plain": [
       "es           55787\n",
       "ca           29047\n",
       "en           15529\n",
       "Undefined     7166\n",
       "pt            2228\n",
       "Name: lang_detected, dtype: int64"
      ]
     },
     "execution_count": 162,
     "metadata": {},
     "output_type": "execute_result"
    }
   ],
   "source": [
    "Bcn_lang_per_acc['lang_detected'].value_counts().head()"
   ]
  },
  {
   "cell_type": "code",
   "execution_count": 111,
   "metadata": {},
   "outputs": [
    {
     "data": {
      "text/plain": [
       "(lang_detected\n",
       " ca           3.782573\n",
       " es           7.853094\n",
       " en           2.235505\n",
       " Undefined    0.984039\n",
       " dtype: float64, lang_detected\n",
       " ca           4.276879\n",
       " es           5.468378\n",
       " en           3.851483\n",
       " Undefined    1.386437\n",
       " dtype: float64, lang_detected\n",
       " ca           2.0\n",
       " es           7.0\n",
       " en           1.0\n",
       " Undefined    1.0\n",
       " dtype: float64)"
      ]
     },
     "execution_count": 111,
     "metadata": {},
     "output_type": "execute_result"
    }
   ],
   "source": [
    "lang_counts_per_acc_Bcn = Bcn_lang_per_acc.groupby(['screen_name', 'lang_detected']).count().unstack()['tweets'].fillna(0)[['ca', 'es', 'en', 'Undefined']]\n",
    "lang_counts_per_acc_Bcn.mean(), lang_counts_per_acc_Bcn.std(), lang_counts_per_acc_Bcn.median()"
   ]
  },
  {
   "cell_type": "code",
   "execution_count": 72,
   "metadata": {},
   "outputs": [
    {
     "data": {
      "text/plain": [
       "(array([452, 445, 453, 400, 334, 381, 324, 323, 335, 317, 303, 305, 271,\n",
       "        307, 290, 259, 201, 182, 133, 125]),\n",
       " array([  0.,   1.,   2.,   3.,   4.,   5.,   6.,   7.,   8.,   9.,  10.,\n",
       "         11.,  12.,  13.,  14.,  15.,  16.,  17.,  18.,  19.,  20.]))"
      ]
     },
     "execution_count": 72,
     "metadata": {},
     "output_type": "execute_result"
    }
   ],
   "source": [
    "np.histogram(vals_es, bins=20)"
   ]
  },
  {
   "cell_type": "code",
   "execution_count": 114,
   "metadata": {},
   "outputs": [
    {
     "data": {
      "image/png": "[encoded data removed]",
      "text/plain": [
       "<matplotlib.figure.Figure at 0x10cda0dd8>"
      ]
     },
     "metadata": {},
     "output_type": "display_data"
    }
   ],
   "source": [
    "vals_es = lang_counts_per_acc_Bcn['es'].values\n",
    "vals_ca = lang_counts_per_acc_Bcn['ca'].values\n",
    "vals_en = lang_counts_per_acc_Bcn['en'].values\n",
    "np.histogram(vals_es)\n",
    "plt.hist(vals_es, bins=20, color='r', label='es', alpha=0.7, edgecolor='black', normed=True)\n",
    "plt.hist(vals_ca, bins=20, color='y', label='ca', alpha=0.7, edgecolor='black', normed=True)\n",
    "plt.xticks(range(21))\n",
    "plt.legend()\n",
    "plt.show()"
   ]
  },
  {
   "cell_type": "code",
   "execution_count": 96,
   "metadata": {
    "collapsed": true
   },
   "outputs": [],
   "source": [
    "Kiev_dict = {'KyivOperativ', 'kyivmetroalerts', 'nashkiev', 'auto_kiev', \n",
    "             'Leshchenkos', 'poroshenko', 'Vitaliy_Klychko', 'kievtypical', \n",
    "             'ukrpravda_news', 'HromadskeUA','lb_ua', 'Korrespondent', \n",
    "             'LIGAnet', 'radiosvoboda', '5channel', 'tsnua', 'VWK668', 'Gordonuacom', 'zn_ua',\n",
    "             'patrolpoliceua'}"
   ]
  },
  {
   "cell_type": "code",
   "execution_count": 148,
   "metadata": {
    "collapsed": true
   },
   "outputs": [],
   "source": [
    "Barcelona_dict = {'TMB_Barcelona', 'bcn_ajuntament', 'barcelona_cat', 'LaVanguardia', 'VilaWeb', \n",
    "                  'diariARA', 'elperiodico', 'elperiodico_cat', 'elpuntavui', 'meteocat', 'mossos'}"
   ]
  },
  {
   "cell_type": "code",
   "execution_count": 31,
   "metadata": {
    "collapsed": true
   },
   "outputs": [],
   "source": [
    "node1 = 'Kiev/KyivOperativ/followers'\n",
    "node2 = 'Kiev/auto_kiev/followers'\n",
    "\n",
    "Ky_Op = pd.read_hdf('city_random_walks.h5', node1)\n",
    "Au_Ki = pd.read_hdf('city_random_walks.h5', node2)"
   ]
  },
  {
   "cell_type": "code",
   "execution_count": 34,
   "metadata": {
    "collapsed": true
   },
   "outputs": [],
   "source": [
    "Ky_Op['entities']"
   ]
  },
  {
   "cell_type": "code",
   "execution_count": 1109,
   "metadata": {},
   "outputs": [
    {
     "data": {
      "text/plain": [
       "(674, 1826, 371)"
      ]
     },
     "execution_count": 1109,
     "metadata": {},
     "output_type": "execute_result"
    }
   ],
   "source": [
    "s1 = set(Ky_Op['screen_name'].tolist())\n",
    "s2 = set(Au_Ki['screen_name'].tolist())\n",
    "s3 = s1.intersection(s2)\n",
    "len(s1), len(s2), len(s3)"
   ]
  },
  {
   "cell_type": "code",
   "execution_count": 1119,
   "metadata": {},
   "outputs": [
    {
     "data": {
      "text/plain": [
       "(371, 2)"
      ]
     },
     "execution_count": 1119,
     "metadata": {},
     "output_type": "execute_result"
    }
   ],
   "source": [
    "Ky_Op[Ky_Op['screen_name'].isin(s3)][['followers_count', 'screen_name']].shape"
   ]
  },
  {
   "cell_type": "code",
   "execution_count": 1135,
   "metadata": {},
   "outputs": [
    {
     "data": {
      "text/plain": [
       "True     1274\n",
       "False     552\n",
       "dtype: int64"
      ]
     },
     "execution_count": 1135,
     "metadata": {},
     "output_type": "execute_result"
    }
   ],
   "source": [
    "(Au_Ki['statuses_count'] / Au_Ki['followers_count'] < 30).value_counts()"
   ]
  },
  {
   "cell_type": "code",
   "execution_count": 1148,
   "metadata": {
    "collapsed": true
   },
   "outputs": [],
   "source": [
    "Au_Ki[['followers_count', 'screen_name', 'statuses_count']][Au_Ki['followers_count'] > 20]"
   ]
  },
  {
   "cell_type": "code",
   "execution_count": 166,
   "metadata": {
    "collapsed": true
   },
   "outputs": [],
   "source": [
    "node = 'Barcelona/meteocat/followers'\n",
    "ww = pd.read_hdf('city_random_walks.h5', node)"
   ]
  },
  {
   "cell_type": "code",
   "execution_count": 160,
   "metadata": {},
   "outputs": [
    {
     "data": {
      "text/plain": [
       "(2373, 47)"
      ]
     },
     "execution_count": 160,
     "metadata": {},
     "output_type": "execute_result"
    }
   ],
   "source": [
    "#ww.keys()\n",
    "ww.shape"
   ]
  },
  {
   "cell_type": "code",
   "execution_count": 66,
   "metadata": {},
   "outputs": [
    {
     "data": {
      "text/plain": [
       "(167, 4)"
      ]
     },
     "execution_count": 66,
     "metadata": {},
     "output_type": "execute_result"
    }
   ],
   "source": [
    "ww[['lang', 'description', \n",
    "    'screen_name', 'location']][(ww['followers_count'] > 50) &\n",
    "                                (ww['location'].str.contains(r\"Kiev|Kyiv|Київ|Киев\"))].shape"
   ]
  },
  {
   "cell_type": "code",
   "execution_count": 168,
   "metadata": {},
   "outputs": [
    {
     "data": {
      "text/plain": [
       "es       1603\n",
       "ca        465\n",
       "en        251\n",
       "fr          6\n",
       "en-gb       5\n",
       "it          5\n",
       "pt          3\n",
       "de          2\n",
       "en-GB       1\n",
       "gl          1\n",
       "zh-CN       1\n",
       "ja          1\n",
       "Name: lang, dtype: int64"
      ]
     },
     "execution_count": 168,
     "metadata": {},
     "output_type": "execute_result"
    }
   ],
   "source": [
    "ww['lang'][(ww['followers_count'] > 40) & \n",
    "           (ww['location'].str.contains(r\"Barc\"))].value_counts()"
   ]
  },
  {
   "cell_type": "code",
   "execution_count": 1042,
   "metadata": {
    "collapsed": true
   },
   "outputs": [],
   "source": [
    "# ww[['lang', 'description', 'screen_name']][(ww['followers_count'] > 20) & \n",
    "#                (ww['location'].str.contains(r\"Kiev|Kyiv|Київ|Киев\")) &\n",
    "#                                           (ww['lang'].isin(['ru', 'uk']))]\n"
   ]
  },
  {
   "cell_type": "code",
   "execution_count": 79,
   "metadata": {
    "collapsed": true
   },
   "outputs": [],
   "source": [
    "#ww['description'][ww['description'].str.len() > 10]"
   ]
  },
  {
   "cell_type": "code",
   "execution_count": 815,
   "metadata": {
    "collapsed": true
   },
   "outputs": [],
   "source": [
    "txts = [re.sub(r\"[^\\w\\s]+\", \"\", desc, flags=re.U) for desc in descriptions ]\n",
    "lgs = []\n",
    "for ix, txt in enumerate(txts):\n",
    "    try:\n",
    "        counts = Counter([detect(txt) for _ in range(50)])\n",
    "        lgs.append([ix, counts])\n",
    "    except:\n",
    "        continue"
   ]
  },
  {
   "cell_type": "code",
   "execution_count": 833,
   "metadata": {
    "collapsed": true
   },
   "outputs": [],
   "source": [
    "import os\n",
    "os.mkdir('dummy_dir')"
   ]
  },
  {
   "cell_type": "code",
   "execution_count": 834,
   "metadata": {
    "collapsed": true
   },
   "outputs": [],
   "source": [
    "df = pd.DataFrame({'a':np.random.randint(1,10,10), 'b':np.random.randint(1,10,10)})\n",
    "df.to_hdf('dummy_dir/newHDF5.h5', 'aa/bb/cc')"
   ]
  },
  {
   "cell_type": "code",
   "execution_count": 154,
   "metadata": {
    "collapsed": true
   },
   "outputs": [],
   "source": [
    "df_imp = pd.read_hdf('dummy_dir/newHDF5.h5', 'aa/bb/cc')\n",
    "#df_imp"
   ]
  },
  {
   "cell_type": "code",
   "execution_count": 1161,
   "metadata": {
    "collapsed": true
   },
   "outputs": [],
   "source": [
    "oo = pd.read_hdf('city_random_walks.h5', '/Kiev/kyivmetroalerts/followers')"
   ]
  },
  {
   "cell_type": "code",
   "execution_count": 1162,
   "metadata": {},
   "outputs": [
    {
     "data": {
      "text/plain": [
       "ru       155\n",
       "uk        57\n",
       "en        41\n",
       "fr         1\n",
       "en-gb      1\n",
       "Name: lang, dtype: int64"
      ]
     },
     "execution_count": 1162,
     "metadata": {},
     "output_type": "execute_result"
    }
   ],
   "source": [
    "oo['lang'][oo['location'].str.contains(r\"Kiev|Kyiv|Київ|Киев\")].value_counts()"
   ]
  },
  {
   "cell_type": "code",
   "execution_count": 42,
   "metadata": {
    "collapsed": true
   },
   "outputs": [],
   "source": [
    "rrr = pd.read_hdf('city_random_walks.h5', '/Kiev/tweets_from_followers')"
   ]
  },
  {
   "cell_type": "code",
   "execution_count": 46,
   "metadata": {
    "collapsed": true
   },
   "outputs": [],
   "source": [
    "twts.to_hdf?"
   ]
  },
  {
   "cell_type": "code",
   "execution_count": 47,
   "metadata": {
    "collapsed": true
   },
   "outputs": [],
   "source": [
    "#[(acc['screen_name'], acc['lang'], acc['location'])  for acc in acc_ntw]"
   ]
  },
  {
   "cell_type": "code",
   "execution_count": 756,
   "metadata": {
    "collapsed": true
   },
   "outputs": [],
   "source": [
    "follws = [(acc.statuses_count, acc.lang, acc.screen_name, acc.followers_count, acc.friends_count, acc.location) \n",
    "                 for acc in acc_ntw if re.findall(r\"Kiev|Kyiv|Киї|Киев\", acc.location) and \n",
    "                 acc.statuses_count > 50 and acc.lang in ['ru', 'uk']]"
   ]
  },
  {
   "cell_type": "code",
   "execution_count": 760,
   "metadata": {
    "collapsed": true
   },
   "outputs": [],
   "source": [
    "bb=list(zip(*follws))\n",
    "col_keys = ['statuses_count', \"lang\", 'screen_name', 'followers_count', 'friends_count', 'location']\n",
    "d_bb = {key:val for key,val in zip(col_keys,bb)}"
   ]
  },
  {
   "cell_type": "code",
   "execution_count": 944,
   "metadata": {
    "collapsed": true
   },
   "outputs": [],
   "source": [
    "#pd.DataFrame(d_bb).sort_values(by=\"statuses_count\", ascending=False)"
   ]
  },
  {
   "cell_type": "code",
   "execution_count": null,
   "metadata": {
    "collapsed": true
   },
   "outputs": [],
   "source": [
    "class RandomWalkCityTweets:\n",
    "    pass"
   ]
  },
  {
   "cell_type": "code",
   "execution_count": 342,
   "metadata": {
    "collapsed": true
   },
   "outputs": [],
   "source": [
    "Kl_follwrs = pd.read_hdf('lang_data.h5', '/ukr/politics/Vitaliy_Klychko/followers')"
   ]
  },
  {
   "cell_type": "code",
   "execution_count": 1043,
   "metadata": {
    "collapsed": true
   },
   "outputs": [],
   "source": [
    "# Kl_follwrs[['screen_name', 'followers_count']][(Kl_follwrs['statuses_count'] > 100) & \n",
    "#                                                (Kl_follwrs['followers_count'] > 50) &\n",
    "#                                                (Kl_follwrs['location'].str.contains(r\"Kiev|Kyiv|Київ|Киев\"))].sort_values(by='followers_count',\n",
    "#                                                                                                     ascending=False)"
   ]
  },
  {
   "cell_type": "code",
   "execution_count": 751,
   "metadata": {
    "collapsed": true
   },
   "outputs": [],
   "source": [
    "ww= get_account_tweets('AnastasijaKaram', max_num_twts=20)"
   ]
  },
  {
   "cell_type": "code",
   "execution_count": 70,
   "metadata": {
    "collapsed": true
   },
   "outputs": [],
   "source": [
    "cit_obl = ['Біла Церква', 'Бровари', 'Бориспіль', 'Фастів', 'Ірпінь',\n",
    "        'Васильків', 'Боярка', 'Вишневе', 'Обухів',\n",
    "        'Переяслав-Хмельницький', 'Буча', 'Славутич', 'Яготин', 'Вишгород',\n",
    "        'Сквира', 'Березань', 'Богуслав', 'Тетіїв', 'Українка', 'Кагарлик',\n",
    "        'Тараща', 'Миронівка', 'Узин', 'Ржищів', 'Чорнобиль', \"Прип'ять\"]"
   ]
  },
  {
   "cell_type": "code",
   "execution_count": 71,
   "metadata": {},
   "outputs": [
    {
     "name": "stderr",
     "output_type": "stream",
     "text": [
      "0%                          100%\n",
      "[##############################] | ETA: 00:00:00\n",
      "Total time elapsed: 00:00:06\n"
     ]
    }
   ],
   "source": [
    "acc_ntw = get_account_network('huyova_bc', rel_type='followers', max_num =200, key_words=None)"
   ]
  },
  {
   "cell_type": "code",
   "execution_count": 72,
   "metadata": {
    "collapsed": true
   },
   "outputs": [],
   "source": [
    "list_data = [(acc._json['followers_count'], \n",
    "  acc._json['statuses_count'], \n",
    "  acc._json['screen_name'], \n",
    "  acc._json['location'], \n",
    "  acc._json['lang']) for acc in acc_ntw]\n",
    "\n",
    "df = pd.DataFrame(list_data, columns = ['followers_count','statuses_count','screen_name', 'location', 'lang'])"
   ]
  },
  {
   "cell_type": "code",
   "execution_count": 1096,
   "metadata": {
    "collapsed": true
   },
   "outputs": [],
   "source": [
    "df_sorted = df.sort_values(by='followers_count', ascending=False)\n",
    "df_sorted['location'].values"
   ]
  },
  {
   "cell_type": "markdown",
   "metadata": {},
   "source": [
    "### APPEND DATA TO NODE IN HDF FILE"
   ]
  },
  {
   "cell_type": "code",
   "execution_count": 79,
   "metadata": {
    "collapsed": true
   },
   "outputs": [],
   "source": [
    "df_try = pd.DataFrame({'a':range(10,20), 'b': range(30,40)}, \n",
    "                      index = random.sample(range(100), 10))\n",
    "df_try2 = pd.DataFrame({'a':[555,777], 'b': [888, 9999]})"
   ]
  },
  {
   "cell_type": "code",
   "execution_count": 80,
   "metadata": {
    "collapsed": true
   },
   "outputs": [],
   "source": [
    "df_try.to_hdf('append_try.h5', '/node_1/b1')"
   ]
  },
  {
   "cell_type": "code",
   "execution_count": 82,
   "metadata": {
    "collapsed": true
   },
   "outputs": [],
   "source": [
    "new_df = df_try.append(df_try2, ignore_index=True)"
   ]
  },
  {
   "cell_type": "code",
   "execution_count": 83,
   "metadata": {
    "collapsed": true
   },
   "outputs": [],
   "source": [
    "new_df.to_hdf('append_try.h5', '/node_1/b1')"
   ]
  },
  {
   "cell_type": "code",
   "execution_count": 256,
   "metadata": {
    "collapsed": true
   },
   "outputs": [],
   "source": [
    "#pd.read_hdf('append_try.h5', '/node_1/b1')"
   ]
  },
  {
   "cell_type": "markdown",
   "metadata": {},
   "source": [
    "### GET NODES IN HDF FILE"
   ]
  },
  {
   "cell_type": "code",
   "execution_count": 64,
   "metadata": {
    "collapsed": true
   },
   "outputs": [],
   "source": [
    "with pd.HDFStore('lang_data.h5') as f:\n",
    "    list_nodes = f.keys()"
   ]
  },
  {
   "cell_type": "code",
   "execution_count": 1044,
   "metadata": {
    "collapsed": true
   },
   "outputs": [],
   "source": [
    "#list_nodes"
   ]
  },
  {
   "cell_type": "markdown",
   "metadata": {},
   "source": [
    "### IMPROVING LANGUAGE DETECTION"
   ]
  },
  {
   "cell_type": "markdown",
   "metadata": {},
   "source": [
    "How to filter out URLs and accounts, not relevant for language detection"
   ]
  },
  {
   "cell_type": "code",
   "execution_count": 271,
   "metadata": {},
   "outputs": [
    {
     "data": {
      "text/plain": [
       "' Ukraine is a complex country  say    I agree'"
      ]
     },
     "execution_count": 271,
     "metadata": {},
     "output_type": "execute_result"
    }
   ],
   "source": [
    "my_str = \"@dijdoer Ukraine is a complex country http://ewdowide.ewd.ewde say @jeiwo @ pgvila http://ewdowide.ewd.ewde I agree\"\n",
    "re.sub(r\"(@\\s?[^\\s]+|https?://?[^\\s]+)\", \"\", my_str)"
   ]
  },
  {
   "cell_type": "code",
   "execution_count": 100,
   "metadata": {
    "collapsed": true
   },
   "outputs": [],
   "source": [
    "aa = pd.read_hdf('lang_data.h5', '/ukr_nodes/news/BBC_ua/tls_followers')"
   ]
  },
  {
   "cell_type": "code",
   "execution_count": 226,
   "metadata": {
    "collapsed": true
   },
   "outputs": [],
   "source": [
    "follws_BBC = pd.read_hdf('lang_data.h5', '/ukr_nodes/news/BBC_ua/followers')"
   ]
  },
  {
   "cell_type": "code",
   "execution_count": 1045,
   "metadata": {
    "collapsed": true
   },
   "outputs": [],
   "source": [
    "#follws_BBC['location'][follws_BBC['location'].str.contains(r\"Україна|Ukraine|Украина|Київ|Киев\")].value_counts()"
   ]
  },
  {
   "cell_type": "code",
   "execution_count": 237,
   "metadata": {
    "collapsed": true
   },
   "outputs": [],
   "source": [
    "relevant_data = follws_BBC[follws_BBC['location'].str.contains(r\"Україна|Ukraine|Украина|Київ|Киев\")]"
   ]
  },
  {
   "cell_type": "code",
   "execution_count": 272,
   "metadata": {
    "collapsed": true
   },
   "outputs": [],
   "source": [
    "clean_txts = [re.sub(r\"(@\\s?[^\\s]+|https?://?[^\\s]+)\", \"\", txt)\n",
    "              for txt in aa['texts'].values[:1000]]"
   ]
  },
  {
   "cell_type": "code",
   "execution_count": 273,
   "metadata": {
    "collapsed": true
   },
   "outputs": [],
   "source": [
    "tup_lang_txt = [(txt,detect(txt)) for txt in clean_txts if len(txt) > 20]"
   ]
  },
  {
   "cell_type": "code",
   "execution_count": 174,
   "metadata": {
    "collapsed": true
   },
   "outputs": [],
   "source": [
    "ru_txts = [x[0] for x in tup_lang_txt if x[1] == 'ru']"
   ]
  },
  {
   "cell_type": "code",
   "execution_count": 175,
   "metadata": {
    "collapsed": true
   },
   "outputs": [],
   "source": [
    "ukr_txts = [x[0] for x in tup_lang_txt if x[1] == 'uk']"
   ]
  },
  {
   "cell_type": "code",
   "execution_count": 185,
   "metadata": {},
   "outputs": [
    {
     "data": {
      "text/plain": [
       "(473, 205)"
      ]
     },
     "execution_count": 185,
     "metadata": {},
     "output_type": "execute_result"
    }
   ],
   "source": [
    "len(ru_txts), len(ukr_txts)"
   ]
  },
  {
   "cell_type": "code",
   "execution_count": 176,
   "metadata": {
    "collapsed": true
   },
   "outputs": [],
   "source": [
    "stats_ru =[Counter([detect(x) for _ in range(20)]) for x in ru_txts]"
   ]
  },
  {
   "cell_type": "code",
   "execution_count": 177,
   "metadata": {
    "collapsed": true
   },
   "outputs": [],
   "source": [
    "stats_uk =[Counter([detect(x) for _ in range(20)]) for x in ukr_txts]"
   ]
  },
  {
   "cell_type": "code",
   "execution_count": 178,
   "metadata": {
    "collapsed": true
   },
   "outputs": [],
   "source": [
    "ru_uncertain = [x for x,y in zip(ru_txts, stats_ru) if y['ru'] < 20]"
   ]
  },
  {
   "cell_type": "code",
   "execution_count": 179,
   "metadata": {
    "collapsed": true
   },
   "outputs": [],
   "source": [
    "ukr_uncertain = [x for x,y in zip(ukr_txts, stats_uk) if y['uk'] < 20]"
   ]
  },
  {
   "cell_type": "code",
   "execution_count": 182,
   "metadata": {},
   "outputs": [
    {
     "data": {
      "text/plain": [
       "29"
      ]
     },
     "execution_count": 182,
     "metadata": {},
     "output_type": "execute_result"
    }
   ],
   "source": [
    "len([(x, y['ru']) for x,y in zip(ru_txts, stats_ru) if y['ru'] < 20])"
   ]
  },
  {
   "cell_type": "code",
   "execution_count": 183,
   "metadata": {},
   "outputs": [
    {
     "data": {
      "text/plain": [
       "19"
      ]
     },
     "execution_count": 183,
     "metadata": {},
     "output_type": "execute_result"
    }
   ],
   "source": [
    "len([(x, y['uk']) for x,y in zip(ukr_txts, stats_uk) if y['uk'] < 20])"
   ]
  },
  {
   "cell_type": "code",
   "execution_count": 84,
   "metadata": {
    "collapsed": true
   },
   "outputs": [],
   "source": [
    "dummy_data = pd.DataFrame({'a':np.random.randint(1,100,10), 'b':np.random.randint(1,100,10)})"
   ]
  },
  {
   "cell_type": "code",
   "execution_count": 96,
   "metadata": {
    "collapsed": true
   },
   "outputs": [],
   "source": [
    "store2 = pd.HDFStore('dummy_ex.h5')"
   ]
  },
  {
   "cell_type": "code",
   "execution_count": 99,
   "metadata": {},
   "outputs": [
    {
     "data": {
      "text/plain": [
       "/node_c/subfolder (Group) ''\n",
       "  children := ['block0_values' (Array), 'axis1' (Array), 'block0_items' (Array), 'axis0' (Array)]"
      ]
     },
     "execution_count": 99,
     "metadata": {},
     "output_type": "execute_result"
    }
   ],
   "source": [
    "store2.get_node('/node_c/subfolder')"
   ]
  },
  {
   "cell_type": "code",
   "execution_count": 86,
   "metadata": {
    "collapsed": true
   },
   "outputs": [],
   "source": [
    "store2['node_a'] = dummy_data['a']"
   ]
  },
  {
   "cell_type": "code",
   "execution_count": 87,
   "metadata": {
    "collapsed": true
   },
   "outputs": [],
   "source": [
    "store2['node_b'] = dummy_data['b']"
   ]
  },
  {
   "cell_type": "code",
   "execution_count": 88,
   "metadata": {
    "collapsed": true
   },
   "outputs": [],
   "source": [
    "store2.close()"
   ]
  },
  {
   "cell_type": "code",
   "execution_count": 97,
   "metadata": {},
   "outputs": [
    {
     "name": "stdout",
     "output_type": "stream",
     "text": [
      "['/node_a', '/node_b', '/node_c/subfolder']\n"
     ]
    }
   ],
   "source": [
    "with pd.HDFStore('dummy_ex.h5', ) as g:\n",
    "    #g.get_node('node_c/subfolder')._f_rename('node_c/subfolder1')\n",
    "    print(g.keys())\n",
    "    "
   ]
  },
  {
   "cell_type": "code",
   "execution_count": 80,
   "metadata": {
    "collapsed": true
   },
   "outputs": [],
   "source": [
    "df_ = pd.DataFrame({'c':np.random.randint(1,100,10)})"
   ]
  },
  {
   "cell_type": "code",
   "execution_count": 90,
   "metadata": {
    "collapsed": true
   },
   "outputs": [],
   "source": [
    "df_.to_hdf('dummy_ex.h5', 'node_c/subfolder')"
   ]
  },
  {
   "cell_type": "markdown",
   "metadata": {},
   "source": [
    "### Get random tweets from a given coordinate box"
   ]
  },
  {
   "cell_type": "code",
   "execution_count": 415,
   "metadata": {
    "collapsed": true
   },
   "outputs": [],
   "source": [
    "# \n",
    "data_list, texts, langs, locs = [], [], [], []\n",
    "\n",
    "class StdOutListener(StreamListener):\n",
    "    \"\"\" A listener handles tweets are the received from the stream.\n",
    "    This is a basic listener that just prints received tweets to stdout.\n",
    "    \"\"\"\n",
    "    \n",
    "    def __init__(self):\n",
    "        self.data_list = []\n",
    "        self.texts = []\n",
    "        self.langs = []\n",
    "    \n",
    "    def on_data(self, data):\n",
    "        jd = json.loads(data)\n",
    "        self.data_list.append(jd)\n",
    "        self.texts.append(jd['text'])\n",
    "        self.langs.append(jd['lang'])\n",
    "        try:\n",
    "            print(data)\n",
    "            saveFile = open('newtweets.csv', 'a')\n",
    "            saveFile.write(data).encode(\"utf8\")\n",
    "            saveFile.write('/n').encode(\"utf8\")\n",
    "            saveFile.close()\n",
    "            return True\n",
    "        except BaseException:\n",
    "            print ('failed ondata')\n",
    "            time.sleep(5)\n",
    "\n",
    "    def on_error(self, status):\n",
    "        print(status)"
   ]
  },
  {
   "cell_type": "code",
   "execution_count": 416,
   "metadata": {
    "collapsed": true
   },
   "outputs": [],
   "source": [
    "#coordinates\n",
    "Lviv = [23.882904,49.763526,24.163055,49.921167]\n",
    "Kiev = [30.449982,50.408518,30.639496,50.495958]\n",
    "Yerevan = [44.329834,40.078071,44.681396,40.296287]\n",
    "Brussel = [4.258575,50.788575,4.489288,50.913424]\n",
    "Barcelona = [1.835403,41.375778,2.241898,41.586688]"
   ]
  },
  {
   "cell_type": "code",
   "execution_count": 10,
   "metadata": {
    "collapsed": true
   },
   "outputs": [],
   "source": [
    "# #Barcelona\n",
    "# l_Barc = StdOutListener()\n",
    "# #ASK FOR KEYWORD TO COLLECT DATA\n",
    "# stream_Barc = Stream(auth, l_Barc)\n",
    "# stream_Barc.filter(locations=Barcelona)"
   ]
  },
  {
   "cell_type": "code",
   "execution_count": 9,
   "metadata": {
    "collapsed": true
   },
   "outputs": [],
   "source": [
    "#Counter(l_Barc.langs)\n",
    "# for data, lang in zip(l_Barc.data_list, l_Barc.langs):\n",
    "#     print(data['user']['location'], lang)\n",
    "for text in l_Barc.texts:\n",
    "    if type(text) == str:\n",
    "        print(text)\n",
    "    else:\n",
    "        print(text.decode('utf-8'))"
   ]
  },
  {
   "cell_type": "code",
   "execution_count": 10,
   "metadata": {
    "collapsed": true
   },
   "outputs": [],
   "source": [
    "# for ee in l_Barc.data_list:\n",
    "#     print(ee['place']['id'], ee['place']['place_type'])"
   ]
  },
  {
   "cell_type": "code",
   "execution_count": 11,
   "metadata": {
    "collapsed": true
   },
   "outputs": [],
   "source": [
    "# #Brussel\n",
    "# l_Bru = StdOutListener()\n",
    "# #ASK FOR KEYWORD TO COLLECT DATA\n",
    "# stream_Bru = Stream(auth, l_Bru)\n",
    "# stream_Bru.filter(locations=Brussel)"
   ]
  },
  {
   "cell_type": "code",
   "execution_count": 12,
   "metadata": {
    "collapsed": true
   },
   "outputs": [],
   "source": [
    "# #Counter(l_Bru.langs)\n",
    "# for data, lang in zip(l_Bru.data_list, l_Bru.langs):\n",
    "#     print(data['user']['location'], lang)"
   ]
  },
  {
   "cell_type": "code",
   "execution_count": 13,
   "metadata": {
    "collapsed": true
   },
   "outputs": [],
   "source": [
    "# #LVIV\n",
    "# l_Lv = StdOutListener()\n",
    "# #ASK FOR KEYWORD TO COLLECT DATA\n",
    "# stream_Lv = Stream(auth, l_Lv)\n",
    "# stream_Lv.filter(locations=Lviv)"
   ]
  },
  {
   "cell_type": "code",
   "execution_count": 14,
   "metadata": {
    "collapsed": true
   },
   "outputs": [],
   "source": [
    "# #YEREVAN\n",
    "# l_Yer = StdOutListener()\n",
    "# #ASK FOR KEYWORD TO COLLECT DATA\n",
    "# stream_Yer = Stream(auth, l_Yer)\n",
    "# stream_Yer.filter(locations=Yerevan)"
   ]
  },
  {
   "cell_type": "code",
   "execution_count": 15,
   "metadata": {
    "collapsed": true
   },
   "outputs": [],
   "source": [
    "# for data, lang in zip(l_Yer.data_list, l_Yer.langs):\n",
    "#     print(data['user']['location'], lang)"
   ]
  },
  {
   "cell_type": "code",
   "execution_count": 16,
   "metadata": {
    "collapsed": true
   },
   "outputs": [],
   "source": [
    "# for text in l_Yer.texts:\n",
    "#     if type(text) == str:\n",
    "#         print(text)\n",
    "#     else:\n",
    "#         print(text.decode('utf-8'))"
   ]
  },
  {
   "cell_type": "code",
   "execution_count": 17,
   "metadata": {
    "collapsed": true
   },
   "outputs": [],
   "source": [
    "# for data, lang in zip(data_list, langs):\n",
    "#     print(data['user']['location'], lang)"
   ]
  },
  {
   "cell_type": "code",
   "execution_count": 18,
   "metadata": {
    "collapsed": true
   },
   "outputs": [],
   "source": [
    "#KIEV\n",
    "l_Kiev = StdOutListener()\n",
    "#ASK FOR KEYWORD TO COLLECT DATA\n",
    "stream_Kiev = Stream(auth, l_Kiev)\n",
    "stream_Kiev.filter(locations=Kiev)"
   ]
  },
  {
   "cell_type": "code",
   "execution_count": 19,
   "metadata": {
    "collapsed": true
   },
   "outputs": [],
   "source": [
    "#Counter(l_Kiev.langs)\n",
    "# for data, lang in zip(l_Kiev.data_list, l_Kiev.langs):\n",
    "#     print(data['user']['location'], lang)\n",
    "for text in l_Kiev.texts:\n",
    "    if type(text) == str:\n",
    "        print(text)\n",
    "    else:\n",
    "        print(text.decode('utf-8'))"
   ]
  },
  {
   "cell_type": "code",
   "execution_count": 20,
   "metadata": {
    "collapsed": true
   },
   "outputs": [],
   "source": [
    "for data in l_Kiev.data_list:\n",
    "    print(data['place']['id'], data['place']['place_type'], \n",
    "          data['place']['country'], data['user']['location'])"
   ]
  },
  {
   "cell_type": "code",
   "execution_count": 125,
   "metadata": {
    "collapsed": true
   },
   "outputs": [],
   "source": [
    "for text in texts:\n",
    "    if type(text) == str:\n",
    "        print(text)\n",
    "    else:\n",
    "        print(text.decode('utf-8'))\n"
   ]
  },
  {
   "cell_type": "markdown",
   "metadata": {},
   "source": [
    "### DYNAMO KIEV PLAYERS"
   ]
  },
  {
   "cell_type": "code",
   "execution_count": 253,
   "metadata": {
    "collapsed": true
   },
   "outputs": [],
   "source": [
    "# DYNAMO PLAYERS\n",
    "\n",
    "import requests\n",
    "from bs4 import BeautifulSoup\n",
    "import pandas as pd\n",
    "import numpy as np\n",
    "\n",
    "url = \"http://www.worldfootball.net/teams/dinamo-kiev/2017/2/\"\n",
    "html = requests.get(url)\n",
    "soup = BeautifulSoup(html.text, \"lxml\")\n",
    "\n",
    "# dynamo_players = pd.read_html(url, encoding='utf8')[1][2].dropna().value\n",
    "dynamo_players"
   ]
  },
  {
   "cell_type": "code",
   "execution_count": 56,
   "metadata": {
    "collapsed": true
   },
   "outputs": [],
   "source": [
    "dyn_play_countr = pd.read_html(url, encoding='utf8')[1][[2,4]].dropna().values\n",
    "\n",
    "dyn_play_countr"
   ]
  },
  {
   "cell_type": "markdown",
   "metadata": {},
   "source": [
    "### PYMONGO"
   ]
  },
  {
   "cell_type": "code",
   "execution_count": 5,
   "metadata": {
    "collapsed": true
   },
   "outputs": [],
   "source": [
    "from pymongo import MongoClient\n",
    "\n",
    "conn=MongoClient()\n",
    "\n",
    "#define database\n",
    "db = conn.citylangs\n",
    "\n",
    "#define collection inside database\n",
    "collection = db.bcn.ajuntam.followers\n",
    "\n",
    "# function to add documents to collection \n",
    "def make_followers_collection(account_name, collection, max_num=100):\n",
    "    api = tweepy.API(auth, wait_on_rate_limit=True, wait_on_rate_limit_notify=True)\n",
    "    users = tweepy.Cursor(api.followers, screen_name=account_name).items(max_num)\n",
    "    #i = 0\n",
    "    while True:\n",
    "        try:\n",
    "            user = next(users)\n",
    "            collection.insert_one(user._json)\n",
    "        except tweepy.TweepError as e:\n",
    "            if 'Read timed out' in str(e):\n",
    "                print('fall here')\n",
    "                print(e)\n",
    "                time.sleep(5)\n",
    "            else:\n",
    "                time.sleep(60*16)\n",
    "                user = next(users)\n",
    "        except StopIteration:\n",
    "            break\n",
    "        #print (\"@\" + user.screen_name)\n",
    "    #return collection\n",
    "\n",
    "make_followers_collection('bcn_ajuntament',collection, max_num=100)\n",
    "\n",
    "#check what databases are available\n",
    "conn.database_names()\n",
    "\n",
    "# available collections inside db\n",
    "db.collection_names()\n",
    "\n",
    "collection2 = db.kiev.ukrpravda\n",
    "\n",
    "make_followers_collection('ukrpravda_news',collection2, max_num=300)\n",
    "\n",
    "l = list(conn.citylangs.kiev.ukrpravda.find())\n",
    "\n",
    "Counter([obj['lang'] for obj in l])\n",
    "\n",
    "\n",
    "db.collection_names()\n",
    "\n",
    "#db.categories.insert_one({ \"_id\": \"ukr_pravda\", \"children\": [] })\n",
    "# db.categories.insert({ _id: \"avto_kiev\", children: [] })\n",
    "# db.categories.insert({ _id: \"kiev\", children: [\"ukr_pravda\", \"avto_kiev\"] })\n",
    "\n",
    "db['kiev'].insert_one({'avto_kiev':[],'vitklitschko':[]})\n",
    "\n",
    "db.collection_names()\n",
    "\n",
    "rr=list(db['bcn.ajuntam.followers'].find())\n",
    "\n",
    "db['kiev'].find_one()\n",
    "\n",
    "db['bcn.ajuntam.followers']\n",
    "\n",
    "conn.database_names()\n",
    "\n",
    "coll2 = db.countries"
   ]
  },
  {
   "cell_type": "markdown",
   "metadata": {},
   "source": [
    "### HOW TO LOAD AND SAVE DATA FROM/TO HDF USING PANDAS : STORE, READ_HDF, TO_HDF"
   ]
  },
  {
   "cell_type": "code",
   "execution_count": 402,
   "metadata": {
    "collapsed": true
   },
   "outputs": [],
   "source": [
    "store3 = pd.HDFStore('dummy_example.h5')"
   ]
  },
  {
   "cell_type": "code",
   "execution_count": 405,
   "metadata": {
    "collapsed": true
   },
   "outputs": [],
   "source": [
    "store3['a'] = pd.DataFrame([1,2,3])\n",
    "store3['b'] = pd.DataFrame([4,5,6])"
   ]
  },
  {
   "cell_type": "code",
   "execution_count": 406,
   "metadata": {
    "collapsed": true
   },
   "outputs": [],
   "source": [
    "store3.close()"
   ]
  },
  {
   "cell_type": "code",
   "execution_count": 407,
   "metadata": {},
   "outputs": [
    {
     "data": {
      "text/html": [
       "<div>\n",
       "<table border=\"1\" class=\"dataframe\">\n",
       "  <thead>\n",
       "    <tr style=\"text-align: right;\">\n",
       "      <th></th>\n",
       "      <th>0</th>\n",
       "    </tr>\n",
       "  </thead>\n",
       "  <tbody>\n",
       "    <tr>\n",
       "      <th>0</th>\n",
       "      <td>1</td>\n",
       "    </tr>\n",
       "    <tr>\n",
       "      <th>1</th>\n",
       "      <td>2</td>\n",
       "    </tr>\n",
       "    <tr>\n",
       "      <th>2</th>\n",
       "      <td>3</td>\n",
       "    </tr>\n",
       "  </tbody>\n",
       "</table>\n",
       "</div>"
      ],
      "text/plain": [
       "   0\n",
       "0  1\n",
       "1  2\n",
       "2  3"
      ]
     },
     "execution_count": 407,
     "metadata": {},
     "output_type": "execute_result"
    }
   ],
   "source": [
    "pd.read_hdf('dummy_example.h5', 'a')"
   ]
  },
  {
   "cell_type": "code",
   "execution_count": 432,
   "metadata": {
    "collapsed": true
   },
   "outputs": [],
   "source": [
    "store = pd.HDFStore('dummy_example.h5')"
   ]
  },
  {
   "cell_type": "code",
   "execution_count": 433,
   "metadata": {},
   "outputs": [
    {
     "data": {
      "text/plain": [
       "['/b', '/c', '/dd/ee', '/dd/ee/123']"
      ]
     },
     "execution_count": 433,
     "metadata": {},
     "output_type": "execute_result"
    }
   ],
   "source": [
    "store.keys()"
   ]
  },
  {
   "cell_type": "code",
   "execution_count": 435,
   "metadata": {},
   "outputs": [
    {
     "data": {
      "text/html": [
       "<div>\n",
       "<table border=\"1\" class=\"dataframe\">\n",
       "  <thead>\n",
       "    <tr style=\"text-align: right;\">\n",
       "      <th></th>\n",
       "      <th>0</th>\n",
       "    </tr>\n",
       "  </thead>\n",
       "  <tbody>\n",
       "    <tr>\n",
       "      <th>0</th>\n",
       "      <td>15</td>\n",
       "    </tr>\n",
       "    <tr>\n",
       "      <th>1</th>\n",
       "      <td>11</td>\n",
       "    </tr>\n",
       "    <tr>\n",
       "      <th>2</th>\n",
       "      <td>10</td>\n",
       "    </tr>\n",
       "    <tr>\n",
       "      <th>3</th>\n",
       "      <td>15</td>\n",
       "    </tr>\n",
       "    <tr>\n",
       "      <th>4</th>\n",
       "      <td>14</td>\n",
       "    </tr>\n",
       "  </tbody>\n",
       "</table>\n",
       "</div>"
      ],
      "text/plain": [
       "    0\n",
       "0  15\n",
       "1  11\n",
       "2  10\n",
       "3  15\n",
       "4  14"
      ]
     },
     "execution_count": 435,
     "metadata": {},
     "output_type": "execute_result"
    }
   ],
   "source": [
    "store['/dd/ee/123']"
   ]
  },
  {
   "cell_type": "code",
   "execution_count": 436,
   "metadata": {
    "collapsed": true
   },
   "outputs": [],
   "source": [
    "store.close()"
   ]
  },
  {
   "cell_type": "code",
   "execution_count": 431,
   "metadata": {},
   "outputs": [
    {
     "name": "stderr",
     "output_type": "stream",
     "text": [
      "//anaconda/lib/python3.5/site-packages/tables/path.py:100: NaturalNameWarning: object name is not a valid Python identifier: '123'; it does not match the pattern ``^[a-zA-Z_][a-zA-Z0-9_]*$``; you will not be able to use natural naming to access this object; using ``getattr()`` will still work, though\n",
      "  NaturalNameWarning)\n"
     ]
    }
   ],
   "source": [
    "x=pd.DataFrame(np.random.randint(10,20,5))\n",
    "x.to_hdf('dummy_example.h5', 'dd/ee/123')"
   ]
  },
  {
   "cell_type": "code",
   "execution_count": 651,
   "metadata": {
    "collapsed": true
   },
   "outputs": [],
   "source": [
    "string1 = \"ewfw[uim]wqw[erty]weabbatraaaa[wdqwdaddacsdvsdc]qwdeoddowrfre\"\n",
    "string2 = \"dedwwww[qdew]cewc\"\n",
    "string3 = \"[dew]ciao[rferf]sonopaolo[rferfe]come[dwe]va\""
   ]
  },
  {
   "cell_type": "code",
   "execution_count": 652,
   "metadata": {},
   "outputs": [
    {
     "data": {
      "text/plain": [
       "['uim', 'erty', 'wdqwdaddacsdvsdc']"
      ]
     },
     "execution_count": 652,
     "metadata": {},
     "output_type": "execute_result"
    }
   ],
   "source": [
    "re.findall(r\"\\[(\\w+)\\]\", string1)"
   ]
  },
  {
   "cell_type": "code",
   "execution_count": 653,
   "metadata": {
    "collapsed": true
   },
   "outputs": [],
   "source": [
    "xx=re.findall(r\"[^(\\[\\w+\\])]\", string1)"
   ]
  },
  {
   "cell_type": "code",
   "execution_count": 663,
   "metadata": {
    "collapsed": true
   },
   "outputs": [],
   "source": [
    "def get_out_brack():\n",
    "    return re.split(r\"\\[|\\]\", string3)[::2]\n",
    "\n",
    "    "
   ]
  },
  {
   "cell_type": "code",
   "execution_count": 664,
   "metadata": {},
   "outputs": [
    {
     "data": {
      "text/plain": [
       "['', 'ciao', 'sonopaolo', 'come', 'va']"
      ]
     },
     "execution_count": 664,
     "metadata": {},
     "output_type": "execute_result"
    }
   ],
   "source": [
    "get_out_brack()"
   ]
  },
  {
   "cell_type": "code",
   "execution_count": 642,
   "metadata": {},
   "outputs": [
    {
     "data": {
      "text/plain": [
       "['ciao', 'sonopaolo', 'come', 'va']"
      ]
     },
     "execution_count": 642,
     "metadata": {},
     "output_type": "execute_result"
    }
   ],
   "source": [
    "re.findall(r\"\\w+\",' '.join([y for x in re.findall(r\"(\\w*)\\[\\w+\\](\\w*)\", string3) for y in x]))"
   ]
  },
  {
   "cell_type": "code",
   "execution_count": 529,
   "metadata": {},
   "outputs": [
    {
     "data": {
      "text/plain": [
       "['ewfw', 'wqw', 'weabbatraaaa', 'qwdeoddow']"
      ]
     },
     "execution_count": 529,
     "metadata": {},
     "output_type": "execute_result"
    }
   ],
   "source": [
    "[y for x in xx for y in x]"
   ]
  },
  {
   "cell_type": "code",
   "execution_count": null,
   "metadata": {
    "collapsed": true
   },
   "outputs": [],
   "source": [
    "r\"*\\w*(\\w)(\\w)\\3\\2\\w*\\[(\\w+)\\]\\w*(\\w)(\\w)\\5\\4\\w*\""
   ]
  },
  {
   "cell_type": "code",
   "execution_count": 498,
   "metadata": {},
   "outputs": [
    {
     "data": {
      "text/plain": [
       "[]"
      ]
     },
     "execution_count": 498,
     "metadata": {},
     "output_type": "execute_result"
    }
   ],
   "source": [
    "grs"
   ]
  },
  {
   "cell_type": "code",
   "execution_count": 501,
   "metadata": {},
   "outputs": [
    {
     "data": {
      "text/plain": [
       "['dedwwww', 'qdew', 'cewc']"
      ]
     },
     "execution_count": 501,
     "metadata": {},
     "output_type": "execute_result"
    }
   ],
   "source": [
    "re.split(r\"\\[|\\]\", string2)"
   ]
  },
  {
   "cell_type": "code",
   "execution_count": 485,
   "metadata": {},
   "outputs": [
    {
     "ename": "IndexError",
     "evalue": "list index out of range",
     "output_type": "error",
     "traceback": [
      "\u001b[0;31m---------------------------------------------------------------------------\u001b[0m",
      "\u001b[0;31mIndexError\u001b[0m                                Traceback (most recent call last)",
      "\u001b[0;32m<ipython-input-485-d42193c230ba>\u001b[0m in \u001b[0;36m<module>\u001b[0;34m()\u001b[0m\n\u001b[0;32m----> 1\u001b[0;31m \u001b[0;34m[\u001b[0m\u001b[0mre\u001b[0m\u001b[0;34m.\u001b[0m\u001b[0mfindall\u001b[0m\u001b[0;34m(\u001b[0m\u001b[0;34mr\"(\\w)(\\w)\\2\\1\"\u001b[0m\u001b[0;34m,\u001b[0m \u001b[0mx\u001b[0m\u001b[0;34m)\u001b[0m \u001b[0;32mfor\u001b[0m \u001b[0mx\u001b[0m \u001b[0;32min\u001b[0m \u001b[0mgrs\u001b[0m \u001b[0;32mif\u001b[0m \u001b[0mlen\u001b[0m\u001b[0;34m(\u001b[0m\u001b[0mx\u001b[0m\u001b[0;34m)\u001b[0m \u001b[0;34m==\u001b[0m \u001b[0;36m4\u001b[0m\u001b[0;34m]\u001b[0m\u001b[0;34m[\u001b[0m\u001b[0;36m0\u001b[0m\u001b[0;34m]\u001b[0m\u001b[0;34m[\u001b[0m\u001b[0;36m0\u001b[0m\u001b[0;34m]\u001b[0m\u001b[0;34m\u001b[0m\u001b[0m\n\u001b[0m",
      "\u001b[0;31mIndexError\u001b[0m: list index out of range"
     ]
    }
   ],
   "source": [
    "[re.findall(r\"(\\w)(\\w)\\2\\1\", x) for x in grs if len(x) == 4][0][0]"
   ]
  },
  {
   "cell_type": "markdown",
   "metadata": {},
   "source": [
    "### learning tweepy"
   ]
  },
  {
   "cell_type": "code",
   "execution_count": 1055,
   "metadata": {
    "collapsed": true
   },
   "outputs": [],
   "source": [
    "# import tweepy\n",
    "\n",
    "# auth = tweepy.OAuthHandler(consumer_key, consumer_secret)\n",
    "# auth.set_access_token(access_token, access_token_secret)\n",
    "\n",
    "# api = tweepy.API(auth)\n",
    "\n",
    "# public_tweets = api.home_timeline()\n"
   ]
  },
  {
   "cell_type": "code",
   "execution_count": 1053,
   "metadata": {
    "collapsed": true
   },
   "outputs": [],
   "source": [
    "txts = [re.sub(r\"(@\\s?[^\\s]+|https?://?[^\\s]+)\", \"\", twt.text)  for twt in public_tweets]\n",
    "\n",
    "Counter([detect(txt) for txt in txts if re.sub(\" \",\"\", txt)])"
   ]
  },
  {
   "cell_type": "code",
   "execution_count": 1136,
   "metadata": {
    "collapsed": true
   },
   "outputs": [],
   "source": [
    "dummy_user = api.get_user('budgetvoyage')"
   ]
  },
  {
   "cell_type": "code",
   "execution_count": 1067,
   "metadata": {
    "collapsed": true
   },
   "outputs": [],
   "source": [
    "dummy_user_friends = [friend for friend in dummy_user.friends(100)]"
   ]
  },
  {
   "cell_type": "code",
   "execution_count": 1138,
   "metadata": {
    "collapsed": true
   },
   "outputs": [],
   "source": [
    "dummy_user_followers = dummy_user.followers(count=100)"
   ]
  },
  {
   "cell_type": "code",
   "execution_count": 1145,
   "metadata": {},
   "outputs": [
    {
     "data": {
      "text/plain": [
       "[('OLytovka', 'Киев'), ('ViaSotnyk', 'Украина, Киев')]"
      ]
     },
     "execution_count": 1145,
     "metadata": {},
     "output_type": "execute_result"
    }
   ],
   "source": [
    "[(acc.screen_name, acc.location) for acc in dummy_user_followers if re.findall(r\"Киев|Kiev|Kyiv|Київ\", acc.location) ]"
   ]
  },
  {
   "cell_type": "code",
   "execution_count": 1080,
   "metadata": {},
   "outputs": [
    {
     "data": {
      "text/plain": [
       "'Оборудование для супермаркетов, магазинов шаговой доступности и ресторанов'"
      ]
     },
     "execution_count": 1080,
     "metadata": {},
     "output_type": "execute_result"
    }
   ],
   "source": [
    "dummy_user_followers[0].description"
   ]
  },
  {
   "cell_type": "code",
   "execution_count": 1086,
   "metadata": {
    "collapsed": true
   },
   "outputs": [],
   "source": [
    "my_flws = api.followers(count=40)"
   ]
  },
  {
   "cell_type": "code",
   "execution_count": 252,
   "metadata": {
    "collapsed": true
   },
   "outputs": [],
   "source": [
    "#[flw.screen_name for flw in my_flws]"
   ]
  },
  {
   "cell_type": "code",
   "execution_count": 9,
   "metadata": {
    "collapsed": true
   },
   "outputs": [],
   "source": [
    "import requests\n",
    "from bs4 import BeautifulSoup"
   ]
  },
  {
   "cell_type": "code",
   "execution_count": 10,
   "metadata": {
    "collapsed": true
   },
   "outputs": [],
   "source": [
    "web_page = requests.get(\"http://zik.ua/news/2015/05/18/vynnychuk_kyiv_v_okupatsii_rosiyskogo_ukrainska_mova_u_stolytsi__na_zadvirkah_590723\")"
   ]
  },
  {
   "cell_type": "code",
   "execution_count": 13,
   "metadata": {
    "collapsed": true
   },
   "outputs": [],
   "source": [
    "soup = BeautifulSoup(web_page.text, \"lxml\")"
   ]
  },
  {
   "cell_type": "code",
   "execution_count": 31,
   "metadata": {},
   "outputs": [
    {
     "data": {
      "text/plain": [
       "['&', '%', '#', ':', '!', '.', '-']"
      ]
     },
     "execution_count": 31,
     "metadata": {},
     "output_type": "execute_result"
    }
   ],
   "source": [
    "mystr = \"& % #ewoihdoew wefjerpfjr l'Arnau va dir: de cap manera ! ? . Ves-hi tu\"\n",
    "re.findall(r\"[^\\w\\s'?]+\", mystr)"
   ]
  },
  {
   "cell_type": "code",
   "execution_count": 152,
   "metadata": {},
   "outputs": [
    {
     "data": {
      "text/plain": [
       "'rpeofjer.ferfkepr//fkpe'"
      ]
     },
     "execution_count": 152,
     "metadata": {},
     "output_type": "execute_result"
    }
   ],
   "source": [
    "\"rpeofjer. ferfkepr// fkpe\".replace(r\" \", \"\").replace(r\"[^\\w\\s'’,.!?]+\", \"\")"
   ]
  },
  {
   "cell_type": "code",
   "execution_count": 154,
   "metadata": {
    "collapsed": true
   },
   "outputs": [],
   "source": [
    "import re"
   ]
  },
  {
   "cell_type": "code",
   "execution_count": 159,
   "metadata": {},
   "outputs": [
    {
     "data": {
      "text/plain": [
       "'rpeofjer. ferfkepr fkpe?'"
      ]
     },
     "execution_count": 159,
     "metadata": {},
     "output_type": "execute_result"
    }
   ],
   "source": [
    "re.sub(r\"[^\\w\\s'’,.!?]+\", \"\", \"#rpeofjer. ferfke:pr// fkpe?\")"
   ]
  },
  {
   "cell_type": "markdown",
   "metadata": {},
   "source": [
    "### UPDATE DATA"
   ]
  },
  {
   "cell_type": "code",
   "execution_count": 36,
   "metadata": {
    "collapsed": true
   },
   "outputs": [],
   "source": [
    "Kiev_RW = RandomWalkCityTweets('city_random_walks.h5', 'Kiev')"
   ]
  },
  {
   "cell_type": "code",
   "execution_count": 43,
   "metadata": {
    "collapsed": true
   },
   "outputs": [],
   "source": [
    "user_info = api.get_user(45601009)"
   ]
  },
  {
   "cell_type": "code",
   "execution_count": 44,
   "metadata": {},
   "outputs": [
    {
     "data": {
      "text/plain": [
       "'AbsinthLover'"
      ]
     },
     "execution_count": 44,
     "metadata": {},
     "output_type": "execute_result"
    }
   ],
   "source": [
    "user_info.screen_name"
   ]
  },
  {
   "cell_type": "code",
   "execution_count": 130,
   "metadata": {
    "collapsed": true
   },
   "outputs": [],
   "source": [
    "with pd.HDFStore('city_random_walks.h5') as f:\n",
    "    f.remove('/Kiev/Gordonuacom/followers')\n",
    "    my_keys = f.keys()"
   ]
  },
  {
   "cell_type": "markdown",
   "metadata": {},
   "source": [
    "# GET barcelona_cat followers"
   ]
  },
  {
   "cell_type": "code",
   "execution_count": 1,
   "metadata": {
    "collapsed": true
   },
   "outputs": [],
   "source": [
    "from importlib import reload\n",
    "import RW_tweets\n",
    "reload(RW_tweets)\n",
    "from RW_tweets import RandomWalkCityTweets"
   ]
  },
  {
   "cell_type": "code",
   "execution_count": 2,
   "metadata": {
    "collapsed": true
   },
   "outputs": [],
   "source": [
    "Bcn_data = RandomWalkCityTweets('city_random_walks.h5', 'Barcelona')"
   ]
  },
  {
   "cell_type": "code",
   "execution_count": 3,
   "metadata": {},
   "outputs": [
    {
     "name": "stderr",
     "output_type": "stream",
     "text": [
      "0% [##                            ] 100% | ETA: 00:13:42"
     ]
    },
    {
     "name": "stdout",
     "output_type": "stream",
     "text": [
      "Rate limit reached. Sleeping for: 800\n",
      "fallen here\n",
      "Failed to send request: HTTPSConnectionPool(host='api.twitter.com', port=443): Read timed out. (read timeout=60)\n"
     ]
    },
    {
     "name": "stderr",
     "output_type": "stream",
     "text": [
      "0% [#####                         ] 100% | ETA: 01:23:46"
     ]
    },
    {
     "name": "stdout",
     "output_type": "stream",
     "text": [
      "Rate limit reached. Sleeping for: 781\n",
      "fallen here\n",
      "Failed to send request: HTTPSConnectionPool(host='api.twitter.com', port=443): Read timed out. (read timeout=60)\n"
     ]
    },
    {
     "name": "stderr",
     "output_type": "stream",
     "text": [
      "0% [#######                       ] 100% | ETA: 01:44:29"
     ]
    },
    {
     "name": "stdout",
     "output_type": "stream",
     "text": [
      "Rate limit reached. Sleeping for: 753\n",
      "fallen here\n",
      "Failed to send request: HTTPSConnectionPool(host='api.twitter.com', port=443): Read timed out. (read timeout=60)\n"
     ]
    },
    {
     "name": "stderr",
     "output_type": "stream",
     "text": [
      "0% [##########                    ] 100% | ETA: 01:35:54"
     ]
    },
    {
     "name": "stdout",
     "output_type": "stream",
     "text": [
      "Rate limit reached. Sleeping for: 738\n",
      "fallen here\n",
      "Failed to send request: HTTPSConnectionPool(host='api.twitter.com', port=443): Read timed out. (read timeout=60)\n"
     ]
    },
    {
     "name": "stderr",
     "output_type": "stream",
     "text": [
      "0% [############                  ] 100% | ETA: 01:35:31"
     ]
    },
    {
     "name": "stdout",
     "output_type": "stream",
     "text": [
      "Rate limit reached. Sleeping for: 704\n",
      "fallen here\n",
      "Failed to send request: HTTPSConnectionPool(host='api.twitter.com', port=443): Read timed out. (read timeout=60)\n"
     ]
    },
    {
     "name": "stderr",
     "output_type": "stream",
     "text": [
      "0% [###############               ] 100% | ETA: 01:20:09"
     ]
    },
    {
     "name": "stdout",
     "output_type": "stream",
     "text": [
      "Rate limit reached. Sleeping for: 691\n",
      "fallen here\n",
      "Failed to send request: HTTPSConnectionPool(host='api.twitter.com', port=443): Read timed out. (read timeout=60)\n"
     ]
    },
    {
     "name": "stderr",
     "output_type": "stream",
     "text": [
      "0% [#################             ] 100% | ETA: 01:12:41"
     ]
    },
    {
     "name": "stdout",
     "output_type": "stream",
     "text": [
      "Rate limit reached. Sleeping for: 660\n",
      "fallen here\n",
      "Failed to send request: HTTPSConnectionPool(host='api.twitter.com', port=443): Read timed out. (read timeout=60)\n"
     ]
    },
    {
     "name": "stderr",
     "output_type": "stream",
     "text": [
      "0% [####################          ] 100% | ETA: 00:55:44"
     ]
    },
    {
     "name": "stdout",
     "output_type": "stream",
     "text": [
      "Rate limit reached. Sleeping for: 627\n",
      "fallen here\n",
      "Failed to send request: HTTPSConnectionPool(host='api.twitter.com', port=443): Read timed out. (read timeout=60)\n"
     ]
    },
    {
     "name": "stderr",
     "output_type": "stream",
     "text": [
      "0% [######################        ] 100% | ETA: 00:45:45"
     ]
    },
    {
     "name": "stdout",
     "output_type": "stream",
     "text": [
      "Rate limit reached. Sleeping for: 610\n",
      "fallen here\n",
      "Failed to send request: HTTPSConnectionPool(host='api.twitter.com', port=443): Read timed out. (read timeout=60)\n"
     ]
    },
    {
     "name": "stderr",
     "output_type": "stream",
     "text": [
      "0% [#########################     ] 100% | ETA: 00:28:24"
     ]
    },
    {
     "name": "stdout",
     "output_type": "stream",
     "text": [
      "Rate limit reached. Sleeping for: 592\n",
      "fallen here\n",
      "Failed to send request: HTTPSConnectionPool(host='api.twitter.com', port=443): Read timed out. (read timeout=60)\n"
     ]
    },
    {
     "name": "stderr",
     "output_type": "stream",
     "text": [
      "0% [###########################   ] 100% | ETA: 00:17:29"
     ]
    },
    {
     "name": "stdout",
     "output_type": "stream",
     "text": [
      "Rate limit reached. Sleeping for: 526\n",
      "fallen here\n",
      "Failed to send request: HTTPSConnectionPool(host='api.twitter.com', port=443): Read timed out. (read timeout=60)\n"
     ]
    },
    {
     "name": "stderr",
     "output_type": "stream",
     "text": [
      "0% [##############################] 100% | ETA: 00:00:00\n",
      "Total time elapsed: 02:55:06\n",
      "\n",
      "Total time elapsed: 02:55:06\n",
      "\n",
      "Total time elapsed: 02:55:07\n",
      "\n",
      "Total time elapsed: 02:55:07\n",
      "\n",
      "Total time elapsed: 02:55:07\n",
      "\n",
      "Total time elapsed: 02:55:07\n",
      "\n",
      "Total time elapsed: 02:55:07\n",
      "\n",
      "Total time elapsed: 02:55:07\n",
      "\n",
      "Total time elapsed: 02:55:07\n",
      "\n",
      "Total time elapsed: 02:55:08\n",
      "\n",
      "Total time elapsed: 02:55:08\n",
      "\n",
      "Total time elapsed: 02:55:08\n",
      "//anaconda/envs/newest_env/lib/python3.6/site-packages/pandas/core/generic.py:1299: PerformanceWarning: \n",
      "your performance may suffer as PyTables will pickle object types that it cannot\n",
      "map directly to c-types [inferred_type->mixed,key->block2_values] [items->['created_at', 'description', 'entities', 'id_str', 'lang', 'location', 'name', 'profile_background_color', 'profile_background_image_url', 'profile_background_image_url_https', 'profile_banner_url', 'profile_image_url', 'profile_image_url_https', 'profile_link_color', 'profile_sidebar_border_color', 'profile_sidebar_fill_color', 'profile_text_color', 'screen_name', 'status', 'time_zone', 'translator_type', 'url', 'utc_offset']]\n",
      "\n",
      "  return pytables.to_hdf(path_or_buf, key, self, **kwargs)\n",
      "IOPub data rate exceeded.\n",
      "The notebook server will temporarily stop sending output\n",
      "to the client in order to avoid crashing it.\n",
      "To change this limit, set the config variable\n",
      "`--NotebookApp.iopub_data_rate_limit`.\n"
     ]
    }
   ],
   "source": [
    "Bcn_data.get_account_network('barcelona_cat', max_num=36000)"
   ]
  },
  {
   "cell_type": "code",
   "execution_count": 4,
   "metadata": {
    "collapsed": true
   },
   "outputs": [],
   "source": [
    "import matplotlib as mpl"
   ]
  },
  {
   "cell_type": "code",
   "execution_count": 18,
   "metadata": {},
   "outputs": [
    {
     "data": {
      "text/plain": [
       "['_classic_test',\n",
       " 'bmh',\n",
       " 'classic',\n",
       " 'dark_background',\n",
       " 'fivethirtyeight',\n",
       " 'ggplot',\n",
       " 'grayscale',\n",
       " 'seaborn-bright',\n",
       " 'seaborn-colorblind',\n",
       " 'seaborn-dark-palette',\n",
       " 'seaborn-dark',\n",
       " 'seaborn-darkgrid',\n",
       " 'seaborn-deep',\n",
       " 'seaborn-muted',\n",
       " 'seaborn-notebook',\n",
       " 'seaborn-paper',\n",
       " 'seaborn-pastel',\n",
       " 'seaborn-poster',\n",
       " 'seaborn-talk',\n",
       " 'seaborn-ticks',\n",
       " 'seaborn-white',\n",
       " 'seaborn-whitegrid',\n",
       " 'seaborn']"
      ]
     },
     "execution_count": 18,
     "metadata": {},
     "output_type": "execute_result"
    }
   ],
   "source": [
    "mpl.style.available"
   ]
  },
  {
   "cell_type": "code",
   "execution_count": 17,
   "metadata": {},
   "outputs": [
    {
     "data": {
      "image/png": "[encoded data removed]",
      "text/plain": [
       "<matplotlib.figure.Figure at 0x10eb79c50>"
      ]
     },
     "metadata": {},
     "output_type": "display_data"
    }
   ],
   "source": [
    "import numpy as np\n",
    "import matplotlib.pyplot as plt\n",
    "x = np.linspace(0,10,100)\n",
    "plt.plot(x, np.exp(x))\n",
    "plt.show()"
   ]
  },
  {
   "cell_type": "code",
   "execution_count": null,
   "metadata": {
    "collapsed": true
   },
   "outputs": [],
   "source": []
  }
 ],
 "metadata": {
  "kernelspec": {
   "display_name": "Python 3",
   "language": "python",
   "name": "python3"
  },
  "language_info": {
   "codemirror_mode": {
    "name": "ipython",
    "version": 3
   },
   "file_extension": ".py",
   "mimetype": "text/x-python",
   "name": "python",
   "nbconvert_exporter": "python",
   "pygments_lexer": "ipython3",
   "version": "3.6.5"
  }
 },
 "nbformat": 4,
 "nbformat_minor": 2
}
