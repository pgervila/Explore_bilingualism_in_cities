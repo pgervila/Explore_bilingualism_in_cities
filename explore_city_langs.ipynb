{
 "cells": [
  {
   "cell_type": "markdown",
   "metadata": {
    "collapsed": true
   },
   "source": [
    "### IMPORT LIBRARIES AND SET UP"
   ]
  },
  {
   "cell_type": "code",
   "execution_count": 1,
   "metadata": {
    "collapsed": true
   },
   "outputs": [],
   "source": [
    "import tweepy\n",
    "from tweepy import Stream, OAuthHandler, StreamListener\n",
    "import json\n",
    "import time\n",
    "from collections import Counter\n",
    "import re\n",
    "import pandas as pd\n",
    "from langdetect import detect\n",
    "import pyprind\n",
    "import deepdish as dd"
   ]
  },
  {
   "cell_type": "code",
   "execution_count": 2,
   "metadata": {
    "collapsed": true
   },
   "outputs": [],
   "source": [
    "#import secret codes\n",
    "from twitter_pwd import access_token, access_token_secret, consumer_key, consumer_secret"
   ]
  },
  {
   "cell_type": "code",
   "execution_count": 194,
   "metadata": {
    "collapsed": true
   },
   "outputs": [],
   "source": [
    "auth = OAuthHandler(consumer_key, consumer_secret)\n",
    "auth.set_access_token(access_token, access_token_secret)"
   ]
  },
  {
   "cell_type": "markdown",
   "metadata": {},
   "source": [
    "### KEY FUNCTIONS : USERS, FOLLOWERS, TIMELINES, LANGS"
   ]
  },
  {
   "cell_type": "code",
   "execution_count": 256,
   "metadata": {
    "collapsed": true
   },
   "outputs": [],
   "source": [
    "import tweepy\n",
    "import pyprind\n",
    "import time\n",
    "import re"
   ]
  },
  {
   "cell_type": "code",
   "execution_count": 349,
   "metadata": {
    "collapsed": true
   },
   "outputs": [],
   "source": [
    "def get_account_network(account_name, rel_type='followers', max_num =100, key_words=None, \n",
    "                        min_num_tweets=0, min_num_followers=0):\n",
    "    \"\"\" Given an account by account_name, \n",
    "        find all users that are linked to it via a specified relation type 'rel_type'.\n",
    "        Args:\n",
    "            * account_name: string. Twitter account name\n",
    "            * rel_type: string. Specifies relation type (default is 'followers')\n",
    "            * max_num: integer. Maximum number of 'related' users considered\n",
    "            * key_words: list of strings. Used to filter retrieved users by location,\n",
    "                if specified\n",
    "            * min_num_tweets: minimum number of tweets a follower needs to have \n",
    "                to be included in list\n",
    "            * min_num_followers: minimum number of followers a follower needs to have \n",
    "                to be included in list\n",
    "        Returns:\n",
    "            * list_people: list of account_names\n",
    "    \"\"\"\n",
    "    pbar = pyprind.ProgBar(max_num)\n",
    "    list_people = []\n",
    "    api = tweepy.API(auth, wait_on_rate_limit=True, wait_on_rate_limit_notify=True)\n",
    "    # very important to set count=200 MAX VALUE\n",
    "    users = tweepy.Cursor(getattr(api, rel_type, 0), screen_name=account_name, count=200).items(max_num)\n",
    "    while True:\n",
    "        try:\n",
    "            user = next(users)\n",
    "            if not key_words:\n",
    "                if user.statuses_count > min_num_tweets:\n",
    "                    list_people.append(user)\n",
    "            else:\n",
    "                locs = '|'.join(key_words)\n",
    "                patt = re.compile(locs)\n",
    "                found_loc = re.findall(patt, user._json['location'])\n",
    "                if found_loc and user.statuses_count > min_num_tweets:\n",
    "                    list_people.append(user)\n",
    "        except tweepy.TweepError as e:\n",
    "            if 'Read timed out' in str(e):\n",
    "                print('fallen here')\n",
    "                print(e)\n",
    "                time.sleep(5)\n",
    "            else:\n",
    "                time.sleep(60*16)\n",
    "                user = next(users)\n",
    "        except StopIteration:\n",
    "            break            \n",
    "        pbar.update()\n",
    "    return list_people\n",
    "        "
   ]
  },
  {
   "cell_type": "code",
   "execution_count": 382,
   "metadata": {
    "collapsed": false
   },
   "outputs": [],
   "source": [
    "def get_account_tweets(account_name, max_num_twts=10):\n",
    "    \"\"\" Given an account name,\n",
    "        it retrieves a maximum number of tweets written or retweeted by account owner.\n",
    "        It returns them in a list.\n",
    "        Args:\n",
    "            * account name: string. Screen_name that identifies the twitter account\n",
    "            * max_num_twts: integer. Maximum number of tweets to be retrieved for each account\n",
    "        Returns:\n",
    "            * list_tweets: list including info of all retrieved tweets in JSON format\"\"\"\n",
    "    list_tweets=[]\n",
    "    api = tweepy.API(auth, wait_on_rate_limit=True, wait_on_rate_limit_notify=True)\n",
    "    timeline = tweepy.Cursor(api.user_timeline, screen_name=account_name, count=200).items(max_num_twts)\n",
    "    i=0\n",
    "    while True:\n",
    "        try:\n",
    "            tw = next(timeline)\n",
    "            list_tweets.append(tw)\n",
    "        except tweepy.TweepError as e:\n",
    "            if '401' in str(e):    \n",
    "                print(e)\n",
    "                time.sleep(10)\n",
    "                break\n",
    "            else:\n",
    "                time.sleep(60*15)\n",
    "                tw = next(timeline)\n",
    "        except StopIteration:\n",
    "            break\n",
    "    #list_tweets = [re.sub(r\"(@\\s?[^\\s]+|https?://?[^\\s]+)\", \"\", tw) for tw in list_tweets]\n",
    "    return list_tweets"
   ]
  },
  {
   "cell_type": "code",
   "execution_count": 383,
   "metadata": {
    "collapsed": true
   },
   "outputs": [],
   "source": [
    "def get_tweets_from_accounts(list_accounts, max_num_accounts=None, max_num_twts=10):\n",
    "    \"\"\" Given a list of accounts, get tweets texts, langs and authors\n",
    "        All URLs and tweet account names are removed from tweet\n",
    "        texts since they are not relevant for language identification\"\"\"\n",
    "    pbar = pyprind.ProgBar(len(list_accounts))\n",
    "    texts_tweets = []\n",
    "    langs_tweets = []\n",
    "    authors_tweets = []\n",
    "    if max_num_accounts:\n",
    "        list_accounts = list_accounts[:max_num_accounts]\n",
    "    for idx, acc in enumerate(list_accounts):\n",
    "        twts = get_account_tweets(acc, max_num_twts=max_num_twts)\n",
    "        texts_tweets.extend([re.sub(r\"(@\\s?[^\\s]+|https?://?[^\\s]+)\", \"\", tw.text) \n",
    "                             for tw in twts])\n",
    "        langs_tweets.extend([tw.lang for tw in twts])\n",
    "        authors_tweets.extend([acc for _ in twts])\n",
    "        pbar.update()\n",
    "    return texts_tweets, langs_tweets, authors_tweets"
   ]
  },
  {
   "cell_type": "code",
   "execution_count": 260,
   "metadata": {
    "collapsed": true
   },
   "outputs": [],
   "source": [
    "def save_tweets_from_followers(screen_name, country, node_name, city=None, \n",
    "                               min_num_twts_per_acc=5, max_num_followers=None):\n",
    "    \"\"\" Creates pandas dataframe with all tweets texts \n",
    "        from followers of a given account and corresponding language. \n",
    "        A dataframe with all followers info must have been previously computed \n",
    "        and saved in hdf5 format\n",
    "        Args:\n",
    "            * screen_name:\n",
    "            * country:\n",
    "            * node_name:\n",
    "    \"\"\"\n",
    "    base_path = '/'.join(['',country, node_name, screen_name])\n",
    "    path_load = base_path + '/followers'\n",
    "    path_save = base_path + '/tls_followers'\n",
    "    key_words = {'ukr':{'all':r\"(Україна|Ukraine|Украина|Київ|Киев|Kiev|Kyiv|Львів|Львов|Одес)\", \n",
    "                        'Kiev':r\"(Kiev|Kyiv|Київ|Киев)\"}, \n",
    "                 'cat':{'all':r\"(Barcel|Catal|Tarr|Llei|Ger|Gir|Badal)\",\n",
    "                        'Terrassa':r\"(Terras|Vall)\",\n",
    "                        'Girona':r\"(Giro|Gero)\",\n",
    "                        'Vic':r\"(Vic|Oson)\", 'Barcelona':r\"(Barcel|barcel|Bcn|bcn)\",\n",
    "                        'Tarragona':r\"(Tarrag|tarrag)\", 'Lleida':r\"(Lleida|Lerid|Lérid)\",\n",
    "                        'Badalona':r\"Badal\"}}\n",
    "    df = pd.read_hdf('lang_data.h5', path_load)\n",
    "    # filter by num_min_twts_per_account\n",
    "    relevant_followers = df['screen_name'][df['statuses_count'] >= min_num_twts_per_acc]\n",
    "    # keep only country residents\n",
    "    if city:\n",
    "        relevant_followers = relevant_followers[df['location'].str.contains(key_words[country][city])].values\n",
    "    else:\n",
    "        relevant_followers = relevant_followers[df['location'].str.contains(key_words[country]['all'])].values\n",
    "        \n",
    "    texts, langs, auth = get_tweets_from_accounts(relevant_followers, \n",
    "                                                            max_num_accounts=max_num_followers)\n",
    "    df_txts_langs= pd.DataFrame({'texts':texts, 'lang':langs, 'screen_name':auth})\n",
    "    df_txts_langs.to_hdf('lang_data.h5', path_save)\n",
    "    return df_txts_langs\n",
    "    \n",
    "    "
   ]
  },
  {
   "cell_type": "code",
   "execution_count": null,
   "metadata": {
    "collapsed": true
   },
   "outputs": [],
   "source": []
  },
  {
   "cell_type": "code",
   "execution_count": null,
   "metadata": {
    "collapsed": true
   },
   "outputs": [],
   "source": [
    "import tweepy\n",
    "\n",
    "class CityTweets:\n",
    "    key_words = {'ukr':{'all':r\"(Україна|Ukraine|Украина|Київ|Киев|Kiev|Kyiv|Львів|Львов|Одес)\", \n",
    "                    'Kiev':r\"(Kiev|Kyiv|Київ|Киев)\"}, \n",
    "                 'cat':{'all':r\"(Barcel|Catal|Tarr|Llei|Ger|Gir|Badal)\",\n",
    "                        'Terrassa':r\"(Terras|Vall)\",\n",
    "                        'Girona':r\"(Giro|Gero)\",\n",
    "                        'Vic':r\"(Vic|Oson)\", 'Barcelona':r\"(Barcel|barcel|Bcn|bcn)\",\n",
    "                        'Tarragona':r\"(Tarrag|tarrag)\", 'Lleida':r\"(Lleida|Lerid|Lérid)\",\n",
    "                        'Badalona':r\"Badal\"}}\n",
    "    def __init__(self, account_name, min_num_tweets=0, \n",
    "                 min_num_followers=0, key_words=None):\n",
    "        self.account_name = account_name\n",
    "        self.min_num_tweets = min_num_tweets\n",
    "        self.min_num_followers = min_num_followers\n",
    "        self.key_words = key_words\n",
    "        \n",
    "        self.api = tweepy.API(auth, wait_on_rate_limit=True, wait_on_rate_limit_notify=True)\n",
    "        \n",
    "    def get_account_network(rel_type='followers', max_num =100, key_words=None, \n",
    "                            min_num_tweets=0, min_num_followers=0):\n",
    "        \"\"\" Given an account by account_name, \n",
    "            find all users that are linked to it via a specified relation type 'rel_type'.\n",
    "            Args:\n",
    "                * rel_type: string. Specifies relation type (default is 'followers')\n",
    "                * max_num: integer. Maximum number of 'related' users considered\n",
    "                * key_words: list of strings. Used to filter retrieved users by location,\n",
    "                    if specified\n",
    "                * min_num_tweets: minimum number of tweets a follower needs to have \n",
    "                    to be included in list\n",
    "                * min_num_followers: minimum number of followers a follower needs to have \n",
    "                    to be included in list\n",
    "            Returns:\n",
    "                * list_people: list of account_names\n",
    "        \"\"\"\n",
    "        pbar = pyprind.ProgBar(max_num)\n",
    "        self.list_people = []\n",
    "        \n",
    "        # very important to set count=200 MAX VALUE\n",
    "        users = tweepy.Cursor(getattr(self.api, rel_type, 0), screen_name=self.account_name, \n",
    "                              count=200).items(max_num)\n",
    "        while True:\n",
    "            try:\n",
    "                user = next(users)\n",
    "                if not key_words:\n",
    "                    if user.statuses_count > min_num_tweets and user.followers_count > min_num_followers:\n",
    "                        self.list_people.append(user)\n",
    "                else:\n",
    "                    locs = '|'.join(key_words)\n",
    "                    patt = re.compile(locs)\n",
    "                    found_loc = re.findall(patt, user._json['location'], flags=re.I)\n",
    "                    if found_loc and user.statuses_count > min_num_tweets and user.followers_count > min_num_followers:\n",
    "                        self.list_people.append(user)\n",
    "            except tweepy.TweepError as e:\n",
    "                if 'Read timed out' in str(e):\n",
    "                    print('fallen here')\n",
    "                    print(e)\n",
    "                    time.sleep(5)\n",
    "                else:\n",
    "                    time.sleep(60*16)\n",
    "                    user = next(users)\n",
    "            except StopIteration:\n",
    "                break            \n",
    "            pbar.update()\n",
    "    \n",
    "    def get_account_tweets(max_num_twts=20):\n",
    "        \"\"\" Given an account name,\n",
    "            it retrieves a maximum number of tweets written or retweeted by account owner.\n",
    "            It returns them in a list.\n",
    "            Args:\n",
    "                * account name: string. Screen_name that identifies the twitter account\n",
    "                * max_num_twts: integer. Maximum number of tweets to be retrieved for each account\n",
    "            Returns:\n",
    "                * list_tweets: list including info of all retrieved tweets in JSON format\n",
    "        \"\"\"\n",
    "        list_tweets=[]\n",
    "        timeline = tweepy.Cursor(self.api.user_timeline, screen_name=self.account_name, \n",
    "                                 count=200, include_rts = True).items(max_num_twts)\n",
    "        i=0\n",
    "        while True:\n",
    "            try:\n",
    "                tw = next(timeline)\n",
    "                list_tweets.append(tw)\n",
    "            except tweepy.TweepError as e:\n",
    "                if '401' in str(e):    \n",
    "                    print(e)\n",
    "                    time.sleep(10)\n",
    "                    break\n",
    "                else:\n",
    "                    time.sleep(60*15)\n",
    "                    tw = next(timeline)\n",
    "            except StopIteration:\n",
    "                break\n",
    "        return list_tweets\n",
    "    \n",
    "    def get_tweets_from_accounts(max_num_accounts=None, max_num_twts=20):\n",
    "        \"\"\" Given a list of accounts, get tweets texts, langs and authors\n",
    "            All URLs and tweet account names are removed from tweet\n",
    "            texts since they are not relevant for language identification\n",
    "        \"\"\"\n",
    "        pbar = pyprind.ProgBar(len(list_accounts))\n",
    "        texts_tweets = []\n",
    "        langs_tweets = []\n",
    "        authors_tweets = []\n",
    "        if max_num_accounts:\n",
    "            list_accounts = self.list_people[:max_num_accounts]\n",
    "        for idx, acc in enumerate(list_accounts):\n",
    "            twts = self.get_account_tweets(acc, max_num_twts=max_num_twts)\n",
    "            texts_tweets.extend([re.sub(r\"(@\\s?[^\\s]+|https?://?[^\\s]+)\", \"\", tw.text) \n",
    "                                 for tw in twts])\n",
    "            langs_tweets.extend([tw.lang for tw in twts])\n",
    "            authors_tweets.extend([acc for _ in twts])\n",
    "            pbar.update()\n",
    "        return texts_tweets, langs_tweets, authors_tweets\n",
    "\n",
    "    \n",
    "    def save_tweets_from_followers(screen_name, country, node_name, city=None, \n",
    "                                   min_num_twts_per_acc=10, max_num_followers=None):\n",
    "        \"\"\" Creates pandas dataframe with all tweets texts \n",
    "            from followers of a given account and corresponding language. \n",
    "            A dataframe with all followers info must have been previously computed \n",
    "            and saved in hdf5 format\n",
    "            Args:\n",
    "                * screen_name:\n",
    "                * country:\n",
    "                * node_name:\n",
    "        \"\"\"\n",
    "        base_path = '/'.join(['',country, node_name, screen_name])\n",
    "        path_load = base_path + '/followers'\n",
    "        path_save = base_path + '/tls_followers'\n",
    "\n",
    "        df = pd.read_hdf('lang_data.h5', path_load)\n",
    "        # filter by num_min_twts_per_account\n",
    "        relevant_followers = df['screen_name'][df['statuses_count'] >= min_num_twts_per_acc]\n",
    "        # keep only country residents\n",
    "        if city:\n",
    "            relevant_followers = relevant_followers[df['location'].str.contains(self.key_words[country][city])].values\n",
    "        else:\n",
    "            relevant_followers = relevant_followers[df['location'].str.contains(self.key_words[country]['all'])].values\n",
    "\n",
    "        texts, langs, auth = self.get_tweets_from_accounts(max_num_accounts=max_num_followers)\n",
    "        df_txts_langs= pd.DataFrame({'texts':texts, 'lang':langs, 'screen_name':auth})\n",
    "        df_txts_langs.to_hdf('lang_data.h5', path_save)\n",
    "        return df_txts_langs\n",
    "\n",
    "\n"
   ]
  },
  {
   "cell_type": "code",
   "execution_count": 389,
   "metadata": {
    "collapsed": false
   },
   "outputs": [
    {
     "data": {
      "text/plain": [
       "['киев']"
      ]
     },
     "execution_count": 389,
     "metadata": {},
     "output_type": "execute_result"
    }
   ],
   "source": [
    "mytxt = \"киев\"\n",
    "re.findall(r\"Київ|Киев\", mytxt, )"
   ]
  },
  {
   "cell_type": "code",
   "execution_count": null,
   "metadata": {
    "collapsed": true
   },
   "outputs": [],
   "source": [
    "Нейропсихолог Крис Фрит о зеркальных нейронах, эмоциональном заражении и расовых предрассудках"
   ]
  },
  {
   "cell_type": "markdown",
   "metadata": {},
   "source": [
    "### UKRAINE: data structure and relevant twitter accounts "
   ]
  },
  {
   "cell_type": "code",
   "execution_count": 12,
   "metadata": {
    "collapsed": true
   },
   "outputs": [],
   "source": [
    "Ukraine_nodes = {}\n",
    "Ukraine_nodes['cities'] = ['kiev', 'odessa', 'lviv', 'kharkov', 'dnipropetrovsk']\n",
    "Ukraine_nodes['city_sites'] = {'Mariupol':['0629ComUa'], \n",
    "                               'kiev':['kievtypical','kliniki_kiev','LISOD_clinic','avto_kiev', 'editbeauty']}\n",
    "Ukraine_nodes['news'] = ['HromadskeUA','tsnua','ukrpravda_news', 'lb_ua', 'Korrespondent', \n",
    "                         'Delo_ua', 'BBC_ua', 'LIGAnet', 'segodnya_life']\n",
    "Ukraine_nodes['TV'] = ['5channel', 'EspresoTV', '24tvua', 'footballua_tv']\n",
    "Ukraine_nodes['starsystem'] = ['VeraBrezhneva', 's_vakarchuk', 'KAMEHCKUX']\n",
    "Ukraine_nodes['politics'] = ['poroshenko', 'Vitaliy_Klychko', 'Leshchenkos','AvakovArsen', 'andriy_sadovyi', 'GennadyKernes']"
   ]
  },
  {
   "cell_type": "code",
   "execution_count": 14,
   "metadata": {
    "collapsed": false
   },
   "outputs": [],
   "source": [
    "key_words=['Україна', 'Ukraine', 'Украина', 'Київ', 'Киев']\n",
    "HromadskeUA_followers = get_account_network('HromadskeUA', rel_type='followers', \n",
    "                                            max_num =5000, key_words=key_words)"
   ]
  },
  {
   "cell_type": "code",
   "execution_count": 7,
   "metadata": {
    "collapsed": false
   },
   "outputs": [
    {
     "name": "stderr",
     "output_type": "stream",
     "text": [
      "0%                          100%\n",
      "[#                             ] | ETA: 00:01:50"
     ]
    },
    {
     "name": "stdout",
     "output_type": "stream",
     "text": [
      "Rate limit reached. Sleeping for: 895\n",
      "fallen here"
     ]
    },
    {
     "name": "stderr",
     "output_type": "stream",
     "text": [
      "[###                           ] | ETA: 02:20:33"
     ]
    },
    {
     "name": "stdout",
     "output_type": "stream",
     "text": [
      "\n",
      "Failed to send request: HTTPSConnectionPool(host='api.twitter.com', port=443): Read timed out. (read timeout=60)\n",
      "Rate limit reached. Sleeping for: 891\n",
      "fallen here"
     ]
    },
    {
     "name": "stderr",
     "output_type": "stream",
     "text": [
      "[#####                         ] | ETA: 02:35:13"
     ]
    },
    {
     "name": "stdout",
     "output_type": "stream",
     "text": [
      "\n",
      "Failed to send request: HTTPSConnectionPool(host='api.twitter.com', port=443): Read timed out. (read timeout=60)\n",
      "Rate limit reached. Sleeping for: 894\n",
      "fallen here"
     ]
    },
    {
     "name": "stderr",
     "output_type": "stream",
     "text": [
      "[#######                       ] | ETA: 02:34:01"
     ]
    },
    {
     "name": "stdout",
     "output_type": "stream",
     "text": [
      "\n",
      "Failed to send request: HTTPSConnectionPool(host='api.twitter.com', port=443): Read timed out. (read timeout=60)\n",
      "Rate limit reached. Sleeping for: 893\n",
      "fallen here"
     ]
    },
    {
     "name": "stderr",
     "output_type": "stream",
     "text": [
      "[#########                     ] | ETA: 02:25:49"
     ]
    },
    {
     "name": "stdout",
     "output_type": "stream",
     "text": [
      "\n",
      "Failed to send request: HTTPSConnectionPool(host='api.twitter.com', port=443): Read timed out. (read timeout=60)\n",
      "Rate limit reached. Sleeping for: 893\n",
      "fallen here"
     ]
    },
    {
     "name": "stderr",
     "output_type": "stream",
     "text": [
      "[##########                    ] | ETA: 02:35:50"
     ]
    },
    {
     "name": "stdout",
     "output_type": "stream",
     "text": [
      "\n",
      "Failed to send request: HTTPSConnectionPool(host='api.twitter.com', port=443): Read timed out. (read timeout=60)\n",
      "Rate limit reached. Sleeping for: 893\n",
      "fallen here"
     ]
    },
    {
     "name": "stderr",
     "output_type": "stream",
     "text": [
      "[############                  ] | ETA: 02:21:12"
     ]
    },
    {
     "name": "stdout",
     "output_type": "stream",
     "text": [
      "\n",
      "Failed to send request: HTTPSConnectionPool(host='api.twitter.com', port=443): Read timed out. (read timeout=60)\n",
      "Rate limit reached. Sleeping for: 893\n",
      "fallen here"
     ]
    },
    {
     "name": "stderr",
     "output_type": "stream",
     "text": [
      "[##############                ] | ETA: 02:05:27"
     ]
    },
    {
     "name": "stdout",
     "output_type": "stream",
     "text": [
      "\n",
      "Failed to send request: HTTPSConnectionPool(host='api.twitter.com', port=443): Read timed out. (read timeout=60)\n",
      "Rate limit reached. Sleeping for: 892\n",
      "fallen here"
     ]
    },
    {
     "name": "stderr",
     "output_type": "stream",
     "text": [
      "[################              ] | ETA: 01:49:42"
     ]
    },
    {
     "name": "stdout",
     "output_type": "stream",
     "text": [
      "\n",
      "Failed to send request: HTTPSConnectionPool(host='api.twitter.com', port=443): Read timed out. (read timeout=60)\n",
      "Rate limit reached. Sleeping for: 893\n",
      "fallen here"
     ]
    },
    {
     "name": "stderr",
     "output_type": "stream",
     "text": [
      "[##################            ] | ETA: 01:34:25"
     ]
    },
    {
     "name": "stdout",
     "output_type": "stream",
     "text": [
      "\n",
      "Failed to send request: HTTPSConnectionPool(host='api.twitter.com', port=443): Read timed out. (read timeout=60)\n",
      "Rate limit reached. Sleeping for: 891\n",
      "fallen here"
     ]
    },
    {
     "name": "stderr",
     "output_type": "stream",
     "text": [
      "[###################           ] | ETA: 01:30:53"
     ]
    },
    {
     "name": "stdout",
     "output_type": "stream",
     "text": [
      "\n",
      "Failed to send request: HTTPSConnectionPool(host='api.twitter.com', port=443): Read timed out. (read timeout=60)\n",
      "Rate limit reached. Sleeping for: 893\n",
      "fallen here"
     ]
    },
    {
     "name": "stderr",
     "output_type": "stream",
     "text": [
      "[#####################         ] | ETA: 01:14:15"
     ]
    },
    {
     "name": "stdout",
     "output_type": "stream",
     "text": [
      "\n",
      "Failed to send request: HTTPSConnectionPool(host='api.twitter.com', port=443): Read timed out. (read timeout=60)\n",
      "Rate limit reached. Sleeping for: 893\n",
      "fallen here"
     ]
    },
    {
     "name": "stderr",
     "output_type": "stream",
     "text": [
      "[#######################       ] | ETA: 00:57:25"
     ]
    },
    {
     "name": "stdout",
     "output_type": "stream",
     "text": [
      "\n",
      "Failed to send request: HTTPSConnectionPool(host='api.twitter.com', port=443): Read timed out. (read timeout=60)\n",
      "Rate limit reached. Sleeping for: 891\n",
      "fallen here"
     ]
    },
    {
     "name": "stderr",
     "output_type": "stream",
     "text": [
      "[#########################     ] | ETA: 00:40:58"
     ]
    },
    {
     "name": "stdout",
     "output_type": "stream",
     "text": [
      "\n",
      "Failed to send request: HTTPSConnectionPool(host='api.twitter.com', port=443): Read timed out. (read timeout=60)\n",
      "Rate limit reached. Sleeping for: 892\n",
      "fallen here"
     ]
    },
    {
     "name": "stderr",
     "output_type": "stream",
     "text": [
      "[###########################   ] | ETA: 00:24:30"
     ]
    },
    {
     "name": "stdout",
     "output_type": "stream",
     "text": [
      "\n",
      "Failed to send request: HTTPSConnectionPool(host='api.twitter.com', port=443): Read timed out. (read timeout=60)\n",
      "Rate limit reached. Sleeping for: 893\n",
      "fallen here"
     ]
    },
    {
     "name": "stderr",
     "output_type": "stream",
     "text": [
      "[############################  ] | ETA: 00:16:50"
     ]
    },
    {
     "name": "stdout",
     "output_type": "stream",
     "text": [
      "\n",
      "Failed to send request: HTTPSConnectionPool(host='api.twitter.com', port=443): Read timed out. (read timeout=60)\n",
      "Rate limit reached. Sleeping for: 892\n",
      "fallen here"
     ]
    },
    {
     "name": "stderr",
     "output_type": "stream",
     "text": [
      "[##############################] | ETA: 00:00:00\n",
      "Total time elapsed: 04:12:04\n",
      "\n",
      "Total time elapsed: 04:12:04\n",
      "\n",
      "Total time elapsed: 04:12:04\n",
      "\n",
      "Total time elapsed: 04:12:04\n",
      "\n",
      "Total time elapsed: 04:12:04\n",
      "\n",
      "Total time elapsed: 04:12:04\n",
      "\n",
      "Total time elapsed: 04:12:04\n",
      "\n",
      "Total time elapsed: 04:12:04\n",
      "\n",
      "Total time elapsed: 04:12:04\n",
      "\n",
      "Total time elapsed: 04:12:04\n",
      "\n",
      "Total time elapsed: 04:12:04\n",
      "\n",
      "Total time elapsed: 04:12:04\n",
      "\n",
      "Total time elapsed: 04:12:04\n",
      "\n",
      "Total time elapsed: 04:12:04\n",
      "\n",
      "Total time elapsed: 04:12:04\n",
      "\n",
      "Total time elapsed: 04:12:04\n",
      "\n",
      "Total time elapsed: 04:12:04\n",
      "//anaconda/lib/python3.5/site-packages/pandas/core/generic.py:939: PerformanceWarning: \n",
      "your performance may suffer as PyTables will pickle object types that it cannot\n",
      "map directly to c-types [inferred_type->mixed,key->block3_values] [items->['created_at', 'description', 'entities', 'id_str', 'lang', 'location', 'name', 'profile_background_color', 'profile_background_image_url', 'profile_background_image_url_https', 'profile_banner_url', 'profile_image_url', 'profile_image_url_https', 'profile_link_color', 'profile_sidebar_border_color', 'profile_sidebar_fill_color', 'profile_text_color', 'screen_name', 'status', 'time_zone', 'translator_type', 'url']]\n",
      "\n",
      "  return pytables.to_hdf(path_or_buf, key, self, **kwargs)\n"
     ]
    },
    {
     "name": "stdout",
     "output_type": "stream",
     "text": [
      "\n",
      "Failed to send request: HTTPSConnectionPool(host='api.twitter.com', port=443): Read timed out. (read timeout=60)\n"
     ]
    }
   ],
   "source": [
    "country = 'ukr'\n",
    "node_name = 'politics'\n",
    "acc_name = 'poroshenko'\n",
    "rel_type = 'followers'\n",
    "\n",
    "#key_words=['Україна', 'Ukraine', 'Украина', 'Київ', 'Киев']\n",
    "path_save = '/'.join(['',country, node_name, acc_name, rel_type])\n",
    "followers = get_account_network(acc_name, rel_type=rel_type, \n",
    "                                max_num =5000, key_words=None)\n",
    "json_format = [elem._json for elem in followers]\n",
    "df = pd.DataFrame(json_format)\n",
    "df.to_hdf('lang_data.h5', path_save)"
   ]
  },
  {
   "cell_type": "code",
   "execution_count": 8,
   "metadata": {
    "collapsed": false
   },
   "outputs": [
    {
     "name": "stderr",
     "output_type": "stream",
     "text": [
      "//anaconda/lib/python3.5/site-packages/ipykernel/__main__.py:1: UserWarning: This pattern has match groups. To actually get the groups, use str.extract.\n",
      "  if __name__ == '__main__':\n"
     ]
    },
    {
     "data": {
      "text/html": [
       "<div>\n",
       "<table border=\"1\" class=\"dataframe\">\n",
       "  <thead>\n",
       "    <tr style=\"text-align: right;\">\n",
       "      <th></th>\n",
       "      <th>location</th>\n",
       "      <th>screen_name</th>\n",
       "      <th>lang</th>\n",
       "    </tr>\n",
       "  </thead>\n",
       "  <tbody>\n",
       "    <tr>\n",
       "      <th>522</th>\n",
       "      <td>Україна Львів</td>\n",
       "      <td>juliaskab13</td>\n",
       "      <td>uk</td>\n",
       "    </tr>\n",
       "    <tr>\n",
       "      <th>1006</th>\n",
       "      <td>Львов</td>\n",
       "      <td>novinska_cat</td>\n",
       "      <td>ru</td>\n",
       "    </tr>\n",
       "    <tr>\n",
       "      <th>1661</th>\n",
       "      <td>Львов</td>\n",
       "      <td>HumenuykRoma</td>\n",
       "      <td>ru</td>\n",
       "    </tr>\n",
       "    <tr>\n",
       "      <th>2269</th>\n",
       "      <td>Львів</td>\n",
       "      <td>kaprikorn87</td>\n",
       "      <td>uk</td>\n",
       "    </tr>\n",
       "    <tr>\n",
       "      <th>2997</th>\n",
       "      <td>Україна Львів</td>\n",
       "      <td>Hollywell83</td>\n",
       "      <td>uk</td>\n",
       "    </tr>\n",
       "    <tr>\n",
       "      <th>3803</th>\n",
       "      <td>м .Львів</td>\n",
       "      <td>M8tgs4YGZ391fNw</td>\n",
       "      <td>uk</td>\n",
       "    </tr>\n",
       "    <tr>\n",
       "      <th>4731</th>\n",
       "      <td>Львів</td>\n",
       "      <td>cherniak_gi</td>\n",
       "      <td>uk</td>\n",
       "    </tr>\n",
       "  </tbody>\n",
       "</table>\n",
       "</div>"
      ],
      "text/plain": [
       "           location      screen_name lang\n",
       "522   Україна Львів      juliaskab13   uk\n",
       "1006          Львов     novinska_cat   ru\n",
       "1661          Львов     HumenuykRoma   ru\n",
       "2269          Львів      kaprikorn87   uk\n",
       "2997  Україна Львів      Hollywell83   uk\n",
       "3803       м .Львів  M8tgs4YGZ391fNw   uk\n",
       "4731          Львів      cherniak_gi   uk"
      ]
     },
     "execution_count": 8,
     "metadata": {},
     "output_type": "execute_result"
    }
   ],
   "source": [
    "df[['location','screen_name','lang']][df['location'].str.contains(r\"(Львів|Львов)\")]"
   ]
  },
  {
   "cell_type": "code",
   "execution_count": 9,
   "metadata": {
    "collapsed": false
   },
   "outputs": [
    {
     "name": "stderr",
     "output_type": "stream",
     "text": [
      "//anaconda/lib/python3.5/site-packages/ipykernel/__main__.py:1: UserWarning: This pattern has match groups. To actually get the groups, use str.extract.\n",
      "  if __name__ == '__main__':\n"
     ]
    },
    {
     "data": {
      "text/plain": [
       "uk    8\n",
       "ru    3\n",
       "en    1\n",
       "Name: lang, dtype: int64"
      ]
     },
     "execution_count": 9,
     "metadata": {},
     "output_type": "execute_result"
    }
   ],
   "source": [
    "df['lang'][df['location'].str.contains(r\"(Львів|Львов|Lviv|Івано-Франківськ)\")].value_counts()"
   ]
  },
  {
   "cell_type": "code",
   "execution_count": 10,
   "metadata": {
    "collapsed": false
   },
   "outputs": [
    {
     "name": "stderr",
     "output_type": "stream",
     "text": [
      "//anaconda/lib/python3.5/site-packages/ipykernel/__main__.py:1: UserWarning: This pattern has match groups. To actually get the groups, use str.extract.\n",
      "  if __name__ == '__main__':\n"
     ]
    },
    {
     "data": {
      "text/plain": [
       "ru    14\n",
       "en     2\n",
       "uk     1\n",
       "Name: lang, dtype: int64"
      ]
     },
     "execution_count": 10,
     "metadata": {},
     "output_type": "execute_result"
    }
   ],
   "source": [
    "df['lang'][df['statuses_count'] >= 10][df['location'].str.contains(r\"(Kiev|Kyiv|Київ|Киев)\")].value_counts()"
   ]
  },
  {
   "cell_type": "code",
   "execution_count": 278,
   "metadata": {
    "collapsed": false
   },
   "outputs": [],
   "source": [
    "df[['lang','screen_name', 'followers_count']][df['statuses_count'] >= 200][df['location'].str.contains(r\"(Kiev|Kyiv|Київ|Киев)\")]"
   ]
  },
  {
   "cell_type": "code",
   "execution_count": 78,
   "metadata": {
    "collapsed": false
   },
   "outputs": [],
   "source": [
    "#HRMUA_flwrs = [f for idx, f in df_HRMUA.iterrows()]\n",
    "#HRMUA_texts, HRMUA_langs = get_tweets_from_accounts(HRMUA_flwrs, max_num_followers=300)"
   ]
  },
  {
   "cell_type": "code",
   "execution_count": 66,
   "metadata": {
    "collapsed": false
   },
   "outputs": [],
   "source": [
    "df_txts_langs_HRMUA = pd.DataFrame({'texts':HRMUA_texts, 'lang':HRMUA_langs})\n",
    "\n",
    "df_txts_langs_HRMUA.to_hdf('lang_data.h5', '/ukr_nodes/news/HromadskeUA/tls_followers')"
   ]
  },
  {
   "cell_type": "code",
   "execution_count": null,
   "metadata": {
    "collapsed": true
   },
   "outputs": [],
   "source": [
    "df_txts = pd.read_hdf('lang_data.h5', '/ukr_nodes/news/HromadskeUA/tls_followers')"
   ]
  },
  {
   "cell_type": "markdown",
   "metadata": {},
   "source": [
    "### CATALONIA NODES"
   ]
  },
  {
   "cell_type": "code",
   "execution_count": 392,
   "metadata": {
    "collapsed": true
   },
   "outputs": [],
   "source": [
    "Catalonia_nodes = {}\n",
    "Catalonia_nodes['news'] = ['LaVanguardia', 'VilaWeb', 'diariARA', 'elperiodico',\n",
    "                           'elperiodico_cat', 'elpuntavui']\n",
    "Catalonia_nodes['cities'] = ['bcn_ajuntament', 'paerialleida', 'girona_cat', 'TGNAjuntament', \n",
    "                             'AjBadalona', 'aj_vic', 'ajterrassa']\n",
    "Catalonia_nodes['politics'] = ['KRLS', 'junqueras', 'AdaColau', \n",
    "                              'miqueliceta', 'InesArrimadas', 'Albiol_XG', \n",
    "                              'raulromeva', 'ForcadellCarme']"
   ]
  },
  {
   "cell_type": "code",
   "execution_count": 87,
   "metadata": {
    "collapsed": true
   },
   "outputs": [],
   "source": [
    "def get_account_followers(country, node, acc_name):\n",
    "    path_save = '/'.join(['', country, node, acc_name, 'followers'])\n",
    "    followers = get_account_network(acc_name, rel_type='followers', max_num =5000)\n",
    "    json_format = [elem._json for elem in followers]\n",
    "    df = pd.DataFrame(json_format)\n",
    "    df.to_hdf('lang_data.h5', path_save)\n",
    "    return df\n",
    "    "
   ]
  },
  {
   "cell_type": "code",
   "execution_count": 88,
   "metadata": {
    "collapsed": false
   },
   "outputs": [
    {
     "name": "stderr",
     "output_type": "stream",
     "text": [
      "0%                          100%\n",
      "[#                             ] | ETA: 00:03:21"
     ]
    },
    {
     "name": "stdout",
     "output_type": "stream",
     "text": [
      "Rate limit reached. Sleeping for: 889\n",
      "fallen here"
     ]
    },
    {
     "name": "stderr",
     "output_type": "stream",
     "text": [
      "[###                           ] | ETA: 02:20:09"
     ]
    },
    {
     "name": "stdout",
     "output_type": "stream",
     "text": [
      "\n",
      "Failed to send request: HTTPSConnectionPool(host='api.twitter.com', port=443): Read timed out. (read timeout=60)\n",
      "Rate limit reached. Sleeping for: 889\n",
      "fallen here"
     ]
    },
    {
     "name": "stderr",
     "output_type": "stream",
     "text": [
      "[#####                         ] | ETA: 02:38:29"
     ]
    },
    {
     "name": "stdout",
     "output_type": "stream",
     "text": [
      "\n",
      "Failed to send request: HTTPSConnectionPool(host='api.twitter.com', port=443): Read timed out. (read timeout=60)\n",
      "Rate limit reached. Sleeping for: 888\n",
      "fallen here"
     ]
    },
    {
     "name": "stderr",
     "output_type": "stream",
     "text": [
      "[#######                       ] | ETA: 02:37:27"
     ]
    },
    {
     "name": "stdout",
     "output_type": "stream",
     "text": [
      "\n",
      "Failed to send request: HTTPSConnectionPool(host='api.twitter.com', port=443): Read timed out. (read timeout=60)\n",
      "Rate limit reached. Sleeping for: 886\n",
      "fallen here"
     ]
    },
    {
     "name": "stderr",
     "output_type": "stream",
     "text": [
      "[#########                     ] | ETA: 05:34:47"
     ]
    },
    {
     "name": "stdout",
     "output_type": "stream",
     "text": [
      "\n",
      "Failed to send request: HTTPSConnectionPool(host='api.twitter.com', port=443): Read timed out. (read timeout=60)\n",
      "Rate limit reached. Sleeping for: 887\n",
      "fallen here"
     ]
    },
    {
     "name": "stderr",
     "output_type": "stream",
     "text": [
      "[##########                    ] | ETA: 05:18:59"
     ]
    },
    {
     "name": "stdout",
     "output_type": "stream",
     "text": [
      "\n",
      "Failed to send request: HTTPSConnectionPool(host='api.twitter.com', port=443): Read timed out. (read timeout=60)\n",
      "Rate limit reached. Sleeping for: 887\n",
      "fallen here"
     ]
    },
    {
     "name": "stderr",
     "output_type": "stream",
     "text": [
      "[############                  ] | ETA: 04:23:35"
     ]
    },
    {
     "name": "stdout",
     "output_type": "stream",
     "text": [
      "\n",
      "Failed to send request: HTTPSConnectionPool(host='api.twitter.com', port=443): Read timed out. (read timeout=60)\n",
      "Rate limit reached. Sleeping for: 886\n",
      "fallen here"
     ]
    },
    {
     "name": "stderr",
     "output_type": "stream",
     "text": [
      "[##############                ] | ETA: 03:38:30"
     ]
    },
    {
     "name": "stdout",
     "output_type": "stream",
     "text": [
      "\n",
      "Failed to send request: HTTPSConnectionPool(host='api.twitter.com', port=443): Read timed out. (read timeout=60)\n",
      "Rate limit reached. Sleeping for: 884\n",
      "fallen here"
     ]
    },
    {
     "name": "stderr",
     "output_type": "stream",
     "text": [
      "[################              ] | ETA: 03:01:26"
     ]
    },
    {
     "name": "stdout",
     "output_type": "stream",
     "text": [
      "\n",
      "Failed to send request: HTTPSConnectionPool(host='api.twitter.com', port=443): Read timed out. (read timeout=60)\n",
      "Rate limit reached. Sleeping for: 885\n",
      "fallen here"
     ]
    },
    {
     "name": "stderr",
     "output_type": "stream",
     "text": [
      "[##################            ] | ETA: 02:29:02"
     ]
    },
    {
     "name": "stdout",
     "output_type": "stream",
     "text": [
      "\n",
      "Failed to send request: HTTPSConnectionPool(host='api.twitter.com', port=443): Read timed out. (read timeout=60)\n",
      "Rate limit reached. Sleeping for: 888\n",
      "fallen here"
     ]
    },
    {
     "name": "stderr",
     "output_type": "stream",
     "text": [
      "[###################           ] | ETA: 02:18:18"
     ]
    },
    {
     "name": "stdout",
     "output_type": "stream",
     "text": [
      "\n",
      "Failed to send request: HTTPSConnectionPool(host='api.twitter.com', port=443): Read timed out. (read timeout=60)\n",
      "Rate limit reached. Sleeping for: 888\n",
      "fallen here"
     ]
    },
    {
     "name": "stderr",
     "output_type": "stream",
     "text": [
      "[#####################         ] | ETA: 01:49:20"
     ]
    },
    {
     "name": "stdout",
     "output_type": "stream",
     "text": [
      "\n",
      "Failed to send request: HTTPSConnectionPool(host='api.twitter.com', port=443): Read timed out. (read timeout=60)\n",
      "Rate limit reached. Sleeping for: 889\n",
      "fallen here"
     ]
    },
    {
     "name": "stderr",
     "output_type": "stream",
     "text": [
      "[#######################       ] | ETA: 01:38:41"
     ]
    },
    {
     "name": "stdout",
     "output_type": "stream",
     "text": [
      "\n",
      "Failed to send request: HTTPSConnectionPool(host='api.twitter.com', port=443): Read timed out. (read timeout=60)\n",
      "Rate limit reached. Sleeping for: 890\n",
      "fallen here"
     ]
    },
    {
     "name": "stderr",
     "output_type": "stream",
     "text": [
      "[#########################     ] | ETA: 01:08:07"
     ]
    },
    {
     "name": "stdout",
     "output_type": "stream",
     "text": [
      "\n",
      "Failed to send request: HTTPSConnectionPool(host='api.twitter.com', port=443): Read timed out. (read timeout=60)\n",
      "Rate limit reached. Sleeping for: 884\n",
      "fallen here"
     ]
    },
    {
     "name": "stderr",
     "output_type": "stream",
     "text": [
      "[###########################   ] | ETA: 00:39:35"
     ]
    },
    {
     "name": "stdout",
     "output_type": "stream",
     "text": [
      "\n",
      "Failed to send request: HTTPSConnectionPool(host='api.twitter.com', port=443): Read timed out. (read timeout=60)\n",
      "Rate limit reached. Sleeping for: 887\n",
      "fallen here"
     ]
    },
    {
     "name": "stderr",
     "output_type": "stream",
     "text": [
      "[############################  ] | ETA: 00:26:34"
     ]
    },
    {
     "name": "stdout",
     "output_type": "stream",
     "text": [
      "\n",
      "Failed to send request: HTTPSConnectionPool(host='api.twitter.com', port=443): Read timed out. (read timeout=60)\n",
      "Rate limit reached. Sleeping for: 887\n",
      "fallen here"
     ]
    },
    {
     "name": "stderr",
     "output_type": "stream",
     "text": [
      "[##############################] | ETA: 00:00:00\n",
      "Total time elapsed: 06:28:31\n",
      "\n",
      "Total time elapsed: 06:28:31\n",
      "\n",
      "Total time elapsed: 06:28:31\n",
      "\n",
      "Total time elapsed: 06:28:31\n",
      "\n",
      "Total time elapsed: 06:28:31\n",
      "\n",
      "Total time elapsed: 06:28:31\n",
      "\n",
      "Total time elapsed: 06:28:31\n",
      "\n",
      "Total time elapsed: 06:28:31\n",
      "\n",
      "Total time elapsed: 06:28:31\n",
      "\n",
      "Total time elapsed: 06:28:31\n",
      "\n",
      "Total time elapsed: 06:28:31\n",
      "\n",
      "Total time elapsed: 06:28:31\n",
      "\n",
      "Total time elapsed: 06:28:31\n",
      "\n",
      "Total time elapsed: 06:28:31\n",
      "\n",
      "Total time elapsed: 06:28:31\n",
      "\n",
      "Total time elapsed: 06:28:31\n",
      "\n",
      "Total time elapsed: 06:28:31\n",
      "//anaconda/lib/python3.5/site-packages/pandas/core/generic.py:939: PerformanceWarning: \n",
      "your performance may suffer as PyTables will pickle object types that it cannot\n",
      "map directly to c-types [inferred_type->mixed,key->block3_values] [items->['created_at', 'description', 'entities', 'id_str', 'lang', 'location', 'name', 'profile_background_color', 'profile_background_image_url', 'profile_background_image_url_https', 'profile_banner_url', 'profile_image_url', 'profile_image_url_https', 'profile_link_color', 'profile_sidebar_border_color', 'profile_sidebar_fill_color', 'profile_text_color', 'screen_name', 'status', 'time_zone', 'translator_type', 'url']]\n",
      "\n",
      "  return pytables.to_hdf(path_or_buf, key, self, **kwargs)\n"
     ]
    },
    {
     "name": "stdout",
     "output_type": "stream",
     "text": [
      "\n",
      "Failed to send request: HTTPSConnectionPool(host='api.twitter.com', port=443): Read timed out. (read timeout=60)\n"
     ]
    }
   ],
   "source": [
    "df = get_account_followers(country ='cat', node='cities', acc_name='AjBadalona')"
   ]
  },
  {
   "cell_type": "code",
   "execution_count": 89,
   "metadata": {
    "collapsed": false
   },
   "outputs": [
    {
     "data": {
      "text/plain": [
       "es       3586\n",
       "ca       1102\n",
       "en        271\n",
       "fr          9\n",
       "it          7\n",
       "en-gb       5\n",
       "pt          4\n",
       "de          3\n",
       "eu          2\n",
       "ar          2\n",
       "ru          2\n",
       "gl          1\n",
       "pl          1\n",
       "en-GB       1\n",
       "zh-cn       1\n",
       "ja          1\n",
       "tr          1\n",
       "ro          1\n",
       "Name: lang, dtype: int64"
      ]
     },
     "execution_count": 89,
     "metadata": {},
     "output_type": "execute_result"
    }
   ],
   "source": [
    "df['lang'].value_counts()"
   ]
  },
  {
   "cell_type": "code",
   "execution_count": 90,
   "metadata": {
    "collapsed": false
   },
   "outputs": [
    {
     "name": "stderr",
     "output_type": "stream",
     "text": [
      "//anaconda/lib/python3.5/site-packages/ipykernel/__main__.py:2: UserWarning: This pattern has match groups. To actually get the groups, use str.extract.\n",
      "  from ipykernel import kernelapp as app\n",
      "//anaconda/lib/python3.5/site-packages/pandas/core/frame.py:1997: UserWarning: Boolean Series key will be reindexed to match DataFrame index.\n",
      "  \"DataFrame index.\", UserWarning)\n"
     ]
    },
    {
     "data": {
      "text/plain": [
       "es    688\n",
       "ca    281\n",
       "en     51\n",
       "fr      1\n",
       "it      1\n",
       "Name: lang, dtype: int64"
      ]
     },
     "execution_count": 90,
     "metadata": {},
     "output_type": "execute_result"
    }
   ],
   "source": [
    "regex = r\"(Badal)\"\n",
    "df_Bad = df[df['statuses_count'] >= 10][df['location'].str.contains(regex)]\n",
    "df_Bad['lang'].value_counts()"
   ]
  },
  {
   "cell_type": "markdown",
   "metadata": {},
   "source": [
    "### SAVE TWEETS FROM FOLLOWERS"
   ]
  },
  {
   "cell_type": "code",
   "execution_count": 96,
   "metadata": {
    "collapsed": false
   },
   "outputs": [
    {
     "name": "stderr",
     "output_type": "stream",
     "text": [
      "0%                          100%\n",
      "[##                            ] | ETA: 00:13:58"
     ]
    },
    {
     "name": "stdout",
     "output_type": "stream",
     "text": [
      "Twitter error response: status code = 401\n",
      "Twitter error response: status code = 401\n",
      "Twitter error response: status code = 401"
     ]
    },
    {
     "name": "stderr",
     "output_type": "stream",
     "text": [
      "[####                          ] | ETA: 00:15:44"
     ]
    },
    {
     "name": "stdout",
     "output_type": "stream",
     "text": [
      "\n",
      "Twitter error response: status code = 401\n",
      "Twitter error response: status code = 401\n",
      "Twitter error response: status code = 401\n",
      "Twitter error response: status code = 401"
     ]
    },
    {
     "name": "stderr",
     "output_type": "stream",
     "text": [
      "[#####                         ] | ETA: 00:17:57"
     ]
    },
    {
     "name": "stdout",
     "output_type": "stream",
     "text": [
      "\n",
      "Twitter error response: status code = 401"
     ]
    },
    {
     "name": "stderr",
     "output_type": "stream",
     "text": [
      "[######                        ] | ETA: 00:17:15"
     ]
    },
    {
     "name": "stdout",
     "output_type": "stream",
     "text": [
      "\n",
      "Twitter error response: status code = 401\n",
      "Twitter error response: status code = 401\n",
      "Twitter error response: status code = 401"
     ]
    },
    {
     "name": "stderr",
     "output_type": "stream",
     "text": [
      "[#######                       ] | ETA: 00:17:27"
     ]
    },
    {
     "name": "stdout",
     "output_type": "stream",
     "text": [
      "\n",
      "Twitter error response: status code = 401"
     ]
    },
    {
     "name": "stderr",
     "output_type": "stream",
     "text": [
      "[########                      ] | ETA: 00:16:15"
     ]
    },
    {
     "name": "stdout",
     "output_type": "stream",
     "text": [
      "\n",
      "Twitter error response: status code = 401\n",
      "Twitter error response: status code = 401"
     ]
    },
    {
     "name": "stderr",
     "output_type": "stream",
     "text": [
      "[#########                     ] | ETA: 00:15:38"
     ]
    },
    {
     "name": "stdout",
     "output_type": "stream",
     "text": [
      "\n",
      "Twitter error response: status code = 401"
     ]
    },
    {
     "name": "stderr",
     "output_type": "stream",
     "text": [
      "[##########                    ] | ETA: 00:14:31"
     ]
    },
    {
     "name": "stdout",
     "output_type": "stream",
     "text": [
      "\n",
      "Twitter error response: status code = 401"
     ]
    },
    {
     "name": "stderr",
     "output_type": "stream",
     "text": [
      "[############                  ] | ETA: 00:12:31"
     ]
    },
    {
     "name": "stdout",
     "output_type": "stream",
     "text": [
      "\n",
      "Twitter error response: status code = 401\n",
      "Twitter error response: status code = 401\n",
      "Twitter error response: status code = 401"
     ]
    },
    {
     "name": "stderr",
     "output_type": "stream",
     "text": [
      "[#############                 ] | ETA: 00:12:02"
     ]
    },
    {
     "name": "stdout",
     "output_type": "stream",
     "text": [
      "\n",
      "Twitter error response: status code = 401\n",
      "Twitter error response: status code = 401"
     ]
    },
    {
     "name": "stderr",
     "output_type": "stream",
     "text": [
      "[##############                ] | ETA: 00:11:22"
     ]
    },
    {
     "name": "stdout",
     "output_type": "stream",
     "text": [
      "\n",
      "Twitter error response: status code = 401\n",
      "Twitter error response: status code = 401\n",
      "Twitter error response: status code = 401\n",
      "Twitter error response: status code = 401"
     ]
    },
    {
     "name": "stderr",
     "output_type": "stream",
     "text": [
      "[###############               ] | ETA: 00:10:59"
     ]
    },
    {
     "name": "stdout",
     "output_type": "stream",
     "text": [
      "\n",
      "Twitter error response: status code = 401\n",
      "Twitter error response: status code = 401\n",
      "Twitter error response: status code = 401"
     ]
    },
    {
     "name": "stderr",
     "output_type": "stream",
     "text": [
      "[################              ] | ETA: 00:10:23"
     ]
    },
    {
     "name": "stdout",
     "output_type": "stream",
     "text": [
      "\n",
      "Twitter error response: status code = 401\n",
      "Twitter error response: status code = 401\n",
      "Twitter error response: status code = 401"
     ]
    },
    {
     "name": "stderr",
     "output_type": "stream",
     "text": [
      "[#################             ] | ETA: 00:09:49"
     ]
    },
    {
     "name": "stdout",
     "output_type": "stream",
     "text": [
      "\n",
      "Twitter error response: status code = 401\n",
      "Twitter error response: status code = 401"
     ]
    },
    {
     "name": "stderr",
     "output_type": "stream",
     "text": [
      "[##################            ] | ETA: 00:09:02"
     ]
    },
    {
     "name": "stdout",
     "output_type": "stream",
     "text": [
      "\n",
      "Twitter error response: status code = 401"
     ]
    },
    {
     "name": "stderr",
     "output_type": "stream",
     "text": [
      "[###################           ] | ETA: 00:08:09"
     ]
    },
    {
     "name": "stdout",
     "output_type": "stream",
     "text": [
      "\n",
      "Twitter error response: status code = 401\n",
      "Twitter error response: status code = 401\n",
      "Twitter error response: status code = 401\n",
      "Twitter error response: status code = 401"
     ]
    },
    {
     "name": "stderr",
     "output_type": "stream",
     "text": [
      "[####################          ] | ETA: 00:07:35"
     ]
    },
    {
     "name": "stdout",
     "output_type": "stream",
     "text": [
      "\n",
      "Twitter error response: status code = 401"
     ]
    },
    {
     "name": "stderr",
     "output_type": "stream",
     "text": [
      "[#####################         ] | ETA: 00:06:44"
     ]
    },
    {
     "name": "stdout",
     "output_type": "stream",
     "text": [
      "\n",
      "Twitter error response: status code = 401\n",
      "Twitter error response: status code = 401\n",
      "Twitter error response: status code = 401"
     ]
    },
    {
     "name": "stderr",
     "output_type": "stream",
     "text": [
      "[######################        ] | ETA: 00:06:01"
     ]
    },
    {
     "name": "stdout",
     "output_type": "stream",
     "text": [
      "\n",
      "Twitter error response: status code = 401"
     ]
    },
    {
     "name": "stderr",
     "output_type": "stream",
     "text": [
      "[#######################       ] | ETA: 00:05:13"
     ]
    },
    {
     "name": "stdout",
     "output_type": "stream",
     "text": [
      "\n",
      "Twitter error response: status code = 401\n",
      "Twitter error response: status code = 401"
     ]
    },
    {
     "name": "stderr",
     "output_type": "stream",
     "text": [
      "[##########################    ] | ETA: 00:02:52"
     ]
    },
    {
     "name": "stdout",
     "output_type": "stream",
     "text": [
      "\n",
      "Twitter error response: status code = 401\n",
      "Twitter error response: status code = 401"
     ]
    },
    {
     "name": "stderr",
     "output_type": "stream",
     "text": [
      "[###########################   ] | ETA: 00:02:09"
     ]
    },
    {
     "name": "stdout",
     "output_type": "stream",
     "text": [
      "\n",
      "Twitter error response: status code = 401"
     ]
    },
    {
     "name": "stderr",
     "output_type": "stream",
     "text": [
      "[############################  ] | ETA: 00:01:25"
     ]
    },
    {
     "name": "stdout",
     "output_type": "stream",
     "text": [
      "\n",
      "Twitter error response: status code = 401\n",
      "Twitter error response: status code = 401"
     ]
    },
    {
     "name": "stderr",
     "output_type": "stream",
     "text": [
      "[############################# ] | ETA: 00:00:42"
     ]
    },
    {
     "name": "stdout",
     "output_type": "stream",
     "text": [
      "\n",
      "Twitter error response: status code = 401\n",
      "Twitter error response: status code = 401"
     ]
    },
    {
     "name": "stderr",
     "output_type": "stream",
     "text": [
      "[##############################] | ETA: 00:00:00"
     ]
    },
    {
     "name": "stdout",
     "output_type": "stream",
     "text": [
      "\n"
     ]
    },
    {
     "name": "stderr",
     "output_type": "stream",
     "text": [
      "\n",
      "Total time elapsed: 00:21:29\n"
     ]
    }
   ],
   "source": [
    "df_txts_langs = save_tweets_from_followers('AjBadalona' , 'cat', 'cities', city='Badalona')"
   ]
  },
  {
   "cell_type": "code",
   "execution_count": 97,
   "metadata": {
    "collapsed": false
   },
   "outputs": [
    {
     "data": {
      "text/plain": [
       "es     4702\n",
       "und    4427\n",
       "en      554\n",
       "pt       94\n",
       "fr       40\n",
       "it       20\n",
       "in       15\n",
       "eu       10\n",
       "nl       10\n",
       "ht        8\n",
       "et        6\n",
       "tl        6\n",
       "ro        5\n",
       "hu        5\n",
       "lt        5\n",
       "tr        4\n",
       "cs        4\n",
       "de        3\n",
       "cy        3\n",
       "no        3\n",
       "da        3\n",
       "pl        2\n",
       "sv        2\n",
       "fi        2\n",
       "vi        2\n",
       "hi        1\n",
       "is        1\n",
       "ja        1\n",
       "Name: lang, dtype: int64"
      ]
     },
     "execution_count": 97,
     "metadata": {},
     "output_type": "execute_result"
    }
   ],
   "source": [
    "df_txts_langs['lang'].value_counts()"
   ]
  },
  {
   "cell_type": "markdown",
   "metadata": {},
   "source": [
    "### LANG DETECTION"
   ]
  },
  {
   "cell_type": "code",
   "execution_count": 4,
   "metadata": {
    "collapsed": true
   },
   "outputs": [],
   "source": [
    "from langdetect import detect_langs"
   ]
  },
  {
   "cell_type": "code",
   "execution_count": 5,
   "metadata": {
    "collapsed": true
   },
   "outputs": [],
   "source": [
    "import langdetect"
   ]
  },
  {
   "cell_type": "code",
   "execution_count": 171,
   "metadata": {
    "collapsed": false
   },
   "outputs": [
    {
     "data": {
      "text/plain": [
       "Index(['lang', 'screen_name', 'texts'], dtype='object')"
      ]
     },
     "execution_count": 171,
     "metadata": {},
     "output_type": "execute_result"
    }
   ],
   "source": [
    "df_txts_langs.keys()"
   ]
  },
  {
   "cell_type": "code",
   "execution_count": 44,
   "metadata": {
    "collapsed": false
   },
   "outputs": [
    {
     "ename": "NameError",
     "evalue": "name 'df_txts_langs' is not defined",
     "output_type": "error",
     "traceback": [
      "\u001b[0;31m---------------------------------------------------------------------------\u001b[0m",
      "\u001b[0;31mNameError\u001b[0m                                 Traceback (most recent call last)",
      "\u001b[0;32m<ipython-input-44-d955a0e55e03>\u001b[0m in \u001b[0;36m<module>\u001b[0;34m()\u001b[0m\n\u001b[0;32m----> 1\u001b[0;31m \u001b[0mdf_txts_langs\u001b[0m\u001b[0;34m[\u001b[0m\u001b[0;34m[\u001b[0m\u001b[0;34m'texts'\u001b[0m\u001b[0;34m,\u001b[0m \u001b[0;34m'lang'\u001b[0m\u001b[0;34m,\u001b[0m \u001b[0;34m'screen_name'\u001b[0m\u001b[0;34m]\u001b[0m\u001b[0;34m]\u001b[0m\u001b[0;34m[\u001b[0m\u001b[0mdf_txts_langs\u001b[0m\u001b[0;34m[\u001b[0m\u001b[0;34m'lang'\u001b[0m\u001b[0;34m]\u001b[0m \u001b[0;34m==\u001b[0m \u001b[0;34m'und'\u001b[0m\u001b[0;34m]\u001b[0m\u001b[0;34m.\u001b[0m\u001b[0miloc\u001b[0m\u001b[0;34m[\u001b[0m\u001b[0;36m2\u001b[0m\u001b[0;34m]\u001b[0m\u001b[0;34m\u001b[0m\u001b[0m\n\u001b[0m",
      "\u001b[0;31mNameError\u001b[0m: name 'df_txts_langs' is not defined"
     ]
    }
   ],
   "source": [
    "df_txts_langs[['texts', 'lang', 'screen_name']][df_txts_langs['lang'] == 'und'].iloc[2]"
   ]
  },
  {
   "cell_type": "code",
   "execution_count": 272,
   "metadata": {
    "collapsed": false
   },
   "outputs": [],
   "source": [
    "base_path = '/'.join(['',country, node_name, screen_name])\n",
    "path_load = base_path + '/followers'\n",
    "path_save = base_path + '/tls_followers'"
   ]
  },
  {
   "cell_type": "code",
   "execution_count": 280,
   "metadata": {
    "collapsed": false
   },
   "outputs": [],
   "source": [
    "df = pd.read_hdf('lang_data.h5', path_save)"
   ]
  },
  {
   "cell_type": "code",
   "execution_count": 230,
   "metadata": {
    "collapsed": false
   },
   "outputs": [
    {
     "name": "stderr",
     "output_type": "stream",
     "text": [
      "//anaconda/lib/python3.5/site-packages/ipykernel/__main__.py:4: UserWarning: This pattern has match groups. To actually get the groups, use str.extract.\n"
     ]
    }
   ],
   "source": [
    "# filter followers to focus on most relevant ones\n",
    "min_num_twts = 5\n",
    "relevant_followers = df['screen_name'][df['statuses_count'] >= min_num_twts][\n",
    "                         df['location'].str.contains(key_words[country])\n",
    "                       ].values"
   ]
  },
  {
   "cell_type": "code",
   "execution_count": 122,
   "metadata": {
    "collapsed": false
   },
   "outputs": [],
   "source": [
    "#df_txts_langs['lang'].value_counts()\n",
    "#langs_detected = [detect(txt) for txt in df_txts_langs['texts']]\n",
    "\n",
    "langs_detected=[]\n",
    "for txt in df_txts_langs['texts']:\n",
    "    try:\n",
    "        langs_detected.append(detect(txt))\n",
    "    except:\n",
    "        langs_detected.append(None)"
   ]
  },
  {
   "cell_type": "code",
   "execution_count": 55,
   "metadata": {
    "collapsed": true
   },
   "outputs": [],
   "source": [
    "df_try = pd.DataFrame({'a':['aaaa','bbbfdde',1],'b':[23,44,56]})\n",
    "df_try2 = pd.DataFrame({'a':['xxxx','zzzz'],'b':[3233,43214]})\n",
    "\n",
    "store = pd.HDFStore('try_hyerar.h5')\n",
    "\n",
    "store.append('city/topic', df_try)\n",
    "\n",
    "store.close()\n",
    "\n",
    "pd.read_hdf('try_hyerar.h5', 'city/topic')\n",
    "\n",
    "store = pd.HDFStore('try_hyerar.h5','a')\n",
    "\n",
    "store.append('city/topic', df_try2)\n",
    "\n",
    "store.close()\n",
    "\n",
    "pd.read_hdf('try_hyerar.h5', 'city/topic')\n",
    "\n",
    "store = pd.HDFStore('try_hyerar.h5','a')\n",
    "\n",
    "store.put('city/followers',df)\n",
    "\n",
    "store.close()"
   ]
  },
  {
   "cell_type": "markdown",
   "metadata": {
    "collapsed": true
   },
   "source": [
    "### EXPLORE AN ACCOUNT"
   ]
  },
  {
   "cell_type": "code",
   "execution_count": 200,
   "metadata": {
    "collapsed": false
   },
   "outputs": [
    {
     "data": {
      "text/plain": [
       "'Ostroh'"
      ]
     },
     "execution_count": 200,
     "metadata": {},
     "output_type": "execute_result"
    }
   ],
   "source": [
    "api = tweepy.API(auth)\n",
    "user_info = api.get_user('onlyforulonely ')  #ArnauAndreu\n",
    "user_info._json['location']"
   ]
  },
  {
   "cell_type": "code",
   "execution_count": 20,
   "metadata": {
    "collapsed": true
   },
   "outputs": [],
   "source": [
    "#get timeline\n",
    "tl = get_account_tweets('onlyforulonely',max_num_twts=200)"
   ]
  },
  {
   "cell_type": "code",
   "execution_count": 222,
   "metadata": {
    "collapsed": false
   },
   "outputs": [
    {
     "data": {
      "text/plain": [
       "' frefe tt  ewdwed    oo'"
      ]
     },
     "execution_count": 222,
     "metadata": {},
     "output_type": "execute_result"
    }
   ],
   "source": [
    "my_str = \"@dijdoer frefe tt http://ewdowide.ewd.ewde ewdwed @jeiwo @ pgvila http://ewdowide.ewd.ewde oo\"\n",
    "re.sub(r\"(@\\s?[^\\s]+|https?://?[^\\s]+)\", \"\", my_str)"
   ]
  },
  {
   "cell_type": "code",
   "execution_count": 21,
   "metadata": {
    "collapsed": false
   },
   "outputs": [
    {
     "data": {
      "text/plain": [
       "[('uk', '@anastasiiareshe Подякувала😇'),\n",
       " ('uk',\n",
       "  '@1705Belka тоді чекатиму твоїх смс зі словами \"мене не забрав татко, йдемоо\"😅'),\n",
       " ('uk',\n",
       "  '@1705Belka тоді зможемо разом піти на випускний 11-их класів, а то у мене немає компанії)\\nі платтячка подивимось, і поговоримо)'),\n",
       " ('uk', '@1705Belka у Сб будеш ще тут?)'),\n",
       " ('uk',\n",
       "  '@1705Belka в сееенсі одна?\\n\\nскажи мені, коли ти вільна, і ми зустрінемось😊'),\n",
       " ('uk',\n",
       "  '@1705Belka Лю, я тебе бачила в місті о сьомій, кричала тобі \"Люю, ало\", а ти говорила по телефону, зірко😦'),\n",
       " ('uk', '@sergeykovaliov як варіант😅'),\n",
       " ('uk', 'Прикро, коли людина кидається словами на вітер.'),\n",
       " ('uk', '@nastya_dubyna дякую, зірко😊😙'),\n",
       " ('ru', '@shylodzobkaa Ооой, дякуююю😍'),\n",
       " ('uk', '@vika_kopytko Пасііібочкі, кіцьося😍'),\n",
       " ('uk',\n",
       "  '@no_false @Gvrtsss Я тебе запевняю, абсолютно рівноцінний, ти навіть залишаєшся у плюсі😂'),\n",
       " ('uk',\n",
       "  'Дівчата, зацініть😊\\rТам сірий, а де білий - мармур😉 https://t.co/bYyQ5GzIj3'),\n",
       " ('ru',\n",
       "  '@no_false @Gvrtsss Ну я тебе зафолловила, рахуй мене замість всіх тих 50-ти😁'),\n",
       " ('uk',\n",
       "  '(можете скидати свій інстаграм сюди, спробуємо взаємно) https://t.co/B3VMNcxFIH'),\n",
       " ('uk',\n",
       "  'Ну нічого-нічого, скоро і моя інста стане популярною і всі будуть такі мол огоо Ладка яка ти класна, а я така оо дякую цьом-цьом.'),\n",
       " ('uk',\n",
       "  'Випадково натрапила у стрічці інстаграму на фото дівчинки з Кирилівки.\\nСловом, Ма вже годину слухає, як я хочу до моря😁🌊'),\n",
       " ('ru', '@Gvrtsss Ооо, точно не забуваю😁❤'),\n",
       " ('und', '😂 https://t.co/6cRHeMHW2g'),\n",
       " ('uk', '@Gvrtsss Нащо так хот?)'),\n",
       " ('uk', 'класно, коли приходять вибачатись з піцою😁🙈'),\n",
       " ('uk',\n",
       "  \"@MR_ta_sha_ @Irasaduk3 Ну не золоті гори ж. Звичайно хочеться, аби партнер мав кошти навіть на банальну кав'ярню.\\rК… https://t.co/FaPYXAZewP\"),\n",
       " ('uk',\n",
       "  '@MR_ta_sha_ @Irasaduk3 Любов, обійми та увага - те, що може дати кожен.\\rДіти ж вимагають матеріального у наш вік.'),\n",
       " ('uk', '@Irasaduk3 А ЩЕ КРИЧАТЬ, ПЛАЧУТЬ І ВІЧНО ЧОГОСЬ ХОЧУТЬ'),\n",
       " ('uk',\n",
       "  '@k_telichyk @doctor_diana_ Там скраб, пінка і тонік.\\rДуже раджу, дійсно😉 https://t.co/5zKfomx37l'),\n",
       " ('uk',\n",
       "  '@k_telichyk @doctor_diana_ Ой, дівчата, в мене взагалі був завал з цим.\\rЗараз користуюсь деякими штучками, допомага… https://t.co/kiYL5bFH47'),\n",
       " ('uk',\n",
       "  \"Такий цікавий поворот життя: коли тобі стає все одно на людину, вона про тебе згадує і нав'язується.\"),\n",
       " ('uk', '@kzelenetska Острог, Рівненщина)'),\n",
       " ('uk', '@_Rzaeva бліін, конверси😱'),\n",
       " ('ru', '@David_Bugnar Лада😉'),\n",
       " ('ru', '@uuuiiiooonnn Вітаюю😊💋'),\n",
       " ('uk', '@Krammer_S133 цьом-цьом💋'),\n",
       " ('uk', '@free_vogel цьомчики😊💋'),\n",
       " ('uk', '@desperateeee о, це я'),\n",
       " ('uk',\n",
       "  '@desperateeee а то наступного разу дійсно не втримаєшся і прикрасиш комусь личко)'),\n",
       " ('uk',\n",
       "  '@desperateeee ахаха, боже, тоді з тобою небезпечно заганятись, бо треба знати межу)'),\n",
       " ('uk', '@desperateeee раз закипів, значить було занадто образливо)'),\n",
       " ('uk',\n",
       "  'Чи багато у вас є таких людей, з якими ви можете позаганятись одне з одного і не почути у відповідь обідок?\\nЦінуйте ;)'),\n",
       " ('ru', '@Gvrtsss у тебе татуха котика?)'),\n",
       " ('uk',\n",
       "  '@cannelura З Днем народження, квіточко☺\\rКохання, хороших друзів поруч😉\\rДосягай своїх вершин лише злетами, падіння не для тебе❤\\rЦьом💋'),\n",
       " ('uk', '@Step_gluon_ Це був перший кущ у моєму житті, який вміє бігати😂'),\n",
       " ('uk',\n",
       "  \"@Step_gluon_ ну спочатку, чесно кажучи, я ледь не вдарила той 'кущ'😂, а потім від страху в мене підкосились ноги, т… https://t.co/C3qIkUkKI9\"),\n",
       " ('ru', '@Step_gluon_ А в мене ледь серце не стало, я лякана чомусь :)'),\n",
       " ('uk', '@rgznsk Вдачі, зірко😉'),\n",
       " ('uk', 'Дивіться, яка кицюня^^ https://t.co/i5t2kSaWcd'),\n",
       " ('uk', 'RT @Olga_Mol: настрій: https://t.co/29h3MFHPTC'),\n",
       " ('uk',\n",
       "  '@sandorski23 Якась людина сиділа в кущах, вся в листочках і гілочках, коли я йшла повз кущі, встала бляха і побігла на мене!'),\n",
       " ('uk',\n",
       "  'Уявіть мій шок, коли опів на першу ночі ти йдеш біля будинку, а там кущ встає і починає бігти на тебе!😲'),\n",
       " ('ru', '@rose_hipses Залюбки :)\\rЧекаю тебе в дм'),\n",
       " ('uk',\n",
       "  '@rose_hipses Я не писала заради срачу, просто цікаво почути твою думку)'),\n",
       " ('ru', '@sexyalkash Оой, класна яка😍😊'),\n",
       " ('uk', '@rose_hipses А чому проти?)'),\n",
       " ('uk',\n",
       "  '@Gvrtsss Ооооо да🙄\\rОт в тебе точно вобщє не цікавий тві ні разу, ага, і ти вобщє для мене нічого не означаєш, ок'),\n",
       " ('uk',\n",
       "  '@kristina15061 ще одна, господи\\n\\nне нииий, скока можна, ти ж зірка, не сприймай весь негатив на свій рахунок💋'),\n",
       " ('uk', '@Bojda1415 о, а ти там до чого?\\nтвій Тві один моїх улюблених'),\n",
       " ('uk', 'Твіт щирої подяки людям, які ведуть свій Тві ніачом😁'),\n",
       " ('uk',\n",
       "  'Аахахаха, отак іноді зайдеш на чийсь Тві, почитаєш твіти і радієш, що ти не така😂'),\n",
       " ('uk', 'Рік минув, а проблеми залишаються. https://t.co/HP1p1cE1VT'),\n",
       " ('uk',\n",
       "  'Ну все розумію, але нащо було змінювати форму фотографії профілю?\\nКвадратик мені більше подобався😐'),\n",
       " ('uk',\n",
       "  '@MR_ta_sha_ Ну нарешті в тебе хороший настрій ;)\\rЧастіше ходи на роботу)'),\n",
       " ('uk',\n",
       "  'Зірко @kristina15061 !\\rЗ твоїм днем, будь щасливою😗\\rТільки з ціллю наше життя набуває сенсу, тож знайди ціль у житті та впевнено йди до неї❤'),\n",
       " ('uk', '@MR_ta_sha_ Ого, що це за ваніль?)'),\n",
       " ('uk', '@miss_sunshine57 @1705Belka Та й вона взагалі класна😁😍'),\n",
       " ('uk', '@Gvrtsss А, боже, думала, то твій\\rЄслі не твій - то не норм)))'),\n",
       " ('ru', '@Gvrtsss Любить значить))'),\n",
       " ('uk', '@kit_kaat69 Кіцьося😍'),\n",
       " ('en',\n",
       "  'RT @Iostinstars: when a star meets a black hole\\n https://t.co/fvMc7prAbp'),\n",
       " ('uk',\n",
       "  'Те відчуття, коли твій одноліток набив собі тату з твоїм ескізом😱\\n\\n/Успєх?\\\\'),\n",
       " ('uk', 'І тепер весь Острог мені пахне його парфумом..'),\n",
       " ('ru', '@nimnoho Ахаха, немає чого ;)'),\n",
       " ('uk', '@nimnoho До моря :)'),\n",
       " ('uk',\n",
       "  \"Відправили нашого мужчинчика в Польщу.\\rОтепер моя сім'я - жіноче царство😂\"),\n",
       " ('uk',\n",
       "  'Забронювали номери в готелі, вирішили, якими областями будемо їхати, розпланували кожну годину нашої поїздочки.\\nЧи не щастя?😌'),\n",
       " ('und', '@kzelenetska lavoytko'),\n",
       " ('uk',\n",
       "  'RT @Cherries_UP: Безвізова карта світу для українців: https://t.co/Wx9thwzo1T https://t.co/uChGSAtV0U'),\n",
       " ('uk',\n",
       "  '@desperateeee а в житті відразу видно, хто, як і чим живе)\\nпо переписочкам буде здаватись ідеальною, а от у житті..'),\n",
       " ('ru', '@desperateeee ну тоді не ведись))'),\n",
       " ('uk',\n",
       "  '@desperateeee сказала б не ведись, але знаю, що це не сильно й допоможе)'),\n",
       " ('uk', '@desperateeee в тихому омуті сам знаєш, що водиться ;)'),\n",
       " ('uk', '@desperateeee фу, а не дівчата'),\n",
       " ('uk', 'боже заганятись одне з одного це так класно'),\n",
       " ('ru', '@__danylynch ахахаха, майже)'),\n",
       " ('uk',\n",
       "  '@cookie_oliver @kristina15061 Нуу, краще пізніше мати орео з США, ніж не мати взагалі😁'),\n",
       " ('uk',\n",
       "  '@cookie_oliver @kristina15061 У тебе зооовсім випадково немає зайвих 3 доллара?😂'),\n",
       " ('ru',\n",
       "  '@cookie_oliver @kristina15061 Азахахаха, тооочно, ти ж в ЮЕсЕй😁\\rДороге там орео?)'),\n",
       " ('uk',\n",
       "  \"Хочеться орео з якимись незвичними смаками типу м'яти😍\\rХто там в США, не хо' мені привезти малееньку пачечку орео?😅\"),\n",
       " ('uk',\n",
       "  '@Dei_a_Nattiee @westwitch_ та ну, орео класне, просто надто прорекламоване'),\n",
       " ('uk', '@westwitch_ БОЖЕ ТИ ВТРАЧАЄШ НАДТО БАГАТО'),\n",
       " ('uk',\n",
       "  '*розмова дітей*\\n- Чому ти образилась?\\n- Бо ти пішов!\\n- Так ти ж мені сказала йти?\\n- А може я не хотіла, щоб ти йшов?\\n\\nОце жіночка росте ;)'),\n",
       " ('uk', 'RT @fabrytskk: найкраще https://t.co/fBYRznL1hA'),\n",
       " ('uk',\n",
       "  '@lera_chornei Є пекінес Марся (малюк❤), який почасти спить на мені і я просто не можу йти спати, бо розбуджу його,… https://t.co/VEpPFqBoIh'),\n",
       " ('uk',\n",
       "  'Перша година ночі.\\rЧим займається Лада?\\rЛада переглядає відео з моря, бо її пробрала ностальгія😅'),\n",
       " ('ru', '@Nastia_Levine чур я головна дружка😂'),\n",
       " ('uk', '@sergeykovaliov мої вітання ;)'),\n",
       " ('uk',\n",
       "  'RT @Dashka_Le: Зараз би сидіти на березі моря і бездумно дивитися вдалину'),\n",
       " ('und', 'RT @qooter2707: https://t.co/TIjKb5U9MP'),\n",
       " ('uk',\n",
       "  '@olia_princes видно ж фотошоп, особливо, на лівій руці)\\nскоріше за все, там, де мав би бути пупок, був небажаний надпис магазину ;)'),\n",
       " ('uk', '@_Rzaeva отак оце лайкай тебе\\n/lavoytko\\\\'),\n",
       " ('uk', '@_Rzaeva шо та, шо та задєлі чувства'),\n",
       " ('uk', \"@_Rzaeva а ще Мар'ям в інсті невзаємна!!!\"),\n",
       " ('uk', '@reality_peace Вдачі😇'),\n",
       " ('uk',\n",
       "  '@I_nonsenses нє, алік для простих смертних)\\n+ чекати довго, а мені вже терміни підбігають'),\n",
       " ('ru', '@doitnowwww радію за тебе!)\\n\\n/я ж казала, що все буде добре💋\\\\'),\n",
       " ('und', 'RT @archillect: https://t.co/Y5OA3NIRiP'),\n",
       " ('uk', '@Dashaaa5 добре тобі відпочити ;)'),\n",
       " ('und', '@Chippoloni 😉 https://t.co/YzgT5Ju7U6'),\n",
       " ('uk',\n",
       "  '@doitnowwww головне - не переживай, бо ти все знаєш, а на екзамені згадаєш навіть те, що не повторюєш перед екзаменом)\\nвдачі💋😉'),\n",
       " ('uk',\n",
       "  '@doitnowwww але я щиро сподіваюсь, що ти все здасиш і все у тебе буде добре ;)'),\n",
       " ('uk',\n",
       "  '@doitnowwww оскільки це буде показувати нездатність вчителів підготувати дітей до екзамену, а також те, що знання, які вони дають, хибні.'),\n",
       " ('uk',\n",
       "  '@doitnowwww дійсно, багато залежить від вчителів, але їм не вигідно завалювати дітей і за екзамен ставити нижчі оці… https://t.co/cVU7asBYGl'),\n",
       " ('uk', 'якщо діти - це квіти життя, то я не садівник😅'),\n",
       " ('uk', \"@nimnoho або ще 'не подобається, то не дивись!'😅\"),\n",
       " ('uk',\n",
       "  \"@nimnoho дуже складно, особливо, коли ця людина має свою думку на щот 'стіля', а той 'стіль' не стільний савсєм\"),\n",
       " ('uk', '@nimnoho нє, такі нє\\r\\rпросто полосаті - дуже класні'),\n",
       " ('uk', '@nimnoho нє, ну полосаті речі класні'),\n",
       " ('ru', '@martinovska_ ахахааха, ну це ж образно)'),\n",
       " ('uk',\n",
       "  'Діти, чого ви так паритесь через те ДПА?\\nВчителі хороші, ніхто вас не завалить, робіть шпаргалки і не переживайте😉'),\n",
       " ('uk',\n",
       "  'RT @desperateeee: Ми всі носим маски, та насправді ми всі одинакові. https://t.co/O7NxPgSEJY'),\n",
       " ('uk',\n",
       "  '@le_sorcier_noir а що як жінка сама собі не подобається без макіяжу?\\r\\r+ можна ж робити природній мейк-ап, який не в… https://t.co/l4CrFuqZxG'),\n",
       " ('ru', 'RT @treschenko24: Очень сильно.\\n https://t.co/7kXFncfKyA'),\n",
       " ('en', 'RT @bubblestbh: Me af https://t.co/K292an6vCC'),\n",
       " ('und', 'RT @youmaximalism: https://t.co/XsfJsAwkyh'),\n",
       " ('und', 'RT @youminimalism: https://t.co/On2LP0H9LW'),\n",
       " ('uk', '@Kv1ten Кожному своє ;)'),\n",
       " ('uk', 'бути самозакоханою егоїсткою не так вже й погано.'),\n",
       " ('uk', '@Dashaaa5 о це я'),\n",
       " ('uk',\n",
       "  '@Nastia_Levine всьооо, отлічноо, значить, буду замовляти\\n(якби можна було б, я б дала тобі в оренду😂)'),\n",
       " ('uk', '@nik_show скільки б віддав за таку?'),\n",
       " ('uk',\n",
       "  '@Olegalas у скорому часі буду мати таких декілька штук ;)\\nзможеш замовити, тобі віддам зі знижечкою))'),\n",
       " ('uk',\n",
       "  '@Olegalas огоо, навіть сам Декс хо футболочку з моїм дизайном\\n\\nможна вже тішитись?)'),\n",
       " ('uk',\n",
       "  '❗️ЕТЕНШН❗️\\n\\nТві, хотіли б собі таку футболочку? https://t.co/FZF4BlfPQJ'),\n",
       " ('uk', '@mk_Faradej Ой, ти теж не льсті😁'),\n",
       " ('ru', 'Ой, гороскоп, ну не льсті https://t.co/wUGj5x97UY'),\n",
       " ('ru', 'Не подходите слишком близко, я тигрёныш, а не киска!!!!'),\n",
       " ('uk', '@miss_sunshine57 Оо, а які босоніжки?'),\n",
       " ('uk',\n",
       "  'RT @shurik_bortsov: І якщо ти знову захочеш війну, ти натякай, ми повторим мою перемогу.'),\n",
       " ('uk', '@sandorski23 тобі який віршик треба?)'),\n",
       " ('ru', '@sandorski23 Ооо, я можу'),\n",
       " ('uk', '@Serg_Tarar пасібочкі)\\rА на рахунок фільму - він аж надто класний)'),\n",
       " ('uk',\n",
       "  'Із запізненням, але 2,5 годинки не пройшли дарма ;) https://t.co/odPG6ogg40'),\n",
       " ('uk', 'не дай шуму чужих думок перебити твій внутрішній голос.'),\n",
       " ('uk', '@Gvrtsss В серпні, Гварця, в серпні❤'),\n",
       " ('uk',\n",
       "  '@Gvrtsss В мене все літо в поїздках, вже через декілька тижнів їду з Острога і аж до липня, а потім знову і аж до серпня)'),\n",
       " ('uk', '@Gvrtsss В серпні вже)'),\n",
       " ('uk', '@Gvrtsss Я на кінець червня буду вже не вдома)'),\n",
       " ('uk',\n",
       "  '@kzelenetska то це не екзамен))\\nякщо вчителі у вас хороші, то дадуть списати, бо їм не вигідно, аби ви написали на… https://t.co/6pwT9pkzmq'),\n",
       " ('uk', '@kzelenetska ДПА чи ЗНО?'),\n",
       " ('ru', '@Gvrtsss не до мене, уви)'),\n",
       " ('uk', 'Мої зірки-квітки, до яких невимовно звикла🙈 https://t.co/dSf2XJZrT8'),\n",
       " ('uk',\n",
       "  'А от у вас вкладається в голові, що уже завтра останній дзвоник, а через 6 днів - літо?\\n\\nОт і у мене ні.'),\n",
       " ('uk', '@Gvrtsss Ой сонце, тоді відпускаю тебе)❤'),\n",
       " ('ru', '@Gvrtsss Ніпаняяятна. \\n\\nШо за хайп?😁'),\n",
       " ('uk', '@cookie_oliver А де красівий фотоотчьот?'),\n",
       " ('uk',\n",
       "  '@desperateeee хоча десь там трохи нижче був твіт пошуку перцевого балончику, бо Острог повен всяких різних нехороши… https://t.co/hXWwsj5psI'),\n",
       " ('uk', '@desperateeee але ні, я ще юна занадто для такого😅'),\n",
       " ('ru', '@desperateeee АЗАХАХАХХАА ВИНЕСЛО'),\n",
       " ('uk', '@desperateeee я теж не завжди😅\\n\\nале іноді пробиває на таке)'),\n",
       " ('uk',\n",
       "  '@desperateeee отооож😅\\n\\nале, знаєш, раніше я так само казала на морську капустку та кальмарів😍'),\n",
       " ('uk',\n",
       "  '@desperateeee Ооу, у мене це недавня любов, але господибоже, які ж вони смачні😍'),\n",
       " ('uk',\n",
       "  'Цілий день нити про мідії, прийти додому і побачити кг мідій - рай на землі😍\\nМамуля, ilu❤'),\n",
       " ('uk', 'Проблема команди РГМ-у в тому, що всю гру спихають на Борю🙄'),\n",
       " ('uk', '@__queenfrost__ Блін, ану перенось всі свої твіти класні сюди!'),\n",
       " ('ru', '@Olka3001 Ждужду'),\n",
       " ('uk', '@Olka3001 А тема твору яка була?'),\n",
       " ('uk', '@Olka3001 Важко було?'),\n",
       " ('uk', 'Як ваше ЗНО, острозькі?\\nРозказуйте.'),\n",
       " ('uk', '@hrybovskiy твій 30😉'),\n",
       " ('uk',\n",
       "  '@__danylynch сонце ясне, я запитую у Тві тільки через те, що у книжковому магазині я не знайшла жодного такого журналу/книжки ;)'),\n",
       " ('ru', 'л о ж н ы е  н а д е ж д ы'),\n",
       " ('uk', '@desperateeee Вдачі)'),\n",
       " ('uk',\n",
       "  'Ранку, мої наймиліші❤\\nВдалого вам початку тижня, а вам, ЗНОшники, терпіння😉'),\n",
       " ('uk', '@jupiter_ju оу, в нас однакові щоденники😁'),\n",
       " ('uk', '@Nastia_Levine Зберегла😍'),\n",
       " ('uk', 'Порадьте, де можна купити перцевий балончик в Острозі?'),\n",
       " ('uk',\n",
       "  '@miss_sunshine57 ти одна з нас, все втрачено😁\\n\\n/дорослі баби чи молоденькі?/'),\n",
       " ('uk',\n",
       "  \"Останній важкий тиждень школи пережито😉\\nЗалишилось ще тиждень походити 'для галочки'🙄\"),\n",
       " ('und', '#loveislove https://t.co/67DmO2za0e'),\n",
       " ('uk', 'А тепер давайте навчимо Ладу користуватись фейсбуком😁'),\n",
       " ('uk',\n",
       "  'Отоож, тві, го на фейсбук?😁\\nВсіх люблю, всіх прийму❤ https://t.co/Wwe6EPeCTB'),\n",
       " ('ru', '@Bojda1415 Додавайся ;) https://t.co/sK1mfd3SPT'),\n",
       " ('uk', '@happynun_in Вже відключив)'),\n",
       " ('uk', 'Дякую, #Київстар, за відключений вк!🙄\\n#Вконтакте'),\n",
       " ('uk',\n",
       "  'RT @ukrposhtag: Коли заблокували #ВКонтакте та #Однокласники, але тобі ще є що сказати https://t.co/8QiQruowUh'),\n",
       " ('ru', '@MR_ta_sha_ сильно.'),\n",
       " ('uk',\n",
       "  \"Заходиш у діалог, бачиш повідомлення: 'Бігав і фотографував тебе', не розумієш, що до чого, а там фоточки заходу сонця☀😇\\np.s. #яумамисонечко\"),\n",
       " ('uk', '@Mayovska_ Всмиислі'),\n",
       " ('ru', '@MR_ta_sha_ все-все, втрачай надію на краще'),\n",
       " ('uk',\n",
       "  '@MR_ta_sha_ боже тут просто комбо\\nдо мене на Ви і ще й підстраюватись під мене'),\n",
       " ('uk', '@MR_ta_sha_ все з вами втрачено'),\n",
       " ('uk', \"@MR_ta_sha_ щас би поняти тільки після мого раз'яснєнія\"),\n",
       " ('uk', '@MR_ta_sha_ ну там не твіти класні\\nа\\nлюди\\nякі\\nїх\\nпишуть\\n...'),\n",
       " ('uk', '@MR_ta_sha_ @Ironka_tw ну а тут щас перевод на особистості 😏'),\n",
       " ('uk', '@MR_ta_sha_ @Ironka_tw ну правильно, бо вона ж від мене😏'),\n",
       " ('en', 'Imagine Dragons - whatever it takes😁 https://t.co/OLpR9jcAhv'),\n",
       " ('uk', 'RT @sandorski23: @onlyforulonely Заєбісь, жизнь удалась ©Гварця'),\n",
       " ('uk', 'Те відчуття, коли Кінга дають на позакласне читання😏'),\n",
       " ('ru', 'RT @cliqqque: Состояние чисто: https://t.co/zbf7mOfkNm'),\n",
       " ('ru', '@MR_ta_sha_ АХАХХАХА, боже, дякую за твої твіти)))'),\n",
       " ('und', 'RT @archillect: https://t.co/QA0R8zEhuN'),\n",
       " ('uk', '@Zaveruxa2016 крик душі?😀')]"
      ]
     },
     "execution_count": 21,
     "metadata": {},
     "output_type": "execute_result"
    }
   ],
   "source": [
    "[(elem._json['lang'],elem._json['text']) for elem in tl]"
   ]
  },
  {
   "cell_type": "code",
   "execution_count": 24,
   "metadata": {
    "collapsed": false
   },
   "outputs": [
    {
     "data": {
      "text/plain": [
       "'uk'"
      ]
     },
     "execution_count": 24,
     "metadata": {},
     "output_type": "execute_result"
    }
   ],
   "source": [
    "detect(\"Ну нічого-нічого, скоро і моя інста стане популярною і всі будуть такі мол огоо Ладка яка ти класна, а я така оо дякую цьом-цьом.\")"
   ]
  },
  {
   "cell_type": "code",
   "execution_count": 12,
   "metadata": {
    "collapsed": false
   },
   "outputs": [
    {
     "data": {
      "text/plain": [
       "{'contributors_enabled': False,\n",
       " 'created_at': 'Sun Feb 15 18:20:38 +0000 2015',\n",
       " 'default_profile': False,\n",
       " 'default_profile_image': False,\n",
       " 'description': 'занадто хороша(загадкова) для цього світу. чому б вам не мислити позитивно? бути бажаною, але не бажати нікого. малюю, яжхудожник. make art, be art☀️ #УкрТві',\n",
       " 'entities': {'description': {'urls': []},\n",
       "  'url': {'urls': [{'display_url': 'instagram.com/lavoytko/',\n",
       "     'expanded_url': 'http://www.instagram.com/lavoytko/',\n",
       "     'indices': [0, 23],\n",
       "     'url': 'https://t.co/aQVTV4rjd4'}]}},\n",
       " 'favourites_count': 8970,\n",
       " 'follow_request_sent': False,\n",
       " 'followers_count': 742,\n",
       " 'following': False,\n",
       " 'friends_count': 407,\n",
       " 'geo_enabled': True,\n",
       " 'has_extended_profile': True,\n",
       " 'id': 3039405867,\n",
       " 'id_str': '3039405867',\n",
       " 'is_translation_enabled': False,\n",
       " 'is_translator': False,\n",
       " 'lang': 'uk',\n",
       " 'listed_count': 7,\n",
       " 'location': 'Ostroh',\n",
       " 'name': 'Ладка-загадка',\n",
       " 'notifications': False,\n",
       " 'profile_background_color': 'FFE1FF',\n",
       " 'profile_background_image_url': 'http://pbs.twimg.com/profile_background_images/680744166448586756/YzP1xEOs.jpg',\n",
       " 'profile_background_image_url_https': 'https://pbs.twimg.com/profile_background_images/680744166448586756/YzP1xEOs.jpg',\n",
       " 'profile_background_tile': False,\n",
       " 'profile_banner_url': 'https://pbs.twimg.com/profile_banners/3039405867/1487621844',\n",
       " 'profile_image_url': 'http://pbs.twimg.com/profile_images/833772292610064385/GCkqLpYQ_normal.jpg',\n",
       " 'profile_image_url_https': 'https://pbs.twimg.com/profile_images/833772292610064385/GCkqLpYQ_normal.jpg',\n",
       " 'profile_link_color': 'FA8072',\n",
       " 'profile_location': None,\n",
       " 'profile_sidebar_border_color': 'C0DEED',\n",
       " 'profile_sidebar_fill_color': 'DDEEF6',\n",
       " 'profile_text_color': '333333',\n",
       " 'profile_use_background_image': True,\n",
       " 'protected': False,\n",
       " 'screen_name': 'onlyforulonely',\n",
       " 'status': {'contributors': None,\n",
       "  'coordinates': None,\n",
       "  'created_at': 'Fri Jun 23 09:58:12 +0000 2017',\n",
       "  'entities': {'hashtags': [],\n",
       "   'symbols': [],\n",
       "   'urls': [],\n",
       "   'user_mentions': [{'id': 3251695756,\n",
       "     'id_str': '3251695756',\n",
       "     'indices': [0, 16],\n",
       "     'name': 'A n a s t a s i i a',\n",
       "     'screen_name': 'anastasiiareshe'}]},\n",
       "  'favorite_count': 1,\n",
       "  'favorited': False,\n",
       "  'geo': None,\n",
       "  'id': 878190442482982912,\n",
       "  'id_str': '878190442482982912',\n",
       "  'in_reply_to_screen_name': 'anastasiiareshe',\n",
       "  'in_reply_to_status_id': 878185832733171712,\n",
       "  'in_reply_to_status_id_str': '878185832733171712',\n",
       "  'in_reply_to_user_id': 3251695756,\n",
       "  'in_reply_to_user_id_str': '3251695756',\n",
       "  'is_quote_status': False,\n",
       "  'lang': 'uk',\n",
       "  'place': None,\n",
       "  'retweet_count': 0,\n",
       "  'retweeted': False,\n",
       "  'source': '<a href=\"http://www.twitter.com\" rel=\"nofollow\">Twitter for Windows</a>',\n",
       "  'text': '@anastasiiareshe Подякувала😇',\n",
       "  'truncated': False},\n",
       " 'statuses_count': 4323,\n",
       " 'time_zone': 'Kyiv',\n",
       " 'translator_type': 'none',\n",
       " 'url': 'https://t.co/aQVTV4rjd4',\n",
       " 'utc_offset': 10800,\n",
       " 'verified': False}"
      ]
     },
     "execution_count": 12,
     "metadata": {},
     "output_type": "execute_result"
    }
   ],
   "source": [
    "user_info._json"
   ]
  },
  {
   "cell_type": "code",
   "execution_count": 324,
   "metadata": {
    "collapsed": false
   },
   "outputs": [],
   "source": [
    "my_friends = get_account_network('ArnauAndreu')\n",
    "\n",
    "my_df = pd.DataFrame(my_followers)\n",
    "\n",
    "Counter([friend.lang for friend in my_friends])\n",
    "\n",
    "my_fr_txts, my_friends_lang = get_tweets_from_accounts(my_friends)\n",
    "\n",
    "#Counter(my_friends_lang)\n",
    "\n",
    "\n",
    "\n",
    "# my_fr_langs_detected=[]\n",
    "# for i,txt in enumerate(my_fr_txts):\n",
    "#     #print(i, txt)\n",
    "#     try:\n",
    "#         my_fr_langs_detected.append(detect(txt))\n",
    "#     except:\n",
    "#         continue\n",
    "\n",
    "#Counter(my_fr_langs_detected)\n",
    "\n",
    "usr_tl = get_account_tweets(my_friends[44].screen_name, max_num=10)\n",
    "\n",
    "df_try=pd.DataFrame([twt._json for twt in usr_tl])\n",
    "df_try.columns\n",
    "\n",
    "my_tl = get_account_tweets('ArnauAndreu', max_num=10)"
   ]
  },
  {
   "cell_type": "markdown",
   "metadata": {},
   "source": [
    "### MERGE DFs"
   ]
  },
  {
   "cell_type": "code",
   "execution_count": 218,
   "metadata": {
    "collapsed": true
   },
   "outputs": [],
   "source": [
    "#get hdf database keys\n",
    "with pd.HDFStore('lang_data.h5','r') as f:\n",
    "    my_keys = f.keys()"
   ]
  },
  {
   "cell_type": "code",
   "execution_count": 221,
   "metadata": {
    "collapsed": false
   },
   "outputs": [
    {
     "data": {
      "text/plain": [
       "['/ukr_nodes/news/BBC_ua/followers',\n",
       " '/ukr_nodes/news/BBC_ua/tls_followers',\n",
       " '/ukr_nodes/news/HromadskeUA/followers',\n",
       " '/ukr_nodes/news/HromadskeUA/tls_followers',\n",
       " '/ukr_nodes/news/LIGAnet/followers',\n",
       " '/ukr_nodes/news/LIGAnet/tls_followers',\n",
       " '/ukr_nodes/news/ukrpravda_news/followers',\n",
       " '/ukr/starsystem/s_vakarchuk/followers',\n",
       " '/ukr/starsystem/s_vakarchuk/tls_followers',\n",
       " '/ukr/politics/Vitaliy_Klychko/followers',\n",
       " '/ukr/politics/Vitaliy_Klychko/tls_followers',\n",
       " '/cat_nodes/news/LaVanguardia/followers',\n",
       " '/cat_nodes/news/LaVanguardia/tls_followers',\n",
       " '/cat_nodes/news/diariARA/followers',\n",
       " '/cat_nodes/news/diariARA/tls_followers',\n",
       " '/cat/news/elperiodico/followers',\n",
       " '/cat/news/elperiodico/tls_followers',\n",
       " '/cat/cities/TGNAjuntament/followers',\n",
       " '/cat/cities/TGNAjuntament/tls_followers',\n",
       " '/cat/cities/aj_vic/followers',\n",
       " '/cat/cities/aj_vic/tls_followers',\n",
       " '/cat/cities/ajterrassa/followers',\n",
       " '/cat/cities/ajterrassa/tls_followers',\n",
       " '/cat/cities/bcn_ajuntament/followers',\n",
       " '/cat/cities/bcn_ajuntament/tls_followers',\n",
       " '/cat/cities/girona_cat/followers',\n",
       " '/cat/cities/girona_cat/tls_followers']"
      ]
     },
     "execution_count": 221,
     "metadata": {},
     "output_type": "execute_result"
    }
   ],
   "source": [
    "my_keys"
   ]
  },
  {
   "cell_type": "code",
   "execution_count": 234,
   "metadata": {
    "collapsed": true
   },
   "outputs": [],
   "source": [
    "aa=pd.read_hdf('lang_data.h5', '/ukr_nodes/news/BBC_ua/followers')"
   ]
  },
  {
   "cell_type": "code",
   "execution_count": 235,
   "metadata": {
    "collapsed": false
   },
   "outputs": [
    {
     "data": {
      "text/plain": [
       "ru       2626\n",
       "uk       1770\n",
       "en        505\n",
       "pl         30\n",
       "ro         13\n",
       "en-gb      11\n",
       "hu          6\n",
       "ar          6\n",
       "tr          6\n",
       "es          4\n",
       "fr          3\n",
       "ja          3\n",
       "de          3\n",
       "pt          3\n",
       "sk          3\n",
       "ko          2\n",
       "bg          1\n",
       "it          1\n",
       "nl          1\n",
       "zh-cn       1\n",
       "el          1\n",
       "vi          1\n",
       "Name: lang, dtype: int64"
      ]
     },
     "execution_count": 235,
     "metadata": {},
     "output_type": "execute_result"
    }
   ],
   "source": [
    "aa['lang'].value_counts()"
   ]
  },
  {
   "cell_type": "code",
   "execution_count": 45,
   "metadata": {
    "collapsed": true
   },
   "outputs": [],
   "source": [
    "file_path = 'lang_data.h5'\n",
    "country = 'cat'\n",
    "acc_names = ['diariARA', 'LaVanguardia']\n",
    "load_node1 = '/' + country + '_nodes/news/' + acc_names[0] + '/tls_followers'\n",
    "load_node2 = '/' + country + '_nodes/news/' + acc_names[1] + '/tls_followers'\n",
    "\n",
    "df1 = pd.read_hdf(file_path, load_node1)\n",
    "df2 = pd.read_hdf(file_path, load_node2)"
   ]
  },
  {
   "cell_type": "code",
   "execution_count": 46,
   "metadata": {
    "collapsed": true
   },
   "outputs": [],
   "source": [
    "df_merged = pd.merge(df1, df2, how='outer')"
   ]
  },
  {
   "cell_type": "code",
   "execution_count": 47,
   "metadata": {
    "collapsed": false
   },
   "outputs": [
    {
     "data": {
      "text/plain": [
       "((44937, 2), (34461, 2), (12181, 2))"
      ]
     },
     "execution_count": 47,
     "metadata": {},
     "output_type": "execute_result"
    }
   ],
   "source": [
    "df_merged.shape, df1.shape, df2.shape"
   ]
  },
  {
   "cell_type": "code",
   "execution_count": 180,
   "metadata": {
    "collapsed": false
   },
   "outputs": [
    {
     "name": "stdout",
     "output_type": "stream",
     "text": [
      "Using matplotlib backend: MacOSX\n"
     ]
    },
    {
     "data": {
      "text/plain": [
       "<matplotlib.legend.Legend at 0x12a432550>"
      ]
     },
     "execution_count": 180,
     "metadata": {},
     "output_type": "execute_result"
    }
   ],
   "source": [
    "%matplotlib\n",
    "from matplotlib import pyplot as plt\n"
   ]
  },
  {
   "cell_type": "markdown",
   "metadata": {},
   "source": [
    "### TWITTER RANDOM WALK"
   ]
  },
  {
   "cell_type": "markdown",
   "metadata": {},
   "source": [
    "#### Work out city's lingua franca out of random inhabitants that are also Twitter users"
   ]
  },
  {
   "cell_type": "markdown",
   "metadata": {
    "collapsed": true
   },
   "source": [
    "1. Start from mayor, city hall account, or any other relevant account based in the city.\n",
    "\n",
    "2. Get a follower from the city (or county, oblast) as first node ( Check this follower \n",
    "   has sufficient tweets and followers)\n",
    "\n",
    "3. Get follower of step2 node\n",
    "\n",
    "4. Repeat step3 with new nodes until max number of nodes is reached"
   ]
  },
  {
   "cell_type": "code",
   "execution_count": 350,
   "metadata": {
    "collapsed": false
   },
   "outputs": [
    {
     "name": "stderr",
     "output_type": "stream",
     "text": [
      "0%                          100%\n",
      "[#########                     ] | ETA: 00:01:04"
     ]
    },
    {
     "name": "stdout",
     "output_type": "stream",
     "text": [
      "Rate limit reached. Sleeping for: 874\n",
      "fallen here"
     ]
    },
    {
     "name": "stderr",
     "output_type": "stream",
     "text": [
      "[##################            ] | ETA: 00:11:04"
     ]
    },
    {
     "name": "stdout",
     "output_type": "stream",
     "text": [
      "\n",
      "Failed to send request: HTTPSConnectionPool(host='api.twitter.com', port=443): Read timed out. (read timeout=60)\n",
      "Rate limit reached. Sleeping for: 868\n",
      "fallen here"
     ]
    },
    {
     "name": "stderr",
     "output_type": "stream",
     "text": [
      "[###########################   ] | ETA: 00:03:34"
     ]
    },
    {
     "name": "stdout",
     "output_type": "stream",
     "text": [
      "\n",
      "Failed to send request: HTTPSConnectionPool(host='api.twitter.com', port=443): Read timed out. (read timeout=60)\n",
      "Rate limit reached. Sleeping for: 868\n",
      "fallen here"
     ]
    },
    {
     "name": "stderr",
     "output_type": "stream",
     "text": [
      "[##############################] | ETA: 00:00:00"
     ]
    },
    {
     "name": "stdout",
     "output_type": "stream",
     "text": [
      "\n",
      "Failed to send request: HTTPSConnectionPool(host='api.twitter.com', port=443): Read timed out. (read timeout=60)\n"
     ]
    },
    {
     "name": "stderr",
     "output_type": "stream",
     "text": [
      "\n",
      "Total time elapsed: 00:47:23\n",
      "\n",
      "Total time elapsed: 00:47:23\n",
      "\n",
      "Total time elapsed: 00:47:23\n",
      "\n",
      "Total time elapsed: 00:47:23\n"
     ]
    }
   ],
   "source": [
    "#use key words ['Kiev','Kyiv',]\n",
    "# r\"(Kiev|Kyiv|Київ|Киев)\"\n",
    "account_name = 'Leshchenkos'\n",
    "key_words = ['Україна', 'Ukraine', 'Украина','Kiev' ,'Kyiv' ,'Київ' ,'Киев']\n",
    "acc_ntw = get_account_network(account_name, rel_type='followers', \n",
    "                              max_num =10000, key_words=key_words, min_num_tweets=10)"
   ]
  },
  {
   "cell_type": "code",
   "execution_count": 374,
   "metadata": {
    "collapsed": false
   },
   "outputs": [],
   "source": [
    "Lesch_follws = [(acc.statuses_count, acc.lang, acc.screen_name, acc.followers_count, acc.friends_count, acc.location) \n",
    "                 for acc in acc_ntw if re.findall(r\"Kiev|Kyiv|Киї|Киев\", acc.location) and \n",
    "                 acc.statuses_count > 50 and acc.lang in ['ru', 'uk']]"
   ]
  },
  {
   "cell_type": "code",
   "execution_count": 391,
   "metadata": {
    "collapsed": false
   },
   "outputs": [],
   "source": [
    "#Lesch_follws"
   ]
  },
  {
   "cell_type": "code",
   "execution_count": 370,
   "metadata": {
    "collapsed": false
   },
   "outputs": [],
   "source": [
    "bb=list(zip(*Lesch_follws))\n",
    "col_keys = ['statuses_count', \"lang\", 'screen_name', 'followers_count', 'friends_count', 'location']\n",
    "d_bb = {key:val for key,val in zip(col_keys,bb)}"
   ]
  },
  {
   "cell_type": "code",
   "execution_count": 390,
   "metadata": {
    "collapsed": false
   },
   "outputs": [],
   "source": [
    "#pd.DataFrame(d_bb).sort_values(by=\"statuses_count\", ascending=False)"
   ]
  },
  {
   "cell_type": "code",
   "execution_count": null,
   "metadata": {
    "collapsed": true
   },
   "outputs": [],
   "source": [
    "class RandomWalkCityTweets:\n",
    "    pass"
   ]
  },
  {
   "cell_type": "code",
   "execution_count": 342,
   "metadata": {
    "collapsed": true
   },
   "outputs": [],
   "source": [
    "Kl_follwrs = pd.read_hdf('lang_data.h5', '/ukr/politics/Vitaliy_Klychko/followers')"
   ]
  },
  {
   "cell_type": "code",
   "execution_count": 346,
   "metadata": {
    "collapsed": false
   },
   "outputs": [
    {
     "data": {
      "text/html": [
       "<div>\n",
       "<table border=\"1\" class=\"dataframe\">\n",
       "  <thead>\n",
       "    <tr style=\"text-align: right;\">\n",
       "      <th></th>\n",
       "      <th>screen_name</th>\n",
       "      <th>followers_count</th>\n",
       "    </tr>\n",
       "  </thead>\n",
       "  <tbody>\n",
       "    <tr>\n",
       "      <th>55</th>\n",
       "      <td>AnPrikhodko</td>\n",
       "      <td>209429</td>\n",
       "    </tr>\n",
       "    <tr>\n",
       "      <th>756</th>\n",
       "      <td>interfaxua</td>\n",
       "      <td>88046</td>\n",
       "    </tr>\n",
       "    <tr>\n",
       "      <th>2223</th>\n",
       "      <td>AmbHagstrom</td>\n",
       "      <td>3129</td>\n",
       "    </tr>\n",
       "    <tr>\n",
       "      <th>139</th>\n",
       "      <td>YouScan</td>\n",
       "      <td>2809</td>\n",
       "    </tr>\n",
       "    <tr>\n",
       "      <th>255</th>\n",
       "      <td>Starckad</td>\n",
       "      <td>1906</td>\n",
       "    </tr>\n",
       "    <tr>\n",
       "      <th>2523</th>\n",
       "      <td>serhiykiral</td>\n",
       "      <td>1009</td>\n",
       "    </tr>\n",
       "    <tr>\n",
       "      <th>1841</th>\n",
       "      <td>Tardigrrrada</td>\n",
       "      <td>1001</td>\n",
       "    </tr>\n",
       "    <tr>\n",
       "      <th>720</th>\n",
       "      <td>AlexKhrebet</td>\n",
       "      <td>934</td>\n",
       "    </tr>\n",
       "    <tr>\n",
       "      <th>2131</th>\n",
       "      <td>bohomol1841</td>\n",
       "      <td>710</td>\n",
       "    </tr>\n",
       "    <tr>\n",
       "      <th>1701</th>\n",
       "      <td>PBest</td>\n",
       "      <td>622</td>\n",
       "    </tr>\n",
       "    <tr>\n",
       "      <th>3160</th>\n",
       "      <td>valentindjim</td>\n",
       "      <td>479</td>\n",
       "    </tr>\n",
       "    <tr>\n",
       "      <th>838</th>\n",
       "      <td>OleHorpestad</td>\n",
       "      <td>429</td>\n",
       "    </tr>\n",
       "    <tr>\n",
       "      <th>2136</th>\n",
       "      <td>LightsvSv</td>\n",
       "      <td>328</td>\n",
       "    </tr>\n",
       "    <tr>\n",
       "      <th>4270</th>\n",
       "      <td>AnastasijaKaram</td>\n",
       "      <td>271</td>\n",
       "    </tr>\n",
       "    <tr>\n",
       "      <th>1308</th>\n",
       "      <td>edele4ka</td>\n",
       "      <td>264</td>\n",
       "    </tr>\n",
       "    <tr>\n",
       "      <th>2988</th>\n",
       "      <td>Prosto_Mark</td>\n",
       "      <td>220</td>\n",
       "    </tr>\n",
       "    <tr>\n",
       "      <th>1807</th>\n",
       "      <td>Akiraigo</td>\n",
       "      <td>179</td>\n",
       "    </tr>\n",
       "    <tr>\n",
       "      <th>4443</th>\n",
       "      <td>darialeksy</td>\n",
       "      <td>149</td>\n",
       "    </tr>\n",
       "    <tr>\n",
       "      <th>335</th>\n",
       "      <td>KatiaNeznayko</td>\n",
       "      <td>144</td>\n",
       "    </tr>\n",
       "    <tr>\n",
       "      <th>1278</th>\n",
       "      <td>vzhernovoy</td>\n",
       "      <td>107</td>\n",
       "    </tr>\n",
       "    <tr>\n",
       "      <th>3752</th>\n",
       "      <td>valintin1988</td>\n",
       "      <td>90</td>\n",
       "    </tr>\n",
       "    <tr>\n",
       "      <th>4230</th>\n",
       "      <td>TanjaNifontova</td>\n",
       "      <td>83</td>\n",
       "    </tr>\n",
       "    <tr>\n",
       "      <th>2903</th>\n",
       "      <td>maksimmasliy</td>\n",
       "      <td>64</td>\n",
       "    </tr>\n",
       "  </tbody>\n",
       "</table>\n",
       "</div>"
      ],
      "text/plain": [
       "          screen_name  followers_count\n",
       "55        AnPrikhodko           209429\n",
       "756        interfaxua            88046\n",
       "2223      AmbHagstrom             3129\n",
       "139           YouScan             2809\n",
       "255          Starckad             1906\n",
       "2523      serhiykiral             1009\n",
       "1841     Tardigrrrada             1001\n",
       "720       AlexKhrebet              934\n",
       "2131      bohomol1841              710\n",
       "1701            PBest              622\n",
       "3160     valentindjim              479\n",
       "838      OleHorpestad              429\n",
       "2136        LightsvSv              328\n",
       "4270  AnastasijaKaram              271\n",
       "1308         edele4ka              264\n",
       "2988      Prosto_Mark              220\n",
       "1807         Akiraigo              179\n",
       "4443       darialeksy              149\n",
       "335     KatiaNeznayko              144\n",
       "1278       vzhernovoy              107\n",
       "3752     valintin1988               90\n",
       "4230   TanjaNifontova               83\n",
       "2903     maksimmasliy               64"
      ]
     },
     "execution_count": 346,
     "metadata": {},
     "output_type": "execute_result"
    }
   ],
   "source": [
    "Kl_follwrs[['screen_name', 'followers_count']][(Kl_follwrs['statuses_count'] > 100) & \n",
    "                                               (Kl_follwrs['followers_count'] > 50) &\n",
    "                                               (Kl_follwrs['location'].str.contains(r\"Kiev|Kyiv|Київ|Киев\"))].sort_values(by='followers_count',\n",
    "                                                                                                    ascending=False)"
   ]
  },
  {
   "cell_type": "code",
   "execution_count": 345,
   "metadata": {
    "collapsed": false
   },
   "outputs": [
    {
     "ename": "KeyboardInterrupt",
     "evalue": "",
     "output_type": "error",
     "traceback": [
      "\u001b[0;31m---------------------------------------------------------------------------\u001b[0m",
      "\u001b[0;31mTweepError\u001b[0m                                Traceback (most recent call last)",
      "\u001b[0;32m<ipython-input-267-fb24b83a376b>\u001b[0m in \u001b[0;36mget_account_tweets\u001b[0;34m(account_name, max_num_twts)\u001b[0m\n\u001b[1;32m     15\u001b[0m         \u001b[0;32mtry\u001b[0m\u001b[0;34m:\u001b[0m\u001b[0;34m\u001b[0m\u001b[0m\n\u001b[0;32m---> 16\u001b[0;31m             \u001b[0mtw\u001b[0m \u001b[0;34m=\u001b[0m \u001b[0mnext\u001b[0m\u001b[0;34m(\u001b[0m\u001b[0mtimeline\u001b[0m\u001b[0;34m)\u001b[0m\u001b[0;34m\u001b[0m\u001b[0m\n\u001b[0m\u001b[1;32m     17\u001b[0m             \u001b[0mlist_tweets\u001b[0m\u001b[0;34m.\u001b[0m\u001b[0mappend\u001b[0m\u001b[0;34m(\u001b[0m\u001b[0mtw\u001b[0m\u001b[0;34m)\u001b[0m\u001b[0;34m\u001b[0m\u001b[0m\n",
      "\u001b[0;32m//anaconda/lib/python3.5/site-packages/tweepy/cursor.py\u001b[0m in \u001b[0;36m__next__\u001b[0;34m(self)\u001b[0m\n\u001b[1;32m     48\u001b[0m     \u001b[0;32mdef\u001b[0m \u001b[0m__next__\u001b[0m\u001b[0;34m(\u001b[0m\u001b[0mself\u001b[0m\u001b[0;34m)\u001b[0m\u001b[0;34m:\u001b[0m\u001b[0;34m\u001b[0m\u001b[0m\n\u001b[0;32m---> 49\u001b[0;31m         \u001b[0;32mreturn\u001b[0m \u001b[0mself\u001b[0m\u001b[0;34m.\u001b[0m\u001b[0mnext\u001b[0m\u001b[0;34m(\u001b[0m\u001b[0;34m)\u001b[0m\u001b[0;34m\u001b[0m\u001b[0m\n\u001b[0m\u001b[1;32m     50\u001b[0m \u001b[0;34m\u001b[0m\u001b[0m\n",
      "\u001b[0;32m//anaconda/lib/python3.5/site-packages/tweepy/cursor.py\u001b[0m in \u001b[0;36mnext\u001b[0;34m(self)\u001b[0m\n\u001b[1;32m    196\u001b[0m             \u001b[0;31m# Reached end of current page, get the next page...\u001b[0m\u001b[0;34m\u001b[0m\u001b[0;34m\u001b[0m\u001b[0m\n\u001b[0;32m--> 197\u001b[0;31m             \u001b[0mself\u001b[0m\u001b[0;34m.\u001b[0m\u001b[0mcurrent_page\u001b[0m \u001b[0;34m=\u001b[0m \u001b[0mself\u001b[0m\u001b[0;34m.\u001b[0m\u001b[0mpage_iterator\u001b[0m\u001b[0;34m.\u001b[0m\u001b[0mnext\u001b[0m\u001b[0;34m(\u001b[0m\u001b[0;34m)\u001b[0m\u001b[0;34m\u001b[0m\u001b[0m\n\u001b[0m\u001b[1;32m    198\u001b[0m             \u001b[0mself\u001b[0m\u001b[0;34m.\u001b[0m\u001b[0mpage_index\u001b[0m \u001b[0;34m=\u001b[0m \u001b[0;34m-\u001b[0m\u001b[0;36m1\u001b[0m\u001b[0;34m\u001b[0m\u001b[0m\n",
      "\u001b[0;32m//anaconda/lib/python3.5/site-packages/tweepy/cursor.py\u001b[0m in \u001b[0;36mnext\u001b[0;34m(self)\u001b[0m\n\u001b[1;32m    107\u001b[0m         \u001b[0;32mif\u001b[0m \u001b[0mself\u001b[0m\u001b[0;34m.\u001b[0m\u001b[0mindex\u001b[0m \u001b[0;34m>=\u001b[0m \u001b[0mlen\u001b[0m\u001b[0;34m(\u001b[0m\u001b[0mself\u001b[0m\u001b[0;34m.\u001b[0m\u001b[0mresults\u001b[0m\u001b[0;34m)\u001b[0m \u001b[0;34m-\u001b[0m \u001b[0;36m1\u001b[0m\u001b[0;34m:\u001b[0m\u001b[0;34m\u001b[0m\u001b[0m\n\u001b[0;32m--> 108\u001b[0;31m             \u001b[0mdata\u001b[0m \u001b[0;34m=\u001b[0m \u001b[0mself\u001b[0m\u001b[0;34m.\u001b[0m\u001b[0mmethod\u001b[0m\u001b[0;34m(\u001b[0m\u001b[0mmax_id\u001b[0m\u001b[0;34m=\u001b[0m\u001b[0mself\u001b[0m\u001b[0;34m.\u001b[0m\u001b[0mmax_id\u001b[0m\u001b[0;34m,\u001b[0m \u001b[0mparser\u001b[0m\u001b[0;34m=\u001b[0m\u001b[0mRawParser\u001b[0m\u001b[0;34m(\u001b[0m\u001b[0;34m)\u001b[0m\u001b[0;34m,\u001b[0m \u001b[0;34m*\u001b[0m\u001b[0mself\u001b[0m\u001b[0;34m.\u001b[0m\u001b[0margs\u001b[0m\u001b[0;34m,\u001b[0m \u001b[0;34m**\u001b[0m\u001b[0mself\u001b[0m\u001b[0;34m.\u001b[0m\u001b[0mkargs\u001b[0m\u001b[0;34m)\u001b[0m\u001b[0;34m\u001b[0m\u001b[0m\n\u001b[0m\u001b[1;32m    109\u001b[0m \u001b[0;34m\u001b[0m\u001b[0m\n",
      "\u001b[0;32m//anaconda/lib/python3.5/site-packages/tweepy/binder.py\u001b[0m in \u001b[0;36m_call\u001b[0;34m(*args, **kwargs)\u001b[0m\n\u001b[1;32m    244\u001b[0m         \u001b[0;32melse\u001b[0m\u001b[0;34m:\u001b[0m\u001b[0;34m\u001b[0m\u001b[0m\n\u001b[0;32m--> 245\u001b[0;31m             \u001b[0;32mreturn\u001b[0m \u001b[0mmethod\u001b[0m\u001b[0;34m.\u001b[0m\u001b[0mexecute\u001b[0m\u001b[0;34m(\u001b[0m\u001b[0;34m)\u001b[0m\u001b[0;34m\u001b[0m\u001b[0m\n\u001b[0m\u001b[1;32m    246\u001b[0m \u001b[0;34m\u001b[0m\u001b[0m\n",
      "\u001b[0;32m//anaconda/lib/python3.5/site-packages/tweepy/binder.py\u001b[0m in \u001b[0;36mexecute\u001b[0;34m(self)\u001b[0m\n\u001b[1;32m    228\u001b[0m                 \u001b[0;32melse\u001b[0m\u001b[0;34m:\u001b[0m\u001b[0;34m\u001b[0m\u001b[0m\n\u001b[0;32m--> 229\u001b[0;31m                     \u001b[0;32mraise\u001b[0m \u001b[0mTweepError\u001b[0m\u001b[0;34m(\u001b[0m\u001b[0merror_msg\u001b[0m\u001b[0;34m,\u001b[0m \u001b[0mresp\u001b[0m\u001b[0;34m,\u001b[0m \u001b[0mapi_code\u001b[0m\u001b[0;34m=\u001b[0m\u001b[0mapi_error_code\u001b[0m\u001b[0;34m)\u001b[0m\u001b[0;34m\u001b[0m\u001b[0m\n\u001b[0m\u001b[1;32m    230\u001b[0m \u001b[0;34m\u001b[0m\u001b[0m\n",
      "\u001b[0;31mTweepError\u001b[0m: Twitter error response: status code = 404",
      "\nDuring handling of the above exception, another exception occurred:\n",
      "\u001b[0;31mKeyboardInterrupt\u001b[0m                         Traceback (most recent call last)",
      "\u001b[0;32m<ipython-input-345-768cc729a6c2>\u001b[0m in \u001b[0;36m<module>\u001b[0;34m()\u001b[0m\n\u001b[0;32m----> 1\u001b[0;31m \u001b[0mww\u001b[0m\u001b[0;34m=\u001b[0m \u001b[0mget_account_tweets\u001b[0m\u001b[0;34m(\u001b[0m\u001b[0;34m'AnastasijaKaram'\u001b[0m\u001b[0;34m,\u001b[0m \u001b[0mmax_num_twts\u001b[0m\u001b[0;34m=\u001b[0m\u001b[0;36m20\u001b[0m\u001b[0;34m)\u001b[0m\u001b[0;34m\u001b[0m\u001b[0m\n\u001b[0m",
      "\u001b[0;32m<ipython-input-267-fb24b83a376b>\u001b[0m in \u001b[0;36mget_account_tweets\u001b[0;34m(account_name, max_num_twts)\u001b[0m\n\u001b[1;32m     22\u001b[0m                 \u001b[0;32mbreak\u001b[0m\u001b[0;34m\u001b[0m\u001b[0m\n\u001b[1;32m     23\u001b[0m             \u001b[0;32melse\u001b[0m\u001b[0;34m:\u001b[0m\u001b[0;34m\u001b[0m\u001b[0m\n\u001b[0;32m---> 24\u001b[0;31m                 \u001b[0mtime\u001b[0m\u001b[0;34m.\u001b[0m\u001b[0msleep\u001b[0m\u001b[0;34m(\u001b[0m\u001b[0;36m60\u001b[0m\u001b[0;34m*\u001b[0m\u001b[0;36m15\u001b[0m\u001b[0;34m)\u001b[0m\u001b[0;34m\u001b[0m\u001b[0m\n\u001b[0m\u001b[1;32m     25\u001b[0m                 \u001b[0mtw\u001b[0m \u001b[0;34m=\u001b[0m \u001b[0mnext\u001b[0m\u001b[0;34m(\u001b[0m\u001b[0mtimeline\u001b[0m\u001b[0;34m)\u001b[0m\u001b[0;34m\u001b[0m\u001b[0m\n\u001b[1;32m     26\u001b[0m         \u001b[0;32mexcept\u001b[0m \u001b[0mStopIteration\u001b[0m\u001b[0;34m:\u001b[0m\u001b[0;34m\u001b[0m\u001b[0m\n",
      "\u001b[0;31mKeyboardInterrupt\u001b[0m: "
     ]
    }
   ],
   "source": [
    "ww= get_account_tweets('AnastasijaKaram', max_num_twts=20)"
   ]
  },
  {
   "cell_type": "code",
   "execution_count": 70,
   "metadata": {
    "collapsed": true
   },
   "outputs": [],
   "source": [
    "cit_obl = ['Біла Церква', 'Бровари', 'Бориспіль', 'Фастів', 'Ірпінь',\n",
    "        'Васильків', 'Боярка', 'Вишневе', 'Обухів',\n",
    "        'Переяслав-Хмельницький', 'Буча', 'Славутич', 'Яготин', 'Вишгород',\n",
    "        'Сквира', 'Березань', 'Богуслав', 'Тетіїв', 'Українка', 'Кагарлик',\n",
    "        'Тараща', 'Миронівка', 'Узин', 'Ржищів', 'Чорнобиль', \"Прип'ять\"]"
   ]
  },
  {
   "cell_type": "code",
   "execution_count": 71,
   "metadata": {
    "collapsed": false
   },
   "outputs": [
    {
     "name": "stderr",
     "output_type": "stream",
     "text": [
      "0%                          100%\n",
      "[##############################] | ETA: 00:00:00\n",
      "Total time elapsed: 00:00:06\n"
     ]
    }
   ],
   "source": [
    "acc_ntw = get_account_network('huyova_bc', rel_type='followers', max_num =200, key_words=None)"
   ]
  },
  {
   "cell_type": "code",
   "execution_count": 72,
   "metadata": {
    "collapsed": false
   },
   "outputs": [],
   "source": [
    "list_data = [(acc._json['followers_count'], \n",
    "  acc._json['statuses_count'], \n",
    "  acc._json['screen_name'], \n",
    "  acc._json['location'], \n",
    "  acc._json['lang']) for acc in acc_ntw]\n",
    "\n",
    "df = pd.DataFrame(list_data, columns = ['followers_count','statuses_count','screen_name', 'location', 'lang'])"
   ]
  },
  {
   "cell_type": "code",
   "execution_count": 79,
   "metadata": {
    "collapsed": false
   },
   "outputs": [
    {
     "data": {
      "text/plain": [
       "array(['Worldwide', 'Москва, Россия', 'Kyrzbekistan (Кырзбекистан)',\n",
       "       'Ukraine ', 'Киев', 'Краматорск, Украина', 'Львів', 'Украина', '',\n",
       "       'Kyiv', '', 'Україна', '', 'Україна', 'Zhytomyr', 'Украина',\n",
       "       'SPACE', '', '', 'Санкт-Петербург, Россия', 'Украина', '', 'Минск',\n",
       "       'Царствие Небесное', 'Украина -Донецк! ', 'Житомир', '',\n",
       "       'Днепропетровск', 'МОСКВА ГРОБ', 'Aфины', '', '', '',\n",
       "       'Ukraine, Dnepr', '', 'Івано-Франківськ0954573994', '',\n",
       "       'Львів, Україна ', '', '', '', 'Ukraina', 'г. Николаев', 'Украина',\n",
       "       '', '', '', '', 'Украина', '', 'Miami, FL', 'Detroit, MI',\n",
       "       'United States', 'Україна', '', '', 'Украина', 'EU, Latvia', 'Киев',\n",
       "       '', 'Oleshky, Ukraine', 'Украина', 'Украина, Николаев',\n",
       "       'Динамо Київ', '', 'Россия', 'Dnipro', 'Россия', 'Харків', '', '',\n",
       "       '', '', '', '', 'Старобільськ', 'борисполь',\n",
       "       'Strawberry Fields, Ruthenia', '', 'Львів, Україна | Lviv, Ukraine',\n",
       "       'Украина', 'Украина', 'Украина', '', 'United States', '', '',\n",
       "       'Україна єдина', 'Украина', 'мій рідний край моя земля', 'Kiev', '',\n",
       "       '', 'Украина Лисичанск', '', 'Кремль', 'КрамАТОрськ', 'харків', '',\n",
       "       '', '', '', '', '', 'Украина, Киев ', '', 'Україна', '', 'Донецк',\n",
       "       'Kiev Ukraine', 'Украина', 'Украина', '', 'Запорізька область', '',\n",
       "       'Донецк, Украина', 'Україна, Київ', '', '', '', '', '',\n",
       "       'Ukraine, Kiev ', 'rotterdam', 'Україна', '', 'Ukraine', '',\n",
       "       'Rossiya', '', '', '', '', 'Україна', 'Планета земля', '',\n",
       "       'Kyiv, Ukraine', '', '', '', '', '', 'Новосибирск', '', '', '',\n",
       "       'Украина', '', 'Біла Церква', '', '', '',\n",
       "       'Красноармейск, Донецкой област', '', 'канів', '', '',\n",
       "       'Чернігів - найрідніше місто', 'Katowice, Polska', 'Киев', '', '',\n",
       "       '', 'Украина', '', '', '', 'Біла Церква', 'Біла Церква', 'Беларусь',\n",
       "       '', '', '', 'На диване', 'Ukraine, Bila Tserkva', 'Курган, Россия',\n",
       "       '', 'В ЖОПЕ', '', '', '', '', '', '', 'Україна', '', '', 'Украина',\n",
       "       'біла церква', '', '', '', '', '', '', '', '', '', '', ''], dtype=object)"
      ]
     },
     "execution_count": 79,
     "metadata": {},
     "output_type": "execute_result"
    }
   ],
   "source": [
    "df_sorted = df.sort_values(by='followers_count', ascending=False)\n",
    "df_sorted['location'].values"
   ]
  },
  {
   "cell_type": "code",
   "execution_count": 47,
   "metadata": {
    "collapsed": false
   },
   "outputs": [
    {
     "data": {
      "text/plain": [
       "{'blocked_by': False,\n",
       " 'blocking': False,\n",
       " 'contributors_enabled': False,\n",
       " 'created_at': 'Sat Jul 14 14:47:34 +0000 2012',\n",
       " 'default_profile': False,\n",
       " 'default_profile_image': False,\n",
       " 'description': '',\n",
       " 'entities': {'description': {'urls': []}},\n",
       " 'favourites_count': 40,\n",
       " 'follow_request_sent': False,\n",
       " 'followers_count': 1,\n",
       " 'following': False,\n",
       " 'friends_count': 24,\n",
       " 'geo_enabled': True,\n",
       " 'has_extended_profile': False,\n",
       " 'id': 635511528,\n",
       " 'id_str': '635511528',\n",
       " 'is_translation_enabled': False,\n",
       " 'is_translator': False,\n",
       " 'lang': 'uk',\n",
       " 'listed_count': 0,\n",
       " 'live_following': False,\n",
       " 'location': 'Чернігів',\n",
       " 'muting': False,\n",
       " 'name': 'ЇZHAK💙💛',\n",
       " 'notifications': False,\n",
       " 'profile_background_color': '000000',\n",
       " 'profile_background_image_url': 'http://abs.twimg.com/images/themes/theme14/bg.gif',\n",
       " 'profile_background_image_url_https': 'https://abs.twimg.com/images/themes/theme14/bg.gif',\n",
       " 'profile_background_tile': False,\n",
       " 'profile_banner_url': 'https://pbs.twimg.com/profile_banners/635511528/1473463725',\n",
       " 'profile_image_url': 'http://pbs.twimg.com/profile_images/874988137776377857/WlvqkaQ2_normal.jpg',\n",
       " 'profile_image_url_https': 'https://pbs.twimg.com/profile_images/874988137776377857/WlvqkaQ2_normal.jpg',\n",
       " 'profile_link_color': 'FA743E',\n",
       " 'profile_sidebar_border_color': '000000',\n",
       " 'profile_sidebar_fill_color': '000000',\n",
       " 'profile_text_color': '000000',\n",
       " 'profile_use_background_image': False,\n",
       " 'protected': False,\n",
       " 'screen_name': 'EzhMan_UA',\n",
       " 'statuses_count': 0,\n",
       " 'time_zone': 'Kyiv',\n",
       " 'translator_type': 'none',\n",
       " 'url': None,\n",
       " 'utc_offset': 10800,\n",
       " 'verified': False}"
      ]
     },
     "execution_count": 47,
     "metadata": {},
     "output_type": "execute_result"
    }
   ],
   "source": [
    "acc_ntw[0]._json"
   ]
  },
  {
   "cell_type": "markdown",
   "metadata": {},
   "source": [
    "### GET NODES IN HDF FILE"
   ]
  },
  {
   "cell_type": "code",
   "execution_count": 64,
   "metadata": {
    "collapsed": false
   },
   "outputs": [],
   "source": [
    "with pd.HDFStore('lang_data.h5') as f:\n",
    "    list_nodes = f.keys()"
   ]
  },
  {
   "cell_type": "code",
   "execution_count": 65,
   "metadata": {
    "collapsed": false
   },
   "outputs": [
    {
     "data": {
      "text/plain": [
       "['/ukr_nodes/news/BBC_ua/followers',\n",
       " '/ukr_nodes/news/BBC_ua/tls_followers',\n",
       " '/ukr_nodes/news/HromadskeUA/followers',\n",
       " '/ukr_nodes/news/HromadskeUA/tls_followers',\n",
       " '/ukr_nodes/news/LIGAnet/followers',\n",
       " '/ukr_nodes/news/LIGAnet/tls_followers',\n",
       " '/ukr_nodes/news/ukrpravda_news/followers',\n",
       " '/ukr/starsystem/s_vakarchuk/followers',\n",
       " '/ukr/starsystem/s_vakarchuk/tls_followers',\n",
       " '/ukr/politics/Vitaliy_Klychko/followers',\n",
       " '/ukr/politics/Vitaliy_Klychko/tls_followers',\n",
       " '/ukr/politics/andriy_sadovyi/followers',\n",
       " '/ukr/politics/poroshenko/followers',\n",
       " '/cat_nodes/news/LaVanguardia/followers',\n",
       " '/cat_nodes/news/LaVanguardia/tls_followers',\n",
       " '/cat_nodes/news/diariARA/followers',\n",
       " '/cat_nodes/news/diariARA/tls_followers',\n",
       " '/cat/news/elperiodico/followers',\n",
       " '/cat/news/elperiodico/tls_followers',\n",
       " '/cat/cities/AjBadalona/followers',\n",
       " '/cat/cities/AjBadalona/tls_followers',\n",
       " '/cat/cities/TGNAjuntament/followers',\n",
       " '/cat/cities/TGNAjuntament/tls_followers',\n",
       " '/cat/cities/aj_vic/followers',\n",
       " '/cat/cities/aj_vic/tls_followers',\n",
       " '/cat/cities/ajterrassa/followers',\n",
       " '/cat/cities/ajterrassa/tls_followers',\n",
       " '/cat/cities/bcn_ajuntament/followers',\n",
       " '/cat/cities/bcn_ajuntament/tls_followers',\n",
       " '/cat/cities/girona_cat/followers',\n",
       " '/cat/cities/girona_cat/tls_followers',\n",
       " '/cat/cities/paerialleida/followers',\n",
       " '/cat/cities/paerialleida/tls_followers']"
      ]
     },
     "execution_count": 65,
     "metadata": {},
     "output_type": "execute_result"
    }
   ],
   "source": [
    "list_nodes"
   ]
  },
  {
   "cell_type": "markdown",
   "metadata": {},
   "source": [
    "### IMPROVING LANGUAGE DETECTION"
   ]
  },
  {
   "cell_type": "markdown",
   "metadata": {},
   "source": [
    "How to filter out URLs and accounts, not relevant for language detection"
   ]
  },
  {
   "cell_type": "code",
   "execution_count": 271,
   "metadata": {
    "collapsed": false
   },
   "outputs": [
    {
     "data": {
      "text/plain": [
       "' Ukraine is a complex country  say    I agree'"
      ]
     },
     "execution_count": 271,
     "metadata": {},
     "output_type": "execute_result"
    }
   ],
   "source": [
    "my_str = \"@dijdoer Ukraine is a complex country http://ewdowide.ewd.ewde say @jeiwo @ pgvila http://ewdowide.ewd.ewde I agree\"\n",
    "re.sub(r\"(@\\s?[^\\s]+|https?://?[^\\s]+)\", \"\", my_str)"
   ]
  },
  {
   "cell_type": "code",
   "execution_count": 100,
   "metadata": {
    "collapsed": true
   },
   "outputs": [],
   "source": [
    "aa = pd.read_hdf('lang_data.h5', '/ukr_nodes/news/BBC_ua/tls_followers')"
   ]
  },
  {
   "cell_type": "code",
   "execution_count": 226,
   "metadata": {
    "collapsed": true
   },
   "outputs": [],
   "source": [
    "follws_BBC = pd.read_hdf('lang_data.h5', '/ukr_nodes/news/BBC_ua/followers')"
   ]
  },
  {
   "cell_type": "code",
   "execution_count": 236,
   "metadata": {
    "collapsed": false
   },
   "outputs": [
    {
     "data": {
      "text/plain": [
       "Украина                          318\n",
       "Україна                          255\n",
       "Ukraine                           37\n",
       "Киев                              36\n",
       "Київ                              10\n",
       "Україна                            7\n",
       "Украина, Киев                      4\n",
       "Kyiv, Ukraine                      4\n",
       "Киев                               4\n",
       "Украина                            3\n",
       "Ukraine, Kiev                      3\n",
       "Київ, Україна                      3\n",
       "Львів Україна                      3\n",
       "Львів,Україна                      2\n",
       "Тернопіль , Україна                2\n",
       "Одесса,Украина                     2\n",
       "Kiev, Ukraine                      2\n",
       "Ukraine, Lviv                      2\n",
       "Украина Херсон                     2\n",
       "Україна Київ                       2\n",
       "Україна,Калуш                      2\n",
       "Kyiv, Ukraine                      2\n",
       "Украина, Сумы                      2\n",
       "Украина,Киев                       2\n",
       "Україна Львів                      2\n",
       "Украина Харьков                    2\n",
       "Україна Суми                       1\n",
       "Україна, Вінниця                   1\n",
       "Україна Киів                       1\n",
       "Луг Украина                        1\n",
       "                                ... \n",
       "Україна. Нетішин                   1\n",
       "Украина\\ Днепр                     1\n",
       "Украина Измаил                     1\n",
       "Україна, Миргород                  1\n",
       "Ukraine                            1\n",
       "Kharkiv, Ukraine                   1\n",
       "Dnipro city, Ukraine               1\n",
       "Україна тернопіль                  1\n",
       "Україна Рівне                      1\n",
       "Херсон, Украина                    1\n",
       "Украина,Новая Каховка              1\n",
       "Украина,                           1\n",
       "Одесса, Украина                    1\n",
       "Украина Сумская обл.г.Ахтырка      1\n",
       "Украина , Чернівці                 1\n",
       "Україна Красилів                   1\n",
       "Украина, Николаев                  1\n",
       "Ukraine, Kiev                      1\n",
       "Донецьк, Україна                   1\n",
       "Тернопіль Україна                  1\n",
       "Івано- Франківськ Україна          1\n",
       "Украина Запорожье                  1\n",
       "Україна,Хмельницький               1\n",
       "Хмельницький,Україна               1\n",
       "Полтава, Украина.                  1\n",
       "Днепр.Пгт Славгород.Украина.       1\n",
       "Украина рівне                      1\n",
       "Украина Лубны                      1\n",
       "Черкассы, Украина.                 1\n",
       "Україна, Одеса                     1\n",
       "Name: location, dtype: int64"
      ]
     },
     "execution_count": 236,
     "metadata": {},
     "output_type": "execute_result"
    }
   ],
   "source": [
    "follws_BBC['location'][follws_BBC['location'].str.contains(r\"Україна|Ukraine|Украина|Київ|Киев\")].value_counts()"
   ]
  },
  {
   "cell_type": "code",
   "execution_count": 237,
   "metadata": {
    "collapsed": true
   },
   "outputs": [],
   "source": [
    "relevant_data = follws_BBC[follws_BBC['location'].str.contains(r\"Україна|Ukraine|Украина|Київ|Киев\")]"
   ]
  },
  {
   "cell_type": "code",
   "execution_count": 272,
   "metadata": {
    "collapsed": false
   },
   "outputs": [],
   "source": [
    "clean_txts = [re.sub(r\"(@\\s?[^\\s]+|https?://?[^\\s]+)\", \"\", txt)\n",
    "              for txt in aa['texts'].values[:1000]]"
   ]
  },
  {
   "cell_type": "code",
   "execution_count": 273,
   "metadata": {
    "collapsed": false
   },
   "outputs": [],
   "source": [
    "tup_lang_txt = [(txt,detect(txt)) for txt in clean_txts if len(txt) > 20]"
   ]
  },
  {
   "cell_type": "code",
   "execution_count": 275,
   "metadata": {
    "collapsed": false
   },
   "outputs": [
    {
     "data": {
      "text/plain": [
       "[('RT  Екс-голова райради на Луганщині отримав 4 роки за \"референдум ЛНР\"  ',\n",
       "  'bg'),\n",
       " ('RT  Просто вставил не в ту скрепу ', 'ru'),\n",
       " ('RT  Пламенные патриоты. которые говорят, что ездят на росТВ защищать Украину, после эфира мило бухают с теми, кто финансирует…',\n",
       "  'ru'),\n",
       " ('RT  Трейлер русского мира ', 'ru'),\n",
       " ('RT  Пишут, что в Алеппо сбили свинособачий самолет.\\nДоброе утро, Хунта! ',\n",
       "  'ru'),\n",
       " ('RT    Поки кращі сини України гинуть захищаючи країну ПАЦЮКИ їдуть на заробітки до московії та на відпочи…',\n",
       "  'uk'),\n",
       " ('RT  В Хабаровске встретились два митинга: Нодовцы выстроились в автоколонну и транслировали речи Путина и патриарха Кирилла htt…',\n",
       "  'ru'),\n",
       " ('RT  Київпастранс купить 100 білоруських автобусів за 529 мільйонів  ',\n",
       "  'uk'),\n",
       " ('RT  В голосинушку 😂😂 ', 'ru'),\n",
       " ('RT  Озера\" Слез\" или озера \"Злых духов\"\\nГора Келимуту. Индонезия. ', 'ru'),\n",
       " ('RT  \"Им место где-то в зоопарке. Реальное олицетворение \"Мордора\"\", - украинцы едко высмеяли фото, которым похвастался   ',\n",
       "  'ru'),\n",
       " ('RT  На честь #безвіз\\'у у соцмережах жартують: \"Наступна станція - #НАТО\" ',\n",
       "  'uk'),\n",
       " ('RT  Уточка уже стала символом #митинг #12июня #новосибирск ', 'ru'),\n",
       " ('RT  На этой неделе Верхняя палата Конгресса США примет закон о новых санкциях в отношении Ирана и РФ😜\\n',\n",
       "  'ru'),\n",
       " ('RT  65 стандартів НАТО... памагите\\n\\n*прочтение списка не для слабонервних, берегите жопу ',\n",
       "  'ru'),\n",
       " ('RT  Всё, что надо знать о праве собственности в России: \\n\\n ', 'ru'),\n",
       " ('RT  Пацаны, кто-то знает свинособачий? Че сказала? ', 'ru'),\n",
       " ('RT  РЕН ТВ тоже на митинг зовут ', 'bg'),\n",
       " ('RT  Московский ОМОН начал возводить баррикады в центре Москвы: Путин готовится к завтрашней осаде Кремля ',\n",
       "  'ru'),\n",
       " ('RT  Хто працює в міграційній службі України згадайте цього колабораціоніста коли прийде по біометрику, йому #безвіз не треба.…',\n",
       "  'uk'),\n",
       " ('Укроп ответил за все в твиттере Петра Порошенко. №10  через ', 'ru'),\n",
       " ('Это не мы! Это все Путин виноват!  через ', 'ru'),\n",
       " ('Ани Лорак заняла позицию  через ', 'ru'),\n",
       " ('А. СОТНИК: СТРАХ НА ШТЫКАХ  через ', 'ru'),\n",
       " ('СЕНСАЦИЯ! В РОССИИ СОБРАЛИ КОМПРОМАТ НА ПРЕЗИДЕНТА ФРАНЦИИ МАКРОНА!  через ',\n",
       "  'ru'),\n",
       " ('Шо, опять? Опять Севастополь себя отстаивать собрался?  через ', 'ru'),\n",
       " ('Культурный человек может так красиво на послать, что приятно всем, бе...  через ',\n",
       "  'ru'),\n",
       " ('Чем России мальчик и Шекспир с Гоголем не угодили?  через ', 'ru'),\n",
       " ('Кремлифтинг. Завуалированная пропаганда против Навального  через ', 'ru'),\n",
       " ('День открытых дверей в Краснодарской психбольнице. Почему вы поддерживае...  через ',\n",
       "  'ru'),\n",
       " ('Как Россия на Украину заобижалась, или соль – новая валюта  через ', 'ru'),\n",
       " ('Coub лучшее #29 | Best Coub  через ', 'bg'),\n",
       " ('«П..дюки опять требуют референдум». В Севастополе прошел необычный протест (фото, видео) | Диванная Сотня ',\n",
       "  'ru'),\n",
       " ('Пульт Животворящий  через ', 'ru'),\n",
       " ('RT  После скандалов по связям с РФ Трамп хочет уволить половину сотрудников Белого дома - The Washington Post   ',\n",
       "  'ru'),\n",
       " ('RT  #Красногорівка: Вночі вулиці патрулюватиме спецпідрозділ поліції #КОРД  #новини #МВС ',\n",
       "  'uk'),\n",
       " ('RT  Пособие о том, как следует встречать высокодуховных \"туристов\" ', 'ru'),\n",
       " ('ПОБЕДОБЕСИЕ (обязательно к просмотру в России)  через ', 'ru'),\n",
       " ('КТО И ЗАЧЕМ ПРИДУМАЛ \"РУССКИХ\"  через ', 'bg'),\n",
       " ('КАК ПОРВАТЬ ВАТНИКА В ДИСКУССИИ (инструкция)  через ', 'ru'),\n",
       " (\"RT  У Лондоні ропочався Марш Вишиванки. Українці вшанували хвилиною мовчання пам'ять загиблих укр. воїнів і жертв терорист. а…\",\n",
       "  'uk'),\n",
       " ('RT  Протестующих в оккупированном Севастополе хлестко поставили на место: А вы напишите письмо Путину на украинском язы  ',\n",
       "  'ru'),\n",
       " ('Одногрупники - Нова українська соціальна мережа ', 'uk'),\n",
       " ('RT  Штепу удалили из зала суда за неуважение и продлили арест на 2 месяца:\\n',\n",
       "  'ru'),\n",
       " ('RT  Проект Бюджету США–2018. Пряма допомога Україні:\\n•$204 млн на підтримку реформ\\n•$150 млн на військову підтримку (включно…',\n",
       "  'uk'),\n",
       " ('RT  \"ПОКАЗУХА КАК ПРИ ЯНУКОВИЧЕ!\" - слышались анальные стоны зрадо#бов. ',\n",
       "  'ru'),\n",
       " ('RT  Хорошо в Коктебеле в воскресенье 😆 Не то, что при фошЫздах. ', 'ru'),\n",
       " ('Великий хан Батий – засновник Російської державності ', 'uk'),\n",
       " ('RT  РОССИЯ РЕШИЛА В ОЧЕРЕДНОЙ РАЗ ПРОФИНАНСИРОВАТЬ ТЕРРОРИСТИЧЕСКИЕ ОРГАНИЗАЦИИ ЗА СЧЕТ СВОИХ ГРАЖДАН \\nСотни миллионов налички…',\n",
       "  'ru'),\n",
       " ('RT  Начальник \"Беркута\", який розігнав Євромайдан, очолить поліцію Дніпра  ',\n",
       "  'uk'),\n",
       " ('RT  \"Гумконвой для форсирования рек\": в Ростове замечена колонна тяжелого вооружения, опубликованы уникальные кадры в с  ',\n",
       "  'ru'),\n",
       " ('RT  На фестивале красок в Челябинске школьники с криками «АУЕ» начали пинать полицейские машины и кидать в них краской ',\n",
       "  'ru'),\n",
       " ('RT  #Красногорівка: Прямі влучення у будинки. На даний час задокументовано 14 фактів. ',\n",
       "  'uk'),\n",
       " ('RT  ВВС Турции утром 28 мая нанесли удары по объектам террористов в районе Авашин Басьян на севере Ирака. #Турция #Ирак #AA',\n",
       "  'ru'),\n",
       " ('RT  На одержанні хабара затримано двох оперативників поліції Рівненської області  #поліція #новини #ДВБ…',\n",
       "  'uk'),\n",
       " ('RT  Режим Путина убивает и запугивает ради \"уважения\": Россия использует оружие трусов, ведь ее армия ничтожно слаба в   ',\n",
       "  'ru'),\n",
       " ('RT  #Красногорівка: Ось так виглядає школа після обстрілу бойовиками ',\n",
       "  'uk'),\n",
       " ('RT  Макрон за скорейший созыв встречи по Украине\\n\\nФранцузский лидер выступил за переговоры с Кремлем \"без каких-либо у  ',\n",
       "  'ru'),\n",
       " ('RT  Наконец-то в сети появилось то самое видео, на котором фашисты распяли мальчика на глазах у матери: ',\n",
       "  'ru'),\n",
       " ('RT  Журналист: Саакашвили пригласил в эфир фальшивую солдатскую мать, которая ездит к Захарченко   https…',\n",
       "  'ru'),\n",
       " ('RT  G7 пригрозила Росії додатковими санкціями через її дії в Україні  ',\n",
       "  'uk'),\n",
       " ('RT  На кладовищі під Києвом вандали спалили могили українських бійців -  ',\n",
       "  'uk'),\n",
       " ('RT  Кличко обіцяє реконструювати стадіон \"Старт\" у 2018-му  ', 'uk'),\n",
       " ('RT  Поліція під обстрілами евакуює людей із лікарні в #Красногорівка. Є троє поранених  #поліція #новини…',\n",
       "  'uk'),\n",
       " ('RT  Самый щедрый миллиардер - Билл Гейтс. Он пожертвовал на благотворительность $36 854 000 000 — это больше половины его сост…',\n",
       "  'ru'),\n",
       " ('Если бы не мы украли это пиво, его бы выпили солдаты НАТО! Ж-Жадность, г...  через ',\n",
       "  'ru'),\n",
       " ('RT  Працівниця суду \"зливала\" інформацію про заплановані обшуки -  ', 'uk'),\n",
       " ('RT  Керівник Донецького обласного офісу спостерігачів СММ ОБСЄ в Україні Ольга Скріповська.\\nОсь чому OSCE не бачить і не чує…',\n",
       "  'uk'),\n",
       " ('RT  Крым и республики Кавказа - это уже по факту не Россия: ', 'ru'),\n",
       " ('RT  Кривому Рогу сьогодні 242 роки!!! \\n#Деньміста ', 'uk'),\n",
       " ('RT  А як Ви реагуєте на такі речі? 😊 ', 'uk'),\n",
       " ('RT  Я посмотрела видеозапись — добавила Гурцкая ', 'ru'),\n",
       " ('Как вся Украина в лучшие края мигрирует  через ', 'ru'),\n",
       " ('Хвилинка поезії від хунти та каратєлєй  через ', 'uk'),\n",
       " ('Український танк БМ \"Оплот\"  через ', 'uk'),\n",
       " ('\"Самое страшное - безвиз\": назван последний аргумент Путина по Украине: ',\n",
       "  'ru'),\n",
       " ('RT  Декламируюший стихи 9-летний мальчик  - это не исламистка с отрезанной головой ребёнка в руках. Его доблестные менты свинти…',\n",
       "  'ru'),\n",
       " ('RT  Поясняем по-русски: троих иванушек наши пограничники вчера ВЫДВОРИЛИ из Украины назад в россию. Подзаработать с леганца у н…',\n",
       "  'ru'),\n",
       " ('RT  ЧТО ТАМ БАНКИ УКРАИНЫ? СКОРО РОССИЯНАМ ПО МИРОТВОРЦУ В ШЕНГЕН ДОСТУП ЗАКРЫВАТЬ БУДУТ. ',\n",
       "  'ru'),\n",
       " ('А. СОТНИК: МЕЖДУ ГИБЕЛЬЮ И ДИКТАТУРОЙ  через ', 'bg'),\n",
       " ('Как вся Украина в лучшие края мигрирует  через ', 'ru'),\n",
       " ('RT  Поклонская как в воду глядела. Говорят, нашли переписку Энгельса с Каутским ',\n",
       "  'ru'),\n",
       " ('RT  Украина на днях прерывает и железнодорожное сообщение с Россией. \\nНапомним, в 2014 году Путин развязал это все, чтобы \"не пот…',\n",
       "  'ru'),\n",
       " ('RT  Кремлёвские методы борьбы с коррупцией: \\n\\n ', 'ru'),\n",
       " (\"RT  В Афінах вибухнула бомба в авто з екс-прем'єром\\n \", 'uk'),\n",
       " ('RT  Яке місто наступним прийме естафету?!)) У Чернівцях депутати заборонили #Опоблок  через ',\n",
       "  'uk'),\n",
       " ('ЖЕСТЬ супер УГАРНАЯ ПАРОДИЯ на сериал ИГРА ПРЕСТОЛОВ от Квартал 95  через ',\n",
       "  'bg'),\n",
       " ('«НА КОГО РАБОТАЕТ СОТНИК?..»  через ', 'ru'),\n",
       " ('RT  На Хмельниччині за землю вимагали 2 тисячі доларів США хабара\\n\\n\\n#поліція #Хмельницький #новини #хаба…',\n",
       "  'uk'),\n",
       " ('RT  Справу проти патрульного Олійника розглядатиме суд присяжних  ', 'uk'),\n",
       " ('Антикоррупционный блокбастер  через ', 'ru'),\n",
       " ('RT  Скорбь за 500 рублей: \\n\\n ', 'ru'),\n",
       " ('RT  Трамп уже не наш! ', 'mk'),\n",
       " ('RT  Дом Правительства Российской Федерации, Москва, 1993 г. ', 'ru'),\n",
       " ('RT  Питер, март 1917 и март 2017. И тогда, и сейчас требуют отставки царя: ',\n",
       "  'ru'),\n",
       " ('My new sounds: Inspiring Indie Pop - Royalty Free Background Music - AudioJungle  on #SoundCloud',\n",
       "  'en'),\n",
       " (\"Check out 'Inspirational' on #EnvatoMarket #audiojungle \", 'en'),\n",
       " (\"Check out 'Inspirational' on #EnvatoMarket #audiojungle \", 'en'),\n",
       " ('RT  В то время, как Порошенко боролся за свою шоколадную империю, украинские солдаты гибли от ударов российских ракет ',\n",
       "  'ru'),\n",
       " ('RT  President Poroshenko scrambled to protect his candy empire as Ukraine soldiers fell to Russian rockets #PanamaPapers ',\n",
       "  'en')]"
      ]
     },
     "execution_count": 275,
     "metadata": {},
     "output_type": "execute_result"
    }
   ],
   "source": [
    "tup_lang_txt[:100]"
   ]
  },
  {
   "cell_type": "code",
   "execution_count": 174,
   "metadata": {
    "collapsed": false
   },
   "outputs": [],
   "source": [
    "ru_txts = [x[0] for x in tup_lang_txt if x[1] == 'ru']"
   ]
  },
  {
   "cell_type": "code",
   "execution_count": 175,
   "metadata": {
    "collapsed": true
   },
   "outputs": [],
   "source": [
    "ukr_txts = [x[0] for x in tup_lang_txt if x[1] == 'uk']"
   ]
  },
  {
   "cell_type": "code",
   "execution_count": 185,
   "metadata": {
    "collapsed": false
   },
   "outputs": [
    {
     "data": {
      "text/plain": [
       "(473, 205)"
      ]
     },
     "execution_count": 185,
     "metadata": {},
     "output_type": "execute_result"
    }
   ],
   "source": [
    "len(ru_txts), len(ukr_txts)"
   ]
  },
  {
   "cell_type": "code",
   "execution_count": 176,
   "metadata": {
    "collapsed": true
   },
   "outputs": [],
   "source": [
    "stats_ru =[Counter([detect(x) for _ in range(20)]) for x in ru_txts]"
   ]
  },
  {
   "cell_type": "code",
   "execution_count": 177,
   "metadata": {
    "collapsed": true
   },
   "outputs": [],
   "source": [
    "stats_uk =[Counter([detect(x) for _ in range(20)]) for x in ukr_txts]"
   ]
  },
  {
   "cell_type": "code",
   "execution_count": 178,
   "metadata": {
    "collapsed": false
   },
   "outputs": [],
   "source": [
    "ru_uncertain = [x for x,y in zip(ru_txts, stats_ru) if y['ru'] < 20]"
   ]
  },
  {
   "cell_type": "code",
   "execution_count": 179,
   "metadata": {
    "collapsed": false
   },
   "outputs": [],
   "source": [
    "ukr_uncertain = [x for x,y in zip(ukr_txts, stats_uk) if y['uk'] < 20]"
   ]
  },
  {
   "cell_type": "code",
   "execution_count": 182,
   "metadata": {
    "collapsed": false
   },
   "outputs": [
    {
     "data": {
      "text/plain": [
       "29"
      ]
     },
     "execution_count": 182,
     "metadata": {},
     "output_type": "execute_result"
    }
   ],
   "source": [
    "len([(x, y['ru']) for x,y in zip(ru_txts, stats_ru) if y['ru'] < 20])"
   ]
  },
  {
   "cell_type": "code",
   "execution_count": 183,
   "metadata": {
    "collapsed": false
   },
   "outputs": [
    {
     "data": {
      "text/plain": [
       "19"
      ]
     },
     "execution_count": 183,
     "metadata": {},
     "output_type": "execute_result"
    }
   ],
   "source": [
    "len([(x, y['uk']) for x,y in zip(ukr_txts, stats_uk) if y['uk'] < 20])"
   ]
  },
  {
   "cell_type": "code",
   "execution_count": 84,
   "metadata": {
    "collapsed": false
   },
   "outputs": [],
   "source": [
    "dummy_data = pd.DataFrame({'a':np.random.randint(1,100,10), 'b':np.random.randint(1,100,10)})"
   ]
  },
  {
   "cell_type": "code",
   "execution_count": 96,
   "metadata": {
    "collapsed": true
   },
   "outputs": [],
   "source": [
    "store2 = pd.HDFStore('dummy_ex.h5')"
   ]
  },
  {
   "cell_type": "code",
   "execution_count": 99,
   "metadata": {
    "collapsed": false
   },
   "outputs": [
    {
     "data": {
      "text/plain": [
       "/node_c/subfolder (Group) ''\n",
       "  children := ['block0_values' (Array), 'axis1' (Array), 'block0_items' (Array), 'axis0' (Array)]"
      ]
     },
     "execution_count": 99,
     "metadata": {},
     "output_type": "execute_result"
    }
   ],
   "source": [
    "store2.get_node('/node_c/subfolder')"
   ]
  },
  {
   "cell_type": "code",
   "execution_count": 86,
   "metadata": {
    "collapsed": true
   },
   "outputs": [],
   "source": [
    "store2['node_a'] = dummy_data['a']"
   ]
  },
  {
   "cell_type": "code",
   "execution_count": 87,
   "metadata": {
    "collapsed": true
   },
   "outputs": [],
   "source": [
    "store2['node_b'] = dummy_data['b']"
   ]
  },
  {
   "cell_type": "code",
   "execution_count": 88,
   "metadata": {
    "collapsed": true
   },
   "outputs": [],
   "source": [
    "store2.close()"
   ]
  },
  {
   "cell_type": "code",
   "execution_count": 97,
   "metadata": {
    "collapsed": false
   },
   "outputs": [
    {
     "name": "stdout",
     "output_type": "stream",
     "text": [
      "['/node_a', '/node_b', '/node_c/subfolder']\n"
     ]
    }
   ],
   "source": [
    "with pd.HDFStore('dummy_ex.h5', ) as g:\n",
    "    #g.get_node('node_c/subfolder')._f_rename('node_c/subfolder1')\n",
    "    print(g.keys())\n",
    "    "
   ]
  },
  {
   "cell_type": "code",
   "execution_count": 80,
   "metadata": {
    "collapsed": true
   },
   "outputs": [],
   "source": [
    "df_ = pd.DataFrame({'c':np.random.randint(1,100,10)})"
   ]
  },
  {
   "cell_type": "code",
   "execution_count": 90,
   "metadata": {
    "collapsed": true
   },
   "outputs": [],
   "source": [
    "df_.to_hdf('dummy_ex.h5', 'node_c/subfolder')"
   ]
  },
  {
   "cell_type": "markdown",
   "metadata": {},
   "source": [
    "### CATALAN COMARQUES"
   ]
  },
  {
   "cell_type": "code",
   "execution_count": 25,
   "metadata": {
    "collapsed": true
   },
   "outputs": [],
   "source": [
    "import pandas as pd\n",
    "\n",
    "url = \"https://en.wikipedia.org/wiki/Municipalities_of_Catalonia\"\n",
    "tabs = pd.read_html(url)[0]\n",
    "\n",
    "tabs.columns = tabs.iloc[0]\n",
    "\n",
    "tabs = tabs.iloc[1:]"
   ]
  },
  {
   "cell_type": "code",
   "execution_count": 80,
   "metadata": {
    "collapsed": false
   },
   "outputs": [
    {
     "data": {
      "text/plain": [
       "Index(['Municipality', 'Comarca', 'Province', 'Population (2014)[3]',\n",
       "       'Area (km2)[3]', 'Density', 'No. of EMDs[4]'],\n",
       "      dtype='object', name=0)"
      ]
     },
     "execution_count": 80,
     "metadata": {},
     "output_type": "execute_result"
    }
   ],
   "source": [
    "tabs.keys()"
   ]
  },
  {
   "cell_type": "code",
   "execution_count": 35,
   "metadata": {
    "collapsed": false
   },
   "outputs": [
    {
     "data": {
      "text/plain": [
       "array(['Alpens', 'Balenyà', 'El Brull', 'Calldetenes', 'Centelles',\n",
       "       'Espinelves', \"L'Esquirol\", 'Folgueroles', 'Gurb', 'Lluçà', 'Malla',\n",
       "       'Manlleu', 'Les Masies de Roda', 'Les Masies de Voltregà',\n",
       "       'Montesquiu', 'Muntanyola', 'Olost', 'Orís', 'Oristà', 'Perafita',\n",
       "       'Prats de Lluçanès', 'Roda de Ter', 'Rupit i Pruit',\n",
       "       'Sant Agustí de Lluçanès', 'Sant Bartomeu del Grau',\n",
       "       'Sant Boi de Lluçanès', 'Sant Hipòlit de Voltregà',\n",
       "       'Sant Julià de Vilatorta', \"Sant Martí d'Albars\",\n",
       "       'Sant Martí de Centelles', 'Sant Pere de Torelló',\n",
       "       'Sant Quirze de Besora', \"Sant Sadurní d'Osormort\",\n",
       "       'Sant Vicenç de Torelló', 'Santa Cecília de Voltregà',\n",
       "       'Santa Eugènia de Berga', 'Santa Eulàlia de Riuprimer',\n",
       "       'Santa Maria de Besora', 'Seva', 'Sobremunt', 'Sora', 'Taradell',\n",
       "       'Tavèrnoles', 'Tavertet', 'Tona', 'Torelló', 'Vic', 'Vidrà',\n",
       "       'Viladrau', 'Vilanova de Sau'], dtype=object)"
      ]
     },
     "execution_count": 35,
     "metadata": {},
     "output_type": "execute_result"
    }
   ],
   "source": [
    "tabs[tabs['Comarca'] == 'Osona']['Municipality'].values"
   ]
  },
  {
   "cell_type": "code",
   "execution_count": 82,
   "metadata": {
    "collapsed": false
   },
   "outputs": [],
   "source": [
    "tabs_sorted_com = tabs.sort_values(by='Comarca').set_index(['Comarca'])"
   ]
  },
  {
   "cell_type": "code",
   "execution_count": 85,
   "metadata": {
    "collapsed": false
   },
   "outputs": [
    {
     "data": {
      "text/plain": [
       "array(['Muntanyola', 'Santa Eugènia de Berga', \"Sant Sadurní d'Osormort\",\n",
       "       'Vidrà', 'Tona', 'Torelló', 'Rupit i Pruit', 'Roda de Ter',\n",
       "       'Santa Cecília de Voltregà', 'Sant Vicenç de Torelló',\n",
       "       'Santa Eulàlia de Riuprimer', 'Calldetenes', 'Prats de Lluçanès',\n",
       "       'Tavertet', 'Montesquiu', 'Sant Julià de Vilatorta', 'Orís', 'Vic',\n",
       "       'Olost', 'Sant Boi de Lluçanès', 'Perafita', \"L'Esquirol\",\n",
       "       'Viladrau', 'Taradell', 'Les Masies de Roda', 'Sora',\n",
       "       'Les Masies de Voltregà', 'Gurb', 'Seva', 'Sobremunt',\n",
       "       'Folgueroles', 'Santa Maria de Besora', 'Oristà', 'Vilanova de Sau',\n",
       "       'El Brull', 'Espinelves', \"Sant Martí d'Albars\",\n",
       "       'Sant Bartomeu del Grau', 'Tavèrnoles', 'Manlleu', 'Malla',\n",
       "       'Sant Pere de Torelló', 'Sant Quirze de Besora',\n",
       "       'Sant Agustí de Lluçanès', 'Alpens', 'Sant Martí de Centelles',\n",
       "       'Sant Hipòlit de Voltregà', 'Centelles', 'Balenyà', 'Lluçà'], dtype=object)"
      ]
     },
     "execution_count": 85,
     "metadata": {},
     "output_type": "execute_result"
    }
   ],
   "source": [
    "tabs_sorted_com.ix['Osona']['Municipality'].values"
   ]
  },
  {
   "cell_type": "markdown",
   "metadata": {},
   "source": [
    "### Get random tweets from a given coordinate box"
   ]
  },
  {
   "cell_type": "code",
   "execution_count": 415,
   "metadata": {
    "collapsed": false
   },
   "outputs": [],
   "source": [
    "# \n",
    "data_list, texts, langs, locs = [], [], [], []\n",
    "\n",
    "class StdOutListener(StreamListener):\n",
    "    \"\"\" A listener handles tweets are the received from the stream.\n",
    "    This is a basic listener that just prints received tweets to stdout.\n",
    "    \"\"\"\n",
    "    \n",
    "    def __init__(self):\n",
    "        self.data_list = []\n",
    "        self.texts = []\n",
    "        self.langs = []\n",
    "    \n",
    "    def on_data(self, data):\n",
    "        jd = json.loads(data)\n",
    "        self.data_list.append(jd)\n",
    "        self.texts.append(jd['text'])\n",
    "        self.langs.append(jd['lang'])\n",
    "        try:\n",
    "            print(data)\n",
    "            saveFile = open('newtweets.csv', 'a')\n",
    "            saveFile.write(data).encode(\"utf8\")\n",
    "            saveFile.write('/n').encode(\"utf8\")\n",
    "            saveFile.close()\n",
    "            return True\n",
    "        except BaseException:\n",
    "            print ('failed ondata')\n",
    "            time.sleep(5)\n",
    "\n",
    "    def on_error(self, status):\n",
    "        print(status)"
   ]
  },
  {
   "cell_type": "code",
   "execution_count": 416,
   "metadata": {
    "collapsed": true
   },
   "outputs": [],
   "source": [
    "#coordinates\n",
    "Lviv = [23.882904,49.763526,24.163055,49.921167]\n",
    "Kiev = [30.449982,50.408518,30.639496,50.495958]\n",
    "Yerevan = [44.329834,40.078071,44.681396,40.296287]\n",
    "Brussel = [4.258575,50.788575,4.489288,50.913424]\n",
    "Barcelona = [1.835403,41.375778,2.241898,41.586688]"
   ]
  },
  {
   "cell_type": "code",
   "execution_count": 10,
   "metadata": {
    "collapsed": false
   },
   "outputs": [],
   "source": [
    "# #Barcelona\n",
    "# l_Barc = StdOutListener()\n",
    "# #ASK FOR KEYWORD TO COLLECT DATA\n",
    "# stream_Barc = Stream(auth, l_Barc)\n",
    "# stream_Barc.filter(locations=Barcelona)"
   ]
  },
  {
   "cell_type": "code",
   "execution_count": 9,
   "metadata": {
    "collapsed": false
   },
   "outputs": [],
   "source": [
    "#Counter(l_Barc.langs)\n",
    "# for data, lang in zip(l_Barc.data_list, l_Barc.langs):\n",
    "#     print(data['user']['location'], lang)\n",
    "for text in l_Barc.texts:\n",
    "    if type(text) == str:\n",
    "        print(text)\n",
    "    else:\n",
    "        print(text.decode('utf-8'))"
   ]
  },
  {
   "cell_type": "code",
   "execution_count": 10,
   "metadata": {
    "collapsed": false
   },
   "outputs": [],
   "source": [
    "# for ee in l_Barc.data_list:\n",
    "#     print(ee['place']['id'], ee['place']['place_type'])"
   ]
  },
  {
   "cell_type": "code",
   "execution_count": 11,
   "metadata": {
    "collapsed": false
   },
   "outputs": [],
   "source": [
    "# #Brussel\n",
    "# l_Bru = StdOutListener()\n",
    "# #ASK FOR KEYWORD TO COLLECT DATA\n",
    "# stream_Bru = Stream(auth, l_Bru)\n",
    "# stream_Bru.filter(locations=Brussel)"
   ]
  },
  {
   "cell_type": "code",
   "execution_count": 12,
   "metadata": {
    "collapsed": false
   },
   "outputs": [],
   "source": [
    "# #Counter(l_Bru.langs)\n",
    "# for data, lang in zip(l_Bru.data_list, l_Bru.langs):\n",
    "#     print(data['user']['location'], lang)"
   ]
  },
  {
   "cell_type": "code",
   "execution_count": 13,
   "metadata": {
    "collapsed": false
   },
   "outputs": [],
   "source": [
    "# #LVIV\n",
    "# l_Lv = StdOutListener()\n",
    "# #ASK FOR KEYWORD TO COLLECT DATA\n",
    "# stream_Lv = Stream(auth, l_Lv)\n",
    "# stream_Lv.filter(locations=Lviv)"
   ]
  },
  {
   "cell_type": "code",
   "execution_count": 14,
   "metadata": {
    "collapsed": false
   },
   "outputs": [],
   "source": [
    "# #YEREVAN\n",
    "# l_Yer = StdOutListener()\n",
    "# #ASK FOR KEYWORD TO COLLECT DATA\n",
    "# stream_Yer = Stream(auth, l_Yer)\n",
    "# stream_Yer.filter(locations=Yerevan)"
   ]
  },
  {
   "cell_type": "code",
   "execution_count": 15,
   "metadata": {
    "collapsed": false
   },
   "outputs": [],
   "source": [
    "# for data, lang in zip(l_Yer.data_list, l_Yer.langs):\n",
    "#     print(data['user']['location'], lang)"
   ]
  },
  {
   "cell_type": "code",
   "execution_count": 16,
   "metadata": {
    "collapsed": false
   },
   "outputs": [],
   "source": [
    "# for text in l_Yer.texts:\n",
    "#     if type(text) == str:\n",
    "#         print(text)\n",
    "#     else:\n",
    "#         print(text.decode('utf-8'))"
   ]
  },
  {
   "cell_type": "code",
   "execution_count": 17,
   "metadata": {
    "collapsed": false
   },
   "outputs": [],
   "source": [
    "# for data, lang in zip(data_list, langs):\n",
    "#     print(data['user']['location'], lang)"
   ]
  },
  {
   "cell_type": "code",
   "execution_count": 18,
   "metadata": {
    "collapsed": false
   },
   "outputs": [],
   "source": [
    "#KIEV\n",
    "l_Kiev = StdOutListener()\n",
    "#ASK FOR KEYWORD TO COLLECT DATA\n",
    "stream_Kiev = Stream(auth, l_Kiev)\n",
    "stream_Kiev.filter(locations=Kiev)"
   ]
  },
  {
   "cell_type": "code",
   "execution_count": 19,
   "metadata": {
    "collapsed": false
   },
   "outputs": [],
   "source": [
    "#Counter(l_Kiev.langs)\n",
    "# for data, lang in zip(l_Kiev.data_list, l_Kiev.langs):\n",
    "#     print(data['user']['location'], lang)\n",
    "for text in l_Kiev.texts:\n",
    "    if type(text) == str:\n",
    "        print(text)\n",
    "    else:\n",
    "        print(text.decode('utf-8'))"
   ]
  },
  {
   "cell_type": "code",
   "execution_count": 20,
   "metadata": {
    "collapsed": false
   },
   "outputs": [],
   "source": [
    "for data in l_Kiev.data_list:\n",
    "    print(data['place']['id'], data['place']['place_type'], \n",
    "          data['place']['country'], data['user']['location'])"
   ]
  },
  {
   "cell_type": "code",
   "execution_count": 125,
   "metadata": {
    "collapsed": false
   },
   "outputs": [],
   "source": [
    "for text in texts:\n",
    "    if type(text) == str:\n",
    "        print(text)\n",
    "    else:\n",
    "        print(text.decode('utf-8'))\n"
   ]
  },
  {
   "cell_type": "markdown",
   "metadata": {},
   "source": [
    "### DYNAMO KIEV PLAYERS"
   ]
  },
  {
   "cell_type": "code",
   "execution_count": 27,
   "metadata": {
    "collapsed": false
   },
   "outputs": [
    {
     "data": {
      "text/plain": [
       "array(['Maksim Koval', 'Artur Rudko', 'Antunes', 'Mykyta Burda',\n",
       "       'Tamás Kádár', 'Evgen Khacheridi', 'Pavlo Lukyanchuk',\n",
       "       'Bogdan Mykhaylychenko', 'Zurab Ochihava', 'Aleksandar Pantić',\n",
       "       'Oleksandr Tymchyk', 'Domagoj Vida', 'Vitaliy Buyalskiy',\n",
       "       'Valeriy Fedorchuk', 'Denys Garmash', 'Nikita Korzun',\n",
       "       'Mykyta Kravchenko', 'Mikola Morozyuk', 'Pavel Orekhovskiy',\n",
       "       'Serhiy Rybalka', 'Volodymyr Shepeliev', 'Sergiy Sydorchuk',\n",
       "       'Viktor Tsygankov', 'Artem Besedin', 'Derlis González',\n",
       "       'Roman Yaremchuk', 'Andriy Yarmolenko', 'Sergiy Rebrov'], dtype=object)"
      ]
     },
     "execution_count": 27,
     "metadata": {},
     "output_type": "execute_result"
    }
   ],
   "source": [
    "# DYNAMO PLAYERS\n",
    "\n",
    "import requests\n",
    "from bs4 import BeautifulSoup\n",
    "import pandas as pd\n",
    "import numpy as np\n",
    "\n",
    "url = \"http://www.worldfootball.net/teams/dinamo-kiev/2017/2/\"\n",
    "html = requests.get(url)\n",
    "soup = BeautifulSoup(html.text, \"lxml\")\n",
    "\n",
    "dynamo_players = pd.read_html(url, encoding='utf8')[1][2].dropna().values\n",
    "\n",
    "dynamo_players"
   ]
  },
  {
   "cell_type": "code",
   "execution_count": 56,
   "metadata": {
    "collapsed": false
   },
   "outputs": [],
   "source": [
    "dyn_play_countr = pd.read_html(url, encoding='utf8')[1][[2,4]].dropna().values\n",
    "\n",
    "dyn_play_countr"
   ]
  },
  {
   "cell_type": "markdown",
   "metadata": {},
   "source": [
    "### PYMONGO"
   ]
  },
  {
   "cell_type": "code",
   "execution_count": 5,
   "metadata": {
    "collapsed": false
   },
   "outputs": [],
   "source": [
    "from pymongo import MongoClient\n",
    "\n",
    "conn=MongoClient()\n",
    "\n",
    "#define database\n",
    "db = conn.citylangs\n",
    "\n",
    "#define collection inside database\n",
    "collection = db.bcn.ajuntam.followers\n",
    "\n",
    "# function to add documents to collection \n",
    "def make_followers_collection(account_name, collection, max_num=100):\n",
    "    api = tweepy.API(auth, wait_on_rate_limit=True, wait_on_rate_limit_notify=True)\n",
    "    users = tweepy.Cursor(api.followers, screen_name=account_name).items(max_num)\n",
    "    #i = 0\n",
    "    while True:\n",
    "        try:\n",
    "            user = next(users)\n",
    "            collection.insert_one(user._json)\n",
    "        except tweepy.TweepError as e:\n",
    "            if 'Read timed out' in str(e):\n",
    "                print('fall here')\n",
    "                print(e)\n",
    "                time.sleep(5)\n",
    "            else:\n",
    "                time.sleep(60*16)\n",
    "                user = next(users)\n",
    "        except StopIteration:\n",
    "            break\n",
    "        #print (\"@\" + user.screen_name)\n",
    "    #return collection\n",
    "\n",
    "make_followers_collection('bcn_ajuntament',collection, max_num=100)\n",
    "\n",
    "#check what databases are available\n",
    "conn.database_names()\n",
    "\n",
    "# available collections inside db\n",
    "db.collection_names()\n",
    "\n",
    "collection2 = db.kiev.ukrpravda\n",
    "\n",
    "make_followers_collection('ukrpravda_news',collection2, max_num=300)\n",
    "\n",
    "l = list(conn.citylangs.kiev.ukrpravda.find())\n",
    "\n",
    "Counter([obj['lang'] for obj in l])\n",
    "\n",
    "\n",
    "db.collection_names()\n",
    "\n",
    "#db.categories.insert_one({ \"_id\": \"ukr_pravda\", \"children\": [] })\n",
    "# db.categories.insert({ _id: \"avto_kiev\", children: [] })\n",
    "# db.categories.insert({ _id: \"kiev\", children: [\"ukr_pravda\", \"avto_kiev\"] })\n",
    "\n",
    "db['kiev'].insert_one({'avto_kiev':[],'vitklitschko':[]})\n",
    "\n",
    "db.collection_names()\n",
    "\n",
    "rr=list(db['bcn.ajuntam.followers'].find())\n",
    "\n",
    "db['kiev'].find_one()\n",
    "\n",
    "db['bcn.ajuntam.followers']\n",
    "\n",
    "conn.database_names()\n",
    "\n",
    "coll2 = db.countries"
   ]
  }
 ],
 "metadata": {
  "kernelspec": {
   "display_name": "Python 3",
   "language": "python",
   "name": "python3"
  },
  "language_info": {
   "codemirror_mode": {
    "name": "ipython",
    "version": 3
   },
   "file_extension": ".py",
   "mimetype": "text/x-python",
   "name": "python",
   "nbconvert_exporter": "python",
   "pygments_lexer": "ipython3",
   "version": "3.5.1"
  }
 },
 "nbformat": 4,
 "nbformat_minor": 0
}
