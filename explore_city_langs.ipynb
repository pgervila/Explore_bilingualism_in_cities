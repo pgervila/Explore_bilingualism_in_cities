{
 "cells": [
  {
   "cell_type": "code",
   "execution_count": null,
   "metadata": {
    "collapsed": true
   },
   "outputs": [],
   "source": [
    "import tweepy\n",
    "from tweepy import Stream, OAuthHandler, StreamListener\n",
    "import json\n",
    "import time\n",
    "from collections import Counter"
   ]
  },
  {
   "cell_type": "code",
   "execution_count": 3,
   "metadata": {
    "collapsed": true
   },
   "outputs": [],
   "source": [
    "#import secret codes\n",
    "from twitter_pwd import access_token, access_token_secret, consumer_key, consumer_secret"
   ]
  },
  {
   "cell_type": "code",
   "execution_count": 215,
   "metadata": {
    "collapsed": false
   },
   "outputs": [],
   "source": [
    "data_list, texts, langs, locs = [], [], [], []\n",
    "\n",
    "class StdOutListener(StreamListener):\n",
    "    \"\"\" A listener handles tweets are the received from the stream.\n",
    "    This is a basic listener that just prints received tweets to stdout.\n",
    "    \"\"\"\n",
    "    \n",
    "    def __init__(self):\n",
    "        self.data_list = []\n",
    "        self.texts = []\n",
    "        self.langs = []\n",
    "    \n",
    "    def on_data(self, data):\n",
    "        jd = json.loads(data)\n",
    "        self.data_list.append(jd)\n",
    "        self.texts.append(jd['text'])\n",
    "        self.langs.append(jd['lang'])\n",
    "        try:\n",
    "            print(data)\n",
    "            saveFile = open('newtweets.csv', 'a')\n",
    "            saveFile.write(data).encode(\"utf8\")\n",
    "            saveFile.write('/n').encode(\"utf8\")\n",
    "            saveFile.close()\n",
    "            return True\n",
    "        except BaseException:\n",
    "            print ('failed ondata')\n",
    "            time.sleep(5)\n",
    "\n",
    "    def on_error(self, status):\n",
    "        print(status)"
   ]
  },
  {
   "cell_type": "code",
   "execution_count": 216,
   "metadata": {
    "collapsed": true
   },
   "outputs": [],
   "source": [
    "auth = OAuthHandler(consumer_key, consumer_secret)\n",
    "auth.set_access_token(access_token, access_token_secret)"
   ]
  },
  {
   "cell_type": "code",
   "execution_count": 103,
   "metadata": {
    "collapsed": true
   },
   "outputs": [],
   "source": [
    "#coordinates\n",
    "Lviv = [23.882904,49.763526,24.163055,49.921167]\n",
    "Kiev = [30.449982,50.408518,30.639496,50.495958]\n",
    "Yerevan = [44.329834,40.078071,44.681396,40.296287]\n",
    "Brussel = [4.258575,50.788575,4.489288,50.913424]\n",
    "Barcelona = [1.835403,41.375778,2.241898,41.586688]"
   ]
  },
  {
   "cell_type": "code",
   "execution_count": 8,
   "metadata": {
    "collapsed": false
   },
   "outputs": [],
   "source": [
    "#Barcelona\n",
    "l_Barc = StdOutListener()\n",
    "#ASK FOR KEYWORD TO COLLECT DATA\n",
    "stream_Barc = Stream(auth, l_Barc)\n",
    "stream_Barc.filter(locations=Barcelona)"
   ]
  },
  {
   "cell_type": "code",
   "execution_count": 9,
   "metadata": {
    "collapsed": false
   },
   "outputs": [],
   "source": [
    "#Counter(l_Barc.langs)\n",
    "# for data, lang in zip(l_Barc.data_list, l_Barc.langs):\n",
    "#     print(data['user']['location'], lang)\n",
    "for text in l_Barc.texts:\n",
    "    if type(text) == str:\n",
    "        print(text)\n",
    "    else:\n",
    "        print(text.decode('utf-8'))"
   ]
  },
  {
   "cell_type": "code",
   "execution_count": 10,
   "metadata": {
    "collapsed": false
   },
   "outputs": [],
   "source": [
    "# for ee in l_Barc.data_list:\n",
    "#     print(ee['place']['id'], ee['place']['place_type'])"
   ]
  },
  {
   "cell_type": "code",
   "execution_count": 101,
   "metadata": {
    "collapsed": false
   },
   "outputs": [
    {
     "data": {
      "text/plain": [
       "{'attributes': {},\n",
       " 'bounding_box': {'coordinates': [[[1.360618, 41.192727],\n",
       "    [1.360618, 42.323449],\n",
       "    [2.77795, 42.323449],\n",
       "    [2.77795, 41.192727]]],\n",
       "  'type': 'Polygon'},\n",
       " 'country': 'España',\n",
       " 'country_code': 'ES',\n",
       " 'full_name': 'Barcelona, Cataluña',\n",
       " 'id': 'f3e29c4c744f3625',\n",
       " 'name': 'Barcelona',\n",
       " 'place_type': 'admin',\n",
       " 'url': 'https://api.twitter.com/1.1/geo/id/f3e29c4c744f3625.json'}"
      ]
     },
     "execution_count": 101,
     "metadata": {},
     "output_type": "execute_result"
    }
   ],
   "source": [
    "l_Barc.data_list[31]['place'] #[1.835403,41.375778,2.241898,41.586688]"
   ]
  },
  {
   "cell_type": "code",
   "execution_count": 11,
   "metadata": {
    "collapsed": false
   },
   "outputs": [],
   "source": [
    "# #Brussel\n",
    "# l_Bru = StdOutListener()\n",
    "# #ASK FOR KEYWORD TO COLLECT DATA\n",
    "# stream_Bru = Stream(auth, l_Bru)\n",
    "# stream_Bru.filter(locations=Brussel)"
   ]
  },
  {
   "cell_type": "code",
   "execution_count": 12,
   "metadata": {
    "collapsed": false
   },
   "outputs": [],
   "source": [
    "# #Counter(l_Bru.langs)\n",
    "# for data, lang in zip(l_Bru.data_list, l_Bru.langs):\n",
    "#     print(data['user']['location'], lang)"
   ]
  },
  {
   "cell_type": "code",
   "execution_count": 13,
   "metadata": {
    "collapsed": false
   },
   "outputs": [],
   "source": [
    "# #LVIV\n",
    "# l_Lv = StdOutListener()\n",
    "# #ASK FOR KEYWORD TO COLLECT DATA\n",
    "# stream_Lv = Stream(auth, l_Lv)\n",
    "# stream_Lv.filter(locations=Lviv)"
   ]
  },
  {
   "cell_type": "code",
   "execution_count": 14,
   "metadata": {
    "collapsed": false
   },
   "outputs": [],
   "source": [
    "# #YEREVAN\n",
    "# l_Yer = StdOutListener()\n",
    "# #ASK FOR KEYWORD TO COLLECT DATA\n",
    "# stream_Yer = Stream(auth, l_Yer)\n",
    "# stream_Yer.filter(locations=Yerevan)"
   ]
  },
  {
   "cell_type": "code",
   "execution_count": 15,
   "metadata": {
    "collapsed": false
   },
   "outputs": [],
   "source": [
    "# for data, lang in zip(l_Yer.data_list, l_Yer.langs):\n",
    "#     print(data['user']['location'], lang)"
   ]
  },
  {
   "cell_type": "code",
   "execution_count": 16,
   "metadata": {
    "collapsed": false
   },
   "outputs": [],
   "source": [
    "# for text in l_Yer.texts:\n",
    "#     if type(text) == str:\n",
    "#         print(text)\n",
    "#     else:\n",
    "#         print(text.decode('utf-8'))"
   ]
  },
  {
   "cell_type": "code",
   "execution_count": 17,
   "metadata": {
    "collapsed": false
   },
   "outputs": [],
   "source": [
    "# for data, lang in zip(data_list, langs):\n",
    "#     print(data['user']['location'], lang)"
   ]
  },
  {
   "cell_type": "code",
   "execution_count": 66,
   "metadata": {
    "collapsed": false
   },
   "outputs": [
    {
     "data": {
      "text/plain": [
       "Counter({'en': 8, 'nl': 1, 'pl': 1, 'ru': 54, 'tl': 1, 'uk': 8, 'und': 6})"
      ]
     },
     "execution_count": 66,
     "metadata": {},
     "output_type": "execute_result"
    }
   ],
   "source": [
    "from collections import Counter\n",
    "Counter(langs)"
   ]
  },
  {
   "cell_type": "code",
   "execution_count": 18,
   "metadata": {
    "collapsed": false
   },
   "outputs": [],
   "source": [
    "#KIEV\n",
    "l_Kiev = StdOutListener()\n",
    "#ASK FOR KEYWORD TO COLLECT DATA\n",
    "stream_Kiev = Stream(auth, l_Kiev)\n",
    "stream_Kiev.filter(locations=Kiev)"
   ]
  },
  {
   "cell_type": "code",
   "execution_count": 19,
   "metadata": {
    "collapsed": false
   },
   "outputs": [],
   "source": [
    "#Counter(l_Kiev.langs)\n",
    "# for data, lang in zip(l_Kiev.data_list, l_Kiev.langs):\n",
    "#     print(data['user']['location'], lang)\n",
    "for text in l_Kiev.texts:\n",
    "    if type(text) == str:\n",
    "        print(text)\n",
    "    else:\n",
    "        print(text.decode('utf-8'))"
   ]
  },
  {
   "cell_type": "code",
   "execution_count": 20,
   "metadata": {
    "collapsed": false
   },
   "outputs": [],
   "source": [
    "for data in l_Kiev.data_list:\n",
    "    print(data['place']['id'], data['place']['place_type'], \n",
    "          data['place']['country'], data['user']['location'])"
   ]
  },
  {
   "cell_type": "code",
   "execution_count": null,
   "metadata": {
    "collapsed": true
   },
   "outputs": [],
   "source": []
  },
  {
   "cell_type": "code",
   "execution_count": 62,
   "metadata": {
    "collapsed": false
   },
   "outputs": [
    {
     "name": "stdout",
     "output_type": "stream",
     "text": [
      "включила.. переключила станцию... снова переключила...  SORRY BAE  #BTSBBMAs\n",
      "Когда попросили улыбнуться 🙃\n",
      "\n",
      "Vote for #BTSBBMAs #BBMAs https://t.co/v54cpHqxto\n",
      "@yuukierosrose но как же платюшко D:\n",
      "#btsbbmas шестьдесят пятый Джин\n",
      "@veraizmaylova41 прикольно но по Турецки среднее слово. это характер)))\n",
      "💜 #BeYourWINGS #BTSBBMAs невозможно описать как-либо то, как изменили мою жизнь эти парни, как я ожила, увидела и мир и как я благодарна 💜\n",
      "I love you so much thank you so much #BTSBBMAs\n",
      "@wulfhere2000 @poroshenko ти ж бажав 320 дівчат в читачах? 🤣\n",
      "#BeYourWINGS 💜   #BTSBBMAs https://t.co/U2DHYGGzB4\n",
      "То є Львів старенький, мудрий, сивий дядько.✨\n",
      "Кожному залишить кавалочок на згадку.👌🏻😍 https://t.co/A8oPB81bou\n",
      "#BTSBBMAs @BTS_twt\n",
      "Чи може бути цей дощ.....слізьми Хобі?\n",
      "@inart66 дык страждущим и нужно\n",
      "В Одессе водителя «Яндекс.Такси» заподозрили в убийстве студентки Одесской юридической академии Татьяны Маснюк… https://t.co/Gxq3pgBccx\n",
      "#btsbbmas шестьдесят шестой Джин\n",
      "Хана туль сэт #BTSBBMAs\n",
      "пэндехо по жопэхо xD\n",
      "Який тяжкий день\n",
      "https://t.co/l7cklWS8T4\n",
      "@Realuran Да какие это молдаване? Парень-молдованин🎃-подтаксовал-привез  в Одессу колорадорашо на экскурсию...сам далек от темы...👿\n",
      "#btsbbmas шестьдесят седьмой Джин\n",
      "Обиженный. https://t.co/NTnURQqrDR\n",
      "Окей, вже можна нити, що я завалю зно?\n",
      "Бляяяяя, АВХВХАХХАЭВЭВЭАЭАЭЭАЭАХХАХАХАХАХХАХА,УБЕЙТЕ СОРОКИНА😂😂😂😂😂😂😂😂😂😂🙈дурааааааак,ой,дураааааак😂😂😂😂❤❤❤\n",
      "С лп шутки плохи https://t.co/vx1W4CWSRB\n",
      "No clean sheet hahahahah @SpursOfficial\n",
      "#btsbbmas шестьдесят восьмой Джин\n",
      "В $215 уже выбросил сет.\n",
      "\n",
      "Как поет группа Грибы, между нами ставят пот, дилер в маке мой сет не найдет. https://t.co/gsv07bX8ms\n",
      "Just posted a photo @ Володимирська гірка https://t.co/r5DBcvXgEP\n",
      "о, что-то интересное попалось...дослушала... снова переключила.. снова..снова... о, еще что-то интересное  SORRY BAE  #BTSBBMAs\n",
      "#btsbbmas шестьдесят девятый Джин\n",
      "I'm at UlyaHome 🏠💤 in Львів w/ @ulyana_fridrikh https://t.co/nTkSV7MFgM\n",
      "У юного буковинця діагностували хворобу Ходжкіна другої стадії (відео)\n",
      "https://t.co/qQVhZjeaAK https://t.co/B4OCHW8w3J\n",
      "#btsbbmas семидесятый Джин\n",
      "В кетаминовом аниме\n",
      "#BeYourWINGS 💜 FIGHTING!!! https://t.co/ZOXCtg1PDj\n",
      "#BTSBBMAs\n",
      "Письмо к Чонгуку\n",
      "\n",
      "Спасибо за то, что несмотря на свой страх петь перед публикой и \"на заказ\", ты все равн… https://t.co/X07PRU8pJL\n",
      "I am vote for BTS #BTSBBMAs https://t.co/QC2I98OZ9m\n",
      "снова...снова...снова...снова... .......... выключила. Включила свое 😅  SORRY BAE  #BTSBBMAs\n",
      "#ОЙ @ ТРЦ \"Муссон\" https://t.co/uJ3rCWzhGe\n",
      "#btsbbmas семьдесят первый Шуга\n",
      "💜   #BeYourWINGS  #BTSBBMAs https://t.co/hTX6KF9Ab2\n",
      "@STORM1623 Таких денег ещё не изобрели)))\n",
      "KEBS PRZYJECHAL BRB LECĘ JEŚĆ\n",
      "SORRY BAE #BTSBBMAs  ближе друг к другу чем мы\n",
      "#btsbbmas семьдесят второй Шуга\n",
      "У Виктории будет сольный альбом и я, конечно, люблю f(x), но что она там будет делать???\n",
      "Это было что то !!!! (@ Планета Спорт in Киев, город Киев) https://t.co/pLMkNiZW0O\n",
      "Congratulations @thibautcourtois\n",
      "#btsbbmas семьдесят третий Шуга\n",
      "Чаклунка, ворожея, екстрасен і просто шахайка підписалась на мій інстаграм. Може порчю, вєнєц безбрачія хоче зняти, чи приворожить вирішила\n",
      "SORRY BAE #BTSBBMAs  ближе нельзя нам и быть\n",
      "I don’t know you SORRY BAE\n",
      "\n",
      "#BTS FOR TOP SOCIAL ARTIST #BTSBBMAs\n",
      "#kimnamjoon #RAPMONSTER https://t.co/2fmorHeaVa\n",
      "Последнее занятие Украинским было лучшим, после него так душевно поговорили с директором, не замечая того, что просидели больше 3 часов😌\n",
      "У Виктории выйдет сольный альбом и я, конечно, люблю f(x), но что она там будет делать???\n",
      "I am voting for BTS for TOP SOCIAL ARTIST at the #BBMAs. RT to vote! #BTSBBMAs fifty four\n",
      "💜 #BeYourWINGS #BTSBBMAs Я бы очень хотела себе старшего брата, как Чимин 💜\n",
      "#btsbbmas семьдесят четвертый Шуга\n",
      "#BeYourWINGS 💜  WeLoveYou https://t.co/oW9LYCN14a\n",
      "I'm at МегаМаркет in Київ, м. Київ https://t.co/KlkCe6Y6E8\n",
      "(П-подруга)\n",
      "П: Когда же оппы найдут себе девушек..\n",
      "Я:Но у них уже есть вторые половинки\n",
      "П:Нету, первый раз такое сл… https://t.co/qoHt5C3tNC\n",
      "#btsbbmas семьдесят пятый шуга\n",
      "@WwwMikki т.т т.т т.т т.т ниче, когда-нибудь, может быть... мир тесен, обязательно еще узнаемся))   SORRY BAE  #BTSBBMAs\n",
      "вариант ПЕТЬ слишком сомнительный\n",
      "#BBMAs #BTSBBMAs\n",
      "           — Моя юность принадлежит тебе, давай убежим сейчас и навсегда. https://t.co/CD1T37mnVJ\n",
      "#btsbbmas семьдесят шестой Шуга\n",
      "блэт мне так неловко смотреть на других персов, которые такие 165-170 в основном и потом на своего уебана, который 192\n",
      "@Kaspe_RR ноу :(\n",
      "Там земля, трава, вино і соус :|\n",
      "Півдня намагаюсь випрати.\n",
      "@WwwMikki а, о это хорошо)  SORRY BAE  #BTSBBMAs\n",
      "SORRY BAE #BTSBBMAs  чище живее сильней\n",
      "этим платоном был альберт эйнштейн https://t.co/tx55V1pIXe\n",
      "SORRY BAE #BTSBBMAs  мы не умеем любить\n",
      "@Mazepa_xoxol @o4enrad1 Хлопцы, не ругайтесь! Жемчужина у моря всей Украины!\n",
      "Я скучаю по зефирке очень сильно;(\n",
      "#btsbbmas семьдесят седьмой Шуга\n",
      "@poroshenko @ElinaSvitolina Порошенко расколдуйте Нюшу, ей на границу кто то магию наложил, что она не может влетет… https://t.co/mqFunde2li\n",
      "#BTSBBMAs\n",
      "Письмо к Чонгуку\n",
      "\n",
      "Спасибо за твое желание всегда развиваться и двигаться вперед. Мы берем с тебя пример.… https://t.co/gC34ixzcPp\n",
      "Goal Tottenham\n",
      "💜 #BeYourWINGS #BTSBBMAs Я буду всегда мечтать о таких друзьях и о такой семье, как эти парни. Но пока я мечтала, я ее обрела.💜\n",
      "Real shit 🔥 https://t.co/c9XYat94eQ\n"
     ]
    }
   ],
   "source": [
    "for text in texts:\n",
    "    if type(text) == str:\n",
    "        print(text)\n",
    "    else:\n",
    "        print(text.decode('utf-8'))\n"
   ]
  },
  {
   "cell_type": "code",
   "execution_count": null,
   "metadata": {
    "collapsed": true
   },
   "outputs": [],
   "source": [
    "list_ukr_cities = ['Херсон', 'Киев', ]"
   ]
  },
  {
   "cell_type": "code",
   "execution_count": null,
   "metadata": {
    "collapsed": true
   },
   "outputs": [],
   "source": [
    "# https://twitter.com/search?f=users&q=Дніпро&src=typd"
   ]
  },
  {
   "cell_type": "code",
   "execution_count": 272,
   "metadata": {
    "collapsed": true
   },
   "outputs": [],
   "source": [
    "## USERS, FOLLOWERS, TIMELINES, LANGS"
   ]
  },
  {
   "cell_type": "code",
   "execution_count": 252,
   "metadata": {
    "collapsed": false
   },
   "outputs": [],
   "source": [
    "import tweepy\n",
    "import time\n",
    "\n",
    "\n",
    "def get_twitter_followers(account_name, max_num=100):\n",
    "    list_followers=[]\n",
    "    api = tweepy.API(auth, wait_on_rate_limit=True, wait_on_rate_limit_notify=True)\n",
    "    users = tweepy.Cursor(api.followers, screen_name=account_name).items(max_num)\n",
    "    #i = 0\n",
    "    while True:\n",
    "        try:\n",
    "            #print(i)\n",
    "            user = next(users)\n",
    "            list_followers.append(user)\n",
    "            #i+=1\n",
    "        except tweepy.TweepError as e:\n",
    "            if 'Read timed out' in str(e):\n",
    "                print('fall here')\n",
    "                print(e)\n",
    "                time.sleep(5)\n",
    "            else:\n",
    "                time.sleep(60*16)\n",
    "                user = next(users)\n",
    "        except StopIteration:\n",
    "            break\n",
    "        #print (\"@\" + user.screen_name)\n",
    "    return list_followers\n",
    "        \n",
    "        \n",
    "def get_user_timeline(account_name, max_num=10):\n",
    "    list_tweets=[]\n",
    "    api = tweepy.API(auth, wait_on_rate_limit=True, wait_on_rate_limit_notify=True)\n",
    "    timeline = tweepy.Cursor(api.user_timeline, screen_name=account_name).items(max_num)\n",
    "    i=0\n",
    "    while True:\n",
    "        try:\n",
    "            tw = next(timeline)\n",
    "            list_tweets.append(tw)\n",
    "        except tweepy.TweepError as e:\n",
    "            if '401' in str(e):    \n",
    "                print(e)\n",
    "                time.sleep(10)\n",
    "                break\n",
    "            else:\n",
    "                time.sleep(60*15)\n",
    "                tw = next(timeline)\n",
    "        except StopIteration:\n",
    "            break\n",
    "    return list_tweets"
   ]
  },
  {
   "cell_type": "code",
   "execution_count": 253,
   "metadata": {
    "collapsed": true
   },
   "outputs": [],
   "source": [
    "def get_lang_twts_followers(list_followers, max_num_followers=None):\n",
    "    text_tl_followers=[]\n",
    "    lang_tl_followers=[]\n",
    "    if max_num_followers:\n",
    "        list_followers = list_followers[:max_num_followers]\n",
    "    for idx, f in enumerate(list_followers):\n",
    "        #print(idx)\n",
    "        tl = get_user_timeline(f.screen_name, max_num=100)\n",
    "        text_tl_followers.extend([tw.text for tw in tl])\n",
    "        lang_tl_followers.extend([tw.lang for tw in tl])\n",
    "    return text_tl_followers, lang_tl_followers"
   ]
  },
  {
   "cell_type": "code",
   "execution_count": 26,
   "metadata": {
    "collapsed": true
   },
   "outputs": [],
   "source": [
    "hr_lviv_followers = get_twitter_followers('hromadskelviv')"
   ]
  },
  {
   "cell_type": "code",
   "execution_count": 27,
   "metadata": {
    "collapsed": false
   },
   "outputs": [
    {
     "data": {
      "text/plain": [
       "Counter({'en': 8, 'es': 1, 'pl': 2, 'ru': 38, 'uk': 51})"
      ]
     },
     "execution_count": 27,
     "metadata": {},
     "output_type": "execute_result"
    }
   ],
   "source": [
    "Counter([f.lang for f in hr_lviv_followers])"
   ]
  },
  {
   "cell_type": "code",
   "execution_count": 260,
   "metadata": {
    "collapsed": true
   },
   "outputs": [],
   "source": [
    "# kiev polytech univ\n",
    "knu_followers = get_twitter_followers('KyivUniversity', max_num=250)"
   ]
  },
  {
   "cell_type": "code",
   "execution_count": 261,
   "metadata": {
    "collapsed": false
   },
   "outputs": [
    {
     "data": {
      "text/plain": [
       "Counter({'ar': 2, 'en': 43, 'en-gb': 2, 'fr': 1, 'ru': 129, 'tr': 2, 'uk': 71})"
      ]
     },
     "execution_count": 261,
     "metadata": {},
     "output_type": "execute_result"
    }
   ],
   "source": [
    "Counter([f.lang for f in knu_followers])"
   ]
  },
  {
   "cell_type": "code",
   "execution_count": 262,
   "metadata": {
    "collapsed": false
   },
   "outputs": [
    {
     "name": "stdout",
     "output_type": "stream",
     "text": [
      "Rate limit reached. Sleeping for: 136\n"
     ]
    },
    {
     "ename": "KeyboardInterrupt",
     "evalue": "",
     "output_type": "error",
     "traceback": [
      "\u001b[0;31m---------------------------------------------------------------------------\u001b[0m",
      "\u001b[0;31mKeyboardInterrupt\u001b[0m                         Traceback (most recent call last)",
      "\u001b[0;32m<ipython-input-262-09f56d9d9b42>\u001b[0m in \u001b[0;36m<module>\u001b[0;34m()\u001b[0m\n\u001b[1;32m      1\u001b[0m \u001b[0;31m# ukrainska pravda\u001b[0m\u001b[0;34m\u001b[0m\u001b[0;34m\u001b[0m\u001b[0m\n\u001b[0;32m----> 2\u001b[0;31m \u001b[0mukr_pravda_followers\u001b[0m \u001b[0;34m=\u001b[0m \u001b[0mget_twitter_followers\u001b[0m\u001b[0;34m(\u001b[0m\u001b[0;34m'ukrpravda_news'\u001b[0m\u001b[0;34m,\u001b[0m \u001b[0mmax_num\u001b[0m\u001b[0;34m=\u001b[0m\u001b[0;36m250\u001b[0m\u001b[0;34m)\u001b[0m\u001b[0;34m\u001b[0m\u001b[0m\n\u001b[0m",
      "\u001b[0;32m<ipython-input-252-43f80a7e1c93>\u001b[0m in \u001b[0;36mget_twitter_followers\u001b[0;34m(account_name, max_num)\u001b[0m\n\u001b[1;32m     11\u001b[0m         \u001b[0;32mtry\u001b[0m\u001b[0;34m:\u001b[0m\u001b[0;34m\u001b[0m\u001b[0m\n\u001b[1;32m     12\u001b[0m             \u001b[0;31m#print(i)\u001b[0m\u001b[0;34m\u001b[0m\u001b[0;34m\u001b[0m\u001b[0m\n\u001b[0;32m---> 13\u001b[0;31m             \u001b[0muser\u001b[0m \u001b[0;34m=\u001b[0m \u001b[0mnext\u001b[0m\u001b[0;34m(\u001b[0m\u001b[0musers\u001b[0m\u001b[0;34m)\u001b[0m\u001b[0;34m\u001b[0m\u001b[0m\n\u001b[0m\u001b[1;32m     14\u001b[0m             \u001b[0mlist_followers\u001b[0m\u001b[0;34m.\u001b[0m\u001b[0mappend\u001b[0m\u001b[0;34m(\u001b[0m\u001b[0muser\u001b[0m\u001b[0;34m)\u001b[0m\u001b[0;34m\u001b[0m\u001b[0m\n\u001b[1;32m     15\u001b[0m             \u001b[0;31m#i+=1\u001b[0m\u001b[0;34m\u001b[0m\u001b[0;34m\u001b[0m\u001b[0m\n",
      "\u001b[0;32m//anaconda/lib/python3.5/site-packages/tweepy/cursor.py\u001b[0m in \u001b[0;36m__next__\u001b[0;34m(self)\u001b[0m\n\u001b[1;32m     47\u001b[0m \u001b[0;34m\u001b[0m\u001b[0m\n\u001b[1;32m     48\u001b[0m     \u001b[0;32mdef\u001b[0m \u001b[0m__next__\u001b[0m\u001b[0;34m(\u001b[0m\u001b[0mself\u001b[0m\u001b[0;34m)\u001b[0m\u001b[0;34m:\u001b[0m\u001b[0;34m\u001b[0m\u001b[0m\n\u001b[0;32m---> 49\u001b[0;31m         \u001b[0;32mreturn\u001b[0m \u001b[0mself\u001b[0m\u001b[0;34m.\u001b[0m\u001b[0mnext\u001b[0m\u001b[0;34m(\u001b[0m\u001b[0;34m)\u001b[0m\u001b[0;34m\u001b[0m\u001b[0m\n\u001b[0m\u001b[1;32m     50\u001b[0m \u001b[0;34m\u001b[0m\u001b[0m\n\u001b[1;32m     51\u001b[0m     \u001b[0;32mdef\u001b[0m \u001b[0mnext\u001b[0m\u001b[0;34m(\u001b[0m\u001b[0mself\u001b[0m\u001b[0;34m)\u001b[0m\u001b[0;34m:\u001b[0m\u001b[0;34m\u001b[0m\u001b[0m\n",
      "\u001b[0;32m//anaconda/lib/python3.5/site-packages/tweepy/cursor.py\u001b[0m in \u001b[0;36mnext\u001b[0;34m(self)\u001b[0m\n\u001b[1;32m    195\u001b[0m         \u001b[0;32mif\u001b[0m \u001b[0mself\u001b[0m\u001b[0;34m.\u001b[0m\u001b[0mcurrent_page\u001b[0m \u001b[0;32mis\u001b[0m \u001b[0;32mNone\u001b[0m \u001b[0;32mor\u001b[0m \u001b[0mself\u001b[0m\u001b[0;34m.\u001b[0m\u001b[0mpage_index\u001b[0m \u001b[0;34m==\u001b[0m \u001b[0mlen\u001b[0m\u001b[0;34m(\u001b[0m\u001b[0mself\u001b[0m\u001b[0;34m.\u001b[0m\u001b[0mcurrent_page\u001b[0m\u001b[0;34m)\u001b[0m \u001b[0;34m-\u001b[0m \u001b[0;36m1\u001b[0m\u001b[0;34m:\u001b[0m\u001b[0;34m\u001b[0m\u001b[0m\n\u001b[1;32m    196\u001b[0m             \u001b[0;31m# Reached end of current page, get the next page...\u001b[0m\u001b[0;34m\u001b[0m\u001b[0;34m\u001b[0m\u001b[0m\n\u001b[0;32m--> 197\u001b[0;31m             \u001b[0mself\u001b[0m\u001b[0;34m.\u001b[0m\u001b[0mcurrent_page\u001b[0m \u001b[0;34m=\u001b[0m \u001b[0mself\u001b[0m\u001b[0;34m.\u001b[0m\u001b[0mpage_iterator\u001b[0m\u001b[0;34m.\u001b[0m\u001b[0mnext\u001b[0m\u001b[0;34m(\u001b[0m\u001b[0;34m)\u001b[0m\u001b[0;34m\u001b[0m\u001b[0m\n\u001b[0m\u001b[1;32m    198\u001b[0m             \u001b[0mself\u001b[0m\u001b[0;34m.\u001b[0m\u001b[0mpage_index\u001b[0m \u001b[0;34m=\u001b[0m \u001b[0;34m-\u001b[0m\u001b[0;36m1\u001b[0m\u001b[0;34m\u001b[0m\u001b[0m\n\u001b[1;32m    199\u001b[0m         \u001b[0mself\u001b[0m\u001b[0;34m.\u001b[0m\u001b[0mpage_index\u001b[0m \u001b[0;34m+=\u001b[0m \u001b[0;36m1\u001b[0m\u001b[0;34m\u001b[0m\u001b[0m\n",
      "\u001b[0;32m//anaconda/lib/python3.5/site-packages/tweepy/cursor.py\u001b[0m in \u001b[0;36mnext\u001b[0;34m(self)\u001b[0m\n\u001b[1;32m     73\u001b[0m         data, cursors = self.method(cursor=self.next_cursor,\n\u001b[1;32m     74\u001b[0m                                     \u001b[0;34m*\u001b[0m\u001b[0mself\u001b[0m\u001b[0;34m.\u001b[0m\u001b[0margs\u001b[0m\u001b[0;34m,\u001b[0m\u001b[0;34m\u001b[0m\u001b[0m\n\u001b[0;32m---> 75\u001b[0;31m                                     **self.kargs)\n\u001b[0m\u001b[1;32m     76\u001b[0m         \u001b[0mself\u001b[0m\u001b[0;34m.\u001b[0m\u001b[0mprev_cursor\u001b[0m\u001b[0;34m,\u001b[0m \u001b[0mself\u001b[0m\u001b[0;34m.\u001b[0m\u001b[0mnext_cursor\u001b[0m \u001b[0;34m=\u001b[0m \u001b[0mcursors\u001b[0m\u001b[0;34m\u001b[0m\u001b[0m\n\u001b[1;32m     77\u001b[0m         \u001b[0;32mif\u001b[0m \u001b[0mlen\u001b[0m\u001b[0;34m(\u001b[0m\u001b[0mdata\u001b[0m\u001b[0;34m)\u001b[0m \u001b[0;34m==\u001b[0m \u001b[0;36m0\u001b[0m\u001b[0;34m:\u001b[0m\u001b[0;34m\u001b[0m\u001b[0m\n",
      "\u001b[0;32m//anaconda/lib/python3.5/site-packages/tweepy/binder.py\u001b[0m in \u001b[0;36m_call\u001b[0;34m(*args, **kwargs)\u001b[0m\n\u001b[1;32m    243\u001b[0m             \u001b[0;32mreturn\u001b[0m \u001b[0mmethod\u001b[0m\u001b[0;34m\u001b[0m\u001b[0m\n\u001b[1;32m    244\u001b[0m         \u001b[0;32melse\u001b[0m\u001b[0;34m:\u001b[0m\u001b[0;34m\u001b[0m\u001b[0m\n\u001b[0;32m--> 245\u001b[0;31m             \u001b[0;32mreturn\u001b[0m \u001b[0mmethod\u001b[0m\u001b[0;34m.\u001b[0m\u001b[0mexecute\u001b[0m\u001b[0;34m(\u001b[0m\u001b[0;34m)\u001b[0m\u001b[0;34m\u001b[0m\u001b[0m\n\u001b[0m\u001b[1;32m    246\u001b[0m \u001b[0;34m\u001b[0m\u001b[0m\n\u001b[1;32m    247\u001b[0m     \u001b[0;31m# Set pagination mode\u001b[0m\u001b[0;34m\u001b[0m\u001b[0;34m\u001b[0m\u001b[0m\n",
      "\u001b[0;32m//anaconda/lib/python3.5/site-packages/tweepy/binder.py\u001b[0m in \u001b[0;36mexecute\u001b[0;34m(self)\u001b[0m\n\u001b[1;32m    160\u001b[0m                                     \u001b[0;32mif\u001b[0m \u001b[0mself\u001b[0m\u001b[0;34m.\u001b[0m\u001b[0mwait_on_rate_limit_notify\u001b[0m\u001b[0;34m:\u001b[0m\u001b[0;34m\u001b[0m\u001b[0m\n\u001b[1;32m    161\u001b[0m                                         \u001b[0mprint\u001b[0m\u001b[0;34m(\u001b[0m\u001b[0;34m\"Rate limit reached. Sleeping for:\"\u001b[0m\u001b[0;34m,\u001b[0m \u001b[0msleep_time\u001b[0m\u001b[0;34m)\u001b[0m\u001b[0;34m\u001b[0m\u001b[0m\n\u001b[0;32m--> 162\u001b[0;31m                                     \u001b[0mtime\u001b[0m\u001b[0;34m.\u001b[0m\u001b[0msleep\u001b[0m\u001b[0;34m(\u001b[0m\u001b[0msleep_time\u001b[0m \u001b[0;34m+\u001b[0m \u001b[0;36m5\u001b[0m\u001b[0;34m)\u001b[0m  \u001b[0;31m# sleep for few extra sec\u001b[0m\u001b[0;34m\u001b[0m\u001b[0m\n\u001b[0m\u001b[1;32m    163\u001b[0m \u001b[0;34m\u001b[0m\u001b[0m\n\u001b[1;32m    164\u001b[0m                 \u001b[0;31m# if self.wait_on_rate_limit and self._reset_time is not None and \\\u001b[0m\u001b[0;34m\u001b[0m\u001b[0;34m\u001b[0m\u001b[0m\n",
      "\u001b[0;31mKeyboardInterrupt\u001b[0m: "
     ]
    }
   ],
   "source": [
    "# ukrainska pravda\n",
    "ukr_pravda_followers = get_twitter_followers('ukrpravda_news', max_num=250)"
   ]
  },
  {
   "cell_type": "code",
   "execution_count": 21,
   "metadata": {
    "collapsed": false
   },
   "outputs": [],
   "source": [
    "#klitschko\n",
    "vk_followers = get_twitter_followers('Vitaliy_Klychko', max_num=250)"
   ]
  },
  {
   "cell_type": "code",
   "execution_count": 251,
   "metadata": {
    "collapsed": false
   },
   "outputs": [
    {
     "data": {
      "text/plain": [
       "Counter({'en': 12, 'es': 1, 'it': 1, 'pl': 1, 'ru': 143, 'uk': 92})"
      ]
     },
     "execution_count": 251,
     "metadata": {},
     "output_type": "execute_result"
    }
   ],
   "source": [
    "Counter([f.lang for f in vk_followers])"
   ]
  },
  {
   "cell_type": "code",
   "execution_count": 255,
   "metadata": {
    "collapsed": false
   },
   "outputs": [
    {
     "name": "stdout",
     "output_type": "stream",
     "text": [
      "Twitter error response: status code = 401\n",
      "Twitter error response: status code = 401\n",
      "Twitter error response: status code = 401\n"
     ]
    }
   ],
   "source": [
    "vk_texts, vk_langs = get_lang_twts_followers(vk_followers, max_num_followers=100)"
   ]
  },
  {
   "cell_type": "code",
   "execution_count": 256,
   "metadata": {
    "collapsed": false
   },
   "outputs": [
    {
     "data": {
      "text/plain": [
       "Counter({'ar': 1,\n",
       "         'bg': 4,\n",
       "         'cs': 7,\n",
       "         'en': 123,\n",
       "         'es': 142,\n",
       "         'fr': 1,\n",
       "         'hi': 85,\n",
       "         'ne': 1,\n",
       "         'no': 1,\n",
       "         'pl': 68,\n",
       "         'ru': 413,\n",
       "         'sl': 1,\n",
       "         'uk': 123,\n",
       "         'und': 202})"
      ]
     },
     "execution_count": 256,
     "metadata": {},
     "output_type": "execute_result"
    }
   ],
   "source": [
    "Counter(vk_langs)"
   ]
  },
  {
   "cell_type": "code",
   "execution_count": 22,
   "metadata": {
    "collapsed": false
   },
   "outputs": [],
   "source": [
    "ak_followers = get_twitter_followers('auto_kiev', max_num=600)"
   ]
  },
  {
   "cell_type": "code",
   "execution_count": 229,
   "metadata": {
    "collapsed": false
   },
   "outputs": [
    {
     "data": {
      "text/plain": [
       "Counter({'de': 1,\n",
       "         'en': 41,\n",
       "         'es': 1,\n",
       "         'fr': 1,\n",
       "         'pl': 1,\n",
       "         'ru': 464,\n",
       "         'uk': 90,\n",
       "         'zh-cn': 1})"
      ]
     },
     "execution_count": 229,
     "metadata": {},
     "output_type": "execute_result"
    }
   ],
   "source": [
    "Counter([f.lang for f in ak_followers])"
   ]
  },
  {
   "cell_type": "code",
   "execution_count": 40,
   "metadata": {
    "collapsed": true
   },
   "outputs": [],
   "source": [
    "ak_twts = get_user_timeline('auto_kiev', max_num=100)"
   ]
  },
  {
   "cell_type": "code",
   "execution_count": 42,
   "metadata": {
    "collapsed": false
   },
   "outputs": [
    {
     "data": {
      "text/plain": [
       "Counter({'ru': 73, 'uk': 26, 'und': 1})"
      ]
     },
     "execution_count": 42,
     "metadata": {},
     "output_type": "execute_result"
    }
   ],
   "source": [
    "Counter([tw.lang for tw in ak_twts])"
   ]
  },
  {
   "cell_type": "code",
   "execution_count": 233,
   "metadata": {
    "collapsed": false
   },
   "outputs": [
    {
     "name": "stdout",
     "output_type": "stream",
     "text": [
      "Twitter error response: status code = 401\n",
      "Twitter error response: status code = 401\n",
      "Twitter error response: status code = 401\n",
      "Twitter error response: status code = 401\n",
      "Twitter error response: status code = 401\n",
      "Twitter error response: status code = 401\n",
      "Twitter error response: status code = 401\n",
      "Twitter error response: status code = 401\n",
      "Twitter error response: status code = 401\n",
      "Twitter error response: status code = 401\n",
      "Twitter error response: status code = 401\n",
      "Twitter error response: status code = 401\n",
      "Twitter error response: status code = 401\n",
      "Twitter error response: status code = 401\n",
      "Twitter error response: status code = 401\n",
      "Twitter error response: status code = 401\n",
      "Rate limit reached. Sleeping for: 282\n",
      "Twitter error response: status code = 401\n",
      "Twitter error response: status code = 401\n",
      "Twitter error response: status code = 401\n",
      "Twitter error response: status code = 401\n",
      "Twitter error response: status code = 401\n",
      "Twitter error response: status code = 401\n",
      "Twitter error response: status code = 401\n",
      "Twitter error response: status code = 401\n",
      "Twitter error response: status code = 401\n",
      "Twitter error response: status code = 401\n",
      "Twitter error response: status code = 401\n",
      "Twitter error response: status code = 401\n",
      "Twitter error response: status code = 401\n",
      "Twitter error response: status code = 401\n",
      "Twitter error response: status code = 401\n",
      "Twitter error response: status code = 401\n",
      "Twitter error response: status code = 401\n",
      "Twitter error response: status code = 401\n",
      "Twitter error response: status code = 401\n"
     ]
    }
   ],
   "source": [
    "txts_ak, langs_ak = get_lang_twts_followers(ak_followers)"
   ]
  },
  {
   "cell_type": "code",
   "execution_count": 248,
   "metadata": {
    "collapsed": true
   },
   "outputs": [],
   "source": [
    "und_txt = [txt for txt,lang in zip(txts_ak, langs_ak) if lang == 'it']\n",
    "und_txt"
   ]
  },
  {
   "cell_type": "code",
   "execution_count": 234,
   "metadata": {
    "collapsed": false
   },
   "outputs": [],
   "source": [
    "# lang_tl_followers=[]\n",
    "# for idx, f in enumerate(ak_followers[:100]):\n",
    "#     print(idx)\n",
    "#     tl = get_user_timeline(f.screen_name, max_num=100)\n",
    "#     lang_tl_followers.extend([tw.lang for tw in tl])"
   ]
  },
  {
   "cell_type": "code",
   "execution_count": 235,
   "metadata": {
    "collapsed": false
   },
   "outputs": [
    {
     "data": {
      "text/plain": [
       "0.20796656323222087"
      ]
     },
     "execution_count": 235,
     "metadata": {},
     "output_type": "execute_result"
    }
   ],
   "source": [
    "counts=Counter(langs_ak)\n",
    "counts['uk']/(counts['uk'] + counts['ru'])"
   ]
  },
  {
   "cell_type": "code",
   "execution_count": 236,
   "metadata": {
    "collapsed": false
   },
   "outputs": [
    {
     "data": {
      "text/plain": [
       "Counter({'ar': 9,\n",
       "         'bg': 171,\n",
       "         'cs': 122,\n",
       "         'cy': 3,\n",
       "         'da': 10,\n",
       "         'de': 32,\n",
       "         'en': 1748,\n",
       "         'es': 108,\n",
       "         'et': 6,\n",
       "         'eu': 4,\n",
       "         'fi': 1,\n",
       "         'fr': 78,\n",
       "         'ht': 4,\n",
       "         'hu': 5,\n",
       "         'in': 28,\n",
       "         'is': 2,\n",
       "         'it': 12,\n",
       "         'iw': 1,\n",
       "         'ja': 3,\n",
       "         'ka': 16,\n",
       "         'ko': 2,\n",
       "         'lt': 3,\n",
       "         'lv': 1,\n",
       "         'nl': 4,\n",
       "         'no': 4,\n",
       "         'pl': 20,\n",
       "         'pt': 22,\n",
       "         'ro': 16,\n",
       "         'ru': 12507,\n",
       "         'sl': 1,\n",
       "         'sr': 18,\n",
       "         'sv': 1,\n",
       "         'tl': 6,\n",
       "         'tr': 4,\n",
       "         'uk': 3284,\n",
       "         'und': 3273,\n",
       "         'zh': 1})"
      ]
     },
     "execution_count": 236,
     "metadata": {},
     "output_type": "execute_result"
    }
   ],
   "source": [
    "counts"
   ]
  },
  {
   "cell_type": "code",
   "execution_count": 263,
   "metadata": {
    "collapsed": true
   },
   "outputs": [],
   "source": [
    "import deepdish as dd"
   ]
  },
  {
   "cell_type": "code",
   "execution_count": 264,
   "metadata": {
    "collapsed": true
   },
   "outputs": [],
   "source": [
    "kiev_lang_data = {'vitaly_klitschko':\n",
    "                  {'followers':vk_followers, 'twts_followers':vk_texts,'lang_twts_followers':vk_langs},\n",
    "                  'avto_kiev':\n",
    "                  {'followers':ak_followers, 'twts_followers':txts_ak, 'lang_twts_followers':langs_ak}, \n",
    "                  'ukrainska_pravda':{}}"
   ]
  },
  {
   "cell_type": "code",
   "execution_count": 266,
   "metadata": {
    "collapsed": false
   },
   "outputs": [],
   "source": [
    "dd.io.save('kiev_twt_data.h5', kiev_lang_data)"
   ]
  },
  {
   "cell_type": "markdown",
   "metadata": {},
   "source": [
    "### CATALUNYA"
   ]
  },
  {
   "cell_type": "code",
   "execution_count": 21,
   "metadata": {
    "collapsed": false
   },
   "outputs": [
    {
     "data": {
      "text/plain": [
       "'ca'"
      ]
     },
     "execution_count": 21,
     "metadata": {},
     "output_type": "execute_result"
    }
   ],
   "source": [
    "# Catalunya\n",
    "list_acc = ['bcn_ajuntament', 'girona_cat']"
   ]
  },
  {
   "cell_type": "code",
   "execution_count": 143,
   "metadata": {
    "collapsed": false
   },
   "outputs": [],
   "source": [
    "aj_bcn_followers = get_twitter_followers('bcn_ajuntament', max_num=200)"
   ]
  },
  {
   "cell_type": "code",
   "execution_count": 33,
   "metadata": {
    "collapsed": false
   },
   "outputs": [
    {
     "data": {
      "text/plain": [
       "Counter({'ca': 18,\n",
       "         'de': 1,\n",
       "         'en': 15,\n",
       "         'en-gb': 3,\n",
       "         'es': 153,\n",
       "         'fr': 4,\n",
       "         'ja': 1,\n",
       "         'sv': 2,\n",
       "         'zh-CN': 1,\n",
       "         'zh-cn': 1,\n",
       "         'zh-tw': 1})"
      ]
     },
     "execution_count": 33,
     "metadata": {},
     "output_type": "execute_result"
    }
   ],
   "source": [
    "Counter([f.lang for f in aj_bcn_followers])"
   ]
  },
  {
   "cell_type": "code",
   "execution_count": 144,
   "metadata": {
    "collapsed": false
   },
   "outputs": [
    {
     "data": {
      "text/plain": [
       "'Leetiimooldeer4'"
      ]
     },
     "execution_count": 144,
     "metadata": {},
     "output_type": "execute_result"
    }
   ],
   "source": [
    "aj_bcn_followers[36].screen_name"
   ]
  },
  {
   "cell_type": "code",
   "execution_count": 23,
   "metadata": {
    "collapsed": false
   },
   "outputs": [],
   "source": [
    "txts, langs = get_lang_twts_followers(aj_bcn_followers)"
   ]
  },
  {
   "cell_type": "code",
   "execution_count": 146,
   "metadata": {
    "collapsed": false
   },
   "outputs": [
    {
     "data": {
      "text/plain": [
       "Counter({'ar': 3,\n",
       "         'de': 2,\n",
       "         'en': 432,\n",
       "         'es': 1046,\n",
       "         'et': 1,\n",
       "         'eu': 7,\n",
       "         'fi': 1,\n",
       "         'fr': 118,\n",
       "         'ht': 3,\n",
       "         'in': 6,\n",
       "         'it': 70,\n",
       "         'ja': 3,\n",
       "         'nl': 1,\n",
       "         'pt': 21,\n",
       "         'ro': 2,\n",
       "         'sv': 1,\n",
       "         'tl': 2,\n",
       "         'tr': 2,\n",
       "         'und': 868,\n",
       "         'zh': 1})"
      ]
     },
     "execution_count": 146,
     "metadata": {},
     "output_type": "execute_result"
    }
   ],
   "source": [
    "Counter(langs)"
   ]
  },
  {
   "cell_type": "code",
   "execution_count": 25,
   "metadata": {
    "collapsed": false
   },
   "outputs": [],
   "source": [
    "[(tw, lang) for tw, lang in zip(txts,langs) if lang == 'und']"
   ]
  },
  {
   "cell_type": "code",
   "execution_count": 157,
   "metadata": {
    "collapsed": false
   },
   "outputs": [],
   "source": [
    "from langdetect import detect"
   ]
  },
  {
   "cell_type": "code",
   "execution_count": 167,
   "metadata": {
    "collapsed": true
   },
   "outputs": [],
   "source": [
    "import re"
   ]
  },
  {
   "cell_type": "code",
   "execution_count": 169,
   "metadata": {
    "collapsed": false
   },
   "outputs": [
    {
     "data": {
      "text/plain": [
       "['https', 't', 'co', 'UShzr7uCYU']"
      ]
     },
     "execution_count": 169,
     "metadata": {},
     "output_type": "execute_result"
    }
   ],
   "source": [
    "pattern = re.compile(r\"\\w+\")\n",
    "re.findall(pattern, \"https://t.co/UShzr7uCYU\")"
   ]
  },
  {
   "cell_type": "code",
   "execution_count": 172,
   "metadata": {
    "collapsed": false
   },
   "outputs": [],
   "source": [
    "#langs_detected = [detect(txt) for txt in txts if len(txts) > 10]\n",
    "langs_detected=[]\n",
    "for i,txt in enumerate(txts):\n",
    "    #print(i, txt)\n",
    "    try:\n",
    "        langs_detected.append(detect(txt))\n",
    "    except:\n",
    "        continue"
   ]
  },
  {
   "cell_type": "code",
   "execution_count": 173,
   "metadata": {
    "collapsed": false
   },
   "outputs": [
    {
     "data": {
      "text/plain": [
       "Counter({'af': 5,\n",
       "         'ar': 3,\n",
       "         'ca': 730,\n",
       "         'cs': 2,\n",
       "         'cy': 2,\n",
       "         'da': 3,\n",
       "         'de': 15,\n",
       "         'en': 435,\n",
       "         'es': 970,\n",
       "         'et': 6,\n",
       "         'fi': 4,\n",
       "         'fr': 119,\n",
       "         'hr': 3,\n",
       "         'hu': 1,\n",
       "         'id': 8,\n",
       "         'it': 93,\n",
       "         'ja': 3,\n",
       "         'lt': 4,\n",
       "         'nl': 4,\n",
       "         'no': 4,\n",
       "         'pt': 55,\n",
       "         'ro': 8,\n",
       "         'sk': 2,\n",
       "         'sl': 1,\n",
       "         'so': 3,\n",
       "         'sv': 3,\n",
       "         'sw': 2,\n",
       "         'tl': 5,\n",
       "         'tr': 3})"
      ]
     },
     "execution_count": 173,
     "metadata": {},
     "output_type": "execute_result"
    }
   ],
   "source": [
    "Counter(langs_detected)"
   ]
  },
  {
   "cell_type": "code",
   "execution_count": 46,
   "metadata": {
    "collapsed": true
   },
   "outputs": [],
   "source": [
    "aj_gr_followers = get_twitter_followers('girona_cat', max_num=200)"
   ]
  },
  {
   "cell_type": "code",
   "execution_count": 48,
   "metadata": {
    "collapsed": true
   },
   "outputs": [],
   "source": [
    "aj_gr_twts = get_user_timeline('girona_cat', max_num=100)"
   ]
  },
  {
   "cell_type": "code",
   "execution_count": 47,
   "metadata": {
    "collapsed": false
   },
   "outputs": [
    {
     "data": {
      "text/plain": [
       "Counter({'ca': 76, 'de': 1, 'en': 26, 'es': 91, 'fr': 3, 'ja': 1, 'pt': 2})"
      ]
     },
     "execution_count": 47,
     "metadata": {},
     "output_type": "execute_result"
    }
   ],
   "source": [
    "Counter([f.lang for f in aj_gr_followers])"
   ]
  },
  {
   "cell_type": "code",
   "execution_count": 56,
   "metadata": {
    "collapsed": false
   },
   "outputs": [
    {
     "data": {
      "text/plain": [
       "866377201733775360"
      ]
     },
     "execution_count": 56,
     "metadata": {},
     "output_type": "execute_result"
    }
   ],
   "source": [
    "aj_gr_twts[2].id"
   ]
  },
  {
   "cell_type": "code",
   "execution_count": null,
   "metadata": {
    "collapsed": true
   },
   "outputs": [],
   "source": [
    "ap"
   ]
  },
  {
   "cell_type": "code",
   "execution_count": 163,
   "metadata": {
    "collapsed": false
   },
   "outputs": [],
   "source": [
    "import requests\n",
    "from bs4 import BeautifulSoup\n",
    "import pandas as pd\n",
    "import numpy as np"
   ]
  },
  {
   "cell_type": "code",
   "execution_count": 131,
   "metadata": {
    "collapsed": false
   },
   "outputs": [],
   "source": [
    "url = \"http://www.worldfootball.net/teams/dinamo-kiev/2017/2/\"\n",
    "html = requests.get(url)\n",
    "soup = BeautifulSoup(html.text, \"lxml\")"
   ]
  },
  {
   "cell_type": "code",
   "execution_count": 189,
   "metadata": {
    "collapsed": false
   },
   "outputs": [],
   "source": [
    "dynamo_players = pd.read_html(url, encoding='utf8')[1][2].dropna().values"
   ]
  },
  {
   "cell_type": "code",
   "execution_count": 190,
   "metadata": {
    "collapsed": false
   },
   "outputs": [
    {
     "data": {
      "text/plain": [
       "array(['Maksim Koval', 'Artur Rudko', 'Antunes', 'Mykyta Burda',\n",
       "       'Tamás Kádár', 'Evgen Khacheridi', 'Bogdan Mykhaylychenko',\n",
       "       'Zurab Ochihava', 'Aleksandar Pantić', 'Oleksandr Tymchyk',\n",
       "       'Domagoj Vida', 'Vitaliy Buyalskiy', 'Valeriy Fedorchuk',\n",
       "       'Denys Garmash', 'Nikita Korzun', 'Mykyta Kravchenko',\n",
       "       'Mikola Morozyuk', 'Pavel Orekhovskiy', 'Serhiy Rybalka',\n",
       "       'Volodymyr Shepeliev', 'Sergiy Sydorchuk', 'Viktor Tsygankov',\n",
       "       'Artem Besedin', 'Derlis González', 'Roman Yaremchuk',\n",
       "       'Andriy Yarmolenko', 'Sergiy Rebrov'], dtype=object)"
      ]
     },
     "execution_count": 190,
     "metadata": {},
     "output_type": "execute_result"
    }
   ],
   "source": [
    "dynamo_players"
   ]
  },
  {
   "cell_type": "code",
   "execution_count": 193,
   "metadata": {
    "collapsed": false
   },
   "outputs": [],
   "source": [
    "dyn_play_countr = pd.read_html(url, encoding='utf8')[1][[2,4]].dropna().values"
   ]
  },
  {
   "cell_type": "code",
   "execution_count": 194,
   "metadata": {
    "collapsed": false
   },
   "outputs": [
    {
     "data": {
      "text/plain": [
       "array([['Maksim Koval', 'Ukraine'],\n",
       "       ['Artur Rudko', 'Ukraine'],\n",
       "       ['Antunes', 'Portugal'],\n",
       "       ['Mykyta Burda', 'Ukraine'],\n",
       "       ['Tamás Kádár', 'Hungary'],\n",
       "       ['Evgen Khacheridi', 'Ukraine'],\n",
       "       ['Bogdan Mykhaylychenko', 'Ukraine'],\n",
       "       ['Zurab Ochihava', 'Ukraine'],\n",
       "       ['Aleksandar Pantić', 'Serbia'],\n",
       "       ['Oleksandr Tymchyk', 'Ukraine'],\n",
       "       ['Domagoj Vida', 'Croatia'],\n",
       "       ['Vitaliy Buyalskiy', 'Ukraine'],\n",
       "       ['Valeriy Fedorchuk', 'Ukraine'],\n",
       "       ['Denys Garmash', 'Ukraine'],\n",
       "       ['Nikita Korzun', 'Belarus'],\n",
       "       ['Mykyta Kravchenko', 'Ukraine'],\n",
       "       ['Mikola Morozyuk', 'Ukraine'],\n",
       "       ['Pavel Orekhovskiy', 'Ukraine'],\n",
       "       ['Serhiy Rybalka', 'Ukraine'],\n",
       "       ['Volodymyr Shepeliev', 'Ukraine'],\n",
       "       ['Sergiy Sydorchuk', 'Ukraine'],\n",
       "       ['Viktor Tsygankov', 'Ukraine'],\n",
       "       ['Artem Besedin', 'Ukraine'],\n",
       "       ['Derlis González', 'Paraguay'],\n",
       "       ['Roman Yaremchuk', 'Ukraine'],\n",
       "       ['Andriy Yarmolenko', 'Ukraine'],\n",
       "       ['Sergiy Rebrov', 'Ukraine']], dtype=object)"
      ]
     },
     "execution_count": 194,
     "metadata": {},
     "output_type": "execute_result"
    }
   ],
   "source": [
    "dyn_play_countr"
   ]
  },
  {
   "cell_type": "code",
   "execution_count": 175,
   "metadata": {
    "collapsed": false
   },
   "outputs": [],
   "source": [
    "from langdetect import detect_langs"
   ]
  },
  {
   "cell_type": "code",
   "execution_count": null,
   "metadata": {
    "collapsed": true
   },
   "outputs": [],
   "source": []
  }
 ],
 "metadata": {
  "kernelspec": {
   "display_name": "Python 3",
   "language": "python",
   "name": "python3"
  },
  "language_info": {
   "codemirror_mode": {
    "name": "ipython",
    "version": 3
   },
   "file_extension": ".py",
   "mimetype": "text/x-python",
   "name": "python",
   "nbconvert_exporter": "python",
   "pygments_lexer": "ipython3",
   "version": "3.5.1"
  }
 },
 "nbformat": 4,
 "nbformat_minor": 0
}
